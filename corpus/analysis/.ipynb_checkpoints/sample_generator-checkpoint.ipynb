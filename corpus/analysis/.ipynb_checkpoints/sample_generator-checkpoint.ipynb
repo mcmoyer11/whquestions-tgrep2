{
 "cells": [
  {
   "cell_type": "markdown",
   "metadata": {},
   "source": [
    "# sample generator\n",
    "This notebook is for creating the random sample .txt files for the experiment."
   ]
  },
  {
   "cell_type": "code",
   "execution_count": 1,
   "metadata": {},
   "outputs": [],
   "source": [
    "import pandas as pd\n",
    "import numpy as np"
   ]
  },
  {
   "cell_type": "markdown",
   "metadata": {},
   "source": [
    " ## Contents\n",
    " 1. [Create separate file with contexts](#Create-separate-file-with-contexts)\n",
    " 2. [Create separate file without contexts](#Create-separate-file-without-contexts)\n",
    " 3. [Creating the files for the experiment](#Creating-files-for-the-experiment)\n",
    " 4. [Automate Paraphrase Generator](#Automate-pharaphrase-generator)\n"
   ]
  },
  {
   "cell_type": "code",
   "execution_count": 2,
   "metadata": {},
   "outputs": [],
   "source": [
    "# import the database file from the TGrep2 searching\n",
    "df = pd.read_csv(\"../results/swbd.tab\", sep='\\t', engine='python')"
   ]
  },
  {
   "cell_type": "code",
   "execution_count": null,
   "metadata": {
    "scrolled": true
   },
   "outputs": [],
   "source": []
  },
  {
   "cell_type": "code",
   "execution_count": 3,
   "metadata": {},
   "outputs": [],
   "source": [
    "# This makes the display show more info\n",
    "pd.set_option('display.max_rows', None)\n",
    "pd.set_option('display.max_colwidth', None)"
   ]
  },
  {
   "cell_type": "markdown",
   "metadata": {},
   "source": [
    "# Creating the files for the experiment"
   ]
  },
  {
   "cell_type": "markdown",
   "metadata": {},
   "source": [
    "## Constrain dataset\n",
    "for experimental mock-up\n",
    "\n",
    "First we have to remove the questions that we don;t want to include:\n",
    "1. non-embedded or root questions\n",
    "2. no degree questions\n",
    "3. no identity questions\n",
    "4. generally only monomorphemic wh-phrases\n",
    "5. only who-, where-, and how-questions"
   ]
  },
  {
   "cell_type": "code",
   "execution_count": 3,
   "metadata": {},
   "outputs": [],
   "source": [
    "critical = df[(df['QuestionType'] == 'root') # only root questions\n",
    "              & \n",
    "              (df['DegreeQ'] == 'no' ) # no degree questions\n",
    "              &\n",
    "              (df['IdentityQ'] == \"no\") # no identity questions\n",
    "              &\n",
    "              (df['Wh'].isin(['how','How','where','Where','who','Who'])) # just these wh-words\n",
    "              &\n",
    "              (df['WhPhaseType'] == 'monomorphemic') # monomorphic wh only (might get anything not go by degQ)\n",
    "             ]"
   ]
  },
  {
   "cell_type": "markdown",
   "metadata": {},
   "source": [
    "should contain about 4 modal in each batch\n",
    "10 lists of 30\n",
    "1 list of 35\n",
    "\n",
    "balance so that there are 3 modals \n",
    "\n",
    "\n",
    "QUESTION PHRASING\n",
    "avoid using 'paraphrase'\n",
    "1. based on the question in red, which of the following does the speaker want to know?\n",
    "2. \"none of the above\"\n",
    "3. ellipsis before the \n",
    "4. practice examples that are fake from the literature clear MS/MA answers....\n",
    "4. get rid of trace\n",
    "\n",
    "should be a way to highlight just the question, and not the entire sentence\n",
    "\"how can you tell where it's going to come down at\"\n",
    "\n",
    "\n",
    "is there a way to reorder the elements of the question to create the paraphrase\n",
    "strip the \"do\" and insert \"that\"\n",
    "\n",
    "\n",
    "rhetorical questions: \"so my family may say that on occasion, who knows\"\n",
    "\n",
    "Piloting\n",
    "10 items that will be repiloted for each different testing \n",
    "\n",
    "vary between subjects the order of the paraphrases\n",
    "sample randomly at the beginning of the experiment what the order is\n",
    "but keep it consistent in the experiment and change between subjects\n",
    "\n",
    "\n",
    "By monday post on proliferate*\n",
    "\n",
    "\n",
    "\n",
    "look at the lab wifi for pre-registration on OSF\n",
    "\n",
    "get R going...."
   ]
  },
  {
   "cell_type": "code",
   "execution_count": null,
   "metadata": {},
   "outputs": [],
   "source": []
  },
  {
   "cell_type": "markdown",
   "metadata": {},
   "source": [
    "## Paraphrase Generator\n",
    "this should take as input the entire constrained dataframe from the above section, and then generate the paraphrases\n",
    "\n",
    "For Who questions: Who is a person...? / Who is some person...? / \"Who is every person...\" / \"Who is the person...\""
   ]
  },
  {
   "cell_type": "code",
   "execution_count": 4,
   "metadata": {},
   "outputs": [],
   "source": [
    "# read in df with contexts\n",
    "cntxts = pd.read_csv(\"swbd_contexts.csv\")"
   ]
  },
  {
   "cell_type": "code",
   "execution_count": 5,
   "metadata": {},
   "outputs": [],
   "source": [
    "cntxts = cntxts.drop(columns=\"FollowingContext\")"
   ]
  },
  {
   "cell_type": "code",
   "execution_count": 6,
   "metadata": {},
   "outputs": [],
   "source": [
    "# get the indixes from critical\n",
    "crit_index = critical.Item_ID"
   ]
  },
  {
   "cell_type": "code",
   "execution_count": null,
   "metadata": {},
   "outputs": [],
   "source": []
  },
  {
   "cell_type": "markdown",
   "metadata": {},
   "source": [
    "Merge back in Wh and ModalPresent colums"
   ]
  },
  {
   "cell_type": "code",
   "execution_count": 7,
   "metadata": {},
   "outputs": [],
   "source": [
    "df_WhMod = critical[[\"Item_ID\",\"Wh\",\"ModalPresent\"]].rename(columns={\"Item_ID\": \"TGrepID\"})"
   ]
  },
  {
   "cell_type": "code",
   "execution_count": 8,
   "metadata": {},
   "outputs": [],
   "source": [
    "# subset to the items that are just the ones filtered in the previos section\n",
    "\n",
    "# otherwise, if using the database file with contexts directly in there, then this step\n",
    "# is not necessary\n",
    "df_valid = cntxts[cntxts[\"TGrepID\"].isin(set(crit_index))]"
   ]
  },
  {
   "cell_type": "code",
   "execution_count": 9,
   "metadata": {},
   "outputs": [
    {
     "data": {
      "text/plain": [
       "335"
      ]
     },
     "execution_count": 9,
     "metadata": {},
     "output_type": "execute_result"
    }
   ],
   "source": [
    "len(df_valid)"
   ]
  },
  {
   "cell_type": "code",
   "execution_count": 260,
   "metadata": {},
   "outputs": [],
   "source": []
  },
  {
   "cell_type": "code",
   "execution_count": 10,
   "metadata": {},
   "outputs": [],
   "source": [
    "df_valid = df_valid.merge(df_WhMod, how = 'inner', indicator=False)"
   ]
  },
  {
   "cell_type": "code",
   "execution_count": 11,
   "metadata": {},
   "outputs": [
    {
     "data": {
      "text/plain": [
       "335"
      ]
     },
     "execution_count": 11,
     "metadata": {},
     "output_type": "execute_result"
    }
   ],
   "source": [
    "len(df_valid)"
   ]
  },
  {
   "cell_type": "code",
   "execution_count": null,
   "metadata": {},
   "outputs": [],
   "source": []
  },
  {
   "cell_type": "code",
   "execution_count": 268,
   "metadata": {},
   "outputs": [
    {
     "data": {
      "text/html": [
       "<div>\n",
       "<style scoped>\n",
       "    .dataframe tbody tr th:only-of-type {\n",
       "        vertical-align: middle;\n",
       "    }\n",
       "\n",
       "    .dataframe tbody tr th {\n",
       "        vertical-align: top;\n",
       "    }\n",
       "\n",
       "    .dataframe thead th {\n",
       "        text-align: right;\n",
       "    }\n",
       "</style>\n",
       "<table border=\"1\" class=\"dataframe\">\n",
       "  <thead>\n",
       "    <tr style=\"text-align: right;\">\n",
       "      <th></th>\n",
       "      <th>Wh</th>\n",
       "      <th>EntireSentence</th>\n",
       "    </tr>\n",
       "  </thead>\n",
       "  <tbody>\n",
       "    <tr>\n",
       "      <th>0</th>\n",
       "      <td>how</td>\n",
       "      <td>0.549254</td>\n",
       "    </tr>\n",
       "    <tr>\n",
       "      <th>1</th>\n",
       "      <td>where</td>\n",
       "      <td>0.289552</td>\n",
       "    </tr>\n",
       "    <tr>\n",
       "      <th>2</th>\n",
       "      <td>who</td>\n",
       "      <td>0.161194</td>\n",
       "    </tr>\n",
       "  </tbody>\n",
       "</table>\n",
       "</div>"
      ],
      "text/plain": [
       "      Wh  EntireSentence\n",
       "0    how        0.549254\n",
       "1  where        0.289552\n",
       "2    who        0.161194"
      ]
     },
     "execution_count": 268,
     "metadata": {},
     "output_type": "execute_result"
    }
   ],
   "source": [
    "df_valid.pivot_table(index=['Wh'], values=\"EntireSentence\", aggfunc=len).groupby([\"Wh\"]).EntireSentence.transform(lambda x: x/len(df_valid)).reset_index()"
   ]
  },
  {
   "cell_type": "code",
   "execution_count": 12,
   "metadata": {},
   "outputs": [],
   "source": [
    "who = df_valid[df_valid[\"Wh\"] == \"who\"]\n",
    "where = df_valid[df_valid[\"Wh\"] == \"where\"]\n",
    "how = df_valid[df_valid[\"Wh\"] == \"how\"]"
   ]
  },
  {
   "cell_type": "code",
   "execution_count": 13,
   "metadata": {},
   "outputs": [
    {
     "name": "stderr",
     "output_type": "stream",
     "text": [
      "<ipython-input-13-db43c0f19116>:1: SettingWithCopyWarning: \n",
      "A value is trying to be set on a copy of a slice from a DataFrame.\n",
      "Try using .loc[row_indexer,col_indexer] = value instead\n",
      "\n",
      "See the caveats in the documentation: https://pandas.pydata.org/pandas-docs/stable/user_guide/indexing.html#returning-a-view-versus-a-copy\n",
      "  who[\"AResponse\"] = \"Who is a person...?\"\n",
      "<ipython-input-13-db43c0f19116>:3: SettingWithCopyWarning: \n",
      "A value is trying to be set on a copy of a slice from a DataFrame.\n",
      "Try using .loc[row_indexer,col_indexer] = value instead\n",
      "\n",
      "See the caveats in the documentation: https://pandas.pydata.org/pandas-docs/stable/user_guide/indexing.html#returning-a-view-versus-a-copy\n",
      "  who[\"AllResponse\"] = \"Who is every person...?\"\n",
      "<ipython-input-13-db43c0f19116>:4: SettingWithCopyWarning: \n",
      "A value is trying to be set on a copy of a slice from a DataFrame.\n",
      "Try using .loc[row_indexer,col_indexer] = value instead\n",
      "\n",
      "See the caveats in the documentation: https://pandas.pydata.org/pandas-docs/stable/user_guide/indexing.html#returning-a-view-versus-a-copy\n",
      "  who[\"TheResponse\"] = \"Who is the person...?\"\n",
      "<ipython-input-13-db43c0f19116>:7: SettingWithCopyWarning: \n",
      "A value is trying to be set on a copy of a slice from a DataFrame.\n",
      "Try using .loc[row_indexer,col_indexer] = value instead\n",
      "\n",
      "See the caveats in the documentation: https://pandas.pydata.org/pandas-docs/stable/user_guide/indexing.html#returning-a-view-versus-a-copy\n",
      "  where[\"AResponse\"] = \"What is a place...?\"\n",
      "<ipython-input-13-db43c0f19116>:9: SettingWithCopyWarning: \n",
      "A value is trying to be set on a copy of a slice from a DataFrame.\n",
      "Try using .loc[row_indexer,col_indexer] = value instead\n",
      "\n",
      "See the caveats in the documentation: https://pandas.pydata.org/pandas-docs/stable/user_guide/indexing.html#returning-a-view-versus-a-copy\n",
      "  where[\"AllResponse\"] = \"What is every place...?\"\n",
      "<ipython-input-13-db43c0f19116>:10: SettingWithCopyWarning: \n",
      "A value is trying to be set on a copy of a slice from a DataFrame.\n",
      "Try using .loc[row_indexer,col_indexer] = value instead\n",
      "\n",
      "See the caveats in the documentation: https://pandas.pydata.org/pandas-docs/stable/user_guide/indexing.html#returning-a-view-versus-a-copy\n",
      "  where[\"TheResponse\"] = \"What is the place...?\"\n",
      "<ipython-input-13-db43c0f19116>:13: SettingWithCopyWarning: \n",
      "A value is trying to be set on a copy of a slice from a DataFrame.\n",
      "Try using .loc[row_indexer,col_indexer] = value instead\n",
      "\n",
      "See the caveats in the documentation: https://pandas.pydata.org/pandas-docs/stable/user_guide/indexing.html#returning-a-view-versus-a-copy\n",
      "  how[\"AResponse\"] = \"What is a way...?\"\n",
      "<ipython-input-13-db43c0f19116>:15: SettingWithCopyWarning: \n",
      "A value is trying to be set on a copy of a slice from a DataFrame.\n",
      "Try using .loc[row_indexer,col_indexer] = value instead\n",
      "\n",
      "See the caveats in the documentation: https://pandas.pydata.org/pandas-docs/stable/user_guide/indexing.html#returning-a-view-versus-a-copy\n",
      "  how[\"AllResponse\"] = \"What is every way...?\"\n",
      "<ipython-input-13-db43c0f19116>:16: SettingWithCopyWarning: \n",
      "A value is trying to be set on a copy of a slice from a DataFrame.\n",
      "Try using .loc[row_indexer,col_indexer] = value instead\n",
      "\n",
      "See the caveats in the documentation: https://pandas.pydata.org/pandas-docs/stable/user_guide/indexing.html#returning-a-view-versus-a-copy\n",
      "  how[\"TheResponse\"] = \"What is the way...?\"\n"
     ]
    }
   ],
   "source": [
    "who[\"AResponse\"] = \"Who is a person...?\"\n",
    "# who[\"SomeResponse\"] = \"Who is some person...?\"\n",
    "who[\"AllResponse\"] = \"Who is every person...?\"\n",
    "who[\"TheResponse\"] = \"Who is the person...?\"\n",
    "\n",
    "\n",
    "where[\"AResponse\"] = \"What is a place...?\"\n",
    "# where[\"SomeResponse\"] = \"What is some place...?\"\n",
    "where[\"AllResponse\"] = \"What is every place...?\"\n",
    "where[\"TheResponse\"] = \"What is the place...?\"\n",
    "\n",
    "\n",
    "how[\"AResponse\"] = \"What is a way...?\"\n",
    "# how[\"SomeResponse\"] = \"What is some way...?\"\n",
    "how[\"AllResponse\"] = \"What is every way...?\"\n",
    "how[\"TheResponse\"] = \"What is the way...?\""
   ]
  },
  {
   "cell_type": "code",
   "execution_count": 14,
   "metadata": {},
   "outputs": [],
   "source": [
    "df_final = pd.concat([who,where,how])"
   ]
  },
  {
   "cell_type": "code",
   "execution_count": 399,
   "metadata": {},
   "outputs": [
    {
     "data": {
      "text/plain": [
       "335"
      ]
     },
     "execution_count": 399,
     "metadata": {},
     "output_type": "execute_result"
    }
   ],
   "source": [
    "len(df_final)"
   ]
  },
  {
   "cell_type": "code",
   "execution_count": 273,
   "metadata": {},
   "outputs": [
    {
     "data": {
      "text/html": [
       "<div>\n",
       "<style scoped>\n",
       "    .dataframe tbody tr th:only-of-type {\n",
       "        vertical-align: middle;\n",
       "    }\n",
       "\n",
       "    .dataframe tbody tr th {\n",
       "        vertical-align: top;\n",
       "    }\n",
       "\n",
       "    .dataframe thead th {\n",
       "        text-align: right;\n",
       "    }\n",
       "</style>\n",
       "<table border=\"1\" class=\"dataframe\">\n",
       "  <thead>\n",
       "    <tr style=\"text-align: right;\">\n",
       "      <th></th>\n",
       "      <th>Wh</th>\n",
       "      <th>EntireSentence</th>\n",
       "    </tr>\n",
       "  </thead>\n",
       "  <tbody>\n",
       "    <tr>\n",
       "      <th>0</th>\n",
       "      <td>how</td>\n",
       "      <td>0.549254</td>\n",
       "    </tr>\n",
       "    <tr>\n",
       "      <th>1</th>\n",
       "      <td>where</td>\n",
       "      <td>0.289552</td>\n",
       "    </tr>\n",
       "    <tr>\n",
       "      <th>2</th>\n",
       "      <td>who</td>\n",
       "      <td>0.161194</td>\n",
       "    </tr>\n",
       "  </tbody>\n",
       "</table>\n",
       "</div>"
      ],
      "text/plain": [
       "      Wh  EntireSentence\n",
       "0    how        0.549254\n",
       "1  where        0.289552\n",
       "2    who        0.161194"
      ]
     },
     "execution_count": 273,
     "metadata": {},
     "output_type": "execute_result"
    }
   ],
   "source": [
    "df_final.pivot_table(index=['Wh'], values=\"EntireSentence\", aggfunc=len).groupby([\"Wh\"]).EntireSentence.transform(lambda x: x/len(df_final)).reset_index()"
   ]
  },
  {
   "cell_type": "code",
   "execution_count": 274,
   "metadata": {},
   "outputs": [
    {
     "data": {
      "text/html": [
       "<div>\n",
       "<style scoped>\n",
       "    .dataframe tbody tr th:only-of-type {\n",
       "        vertical-align: middle;\n",
       "    }\n",
       "\n",
       "    .dataframe tbody tr th {\n",
       "        vertical-align: top;\n",
       "    }\n",
       "\n",
       "    .dataframe thead th {\n",
       "        text-align: right;\n",
       "    }\n",
       "</style>\n",
       "<table border=\"1\" class=\"dataframe\">\n",
       "  <thead>\n",
       "    <tr style=\"text-align: right;\">\n",
       "      <th></th>\n",
       "      <th>ModalPresent</th>\n",
       "      <th>EntireSentence</th>\n",
       "    </tr>\n",
       "  </thead>\n",
       "  <tbody>\n",
       "    <tr>\n",
       "      <th>0</th>\n",
       "      <td>no</td>\n",
       "      <td>0.880597</td>\n",
       "    </tr>\n",
       "    <tr>\n",
       "      <th>1</th>\n",
       "      <td>yes</td>\n",
       "      <td>0.119403</td>\n",
       "    </tr>\n",
       "  </tbody>\n",
       "</table>\n",
       "</div>"
      ],
      "text/plain": [
       "  ModalPresent  EntireSentence\n",
       "0           no        0.880597\n",
       "1          yes        0.119403"
      ]
     },
     "execution_count": 274,
     "metadata": {},
     "output_type": "execute_result"
    }
   ],
   "source": [
    "df_final.pivot_table(index=['ModalPresent'], values=\"EntireSentence\", aggfunc=len).groupby([\"ModalPresent\"]).EntireSentence.transform(lambda x: x/len(df_final)).reset_index()"
   ]
  },
  {
   "cell_type": "markdown",
   "metadata": {},
   "source": [
    "There should be a way to automate that whole thing in one definitieion, but im failing to do that correctly"
   ]
  },
  {
   "cell_type": "code",
   "execution_count": 410,
   "metadata": {},
   "outputs": [
    {
     "data": {
      "text/plain": [
       "3.636364090909091"
      ]
     },
     "execution_count": 410,
     "metadata": {},
     "output_type": "execute_result"
    }
   ],
   "source": [
    "335*0.119403/11"
   ]
  },
  {
   "cell_type": "code",
   "execution_count": null,
   "metadata": {},
   "outputs": [],
   "source": []
  },
  {
   "cell_type": "markdown",
   "metadata": {},
   "source": [
    "## Create randomly sampled files"
   ]
  },
  {
   "cell_type": "markdown",
   "metadata": {},
   "source": [
    "### TEST SAMPLE"
   ]
  },
  {
   "cell_type": "markdown",
   "metadata": {},
   "source": [
    "deseridata:\n",
    "15 how , 10 where, 5 who\n",
    "\n",
    "This is possible to maintain in lists 1-9, but lists 10-11 have slightly different distributions.\n",
    "\n",
    "should contain about 3 modal in each batch, lists 10-11 have 6/7 respectively\n",
    "\n",
    "10 lists of 30\n",
    "1 list of 35\n",
    "\n",
    "\n",
    "\n"
   ]
  },
  {
   "cell_type": "code",
   "execution_count": 559,
   "metadata": {},
   "outputs": [],
   "source": [
    "controls = pd.read_csv(\"../../experiments/clean_corpus/fillers.csv\")"
   ]
  },
  {
   "cell_type": "code",
   "execution_count": 560,
   "metadata": {},
   "outputs": [
    {
     "data": {
      "text/html": [
       "<div>\n",
       "<style scoped>\n",
       "    .dataframe tbody tr th:only-of-type {\n",
       "        vertical-align: middle;\n",
       "    }\n",
       "\n",
       "    .dataframe tbody tr th {\n",
       "        vertical-align: top;\n",
       "    }\n",
       "\n",
       "    .dataframe thead th {\n",
       "        text-align: right;\n",
       "    }\n",
       "</style>\n",
       "<table border=\"1\" class=\"dataframe\">\n",
       "  <thead>\n",
       "    <tr style=\"text-align: right;\">\n",
       "      <th></th>\n",
       "      <th>TGrepID</th>\n",
       "      <th>EntireSentence</th>\n",
       "      <th>PreceedingContext</th>\n",
       "      <th>Aresponse</th>\n",
       "      <th>AllResponse</th>\n",
       "      <th>TheResponse</th>\n",
       "    </tr>\n",
       "  </thead>\n",
       "  <tbody>\n",
       "    <tr>\n",
       "      <th>0</th>\n",
       "      <td>control</td>\n",
       "      <td>I want to eat a burger.</td>\n",
       "      <td>Speaker 1: I'm hungry. Speaker 2: What do you want to eat? Speaker 1:</td>\n",
       "      <td>A burger…</td>\n",
       "      <td>Every burger…</td>\n",
       "      <td>The burger…</td>\n",
       "    </tr>\n",
       "  </tbody>\n",
       "</table>\n",
       "</div>"
      ],
      "text/plain": [
       "   TGrepID           EntireSentence  \\\n",
       "0  control  I want to eat a burger.   \n",
       "\n",
       "                                                        PreceedingContext  \\\n",
       "0  Speaker 1: I'm hungry. Speaker 2: What do you want to eat? Speaker 1:    \n",
       "\n",
       "   Aresponse    AllResponse  TheResponse  \n",
       "0  A burger…  Every burger…  The burger…  "
      ]
     },
     "execution_count": 560,
     "metadata": {},
     "output_type": "execute_result"
    }
   ],
   "source": [
    "controls.head(1)"
   ]
  },
  {
   "cell_type": "code",
   "execution_count": 400,
   "metadata": {},
   "outputs": [
    {
     "data": {
      "text/html": [
       "<div>\n",
       "<style scoped>\n",
       "    .dataframe tbody tr th:only-of-type {\n",
       "        vertical-align: middle;\n",
       "    }\n",
       "\n",
       "    .dataframe tbody tr th {\n",
       "        vertical-align: top;\n",
       "    }\n",
       "\n",
       "    .dataframe thead th {\n",
       "        text-align: right;\n",
       "    }\n",
       "</style>\n",
       "<table border=\"1\" class=\"dataframe\">\n",
       "  <thead>\n",
       "    <tr style=\"text-align: right;\">\n",
       "      <th></th>\n",
       "      <th>Wh</th>\n",
       "      <th>EntireSentence</th>\n",
       "    </tr>\n",
       "  </thead>\n",
       "  <tbody>\n",
       "    <tr>\n",
       "      <th>0</th>\n",
       "      <td>how</td>\n",
       "      <td>0.549254</td>\n",
       "    </tr>\n",
       "    <tr>\n",
       "      <th>1</th>\n",
       "      <td>where</td>\n",
       "      <td>0.289552</td>\n",
       "    </tr>\n",
       "    <tr>\n",
       "      <th>2</th>\n",
       "      <td>who</td>\n",
       "      <td>0.161194</td>\n",
       "    </tr>\n",
       "  </tbody>\n",
       "</table>\n",
       "</div>"
      ],
      "text/plain": [
       "      Wh  EntireSentence\n",
       "0    how        0.549254\n",
       "1  where        0.289552\n",
       "2    who        0.161194"
      ]
     },
     "execution_count": 400,
     "metadata": {},
     "output_type": "execute_result"
    }
   ],
   "source": [
    "df_final.pivot_table(index=['Wh'], values=\"EntireSentence\", aggfunc=len).groupby([\"Wh\"]).EntireSentence.transform(lambda x: x/len(df_final)).reset_index()"
   ]
  },
  {
   "cell_type": "code",
   "execution_count": 415,
   "metadata": {},
   "outputs": [
    {
     "data": {
      "text/plain": [
       "18.400009"
      ]
     },
     "execution_count": 415,
     "metadata": {},
     "output_type": "execute_result"
    }
   ],
   "source": [
    "# no. of how qs\n",
    "335*0.549254/10"
   ]
  },
  {
   "cell_type": "code",
   "execution_count": 416,
   "metadata": {},
   "outputs": [
    {
     "data": {
      "text/plain": [
       "9.699991999999998"
      ]
     },
     "execution_count": 416,
     "metadata": {},
     "output_type": "execute_result"
    }
   ],
   "source": [
    "# no of where qs\n",
    "335*0.289552/10"
   ]
  },
  {
   "cell_type": "code",
   "execution_count": 417,
   "metadata": {},
   "outputs": [
    {
     "data": {
      "text/plain": [
       "5.399999"
      ]
     },
     "execution_count": 417,
     "metadata": {},
     "output_type": "execute_result"
    }
   ],
   "source": [
    "# no of who questions\n",
    "335*0.161194/10"
   ]
  },
  {
   "cell_type": "code",
   "execution_count": 276,
   "metadata": {},
   "outputs": [
    {
     "data": {
      "text/plain": [
       "335"
      ]
     },
     "execution_count": 276,
     "metadata": {},
     "output_type": "execute_result"
    }
   ],
   "source": [
    "len(df_final)"
   ]
  },
  {
   "cell_type": "code",
   "execution_count": 420,
   "metadata": {},
   "outputs": [
    {
     "data": {
      "text/plain": [
       "32"
      ]
     },
     "execution_count": 420,
     "metadata": {},
     "output_type": "execute_result"
    }
   ],
   "source": [
    "18+9+5"
   ]
  },
  {
   "cell_type": "code",
   "execution_count": 406,
   "metadata": {},
   "outputs": [
    {
     "data": {
      "text/plain": [
       "11.166666666666666"
      ]
     },
     "execution_count": 406,
     "metadata": {},
     "output_type": "execute_result"
    }
   ],
   "source": [
    "335/30"
   ]
  },
  {
   "cell_type": "code",
   "execution_count": 459,
   "metadata": {},
   "outputs": [
    {
     "data": {
      "text/plain": [
       "ModalPresent\n",
       "no     295\n",
       "yes     40\n",
       "Name: ModalPresent, dtype: int64"
      ]
     },
     "execution_count": 459,
     "metadata": {},
     "output_type": "execute_result"
    }
   ],
   "source": [
    "df_final.groupby([\"ModalPresent\"])[\"ModalPresent\"].count()"
   ]
  },
  {
   "cell_type": "code",
   "execution_count": 463,
   "metadata": {},
   "outputs": [
    {
     "data": {
      "text/plain": [
       "7"
      ]
     },
     "execution_count": 463,
     "metadata": {},
     "output_type": "execute_result"
    }
   ],
   "source": [
    "40 - 11*3"
   ]
  },
  {
   "cell_type": "code",
   "execution_count": 460,
   "metadata": {},
   "outputs": [
    {
     "data": {
      "text/plain": [
       "Wh\n",
       "how      184\n",
       "where     97\n",
       "who       54\n",
       "Name: Wh, dtype: int64"
      ]
     },
     "execution_count": 460,
     "metadata": {},
     "output_type": "execute_result"
    }
   ],
   "source": [
    "df_final.groupby([\"Wh\"])[\"Wh\"].count()"
   ]
  },
  {
   "cell_type": "code",
   "execution_count": 465,
   "metadata": {},
   "outputs": [
    {
     "data": {
      "text/plain": [
       "5.4"
      ]
     },
     "execution_count": 465,
     "metadata": {},
     "output_type": "execute_result"
    }
   ],
   "source": [
    "54/10"
   ]
  },
  {
   "cell_type": "code",
   "execution_count": 561,
   "metadata": {},
   "outputs": [],
   "source": [
    "df_final = pd.concat([who,where,how])"
   ]
  },
  {
   "cell_type": "code",
   "execution_count": 491,
   "metadata": {},
   "outputs": [
    {
     "name": "stdout",
     "output_type": "stream",
     "text": [
      "ModalPresent\n",
      "no     295\n",
      "yes     40\n",
      "Name: ModalPresent, dtype: int64\n"
     ]
    }
   ],
   "source": [
    "print(df_final.groupby([\"ModalPresent\"])[\"ModalPresent\"].count())"
   ]
  },
  {
   "cell_type": "code",
   "execution_count": null,
   "metadata": {},
   "outputs": [],
   "source": [
    "# print(df_final.groupby([\"ModalPresent\"])[\"ModalPresent\"].count())"
   ]
  },
  {
   "cell_type": "code",
   "execution_count": null,
   "metadata": {},
   "outputs": [],
   "source": []
  },
  {
   "cell_type": "code",
   "execution_count": 414,
   "metadata": {},
   "outputs": [
    {
     "data": {
      "text/plain": [
       "28"
      ]
     },
     "execution_count": 414,
     "metadata": {},
     "output_type": "execute_result"
    }
   ],
   "source": [
    "16+4+8"
   ]
  },
  {
   "cell_type": "code",
   "execution_count": 562,
   "metadata": {},
   "outputs": [],
   "source": [
    "# ids = pd.DataFrame(columns=df_final.columns)\n",
    "for n in range(1,10):\n",
    "#     print(df_final.groupby([\"ModalPresent\"])[\"ModalPresent\"].count())\n",
    "    mod_sample = df_final[df_final[\"ModalPresent\"] == \"yes\"].sample(3)\n",
    "\n",
    "    i = len(mod_sample[mod_sample[\"Wh\"] == \"how\"])\n",
    "    j = len(mod_sample[mod_sample[\"Wh\"] == \"who\"])\n",
    "    k = len(mod_sample[mod_sample[\"Wh\"] == \"where\"])\n",
    "    df_final = df_final.drop(mod_sample.index)\n",
    "\n",
    "    how_sample = df_final[\n",
    "        (df_final[\"Wh\"] == \"how\") &\n",
    "        (df_final[\"ModalPresent\"] == \"no\")\n",
    "                         ].sample(15-i)\n",
    "    df_final = df_final.drop(how_sample.index)\n",
    "\n",
    "    who_sample = df_final[\n",
    "        (df_final[\"Wh\"] == \"who\") &\n",
    "        (df_final[\"ModalPresent\"] == \"no\")].sample(5-j)\n",
    "    df_final = df_final.drop(who_sample.index)\n",
    "\n",
    "    where_sample = df_final[\n",
    "        (df_final[\"Wh\"] == \"where\") &\n",
    "        (df_final[\"ModalPresent\"] == \"no\")].sample(10-k)\n",
    "    df_final = df_final.drop(where_sample.index)\n",
    "\n",
    "    total = pd.concat([mod_sample,how_sample,who_sample,where_sample,controls])\n",
    "    \n",
    "    # save to file\n",
    "    filename = f\"../../experiments/clean_corpus/corpus_{n}.txt\".format(n=n)\n",
    "    total.to_csv(filename,header=True,sep=\"\\t\",index=False)"
   ]
  },
  {
   "cell_type": "code",
   "execution_count": 527,
   "metadata": {},
   "outputs": [
    {
     "data": {
      "text/plain": [
       "65"
      ]
     },
     "execution_count": 527,
     "metadata": {},
     "output_type": "execute_result"
    }
   ],
   "source": [
    "len(df_final)"
   ]
  },
  {
   "cell_type": "code",
   "execution_count": 528,
   "metadata": {},
   "outputs": [
    {
     "data": {
      "text/plain": [
       "Wh\n",
       "how      49\n",
       "where     7\n",
       "who       9\n",
       "Name: Wh, dtype: int64"
      ]
     },
     "execution_count": 528,
     "metadata": {},
     "output_type": "execute_result"
    }
   ],
   "source": [
    "df_final.groupby([\"Wh\"])[\"Wh\"].count()"
   ]
  },
  {
   "cell_type": "code",
   "execution_count": 529,
   "metadata": {},
   "outputs": [
    {
     "data": {
      "text/plain": [
       "4.5"
      ]
     },
     "execution_count": 529,
     "metadata": {},
     "output_type": "execute_result"
    }
   ],
   "source": [
    "# who\n",
    "9/2"
   ]
  },
  {
   "cell_type": "code",
   "execution_count": 530,
   "metadata": {},
   "outputs": [
    {
     "data": {
      "text/plain": [
       "3.5"
      ]
     },
     "execution_count": 530,
     "metadata": {},
     "output_type": "execute_result"
    }
   ],
   "source": [
    "# where\n",
    "7/2"
   ]
  },
  {
   "cell_type": "code",
   "execution_count": 531,
   "metadata": {},
   "outputs": [
    {
     "data": {
      "text/plain": [
       "24.5"
      ]
     },
     "execution_count": 531,
     "metadata": {},
     "output_type": "execute_result"
    }
   ],
   "source": [
    "# how\n",
    "49/2"
   ]
  },
  {
   "cell_type": "code",
   "execution_count": 532,
   "metadata": {},
   "outputs": [
    {
     "data": {
      "text/plain": [
       "30"
      ]
     },
     "execution_count": 532,
     "metadata": {},
     "output_type": "execute_result"
    }
   ],
   "source": [
    "23+4+3"
   ]
  },
  {
   "cell_type": "code",
   "execution_count": 533,
   "metadata": {},
   "outputs": [
    {
     "data": {
      "text/plain": [
       "ModalPresent\n",
       "no     52\n",
       "yes    13\n",
       "Name: ModalPresent, dtype: int64"
      ]
     },
     "execution_count": 533,
     "metadata": {},
     "output_type": "execute_result"
    }
   ],
   "source": [
    "df_final.groupby([\"ModalPresent\"])[\"ModalPresent\"].count()"
   ]
  },
  {
   "cell_type": "code",
   "execution_count": 506,
   "metadata": {},
   "outputs": [
    {
     "data": {
      "text/plain": [
       "6.5"
      ]
     },
     "execution_count": 506,
     "metadata": {},
     "output_type": "execute_result"
    }
   ],
   "source": [
    "13/2"
   ]
  },
  {
   "cell_type": "markdown",
   "metadata": {},
   "source": [
    "Second iteration"
   ]
  },
  {
   "cell_type": "code",
   "execution_count": 563,
   "metadata": {},
   "outputs": [
    {
     "name": "stdout",
     "output_type": "stream",
     "text": [
      "38\n",
      "37\n",
      "36\n"
     ]
    }
   ],
   "source": [
    "for n in range(10,11):\n",
    "    mod_sample = df_final[df_final[\"ModalPresent\"] == \"yes\"].sample(6)\n",
    "#     print(len(mod_sample))\n",
    "    i = len(mod_sample[mod_sample[\"Wh\"] == \"how\"])\n",
    "    j = len(mod_sample[mod_sample[\"Wh\"] == \"who\"])\n",
    "    k = len(mod_sample[mod_sample[\"Wh\"] == \"where\"])\n",
    "    df_final = df_final.drop(mod_sample.index)\n",
    "#     print(len(df_final))\n",
    "\n",
    "    how_sample = df_final[\n",
    "        (df_final[\"Wh\"] == \"how\") &\n",
    "        (df_final[\"ModalPresent\"] == \"no\")\n",
    "                         ].sample(23-i)\n",
    "    df_final = df_final.drop(how_sample.index)\n",
    "    print(len(df_final))\n",
    "\n",
    "    who_sample = df_final[\n",
    "        (df_final[\"Wh\"] == \"who\") &\n",
    "        (df_final[\"ModalPresent\"] == \"no\")].sample(4-j)\n",
    "    df_final = df_final.drop(who_sample.index)\n",
    "    print(len(df_final))\n",
    "\n",
    "    where_sample = df_final[\n",
    "        (df_final[\"Wh\"] == \"where\") &\n",
    "        (df_final[\"ModalPresent\"] == \"no\")].sample(3-k)\n",
    "    df_final = df_final.drop(where_sample.index)\n",
    "\n",
    "    total = pd.concat([mod_sample,how_sample,who_sample,where_sample,controls])\n",
    "    print(len(total))\n",
    "#     save to file\n",
    "    filename = f\"../../experiments/clean_corpus/corpus_{n}.txt\".format(n=n)\n",
    "    total.to_csv(filename,header=True,sep=\"\\t\",index=False)"
   ]
  },
  {
   "cell_type": "code",
   "execution_count": 535,
   "metadata": {},
   "outputs": [
    {
     "data": {
      "text/plain": [
       "30"
      ]
     },
     "execution_count": 535,
     "metadata": {},
     "output_type": "execute_result"
    }
   ],
   "source": [
    "23+4+3"
   ]
  },
  {
   "cell_type": "code",
   "execution_count": 540,
   "metadata": {},
   "outputs": [
    {
     "data": {
      "text/plain": [
       "35"
      ]
     },
     "execution_count": 540,
     "metadata": {},
     "output_type": "execute_result"
    }
   ],
   "source": [
    "len(df_final)"
   ]
  },
  {
   "cell_type": "code",
   "execution_count": 541,
   "metadata": {},
   "outputs": [
    {
     "data": {
      "text/plain": [
       "ModalPresent\n",
       "no     28\n",
       "yes     7\n",
       "Name: ModalPresent, dtype: int64"
      ]
     },
     "execution_count": 541,
     "metadata": {},
     "output_type": "execute_result"
    }
   ],
   "source": [
    "df_final.groupby([\"ModalPresent\"])[\"ModalPresent\"].count()"
   ]
  },
  {
   "cell_type": "code",
   "execution_count": 542,
   "metadata": {},
   "outputs": [
    {
     "data": {
      "text/plain": [
       "Wh\n",
       "how      26\n",
       "where     4\n",
       "who       5\n",
       "Name: Wh, dtype: int64"
      ]
     },
     "execution_count": 542,
     "metadata": {},
     "output_type": "execute_result"
    }
   ],
   "source": [
    "df_final.groupby([\"Wh\"])[\"Wh\"].count()"
   ]
  },
  {
   "cell_type": "code",
   "execution_count": 564,
   "metadata": {},
   "outputs": [],
   "source": [
    "last = pd.concat([df_final,controls])"
   ]
  },
  {
   "cell_type": "code",
   "execution_count": 565,
   "metadata": {},
   "outputs": [],
   "source": [
    "last.to_csv(\"../../experiments/clean_corpus/corpus_11.txt\",header=True,sep=\"\\t\",index=False)"
   ]
  },
  {
   "cell_type": "code",
   "execution_count": null,
   "metadata": {},
   "outputs": [],
   "source": []
  },
  {
   "cell_type": "code",
   "execution_count": null,
   "metadata": {},
   "outputs": [],
   "source": []
  },
  {
   "cell_type": "code",
   "execution_count": null,
   "metadata": {},
   "outputs": [],
   "source": []
  },
  {
   "cell_type": "code",
   "execution_count": null,
   "metadata": {},
   "outputs": [],
   "source": []
  }
 ],
 "metadata": {
  "kernelspec": {
   "display_name": "Python 3",
   "language": "python",
   "name": "python3"
  },
  "language_info": {
   "codemirror_mode": {
    "name": "ipython",
    "version": 3
   },
   "file_extension": ".py",
   "mimetype": "text/x-python",
   "name": "python",
   "nbconvert_exporter": "python",
   "pygments_lexer": "ipython3",
   "version": "3.8.3"
  }
 },
 "nbformat": 4,
 "nbformat_minor": 4
}
