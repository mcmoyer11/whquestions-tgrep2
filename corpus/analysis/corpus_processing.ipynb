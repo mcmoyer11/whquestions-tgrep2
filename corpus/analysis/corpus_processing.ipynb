{
 "cells": [
  {
   "cell_type": "markdown",
   "metadata": {},
   "source": [
    "# Corpus scratch\n",
    "This notebook is for miscelaneous processing from the swbd.tab database file"
   ]
  },
  {
   "cell_type": "code",
   "execution_count": 1,
   "metadata": {},
   "outputs": [],
   "source": [
    "import pandas as pd\n",
    "import numpy as np"
   ]
  },
  {
   "cell_type": "code",
   "execution_count": 5,
   "metadata": {},
   "outputs": [],
   "source": [
    "# import the database file from the TGrep2 searching\n",
    "df = pd.read_csv(\"../results/swbd.tab\", sep='\\t', engine='python')\n",
    "d = pd.read_csv(\"swbd_contexts.csv\")"
   ]
  },
  {
   "cell_type": "code",
   "execution_count": 8,
   "metadata": {},
   "outputs": [],
   "source": [
    "# This makes the display show more info\n",
    "pd.set_option('display.max_rows', None)\n",
    "pd.set_option('display.max_colwidth', None)"
   ]
  },
  {
   "cell_type": "code",
   "execution_count": 7,
   "metadata": {},
   "outputs": [
    {
     "data": {
      "text/html": [
       "<div>\n",
       "<style scoped>\n",
       "    .dataframe tbody tr th:only-of-type {\n",
       "        vertical-align: middle;\n",
       "    }\n",
       "\n",
       "    .dataframe tbody tr th {\n",
       "        vertical-align: top;\n",
       "    }\n",
       "\n",
       "    .dataframe thead th {\n",
       "        text-align: right;\n",
       "    }\n",
       "</style>\n",
       "<table border=\"1\" class=\"dataframe\">\n",
       "  <thead>\n",
       "    <tr style=\"text-align: right;\">\n",
       "      <th></th>\n",
       "      <th>TGrepID</th>\n",
       "      <th>EntireSentence</th>\n",
       "      <th>PreceedingContext</th>\n",
       "      <th>FollowingContext</th>\n",
       "    </tr>\n",
       "  </thead>\n",
       "  <tbody>\n",
       "    <tr>\n",
       "      <th>0</th>\n",
       "      <td>3:43</td>\n",
       "      <td>uh, first, um, i need *-1 to know, uh, how do ...</td>\n",
       "      <td>###&lt;none&gt;###&lt;none&gt;###&lt;none&gt;###&lt;none&gt;###&lt;none&gt;#...</td>\n",
       "      <td>###speakerb2.###well, of course, it's, you kno...</td>\n",
       "    </tr>\n",
       "    <tr>\n",
       "      <th>1</th>\n",
       "      <td>17:77</td>\n",
       "      <td>and, uh, we were, i was fortunate in that i wa...</td>\n",
       "      <td>###yes.###yeah.###speakerb4.###i'd be very ver...</td>\n",
       "      <td>###speakera7.###yeah.###speakerb8.###so, i was...</td>\n",
       "    </tr>\n",
       "    <tr>\n",
       "      <th>2</th>\n",
       "      <td>21:45</td>\n",
       "      <td>so, i was very comfortable, you know, in *-1 d...</td>\n",
       "      <td>###uh, our,###* had *-1 t-, place my mother in...</td>\n",
       "      <td>###but there's,###well, i had an occasion for ...</td>\n",
       "    </tr>\n",
       "    <tr>\n",
       "      <th>3</th>\n",
       "      <td>23:31</td>\n",
       "      <td>well, i had an occasion for my mother-in-law w...</td>\n",
       "      <td>###she had a rather massive stroke about, uh, ...</td>\n",
       "      <td>###that was really not a very good experience....</td>\n",
       "    </tr>\n",
       "    <tr>\n",
       "      <th>4</th>\n",
       "      <td>96:22</td>\n",
       "      <td>i mean, for somebody who *t*-1 is, you know, f...</td>\n",
       "      <td>###speakerb34.###i can imagine.###speakera35.#...</td>\n",
       "      <td>###speakerb38.###uh-huh.###speakera39.###speak...</td>\n",
       "    </tr>\n",
       "  </tbody>\n",
       "</table>\n",
       "</div>"
      ],
      "text/plain": [
       "  TGrepID                                     EntireSentence  \\\n",
       "0    3:43  uh, first, um, i need *-1 to know, uh, how do ...   \n",
       "1   17:77  and, uh, we were, i was fortunate in that i wa...   \n",
       "2   21:45  so, i was very comfortable, you know, in *-1 d...   \n",
       "3   23:31  well, i had an occasion for my mother-in-law w...   \n",
       "4   96:22  i mean, for somebody who *t*-1 is, you know, f...   \n",
       "\n",
       "                                   PreceedingContext  \\\n",
       "0  ###<none>###<none>###<none>###<none>###<none>#...   \n",
       "1  ###yes.###yeah.###speakerb4.###i'd be very ver...   \n",
       "2  ###uh, our,###* had *-1 t-, place my mother in...   \n",
       "3  ###she had a rather massive stroke about, uh, ...   \n",
       "4  ###speakerb34.###i can imagine.###speakera35.#...   \n",
       "\n",
       "                                    FollowingContext  \n",
       "0  ###speakerb2.###well, of course, it's, you kno...  \n",
       "1  ###speakera7.###yeah.###speakerb8.###so, i was...  \n",
       "2  ###but there's,###well, i had an occasion for ...  \n",
       "3  ###that was really not a very good experience....  \n",
       "4  ###speakerb38.###uh-huh.###speakera39.###speak...  "
      ]
     },
     "execution_count": 7,
     "metadata": {},
     "output_type": "execute_result"
    }
   ],
   "source": [
    "d.head()"
   ]
  },
  {
   "cell_type": "code",
   "execution_count": 4,
   "metadata": {},
   "outputs": [
    {
     "data": {
      "text/plain": [
       "QuestionType\n",
       "adjunct        767\n",
       "cleft          660\n",
       "embadjunct    2416\n",
       "embedded      1640\n",
       "fragment       690\n",
       "relative      1358\n",
       "root          1269\n",
       "subject       1398\n",
       "Name: QuestionType, dtype: int64"
      ]
     },
     "execution_count": 4,
     "metadata": {},
     "output_type": "execute_result"
    }
   ],
   "source": [
    "# New run\n",
    "df.groupby(\"QuestionType\")[\"QuestionType\"].count()"
   ]
  },
  {
   "cell_type": "code",
   "execution_count": null,
   "metadata": {},
   "outputs": [],
   "source": []
  },
  {
   "cell_type": "code",
   "execution_count": null,
   "metadata": {},
   "outputs": [],
   "source": []
  },
  {
   "cell_type": "markdown",
   "metadata": {},
   "source": [
    "df.head()"
   ]
  },
  {
   "cell_type": "code",
   "execution_count": 19,
   "metadata": {},
   "outputs": [
    {
     "data": {
      "text/html": [
       "<div>\n",
       "<style scoped>\n",
       "    .dataframe tbody tr th:only-of-type {\n",
       "        vertical-align: middle;\n",
       "    }\n",
       "\n",
       "    .dataframe tbody tr th {\n",
       "        vertical-align: top;\n",
       "    }\n",
       "\n",
       "    .dataframe thead th {\n",
       "        text-align: right;\n",
       "    }\n",
       "</style>\n",
       "<table border=\"1\" class=\"dataframe\">\n",
       "  <thead>\n",
       "    <tr style=\"text-align: right;\">\n",
       "      <th></th>\n",
       "      <th>EntireSentence</th>\n",
       "      <th>PreceedingContext</th>\n",
       "    </tr>\n",
       "  </thead>\n",
       "  <tbody>\n",
       "    <tr>\n",
       "      <th>167</th>\n",
       "      <td>and he, sho-, he knew who *t*-1 worked there,</td>\n",
       "      <td>###speakera17.###uh-huh.###speakerb18.###we wore shorts.###we didn't know 0 that was a big no, no.###speakera19.###oh no.###speakerb20.###and the supervisor from another area came up to us###and, you know, this area where record retention is *t*-1, there's only a few people that *t*-2 work there,</td>\n",
       "    </tr>\n",
       "  </tbody>\n",
       "</table>\n",
       "</div>"
      ],
      "text/plain": [
       "                                    EntireSentence  \\\n",
       "167  and he, sho-, he knew who *t*-1 worked there,   \n",
       "\n",
       "                                                                                                                                                                                                                                                                                             PreceedingContext  \n",
       "167  ###speakera17.###uh-huh.###speakerb18.###we wore shorts.###we didn't know 0 that was a big no, no.###speakera19.###oh no.###speakerb20.###and the supervisor from another area came up to us###and, you know, this area where record retention is *t*-1, there's only a few people that *t*-2 work there,  "
      ]
     },
     "execution_count": 19,
     "metadata": {},
     "output_type": "execute_result"
    }
   ],
   "source": [
    "# high rating for 'every' m = 0.8259341\n",
    "d.loc[d[\"TGrepID\"] == \"2512:34\"][[\"EntireSentence\",\"PreceedingContext\"]]"
   ]
  },
  {
   "cell_type": "code",
   "execution_count": 34,
   "metadata": {},
   "outputs": [
    {
     "data": {
      "text/html": [
       "<div>\n",
       "<style scoped>\n",
       "    .dataframe tbody tr th:only-of-type {\n",
       "        vertical-align: middle;\n",
       "    }\n",
       "\n",
       "    .dataframe tbody tr th {\n",
       "        vertical-align: top;\n",
       "    }\n",
       "\n",
       "    .dataframe thead th {\n",
       "        text-align: right;\n",
       "    }\n",
       "</style>\n",
       "<table border=\"1\" class=\"dataframe\">\n",
       "  <thead>\n",
       "    <tr style=\"text-align: right;\">\n",
       "      <th></th>\n",
       "      <th>EntireSentence</th>\n",
       "      <th>PreceedingContext</th>\n",
       "    </tr>\n",
       "  </thead>\n",
       "  <tbody>\n",
       "    <tr>\n",
       "      <th>1285</th>\n",
       "      <td>i don't know how * to make it better for them *t*-1</td>\n",
       "      <td>###uh-huh.###speakera77.###speakerb78.###yeah,###speakera79.###speakerb80.###and what do those kids do *t*-1,###they get it at school and come home,###what do they do *t*-1 then.### i, i feel, i feel for them,</td>\n",
       "    </tr>\n",
       "  </tbody>\n",
       "</table>\n",
       "</div>"
      ],
      "text/plain": [
       "                                           EntireSentence  \\\n",
       "1285  i don't know how * to make it better for them *t*-1   \n",
       "\n",
       "                                                                                                                                                                                                      PreceedingContext  \n",
       "1285  ###uh-huh.###speakera77.###speakerb78.###yeah,###speakera79.###speakerb80.###and what do those kids do *t*-1,###they get it at school and come home,###what do they do *t*-1 then.### i, i feel, i feel for them,  "
      ]
     },
     "execution_count": 34,
     "metadata": {},
     "output_type": "execute_result"
    }
   ],
   "source": [
    "d.loc[d[\"TGrepID\"] == \"22314:16\"][[\"EntireSentence\",\"PreceedingContext\"]]"
   ]
  },
  {
   "cell_type": "code",
   "execution_count": 28,
   "metadata": {},
   "outputs": [
    {
     "data": {
      "text/html": [
       "<div>\n",
       "<style scoped>\n",
       "    .dataframe tbody tr th:only-of-type {\n",
       "        vertical-align: middle;\n",
       "    }\n",
       "\n",
       "    .dataframe tbody tr th {\n",
       "        vertical-align: top;\n",
       "    }\n",
       "\n",
       "    .dataframe thead th {\n",
       "        text-align: right;\n",
       "    }\n",
       "</style>\n",
       "<table border=\"1\" class=\"dataframe\">\n",
       "  <thead>\n",
       "    <tr style=\"text-align: right;\">\n",
       "      <th></th>\n",
       "      <th>EntireSentence</th>\n",
       "      <th>PreceedingContext</th>\n",
       "    </tr>\n",
       "  </thead>\n",
       "  <tbody>\n",
       "    <tr>\n",
       "      <th>3168</th>\n",
       "      <td>and i haven't figured how *-1 to get that soft *t*-2,</td>\n",
       "      <td>###i can't say that i really enjoy it.###i wish that i did enjoy it more,###but i do it because i have *-1 to *?* not because i want *-2 to *?*.###speakerb8.###i bought a stationary bike,###but i find that if i sit on that seat too long, it hurts.###speakera9.###yeah,###yeah.###speakerb10.</td>\n",
       "    </tr>\n",
       "  </tbody>\n",
       "</table>\n",
       "</div>"
      ],
      "text/plain": [
       "                                             EntireSentence  \\\n",
       "3168  and i haven't figured how *-1 to get that soft *t*-2,   \n",
       "\n",
       "                                                                                                                                                                                                                                                                                       PreceedingContext  \n",
       "3168  ###i can't say that i really enjoy it.###i wish that i did enjoy it more,###but i do it because i have *-1 to *?* not because i want *-2 to *?*.###speakerb8.###i bought a stationary bike,###but i find that if i sit on that seat too long, it hurts.###speakera9.###yeah,###yeah.###speakerb10.  "
      ]
     },
     "execution_count": 28,
     "metadata": {},
     "output_type": "execute_result"
    }
   ],
   "source": [
    "d.loc[d[\"TGrepID\"] == \"55459:18\"][[\"EntireSentence\",\"PreceedingContext\"]]"
   ]
  },
  {
   "cell_type": "code",
   "execution_count": 32,
   "metadata": {},
   "outputs": [
    {
     "data": {
      "text/html": [
       "<div>\n",
       "<style scoped>\n",
       "    .dataframe tbody tr th:only-of-type {\n",
       "        vertical-align: middle;\n",
       "    }\n",
       "\n",
       "    .dataframe tbody tr th {\n",
       "        vertical-align: top;\n",
       "    }\n",
       "\n",
       "    .dataframe thead th {\n",
       "        text-align: right;\n",
       "    }\n",
       "</style>\n",
       "<table border=\"1\" class=\"dataframe\">\n",
       "  <thead>\n",
       "    <tr style=\"text-align: right;\">\n",
       "      <th></th>\n",
       "      <th>EntireSentence</th>\n",
       "      <th>PreceedingContext</th>\n",
       "    </tr>\n",
       "  </thead>\n",
       "  <tbody>\n",
       "    <tr>\n",
       "      <th>4282</th>\n",
       "      <td>and i guess 0 the answer, is, is, * stay flexible because nobody can predict what *t*-1's going *-2 to happen in twenty years.</td>\n",
       "      <td>###and it was really only, uh, acceptable if you were engaged and planning *-1 to get married *-2 in, in the relatively near future.###speakerb98.###uh-huh.###speakera99.###and i certainly know from *-1 talking to my stepdaughter that girls in high school were under a whole lot more pressure nowadays.###speakerb100.###oh, yeah.###it's kind of scary when i think of what *t*-2 will happen in twenty years, you know, when i have kids and they're grown *t*-3 and, uh, just kind of some of the changes that *t*-1 will happen even more *t*-4###so.###speakera101.</td>\n",
       "    </tr>\n",
       "  </tbody>\n",
       "</table>\n",
       "</div>"
      ],
      "text/plain": [
       "                                                                                                                      EntireSentence  \\\n",
       "4282  and i guess 0 the answer, is, is, * stay flexible because nobody can predict what *t*-1's going *-2 to happen in twenty years.   \n",
       "\n",
       "                                                                                                                                                                                                                                                                                                                                                                                                                                                                                                                                                                    PreceedingContext  \n",
       "4282  ###and it was really only, uh, acceptable if you were engaged and planning *-1 to get married *-2 in, in the relatively near future.###speakerb98.###uh-huh.###speakera99.###and i certainly know from *-1 talking to my stepdaughter that girls in high school were under a whole lot more pressure nowadays.###speakerb100.###oh, yeah.###it's kind of scary when i think of what *t*-2 will happen in twenty years, you know, when i have kids and they're grown *t*-3 and, uh, just kind of some of the changes that *t*-1 will happen even more *t*-4###so.###speakera101.  "
      ]
     },
     "execution_count": 32,
     "metadata": {},
     "output_type": "execute_result"
    }
   ],
   "source": [
    "d.loc[d[\"TGrepID\"] == \"75191:67\"][[\"EntireSentence\",\"PreceedingContext\"]]"
   ]
  },
  {
   "cell_type": "code",
   "execution_count": 350,
   "metadata": {},
   "outputs": [
    {
     "data": {
      "text/plain": [
       "828"
      ]
     },
     "execution_count": 350,
     "metadata": {},
     "output_type": "execute_result"
    }
   ],
   "source": []
  },
  {
   "cell_type": "code",
   "execution_count": null,
   "metadata": {},
   "outputs": [],
   "source": []
  },
  {
   "cell_type": "code",
   "execution_count": 347,
   "metadata": {},
   "outputs": [],
   "source": []
  },
  {
   "cell_type": "code",
   "execution_count": null,
   "metadata": {},
   "outputs": [],
   "source": []
  },
  {
   "cell_type": "code",
   "execution_count": 349,
   "metadata": {},
   "outputs": [
    {
     "data": {
      "text/plain": [
       "17"
      ]
     },
     "execution_count": 349,
     "metadata": {},
     "output_type": "execute_result"
    }
   ],
   "source": []
  },
  {
   "cell_type": "code",
   "execution_count": null,
   "metadata": {},
   "outputs": [],
   "source": []
  },
  {
   "cell_type": "code",
   "execution_count": null,
   "metadata": {},
   "outputs": [],
   "source": []
  },
  {
   "cell_type": "code",
   "execution_count": null,
   "metadata": {},
   "outputs": [],
   "source": []
  },
  {
   "cell_type": "code",
   "execution_count": null,
   "metadata": {},
   "outputs": [],
   "source": []
  },
  {
   "cell_type": "code",
   "execution_count": null,
   "metadata": {},
   "outputs": [],
   "source": []
  }
 ],
 "metadata": {
  "kernelspec": {
   "display_name": "Python 3",
   "language": "python",
   "name": "python3"
  },
  "language_info": {
   "codemirror_mode": {
    "name": "ipython",
    "version": 3
   },
   "file_extension": ".py",
   "mimetype": "text/x-python",
   "name": "python",
   "nbconvert_exporter": "python",
   "pygments_lexer": "ipython3",
   "version": "3.8.3"
  }
 },
 "nbformat": 4,
 "nbformat_minor": 4
}
