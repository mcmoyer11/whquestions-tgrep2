{
 "cells": [
  {
   "cell_type": "markdown",
   "metadata": {},
   "source": [
    "# sample generator\n",
    "This notebook is for creating the random sample .txt files for the experiment."
   ]
  },
  {
   "cell_type": "code",
   "execution_count": 1,
   "metadata": {},
   "outputs": [],
   "source": [
    "import pandas as pd\n",
    "import numpy as np"
   ]
  },
  {
   "cell_type": "markdown",
   "metadata": {},
   "source": [
    " ## Contents\n",
    " 1. [Create separate file with contexts](#Create-separate-file-with-contexts)\n",
    " 2. [Create separate file without contexts](#Create-separate-file-without-contexts)\n",
    " 3. [Creating the files for the experiment](#Creating-files-for-the-experiment)\n",
    " 4. [Automate Paraphrase Generator](#Automate-pharaphrase-generator)\n"
   ]
  },
  {
   "cell_type": "code",
   "execution_count": 2,
   "metadata": {},
   "outputs": [],
   "source": [
    "# import the database file from the TGrep2 searching\n",
    "df = pd.read_csv(\"../results/swbd.tab\", sep='\\t', engine='python')"
   ]
  },
  {
   "cell_type": "code",
   "execution_count": 22,
   "metadata": {},
   "outputs": [],
   "source": [
    "# This makes the display show more info\n",
    "pd.set_option('display.max_rows', None)\n",
    "pd.set_option('display.max_colwidth', None)"
   ]
  },
  {
   "cell_type": "markdown",
   "metadata": {},
   "source": [
    "# Creating the files for the experiment"
   ]
  },
  {
   "cell_type": "markdown",
   "metadata": {},
   "source": [
    "## Constrain dataset\n",
    "for experimental mock-up\n",
    "\n",
    "First we have to remove the questions that we don;t want to include:\n",
    "1. non-embedded or root questions\n",
    "2. no degree questions\n",
    "3. no identity questions\n",
    "4. generally only monomorphemic wh-phrases\n",
    "5. only who-, where-, and how-questions"
   ]
  },
  {
   "cell_type": "code",
   "execution_count": 3,
   "metadata": {},
   "outputs": [],
   "source": [
    "df_root = df[df.QuestionType==\"root\"]\n",
    "df_emb = df[df.QuestionType==\"embedded\"]"
   ]
  },
  {
   "cell_type": "code",
   "execution_count": 4,
   "metadata": {},
   "outputs": [],
   "source": [
    "critical = df[(df['QuestionType'] == 'root') # only root questions\n",
    "              & \n",
    "              (df['DegreeQ'] == 'no' ) # no degree questions\n",
    "              &\n",
    "              (df['IdentityQ'] == \"no\") # no identity questions\n",
    "              &\n",
    "              (df['Wh'].isin(['how','How','where','Where','who','Who'])) # just these wh-words\n",
    "              &\n",
    "              (df['WhPhaseType'] == 'monomorphemic') # monomorphic wh only (might get anything not go by degQ)\n",
    "             ]"
   ]
  },
  {
   "cell_type": "code",
   "execution_count": 88,
   "metadata": {},
   "outputs": [
    {
     "data": {
      "text/plain": [
       "19.488074461896453"
      ]
     },
     "execution_count": 88,
     "metadata": {},
     "output_type": "execute_result"
    }
   ],
   "source": [
    "# Percentage of total dataset\n",
    "len(critical)/len(df_root)*100"
   ]
  },
  {
   "cell_type": "markdown",
   "metadata": {},
   "source": [
    "Notes from Judith meeting 11/5:\n",
    "15 how , 10 where, 5 who\n",
    "\n",
    "randomly divide the gru\n",
    "each list should get about 30 judgements\n",
    "\n",
    "but pilot first with 10 items to test different dependent measures\n"
   ]
  },
  {
   "cell_type": "code",
   "execution_count": 87,
   "metadata": {},
   "outputs": [
    {
     "data": {
      "text/html": [
       "<div>\n",
       "<style scoped>\n",
       "    .dataframe tbody tr th:only-of-type {\n",
       "        vertical-align: middle;\n",
       "    }\n",
       "\n",
       "    .dataframe tbody tr th {\n",
       "        vertical-align: top;\n",
       "    }\n",
       "\n",
       "    .dataframe thead th {\n",
       "        text-align: right;\n",
       "    }\n",
       "</style>\n",
       "<table border=\"1\" class=\"dataframe\">\n",
       "  <thead>\n",
       "    <tr style=\"text-align: right;\">\n",
       "      <th></th>\n",
       "      <th>Wh</th>\n",
       "      <th>Sentence</th>\n",
       "    </tr>\n",
       "  </thead>\n",
       "  <tbody>\n",
       "    <tr>\n",
       "      <th>0</th>\n",
       "      <td>how</td>\n",
       "      <td>0.549254</td>\n",
       "    </tr>\n",
       "    <tr>\n",
       "      <th>1</th>\n",
       "      <td>where</td>\n",
       "      <td>0.289552</td>\n",
       "    </tr>\n",
       "    <tr>\n",
       "      <th>2</th>\n",
       "      <td>who</td>\n",
       "      <td>0.161194</td>\n",
       "    </tr>\n",
       "  </tbody>\n",
       "</table>\n",
       "</div>"
      ],
      "text/plain": [
       "      Wh  Sentence\n",
       "0    how  0.549254\n",
       "1  where  0.289552\n",
       "2    who  0.161194"
      ]
     },
     "execution_count": 87,
     "metadata": {},
     "output_type": "execute_result"
    }
   ],
   "source": [
    "critical.pivot_table(index=['Wh'], values=\"Sentence\", aggfunc=len).groupby([\"Wh\"]).Sentence.transform(lambda x: x/len(critical)).reset_index()"
   ]
  },
  {
   "cell_type": "code",
   "execution_count": 8,
   "metadata": {},
   "outputs": [],
   "source": [
    "# iq = df [(df[\"QuestionType\"] == \"root\")\n",
    "#         &\n",
    "#          ()\n",
    "#         ]"
   ]
  },
  {
   "cell_type": "code",
   "execution_count": 7,
   "metadata": {},
   "outputs": [
    {
     "data": {
      "text/plain": [
       "0.11940298507462686"
      ]
     },
     "execution_count": 7,
     "metadata": {},
     "output_type": "execute_result"
    }
   ],
   "source": [
    "40/335"
   ]
  },
  {
   "cell_type": "markdown",
   "metadata": {},
   "source": [
    "should contain about 3 modal in each batch\n",
    "10 lists of 30\n",
    "1 list of 30\n",
    "\n",
    "balance so that there are 3 modals \n",
    "\n",
    "\n",
    "QUESTION PHRASING\n",
    "avoid using 'paraphrase'\n",
    "1. based on the question in red, which of the following does the speaker want to know?\n",
    "2. \"none of the above\"\n",
    "3. ellipsis before the \n",
    "4. practice examples that are fake from the literature clear MS/MA answers....\n",
    "4. get rid of trace\n",
    "\n",
    "should be a way to highlight just the question, and not the entire sentence\n",
    "\"how can you tell where it's going to come down at\"\n",
    "\n",
    "\n",
    "is there a way to reorder the elements of the question to create the paraphrase\n",
    "strip the \"do\" and insert \"that\"\n",
    "\n",
    "\n",
    "rhetorical questions: \"so my family may say that on occasion, who knows\"\n",
    "\n",
    "Piloting\n",
    "10 items that will be repiloted for each different testing \n",
    "\n",
    "vary between subjects the order of the paraphrases\n",
    "sample randomly at the beginning of the experiment what the order is\n",
    "but keep it consistent in the experiment and change between subjects\n",
    "\n",
    "\n",
    "By monday post on proliferate*\n",
    "\n",
    "\n",
    "\n",
    "look at the lab wifi for pre-registration on OSF\n",
    "\n",
    "get R going...."
   ]
  },
  {
   "cell_type": "code",
   "execution_count": 80,
   "metadata": {},
   "outputs": [
    {
     "data": {
      "text/plain": [
       "335"
      ]
     },
     "execution_count": 80,
     "metadata": {},
     "output_type": "execute_result"
    }
   ],
   "source": [
    "len(critical)"
   ]
  },
  {
   "cell_type": "markdown",
   "metadata": {},
   "source": [
    "## Paraphrase Generator\n",
    "this should take as input the entire constrained dataframe from the above section, and then generate the paraphrases\n",
    "\n",
    "For Who questions: Who is a person...? / Who is some person...? / \"Who is every person...\" / \"Who is the person...\""
   ]
  },
  {
   "cell_type": "code",
   "execution_count": 5,
   "metadata": {},
   "outputs": [],
   "source": [
    "# read in df with contexts\n",
    "cntxts = pd.read_csv(\"swbd_contexts.csv\")"
   ]
  },
  {
   "cell_type": "code",
   "execution_count": 6,
   "metadata": {},
   "outputs": [],
   "source": [
    "cntxts = cntxts.drop(columns=\"FollowingContext\")"
   ]
  },
  {
   "cell_type": "code",
   "execution_count": 7,
   "metadata": {},
   "outputs": [],
   "source": [
    "# get the indixes from critical\n",
    "crit_index = critical.Item_ID"
   ]
  },
  {
   "cell_type": "code",
   "execution_count": null,
   "metadata": {},
   "outputs": [],
   "source": []
  },
  {
   "cell_type": "code",
   "execution_count": 8,
   "metadata": {},
   "outputs": [],
   "source": [
    "# subset to the items that are just the ones filtered in the previos section\n",
    "\n",
    "# otherwise, if using the database file with contexts directly in there, then this step\n",
    "# is not necessary\n",
    "df_valid = cntxts[cntxts[\"TGrepID\"].isin(set(crit_index))]"
   ]
  },
  {
   "cell_type": "code",
   "execution_count": 9,
   "metadata": {},
   "outputs": [],
   "source": [
    "who = df_valid[df_valid[\"EntireSentence\"].str.contains(\"Who|who\")]\n",
    "where = df_valid[df_valid[\"EntireSentence\"].str.contains(\"Where|where\")]\n",
    "how = df_valid[df_valid[\"EntireSentence\"].str.contains(\"How|how\")]"
   ]
  },
  {
   "cell_type": "code",
   "execution_count": 64,
   "metadata": {
    "collapsed": true
   },
   "outputs": [
    {
     "data": {
      "text/html": [
       "<div>\n",
       "<style scoped>\n",
       "    .dataframe tbody tr th:only-of-type {\n",
       "        vertical-align: middle;\n",
       "    }\n",
       "\n",
       "    .dataframe tbody tr th {\n",
       "        vertical-align: top;\n",
       "    }\n",
       "\n",
       "    .dataframe thead th {\n",
       "        text-align: right;\n",
       "    }\n",
       "</style>\n",
       "<table border=\"1\" class=\"dataframe\">\n",
       "  <thead>\n",
       "    <tr style=\"text-align: right;\">\n",
       "      <th></th>\n",
       "      <th>TGrepID</th>\n",
       "      <th>EntireSentence</th>\n",
       "      <th>PreceedingContext</th>\n",
       "    </tr>\n",
       "  </thead>\n",
       "  <tbody>\n",
       "    <tr>\n",
       "      <th>95</th>\n",
       "      <td>1721:4</td>\n",
       "      <td>how do you feel *t*-1 about rap music?</td>\n",
       "      <td>###there's such a wide selection,### i think 0...</td>\n",
       "    </tr>\n",
       "    <tr>\n",
       "      <th>189</th>\n",
       "      <td>2936:24</td>\n",
       "      <td>oh, rea-, where *ich*-2 did you go to school i...</td>\n",
       "      <td>###speakerb58.###so, that, uh, you, you became...</td>\n",
       "    </tr>\n",
       "    <tr>\n",
       "      <th>246</th>\n",
       "      <td>4134:4</td>\n",
       "      <td>how did you hear,</td>\n",
       "      <td>###do you work for t i?###speakera90.###no,###...</td>\n",
       "    </tr>\n",
       "    <tr>\n",
       "      <th>247</th>\n",
       "      <td>4140:4</td>\n",
       "      <td>how did i hear about it *t*-1?</td>\n",
       "      <td>###really?###speakera92.###yes.###speakerb93.#...</td>\n",
       "    </tr>\n",
       "    <tr>\n",
       "      <th>256</th>\n",
       "      <td>4270:11</td>\n",
       "      <td>so, and how do you feel about it *t*-1?.</td>\n",
       "      <td>###yeah,###so. i'm, i'm an avid aerobics, uh, ...</td>\n",
       "    </tr>\n",
       "  </tbody>\n",
       "</table>\n",
       "</div>"
      ],
      "text/plain": [
       "     TGrepID                                     EntireSentence  \\\n",
       "95    1721:4             how do you feel *t*-1 about rap music?   \n",
       "189  2936:24  oh, rea-, where *ich*-2 did you go to school i...   \n",
       "246   4134:4                                  how did you hear,   \n",
       "247   4140:4                     how did i hear about it *t*-1?   \n",
       "256  4270:11           so, and how do you feel about it *t*-1?.   \n",
       "\n",
       "                                     PreceedingContext  \n",
       "95   ###there's such a wide selection,### i think 0...  \n",
       "189  ###speakerb58.###so, that, uh, you, you became...  \n",
       "246  ###do you work for t i?###speakera90.###no,###...  \n",
       "247  ###really?###speakera92.###yes.###speakerb93.#...  \n",
       "256  ###yeah,###so. i'm, i'm an avid aerobics, uh, ...  "
      ]
     },
     "execution_count": 64,
     "metadata": {},
     "output_type": "execute_result"
    }
   ],
   "source": [
    "df_valid.head()"
   ]
  },
  {
   "cell_type": "code",
   "execution_count": 10,
   "metadata": {
    "collapsed": true
   },
   "outputs": [
    {
     "name": "stderr",
     "output_type": "stream",
     "text": [
      "<ipython-input-10-a0fe390ba77f>:1: SettingWithCopyWarning: \n",
      "A value is trying to be set on a copy of a slice from a DataFrame.\n",
      "Try using .loc[row_indexer,col_indexer] = value instead\n",
      "\n",
      "See the caveats in the documentation: https://pandas.pydata.org/pandas-docs/stable/user_guide/indexing.html#returning-a-view-versus-a-copy\n",
      "  who[\"AResponse\"] = \"Who is a person...?\"\n",
      "<ipython-input-10-a0fe390ba77f>:2: SettingWithCopyWarning: \n",
      "A value is trying to be set on a copy of a slice from a DataFrame.\n",
      "Try using .loc[row_indexer,col_indexer] = value instead\n",
      "\n",
      "See the caveats in the documentation: https://pandas.pydata.org/pandas-docs/stable/user_guide/indexing.html#returning-a-view-versus-a-copy\n",
      "  who[\"SomeResponse\"] = \"Who is some person...?\"\n",
      "<ipython-input-10-a0fe390ba77f>:3: SettingWithCopyWarning: \n",
      "A value is trying to be set on a copy of a slice from a DataFrame.\n",
      "Try using .loc[row_indexer,col_indexer] = value instead\n",
      "\n",
      "See the caveats in the documentation: https://pandas.pydata.org/pandas-docs/stable/user_guide/indexing.html#returning-a-view-versus-a-copy\n",
      "  who[\"AllResponse\"] = \"Who is every person...?\"\n",
      "<ipython-input-10-a0fe390ba77f>:4: SettingWithCopyWarning: \n",
      "A value is trying to be set on a copy of a slice from a DataFrame.\n",
      "Try using .loc[row_indexer,col_indexer] = value instead\n",
      "\n",
      "See the caveats in the documentation: https://pandas.pydata.org/pandas-docs/stable/user_guide/indexing.html#returning-a-view-versus-a-copy\n",
      "  who[\"TheResponse\"] = \"Who is the person...?\"\n",
      "<ipython-input-10-a0fe390ba77f>:7: SettingWithCopyWarning: \n",
      "A value is trying to be set on a copy of a slice from a DataFrame.\n",
      "Try using .loc[row_indexer,col_indexer] = value instead\n",
      "\n",
      "See the caveats in the documentation: https://pandas.pydata.org/pandas-docs/stable/user_guide/indexing.html#returning-a-view-versus-a-copy\n",
      "  where[\"AResponse\"] = \"What is a place...?\"\n",
      "<ipython-input-10-a0fe390ba77f>:8: SettingWithCopyWarning: \n",
      "A value is trying to be set on a copy of a slice from a DataFrame.\n",
      "Try using .loc[row_indexer,col_indexer] = value instead\n",
      "\n",
      "See the caveats in the documentation: https://pandas.pydata.org/pandas-docs/stable/user_guide/indexing.html#returning-a-view-versus-a-copy\n",
      "  where[\"SomeResponse\"] = \"What is some place...?\"\n",
      "<ipython-input-10-a0fe390ba77f>:9: SettingWithCopyWarning: \n",
      "A value is trying to be set on a copy of a slice from a DataFrame.\n",
      "Try using .loc[row_indexer,col_indexer] = value instead\n",
      "\n",
      "See the caveats in the documentation: https://pandas.pydata.org/pandas-docs/stable/user_guide/indexing.html#returning-a-view-versus-a-copy\n",
      "  where[\"AllResponse\"] = \"What is every place...?\"\n",
      "<ipython-input-10-a0fe390ba77f>:10: SettingWithCopyWarning: \n",
      "A value is trying to be set on a copy of a slice from a DataFrame.\n",
      "Try using .loc[row_indexer,col_indexer] = value instead\n",
      "\n",
      "See the caveats in the documentation: https://pandas.pydata.org/pandas-docs/stable/user_guide/indexing.html#returning-a-view-versus-a-copy\n",
      "  where[\"TheResponse\"] = \"What is the place...?\"\n",
      "<ipython-input-10-a0fe390ba77f>:13: SettingWithCopyWarning: \n",
      "A value is trying to be set on a copy of a slice from a DataFrame.\n",
      "Try using .loc[row_indexer,col_indexer] = value instead\n",
      "\n",
      "See the caveats in the documentation: https://pandas.pydata.org/pandas-docs/stable/user_guide/indexing.html#returning-a-view-versus-a-copy\n",
      "  how[\"AResponse\"] = \"What is a way...?\"\n",
      "<ipython-input-10-a0fe390ba77f>:14: SettingWithCopyWarning: \n",
      "A value is trying to be set on a copy of a slice from a DataFrame.\n",
      "Try using .loc[row_indexer,col_indexer] = value instead\n",
      "\n",
      "See the caveats in the documentation: https://pandas.pydata.org/pandas-docs/stable/user_guide/indexing.html#returning-a-view-versus-a-copy\n",
      "  how[\"SomeResponse\"] = \"What is some way...?\"\n",
      "<ipython-input-10-a0fe390ba77f>:15: SettingWithCopyWarning: \n",
      "A value is trying to be set on a copy of a slice from a DataFrame.\n",
      "Try using .loc[row_indexer,col_indexer] = value instead\n",
      "\n",
      "See the caveats in the documentation: https://pandas.pydata.org/pandas-docs/stable/user_guide/indexing.html#returning-a-view-versus-a-copy\n",
      "  how[\"AllResponse\"] = \"What is every way...?\"\n",
      "<ipython-input-10-a0fe390ba77f>:16: SettingWithCopyWarning: \n",
      "A value is trying to be set on a copy of a slice from a DataFrame.\n",
      "Try using .loc[row_indexer,col_indexer] = value instead\n",
      "\n",
      "See the caveats in the documentation: https://pandas.pydata.org/pandas-docs/stable/user_guide/indexing.html#returning-a-view-versus-a-copy\n",
      "  how[\"TheResponse\"] = \"What is the way...?\"\n"
     ]
    }
   ],
   "source": [
    "who[\"AResponse\"] = \"Who is a person...?\"\n",
    "who[\"SomeResponse\"] = \"Who is some person...?\"\n",
    "who[\"AllResponse\"] = \"Who is every person...?\"\n",
    "who[\"TheResponse\"] = \"Who is the person...?\"\n",
    "\n",
    "\n",
    "where[\"AResponse\"] = \"What is a place...?\"\n",
    "where[\"SomeResponse\"] = \"What is some place...?\"\n",
    "where[\"AllResponse\"] = \"What is every place...?\"\n",
    "where[\"TheResponse\"] = \"What is the place...?\"\n",
    "\n",
    "\n",
    "how[\"AResponse\"] = \"What is a way...?\"\n",
    "how[\"SomeResponse\"] = \"What is some way...?\"\n",
    "how[\"AllResponse\"] = \"What is every way...?\"\n",
    "how[\"TheResponse\"] = \"What is the way...?\""
   ]
  },
  {
   "cell_type": "code",
   "execution_count": 11,
   "metadata": {},
   "outputs": [],
   "source": [
    "df_final = pd.concat([who,where,how])"
   ]
  },
  {
   "cell_type": "markdown",
   "metadata": {},
   "source": [
    "There should be a way to automate that whole thing in one definitieion, but im failing to do that correctly"
   ]
  },
  {
   "cell_type": "code",
   "execution_count": 51,
   "metadata": {},
   "outputs": [],
   "source": [
    "# def paramap(data):\n",
    "#     if data[\"EntireSentence\"].str.contains(\"who|Who\"):\n",
    "#         data[\"AResponse\"] == \"Who is a person?\"\n",
    "#         data[\"SomeResponse\"] == \"Who is some person?\"\n",
    "#         data[\"AllResponse\"] == \"Who is every person?\"\n",
    "#         data[\"TheResponse\"] == \"Who is the person?\"\n",
    "    #         return\n",
    "    #     if df[\"EntireSentence\"].str.contains([\"where|Where\"]):\n",
    "    #         return \"places\"\n",
    "    #     if df[\"EntireSentence\"].str.contains([\"how|How\"]):\n",
    "    #         return \"ways\""
   ]
  },
  {
   "cell_type": "code",
   "execution_count": 49,
   "metadata": {
    "collapsed": true
   },
   "outputs": [
    {
     "ename": "KeyError",
     "evalue": "'EntireSentence'",
     "output_type": "error",
     "traceback": [
      "\u001b[0;31m---------------------------------------------------------------------------\u001b[0m",
      "\u001b[0;31mKeyError\u001b[0m                                  Traceback (most recent call last)",
      "\u001b[0;32m<ipython-input-49-b1f60319b8a2>\u001b[0m in \u001b[0;36m<module>\u001b[0;34m\u001b[0m\n\u001b[0;32m----> 1\u001b[0;31m \u001b[0mdf_para\u001b[0m \u001b[0;34m=\u001b[0m \u001b[0mdf_valid\u001b[0m\u001b[0;34m.\u001b[0m\u001b[0mapply\u001b[0m\u001b[0;34m(\u001b[0m\u001b[0mparamap\u001b[0m\u001b[0;34m)\u001b[0m\u001b[0;34m\u001b[0m\u001b[0;34m\u001b[0m\u001b[0m\n\u001b[0m",
      "\u001b[0;32m~/opt/anaconda3/lib/python3.8/site-packages/pandas/core/frame.py\u001b[0m in \u001b[0;36mapply\u001b[0;34m(self, func, axis, raw, result_type, args, **kwds)\u001b[0m\n\u001b[1;32m   6876\u001b[0m             \u001b[0mkwds\u001b[0m\u001b[0;34m=\u001b[0m\u001b[0mkwds\u001b[0m\u001b[0;34m,\u001b[0m\u001b[0;34m\u001b[0m\u001b[0;34m\u001b[0m\u001b[0m\n\u001b[1;32m   6877\u001b[0m         )\n\u001b[0;32m-> 6878\u001b[0;31m         \u001b[0;32mreturn\u001b[0m \u001b[0mop\u001b[0m\u001b[0;34m.\u001b[0m\u001b[0mget_result\u001b[0m\u001b[0;34m(\u001b[0m\u001b[0;34m)\u001b[0m\u001b[0;34m\u001b[0m\u001b[0;34m\u001b[0m\u001b[0m\n\u001b[0m\u001b[1;32m   6879\u001b[0m \u001b[0;34m\u001b[0m\u001b[0m\n\u001b[1;32m   6880\u001b[0m     \u001b[0;32mdef\u001b[0m \u001b[0mapplymap\u001b[0m\u001b[0;34m(\u001b[0m\u001b[0mself\u001b[0m\u001b[0;34m,\u001b[0m \u001b[0mfunc\u001b[0m\u001b[0;34m)\u001b[0m \u001b[0;34m->\u001b[0m \u001b[0;34m\"DataFrame\"\u001b[0m\u001b[0;34m:\u001b[0m\u001b[0;34m\u001b[0m\u001b[0;34m\u001b[0m\u001b[0m\n",
      "\u001b[0;32m~/opt/anaconda3/lib/python3.8/site-packages/pandas/core/apply.py\u001b[0m in \u001b[0;36mget_result\u001b[0;34m(self)\u001b[0m\n\u001b[1;32m    184\u001b[0m             \u001b[0;32mreturn\u001b[0m \u001b[0mself\u001b[0m\u001b[0;34m.\u001b[0m\u001b[0mapply_raw\u001b[0m\u001b[0;34m(\u001b[0m\u001b[0;34m)\u001b[0m\u001b[0;34m\u001b[0m\u001b[0;34m\u001b[0m\u001b[0m\n\u001b[1;32m    185\u001b[0m \u001b[0;34m\u001b[0m\u001b[0m\n\u001b[0;32m--> 186\u001b[0;31m         \u001b[0;32mreturn\u001b[0m \u001b[0mself\u001b[0m\u001b[0;34m.\u001b[0m\u001b[0mapply_standard\u001b[0m\u001b[0;34m(\u001b[0m\u001b[0;34m)\u001b[0m\u001b[0;34m\u001b[0m\u001b[0;34m\u001b[0m\u001b[0m\n\u001b[0m\u001b[1;32m    187\u001b[0m \u001b[0;34m\u001b[0m\u001b[0m\n\u001b[1;32m    188\u001b[0m     \u001b[0;32mdef\u001b[0m \u001b[0mapply_empty_result\u001b[0m\u001b[0;34m(\u001b[0m\u001b[0mself\u001b[0m\u001b[0;34m)\u001b[0m\u001b[0;34m:\u001b[0m\u001b[0;34m\u001b[0m\u001b[0;34m\u001b[0m\u001b[0m\n",
      "\u001b[0;32m~/opt/anaconda3/lib/python3.8/site-packages/pandas/core/apply.py\u001b[0m in \u001b[0;36mapply_standard\u001b[0;34m(self)\u001b[0m\n\u001b[1;32m    293\u001b[0m \u001b[0;34m\u001b[0m\u001b[0m\n\u001b[1;32m    294\u001b[0m             \u001b[0;32mtry\u001b[0m\u001b[0;34m:\u001b[0m\u001b[0;34m\u001b[0m\u001b[0;34m\u001b[0m\u001b[0m\n\u001b[0;32m--> 295\u001b[0;31m                 result = libreduction.compute_reduction(\n\u001b[0m\u001b[1;32m    296\u001b[0m                     \u001b[0mvalues\u001b[0m\u001b[0;34m,\u001b[0m \u001b[0mself\u001b[0m\u001b[0;34m.\u001b[0m\u001b[0mf\u001b[0m\u001b[0;34m,\u001b[0m \u001b[0maxis\u001b[0m\u001b[0;34m=\u001b[0m\u001b[0mself\u001b[0m\u001b[0;34m.\u001b[0m\u001b[0maxis\u001b[0m\u001b[0;34m,\u001b[0m \u001b[0mdummy\u001b[0m\u001b[0;34m=\u001b[0m\u001b[0mdummy\u001b[0m\u001b[0;34m,\u001b[0m \u001b[0mlabels\u001b[0m\u001b[0;34m=\u001b[0m\u001b[0mlabels\u001b[0m\u001b[0;34m\u001b[0m\u001b[0;34m\u001b[0m\u001b[0m\n\u001b[1;32m    297\u001b[0m                 )\n",
      "\u001b[0;32mpandas/_libs/reduction.pyx\u001b[0m in \u001b[0;36mpandas._libs.reduction.compute_reduction\u001b[0;34m()\u001b[0m\n",
      "\u001b[0;32mpandas/_libs/reduction.pyx\u001b[0m in \u001b[0;36mpandas._libs.reduction.Reducer.get_result\u001b[0;34m()\u001b[0m\n",
      "\u001b[0;32m<ipython-input-47-57d264bc3859>\u001b[0m in \u001b[0;36mparamap\u001b[0;34m(data)\u001b[0m\n\u001b[1;32m      1\u001b[0m \u001b[0;32mdef\u001b[0m \u001b[0mparamap\u001b[0m\u001b[0;34m(\u001b[0m\u001b[0mdata\u001b[0m\u001b[0;34m)\u001b[0m\u001b[0;34m:\u001b[0m\u001b[0;34m\u001b[0m\u001b[0;34m\u001b[0m\u001b[0m\n\u001b[0;32m----> 2\u001b[0;31m     \u001b[0;32mif\u001b[0m \u001b[0mdata\u001b[0m\u001b[0;34m[\u001b[0m\u001b[0;34m\"EntireSentence\"\u001b[0m\u001b[0;34m]\u001b[0m\u001b[0;34m.\u001b[0m\u001b[0mstr\u001b[0m\u001b[0;34m.\u001b[0m\u001b[0mcontains\u001b[0m\u001b[0;34m(\u001b[0m\u001b[0;34m\"who|Who\"\u001b[0m\u001b[0;34m)\u001b[0m\u001b[0;34m:\u001b[0m\u001b[0;34m\u001b[0m\u001b[0;34m\u001b[0m\u001b[0m\n\u001b[0m\u001b[1;32m      3\u001b[0m         \u001b[0mdata\u001b[0m\u001b[0;34m[\u001b[0m\u001b[0;34m\"AResponse\"\u001b[0m\u001b[0;34m]\u001b[0m \u001b[0;34m==\u001b[0m \u001b[0;34m\"Who is a person?\"\u001b[0m\u001b[0;34m\u001b[0m\u001b[0;34m\u001b[0m\u001b[0m\n\u001b[1;32m      4\u001b[0m         \u001b[0mdata\u001b[0m\u001b[0;34m[\u001b[0m\u001b[0;34m\"SomeResponse\"\u001b[0m\u001b[0;34m]\u001b[0m \u001b[0;34m==\u001b[0m \u001b[0;34m\"Who is some person?\"\u001b[0m\u001b[0;34m\u001b[0m\u001b[0;34m\u001b[0m\u001b[0m\n\u001b[1;32m      5\u001b[0m         \u001b[0mdata\u001b[0m\u001b[0;34m[\u001b[0m\u001b[0;34m\"AllResponse\"\u001b[0m\u001b[0;34m]\u001b[0m \u001b[0;34m==\u001b[0m \u001b[0;34m\"Who is every person?\"\u001b[0m\u001b[0;34m\u001b[0m\u001b[0;34m\u001b[0m\u001b[0m\n",
      "\u001b[0;32m~/opt/anaconda3/lib/python3.8/site-packages/pandas/core/series.py\u001b[0m in \u001b[0;36m__getitem__\u001b[0;34m(self, key)\u001b[0m\n\u001b[1;32m    869\u001b[0m         \u001b[0mkey\u001b[0m \u001b[0;34m=\u001b[0m \u001b[0mcom\u001b[0m\u001b[0;34m.\u001b[0m\u001b[0mapply_if_callable\u001b[0m\u001b[0;34m(\u001b[0m\u001b[0mkey\u001b[0m\u001b[0;34m,\u001b[0m \u001b[0mself\u001b[0m\u001b[0;34m)\u001b[0m\u001b[0;34m\u001b[0m\u001b[0;34m\u001b[0m\u001b[0m\n\u001b[1;32m    870\u001b[0m         \u001b[0;32mtry\u001b[0m\u001b[0;34m:\u001b[0m\u001b[0;34m\u001b[0m\u001b[0;34m\u001b[0m\u001b[0m\n\u001b[0;32m--> 871\u001b[0;31m             \u001b[0mresult\u001b[0m \u001b[0;34m=\u001b[0m \u001b[0mself\u001b[0m\u001b[0;34m.\u001b[0m\u001b[0mindex\u001b[0m\u001b[0;34m.\u001b[0m\u001b[0mget_value\u001b[0m\u001b[0;34m(\u001b[0m\u001b[0mself\u001b[0m\u001b[0;34m,\u001b[0m \u001b[0mkey\u001b[0m\u001b[0;34m)\u001b[0m\u001b[0;34m\u001b[0m\u001b[0;34m\u001b[0m\u001b[0m\n\u001b[0m\u001b[1;32m    872\u001b[0m \u001b[0;34m\u001b[0m\u001b[0m\n\u001b[1;32m    873\u001b[0m             \u001b[0;32mif\u001b[0m \u001b[0;32mnot\u001b[0m \u001b[0mis_scalar\u001b[0m\u001b[0;34m(\u001b[0m\u001b[0mresult\u001b[0m\u001b[0;34m)\u001b[0m\u001b[0;34m:\u001b[0m\u001b[0;34m\u001b[0m\u001b[0;34m\u001b[0m\u001b[0m\n",
      "\u001b[0;32m~/opt/anaconda3/lib/python3.8/site-packages/pandas/core/indexes/base.py\u001b[0m in \u001b[0;36mget_value\u001b[0;34m(self, series, key)\u001b[0m\n\u001b[1;32m   4403\u001b[0m         \u001b[0mk\u001b[0m \u001b[0;34m=\u001b[0m \u001b[0mself\u001b[0m\u001b[0;34m.\u001b[0m\u001b[0m_convert_scalar_indexer\u001b[0m\u001b[0;34m(\u001b[0m\u001b[0mk\u001b[0m\u001b[0;34m,\u001b[0m \u001b[0mkind\u001b[0m\u001b[0;34m=\u001b[0m\u001b[0;34m\"getitem\"\u001b[0m\u001b[0;34m)\u001b[0m\u001b[0;34m\u001b[0m\u001b[0;34m\u001b[0m\u001b[0m\n\u001b[1;32m   4404\u001b[0m         \u001b[0;32mtry\u001b[0m\u001b[0;34m:\u001b[0m\u001b[0;34m\u001b[0m\u001b[0;34m\u001b[0m\u001b[0m\n\u001b[0;32m-> 4405\u001b[0;31m             \u001b[0;32mreturn\u001b[0m \u001b[0mself\u001b[0m\u001b[0;34m.\u001b[0m\u001b[0m_engine\u001b[0m\u001b[0;34m.\u001b[0m\u001b[0mget_value\u001b[0m\u001b[0;34m(\u001b[0m\u001b[0ms\u001b[0m\u001b[0;34m,\u001b[0m \u001b[0mk\u001b[0m\u001b[0;34m,\u001b[0m \u001b[0mtz\u001b[0m\u001b[0;34m=\u001b[0m\u001b[0mgetattr\u001b[0m\u001b[0;34m(\u001b[0m\u001b[0mseries\u001b[0m\u001b[0;34m.\u001b[0m\u001b[0mdtype\u001b[0m\u001b[0;34m,\u001b[0m \u001b[0;34m\"tz\"\u001b[0m\u001b[0;34m,\u001b[0m \u001b[0;32mNone\u001b[0m\u001b[0;34m)\u001b[0m\u001b[0;34m)\u001b[0m\u001b[0;34m\u001b[0m\u001b[0;34m\u001b[0m\u001b[0m\n\u001b[0m\u001b[1;32m   4406\u001b[0m         \u001b[0;32mexcept\u001b[0m \u001b[0mKeyError\u001b[0m \u001b[0;32mas\u001b[0m \u001b[0me1\u001b[0m\u001b[0;34m:\u001b[0m\u001b[0;34m\u001b[0m\u001b[0;34m\u001b[0m\u001b[0m\n\u001b[1;32m   4407\u001b[0m             \u001b[0;32mif\u001b[0m \u001b[0mlen\u001b[0m\u001b[0;34m(\u001b[0m\u001b[0mself\u001b[0m\u001b[0;34m)\u001b[0m \u001b[0;34m>\u001b[0m \u001b[0;36m0\u001b[0m \u001b[0;32mand\u001b[0m \u001b[0;34m(\u001b[0m\u001b[0mself\u001b[0m\u001b[0;34m.\u001b[0m\u001b[0mholds_integer\u001b[0m\u001b[0;34m(\u001b[0m\u001b[0;34m)\u001b[0m \u001b[0;32mor\u001b[0m \u001b[0mself\u001b[0m\u001b[0;34m.\u001b[0m\u001b[0mis_boolean\u001b[0m\u001b[0;34m(\u001b[0m\u001b[0;34m)\u001b[0m\u001b[0;34m)\u001b[0m\u001b[0;34m:\u001b[0m\u001b[0;34m\u001b[0m\u001b[0;34m\u001b[0m\u001b[0m\n",
      "\u001b[0;32mpandas/_libs/index.pyx\u001b[0m in \u001b[0;36mpandas._libs.index.IndexEngine.get_value\u001b[0;34m()\u001b[0m\n",
      "\u001b[0;32mpandas/_libs/index.pyx\u001b[0m in \u001b[0;36mpandas._libs.index.IndexEngine.get_value\u001b[0;34m()\u001b[0m\n",
      "\u001b[0;32mpandas/_libs/index.pyx\u001b[0m in \u001b[0;36mpandas._libs.index.IndexEngine.get_loc\u001b[0;34m()\u001b[0m\n",
      "\u001b[0;32mpandas/_libs/index_class_helper.pxi\u001b[0m in \u001b[0;36mpandas._libs.index.Int64Engine._check_type\u001b[0;34m()\u001b[0m\n",
      "\u001b[0;31mKeyError\u001b[0m: 'EntireSentence'"
     ]
    }
   ],
   "source": [
    "# df_para = df_valid.apply(paramap)"
   ]
  },
  {
   "cell_type": "markdown",
   "metadata": {},
   "source": [
    "## Create randomly sampled files"
   ]
  },
  {
   "cell_type": "markdown",
   "metadata": {},
   "source": [
    "## Pilot Samples"
   ]
  },
  {
   "cell_type": "markdown",
   "metadata": {},
   "source": [
    "### Pilot Ex 01"
   ]
  },
  {
   "cell_type": "code",
   "execution_count": 13,
   "metadata": {},
   "outputs": [],
   "source": [
    "pilot = df_final.sample(10, random_state=333)"
   ]
  },
  {
   "cell_type": "code",
   "execution_count": null,
   "metadata": {},
   "outputs": [],
   "source": [
    "# pilot.to_csv(\"../../experiments/clean_corpus/pilot1.txt\",header=True,sep=\"\\t\",index=False)"
   ]
  },
  {
   "cell_type": "markdown",
   "metadata": {},
   "source": [
    "### Pilot Ex 02\n",
    "This design uses sliders rather than radio buttons, and is not a forced choice.\n",
    "\n",
    "Stimuli are the same as Pilot Ex01, but with rhetorical questions replaced."
   ]
  },
  {
   "cell_type": "code",
   "execution_count": 16,
   "metadata": {},
   "outputs": [
    {
     "data": {
      "text/plain": [
       "3582                 how are your kids handling it *t*-1?\n",
       "3511                                     who *t*-1 knows.\n",
       "2178    well how do you think 0 the royals are going *...\n",
       "5928    but, uh, who *t*-1 knows what the future will ...\n",
       "5859    how do you usually find a, a new restaurant *t...\n",
       "2931                        uh, who's the last one *t*-1.\n",
       "7463    oh, g-, where *ich*-3 have i gone *t*-1 that *...\n",
       "2328    you know, how can you help *-1 depending on th...\n",
       "6779               uh, how do you feel about taxes *t*-1?\n",
       "3938                               where do you go *t*-1?\n",
       "Name: EntireSentence, dtype: object"
      ]
     },
     "execution_count": 16,
     "metadata": {},
     "output_type": "execute_result"
    }
   ],
   "source": [
    "# rhetorical questions to remove\n",
    "# 5928, 2328\n",
    "pilot.EntireSentence"
   ]
  },
  {
   "cell_type": "code",
   "execution_count": 23,
   "metadata": {},
   "outputs": [],
   "source": [
    "sample2 = df_final.sample(2, random_state=33)"
   ]
  },
  {
   "cell_type": "code",
   "execution_count": 24,
   "metadata": {},
   "outputs": [
    {
     "data": {
      "text/plain": [
       "5347    ###that's all mexico, i think 0 *t*-1.###speakerb57.###yes,###uh-huh.### and, but it was wonderful.###so we really like those.###and, uh, i guess 0 we just like *-1 to go someplace, someplace entirely different.###we've been to a few places in this country.###we still have a lot 0 *-1 to see *t*-2, though.###speakera58.\n",
       "7270                                                                                                              ###i mean, pretty much it's a white shirt and slacks and shoes and a coat.###speakerb12.###uh-huh.###speakera13.###speakerb14.###uh-huh.###speakera15.###speakerb16.###speakera17.###but, it was very different before.\n",
       "Name: PreceedingContext, dtype: object"
      ]
     },
     "execution_count": 24,
     "metadata": {},
     "output_type": "execute_result"
    }
   ],
   "source": [
    "sample2.PreceedingContext"
   ]
  },
  {
   "cell_type": "code",
   "execution_count": 25,
   "metadata": {},
   "outputs": [
    {
     "data": {
      "text/plain": [
       "5347    where are you from *t*-1 originally?\n",
       "7270                 how do you dress *t*-1?\n",
       "Name: EntireSentence, dtype: object"
      ]
     },
     "execution_count": 25,
     "metadata": {},
     "output_type": "execute_result"
    }
   ],
   "source": [
    "sample2.EntireSentence"
   ]
  },
  {
   "cell_type": "code",
   "execution_count": 32,
   "metadata": {},
   "outputs": [],
   "source": [
    "pilot = pilot.drop([5928,2328], axis=0)"
   ]
  },
  {
   "cell_type": "code",
   "execution_count": 33,
   "metadata": {},
   "outputs": [],
   "source": [
    "pilot2 = pd.concat([pilot, sample2])"
   ]
  },
  {
   "cell_type": "code",
   "execution_count": 34,
   "metadata": {},
   "outputs": [],
   "source": [
    "pilot2.to_csv(\"../../experiments/clean_corpus/pilot2.txt\",header=True,sep=\"\\t\",index=False)"
   ]
  },
  {
   "cell_type": "markdown",
   "metadata": {},
   "source": [
    "### TEST SAMPLE"
   ]
  },
  {
   "cell_type": "markdown",
   "metadata": {},
   "source": [
    "save to csv"
   ]
  },
  {
   "cell_type": "code",
   "execution_count": 69,
   "metadata": {},
   "outputs": [],
   "source": [
    "def generate_stimuli(df):\n",
    "    who = df[df[\"EntireSentence\"]]"
   ]
  },
  {
   "cell_type": "code",
   "execution_count": 261,
   "metadata": {
    "collapsed": true
   },
   "outputs": [
    {
     "data": {
      "text/html": [
       "<div>\n",
       "<style scoped>\n",
       "    .dataframe tbody tr th:only-of-type {\n",
       "        vertical-align: middle;\n",
       "    }\n",
       "\n",
       "    .dataframe tbody tr th {\n",
       "        vertical-align: top;\n",
       "    }\n",
       "\n",
       "    .dataframe thead th {\n",
       "        text-align: right;\n",
       "    }\n",
       "</style>\n",
       "<table border=\"1\" class=\"dataframe\">\n",
       "  <thead>\n",
       "    <tr style=\"text-align: right;\">\n",
       "      <th></th>\n",
       "      <th>TGrepID</th>\n",
       "      <th>EntireSentence</th>\n",
       "      <th>PreceedingContext</th>\n",
       "      <th>BestResponse</th>\n",
       "      <th>AResponse</th>\n",
       "      <th>SomeResponse</th>\n",
       "      <th>AllResponse</th>\n",
       "      <th>TheResponse</th>\n",
       "    </tr>\n",
       "  </thead>\n",
       "  <tbody>\n",
       "    <tr>\n",
       "      <th>7769</th>\n",
       "      <td>137049:4</td>\n",
       "      <td>where's that *t*-1?</td>\n",
       "      <td>###so you have probably a lot of green, and lot of real pretty things.### our, our climate's real dry###speakerb60.###where is that *t*-1?###speakera61.###and you have *-1 to kind of get up into the mountains *-2 to get much of the greenery.### most of, most, most of the land's pretty brown.###you don't have as much of the greenery like you have *?*.###speakerb62.###oh,</td>\n",
       "      <td></td>\n",
       "      <td>What is a way?</td>\n",
       "      <td>What are some of the ways?</td>\n",
       "      <td>What are all of the ways?</td>\n",
       "      <td>What is the way?</td>\n",
       "    </tr>\n",
       "    <tr>\n",
       "      <th>9997</th>\n",
       "      <td>174870:4</td>\n",
       "      <td>where do you work *t*-1?</td>\n",
       "      <td>###and i went through a, a pretty, i don't know, i went through a, standard drug testing thing before i, i was brought *-1 on.###speakerb4.###uh-huh.###speakera5.###i think 0 that's pretty standard.###at least at honeywell it is *?*.###uh, i think 0 it's important * to insure the quality and, and, uh, i don't know, almost the goodness of character. you know that kind of thing.###speakerb6.###yeah.###speakera7.</td>\n",
       "      <td></td>\n",
       "      <td>What is a way?</td>\n",
       "      <td>What are some of the ways?</td>\n",
       "      <td>What are all of the ways?</td>\n",
       "      <td>What is the way?</td>\n",
       "    </tr>\n",
       "    <tr>\n",
       "      <th>3118</th>\n",
       "      <td>54662:4</td>\n",
       "      <td>who's your favorite actress or actor *t*-1?</td>\n",
       "      <td>###you see it for, uh, you know a couple of hours or an hour###and it really,###there's a lot in it when you look at the scenery and the cars, and all the different stuff like that *t*-1, you know.###speakera80.###oh, yeah,###oh.###speakerb81.###speakera82.###yeah.###speakerb83.</td>\n",
       "      <td></td>\n",
       "      <td>What is a way?</td>\n",
       "      <td>What are some of the ways?</td>\n",
       "      <td>What are all of the ways?</td>\n",
       "      <td>What is the way?</td>\n",
       "    </tr>\n",
       "    <tr>\n",
       "      <th>1311</th>\n",
       "      <td>22805:4</td>\n",
       "      <td>how do you feel about them *t*-1, i mean, since you've kind of been close to that.</td>\n",
       "      <td>###and i,###speakera1.###all right.###well, on this subject, i really hadn't had *-1 to deal with *-2 putting someone in there yet,###but my mother's always been administrator of a nursing home###speakerb2.###uh-huh.###speakera3.###so i've always been involved, you know, in one.###speakerb4.</td>\n",
       "      <td></td>\n",
       "      <td>What is a way?</td>\n",
       "      <td>What are some of the ways?</td>\n",
       "      <td>What are all of the ways?</td>\n",
       "      <td>What is the way?</td>\n",
       "    </tr>\n",
       "    <tr>\n",
       "      <th>10007</th>\n",
       "      <td>175042:4</td>\n",
       "      <td>how do you feel about public schools *t*-1?</td>\n",
       "      <td>### they don't, they don't really do that.###so.###speakerb66.###wow.###is it *exp*-1 formal policy that they said 0 they might test?###speakera67.###yeah.###speakera1.###okay,###i'm here.</td>\n",
       "      <td></td>\n",
       "      <td>What is a way?</td>\n",
       "      <td>What are some of the ways?</td>\n",
       "      <td>What are all of the ways?</td>\n",
       "      <td>What is the way?</td>\n",
       "    </tr>\n",
       "    <tr>\n",
       "      <th>8348</th>\n",
       "      <td>149860:4</td>\n",
       "      <td>where do you go *t*-1?</td>\n",
       "      <td>### i, i agree totally.###speakera53.###speakerb54.###um, i mean, this, this, it just seems so, you know, so ridiculous that it was allowed *-1 to happen.###um, i, i'm in college right now,###and.###speakera55.###so am *t*-1 i.###speakerb56.###oh really,</td>\n",
       "      <td></td>\n",
       "      <td>What is a way?</td>\n",
       "      <td>What are some of the ways?</td>\n",
       "      <td>What are all of the ways?</td>\n",
       "      <td>What is the way?</td>\n",
       "    </tr>\n",
       "    <tr>\n",
       "      <th>6892</th>\n",
       "      <td>119975:9</td>\n",
       "      <td>well, how's it going *t*-1?</td>\n",
       "      <td>###and then you iron that on the t shirt,###and you paint around it.###speakera9.###oh, i see.###speakerb10.###so, it's real fun.###i started *-1 doing it as a, um, just something fun 0 * to do *t*-2,###and now i'm selling them###and pretty,###speakera11.</td>\n",
       "      <td></td>\n",
       "      <td>What is a way?</td>\n",
       "      <td>What are some of the ways?</td>\n",
       "      <td>What are all of the ways?</td>\n",
       "      <td>What is the way?</td>\n",
       "    </tr>\n",
       "    <tr>\n",
       "      <th>9953</th>\n",
       "      <td>174186:4</td>\n",
       "      <td>how you doing *t*-1?</td>\n",
       "      <td>###but, uh, boy, i, i feel for you and your husband.###speakerb117.###oh, why is that *t*-1?###speakera118.###well, my, my, uh, two of my, uh,###speakera1.###i'm nevin from sunnyvale, california.###speakerb2.###hi,###this is jim bliss from minneapolis, minnesota.</td>\n",
       "      <td></td>\n",
       "      <td>What is a way?</td>\n",
       "      <td>What are some of the ways?</td>\n",
       "      <td>What are all of the ways?</td>\n",
       "      <td>What is the way?</td>\n",
       "    </tr>\n",
       "    <tr>\n",
       "      <th>4421</th>\n",
       "      <td>77454:4</td>\n",
       "      <td>who would they ask *t*-1?</td>\n",
       "      <td>###speakerb77.###right.###speakera78.###and it was, uh,###you just felt, gee, if i weren't here, how,###speakerb79.###uh-huh###speakera80.### or, or if my husband,###speakerb81.</td>\n",
       "      <td></td>\n",
       "      <td>What is a way?</td>\n",
       "      <td>What are some of the ways?</td>\n",
       "      <td>What are all of the ways?</td>\n",
       "      <td>What is the way?</td>\n",
       "    </tr>\n",
       "    <tr>\n",
       "      <th>6230</th>\n",
       "      <td>107918:7</td>\n",
       "      <td>well how do you dress for work *t*-1?</td>\n",
       "      <td>###why don't you start *t*-1###so you probably have a job 0 you need *-1 to get to *t*-2 pretty soon.###speakerb2.###i'm already on my job###speakera3.###oh, you are *?*,###speakerb4.###so, you, you reached me at my job.###speakera5.###oh, wonderful,</td>\n",
       "      <td></td>\n",
       "      <td>What is a way?</td>\n",
       "      <td>What are some of the ways?</td>\n",
       "      <td>What are all of the ways?</td>\n",
       "      <td>What is the way?</td>\n",
       "    </tr>\n",
       "    <tr>\n",
       "      <th>9920</th>\n",
       "      <td>173703:4</td>\n",
       "      <td>who *t*-1 knows.</td>\n",
       "      <td>###well i think 0, uh, the dr-, the laws on, uh, uh, uh, the first morphine laws were, were like ninety, or nineteen ten or nineteen five, something like that.###speakerb22.###yeah.###so, ei-, eighty years or so.###yeah.###speakera23.###yeah.###speakerb24.###uh, so i, you know,### it's, it *ich*-5's hard * to, i guess, for me to justify what *t*-1 so-, seems like, you know, basically a breach of the first amen-, you know, freedom from, uh, search and seizure, you know, uh, on something that *t*-2 may *rnr*-3 or may not stand as a law, you know, fifty years *ich*-4 from now or even twenty or ten,</td>\n",
       "      <td></td>\n",
       "      <td>What is a way?</td>\n",
       "      <td>What are some of the ways?</td>\n",
       "      <td>What are all of the ways?</td>\n",
       "      <td>What is the way?</td>\n",
       "    </tr>\n",
       "    <tr>\n",
       "      <th>2497</th>\n",
       "      <td>42953:95</td>\n",
       "      <td>and, and, if, if you manage *-1 to get it out and then, you know, what, how can you even afford to, *-5 to think about what, what you're going *-1 to do *t*-3 because you don't know where your kids are *t*-2, at the same time *t*-4.</td>\n",
       "      <td>###where are the kids *t*-1,###what are they doing *t*-2, you know,###where is this person coming in from *t*-3,###speakera197.###yeah.###speakerb198.###speakera199.###right.###speakerb200.###uh, you've got,</td>\n",
       "      <td></td>\n",
       "      <td>What is a way?</td>\n",
       "      <td>What are some of the ways?</td>\n",
       "      <td>What are all of the ways?</td>\n",
       "      <td>What is the way?</td>\n",
       "    </tr>\n",
       "    <tr>\n",
       "      <th>3226</th>\n",
       "      <td>56100:28</td>\n",
       "      <td>and even if it's not environmentally safe, who *t*-1 cares, you know.</td>\n",
       "      <td>###it's just, thing, a part of everyone's consciousness.###speakera97.###uh-huh.###well, the thing about that is though, 0 it's got a,###i mean because it was, i mean it was big, you remember, like in the early seventies and all that.### and, you know, and then it kind of just went out of vogue.###and i, i'm worried that it, it might, you know, it'll, it, the same thing will happen.###it's like, you know, environmentalism was really big for a couple of years###and then people like, well, you know,###i'd ruther, rather spend, you know, fifty cents less on, uh, on, on such and such, you know,</td>\n",
       "      <td></td>\n",
       "      <td>What is a way?</td>\n",
       "      <td>What are some of the ways?</td>\n",
       "      <td>What are all of the ways?</td>\n",
       "      <td>What is the way?</td>\n",
       "    </tr>\n",
       "    <tr>\n",
       "      <th>6873</th>\n",
       "      <td>119708:4</td>\n",
       "      <td>how's, uh,</td>\n",
       "      <td>###where in pennsylvania?###speakerb10.###um, state college,###i go to penn state.###speakera11.###oh, do you,###well, great.###speakerb12.###yep.###speakera13.</td>\n",
       "      <td></td>\n",
       "      <td>What is a way?</td>\n",
       "      <td>What are some of the ways?</td>\n",
       "      <td>What are all of the ways?</td>\n",
       "      <td>What is the way?</td>\n",
       "    </tr>\n",
       "    <tr>\n",
       "      <th>849</th>\n",
       "      <td>14615:4</td>\n",
       "      <td>how'd you find out about this *t*-1?</td>\n",
       "      <td>###speakera11.###yeah,###so. my name is fernando.###speakerb12.###well, my name's mary.###speakera13.###speakerb14.###fernando, glad * to know you.###speakera15.###so, um, do you, well,</td>\n",
       "      <td></td>\n",
       "      <td>What is a way?</td>\n",
       "      <td>What are some of the ways?</td>\n",
       "      <td>What are all of the ways?</td>\n",
       "      <td>What is the way?</td>\n",
       "    </tr>\n",
       "    <tr>\n",
       "      <th>9311</th>\n",
       "      <td>164724:4</td>\n",
       "      <td>how do you like it *t*-1?</td>\n",
       "      <td>###yeah,### we have a lo-, well, we have, uh, dallas morning news which *t*-1 is the big paper in dallas.###speakera19.###uh-huh.###speakerb20.### we read, i read it pretty much from cover to cover.###speakera21.###yeah.###speakerb22.###speakera23.</td>\n",
       "      <td></td>\n",
       "      <td>What is a way?</td>\n",
       "      <td>What are some of the ways?</td>\n",
       "      <td>What are all of the ways?</td>\n",
       "      <td>What is the way?</td>\n",
       "    </tr>\n",
       "    <tr>\n",
       "      <th>6092</th>\n",
       "      <td>105776:24</td>\n",
       "      <td>now, do you, where did you first get your lessons from *t*-1?</td>\n",
       "      <td>###speakerb40.###if you ever start, * be sure and start with a large piece that you can, i mean a large flat plate.###um, that way you can get the feel of,###you're not cramped on these smaller objects.###speakera41.###right,###where you're getting into the delicate work *t*-1.###speakerb42.###that's right.###speakera43.</td>\n",
       "      <td></td>\n",
       "      <td>What is a way?</td>\n",
       "      <td>What are some of the ways?</td>\n",
       "      <td>What are all of the ways?</td>\n",
       "      <td>What is the way?</td>\n",
       "    </tr>\n",
       "    <tr>\n",
       "      <th>8566</th>\n",
       "      <td>153193:4</td>\n",
       "      <td>how does he treat the other people *t*-1?</td>\n",
       "      <td>### this, this cat is a, uh, more like a dog.###speakera9.###oh yeah.###speakerb10.###yeah###he's, uh, a one owner.###he likes one boy in the family###and that's about it.###speakera11.###that's odd.</td>\n",
       "      <td></td>\n",
       "      <td>What is a way?</td>\n",
       "      <td>What are some of the ways?</td>\n",
       "      <td>What are all of the ways?</td>\n",
       "      <td>What is the way?</td>\n",
       "    </tr>\n",
       "    <tr>\n",
       "      <th>5018</th>\n",
       "      <td>87827:4</td>\n",
       "      <td>how do you mean *t*-1?</td>\n",
       "      <td>###oh, did you?###speakerb12.###actually i saw it twice because i liked it so much.###speakera13.###oh.###see that's also on my list.###speakerb14.###and it's very, it's really disturbing but a good movie.###speakera15.###a disturbing movie,</td>\n",
       "      <td></td>\n",
       "      <td>What is a way?</td>\n",
       "      <td>What are some of the ways?</td>\n",
       "      <td>What are all of the ways?</td>\n",
       "      <td>What is the way?</td>\n",
       "    </tr>\n",
       "    <tr>\n",
       "      <th>1426</th>\n",
       "      <td>24955:16</td>\n",
       "      <td>who, who *t*-1's supposed *-2 to make the change,</td>\n",
       "      <td>###and she's got four kids.###a kid in,###her first grader,###i don't see where she's going *-1 to have much time for them *t*-2.###so, i don't know.###it's just like,###speakerb54.###i guess 0 you just have *-1 to wonder,###is it up to the,###is it, you know,</td>\n",
       "      <td></td>\n",
       "      <td>What is a way?</td>\n",
       "      <td>What are some of the ways?</td>\n",
       "      <td>What are all of the ways?</td>\n",
       "      <td>What is the way?</td>\n",
       "    </tr>\n",
       "    <tr>\n",
       "      <th>2505</th>\n",
       "      <td>43080:4</td>\n",
       "      <td>how did you get rid *-1 of them *t*-2?</td>\n",
       "      <td>###speakerb16.###it was like you'd go out in the yard *-1 to water something,###you'd just be standing *-1 still.###speakera17.###uh-huh.###speakerb18.###and the ants would start *-1 crawling up your legs.###it's like, i'm not standing in a mound, though.###speakera19.###oh, wow.</td>\n",
       "      <td></td>\n",
       "      <td>What is a way?</td>\n",
       "      <td>What are some of the ways?</td>\n",
       "      <td>What are all of the ways?</td>\n",
       "      <td>What is the way?</td>\n",
       "    </tr>\n",
       "    <tr>\n",
       "      <th>8504</th>\n",
       "      <td>152366:16</td>\n",
       "      <td>how, how does, uh, university of new hampshire handle it *t*-1?</td>\n",
       "      <td>###right.###speakera49.###but i'll tell you, 0 i, i don't mind *-1 having dental, you know,###sometimes dental costs can be, um, just about as expensive, if not more,###and i know 0 historically a lot of companies i think carried dental as a rider along with the medical###speakerb50.###uh-huh.###speakera51.###but i'm not sure 0 that's, that's widely followed *-1 any more.###i'm not sure,</td>\n",
       "      <td></td>\n",
       "      <td>What is a way?</td>\n",
       "      <td>What are some of the ways?</td>\n",
       "      <td>What are all of the ways?</td>\n",
       "      <td>What is the way?</td>\n",
       "    </tr>\n",
       "    <tr>\n",
       "      <th>1240</th>\n",
       "      <td>21725:6</td>\n",
       "      <td>and where do you go *t*-1?</td>\n",
       "      <td>###speakera32.###oh, yeah,###yeah,###yeah.###speakerb33.###in the summer or like in the easter time, like around now?###speakera34.###no,###usually in the summer time.###speakerb35.</td>\n",
       "      <td></td>\n",
       "      <td>What is a way?</td>\n",
       "      <td>What are some of the ways?</td>\n",
       "      <td>What are all of the ways?</td>\n",
       "      <td>What is the way?</td>\n",
       "    </tr>\n",
       "    <tr>\n",
       "      <th>9533</th>\n",
       "      <td>168089:7</td>\n",
       "      <td>now where does the source light go *t*-1?</td>\n",
       "      <td>###what they do *t*-1, they do several different types of things.###sometimes they put a source light###and they look at the source light###and then as the car goes by, you can see the exhaust pipe and the source light behind it###and you can look at the emissions actually.###speakerb31.###huh.###speakera32.###and...###speakerb33.</td>\n",
       "      <td></td>\n",
       "      <td>What is a way?</td>\n",
       "      <td>What are some of the ways?</td>\n",
       "      <td>What are all of the ways?</td>\n",
       "      <td>What is the way?</td>\n",
       "    </tr>\n",
       "    <tr>\n",
       "      <th>7974</th>\n",
       "      <td>142067:4</td>\n",
       "      <td>where do you play golf *t*-1 in this area?</td>\n",
       "      <td>###okay, uh,###what kind of hobbies do you have *t*-1 lori?###speakerb2.###uh, i guess, 0 i, uh, i like *-1 to play golf.###speakera3.###uh-huh.###speakerb4.###and, uh, i also like *-1 to plant flowers and do do some gardening and do arts and crafts.###speakera5.###uh-huh.</td>\n",
       "      <td></td>\n",
       "      <td>What is a way?</td>\n",
       "      <td>What are some of the ways?</td>\n",
       "      <td>What are all of the ways?</td>\n",
       "      <td>What is the way?</td>\n",
       "    </tr>\n",
       "    <tr>\n",
       "      <th>1034</th>\n",
       "      <td>18367:4</td>\n",
       "      <td>how do you put trees in there *t*-1?</td>\n",
       "      <td>###golly.###speakerb38.###but, uh,###speakera39.### is it, is it limestone under, underneath?###speakerb40.###yeah,###it is *?*.### it's, it's solid limestone.###speakera41.</td>\n",
       "      <td></td>\n",
       "      <td>What is a way?</td>\n",
       "      <td>What are some of the ways?</td>\n",
       "      <td>What are all of the ways?</td>\n",
       "      <td>What is the way?</td>\n",
       "    </tr>\n",
       "    <tr>\n",
       "      <th>7641</th>\n",
       "      <td>133926:4</td>\n",
       "      <td>how do you get your main source of current events *t*-1?</td>\n",
       "      <td>###and * start right there.###speakerb104.###speakera105.###do you seem *-1 to get it straighter,###is that the advantage,###or what's the,###speakerb106.###well, you, you,###speakerb1.### what, what,</td>\n",
       "      <td></td>\n",
       "      <td>What is a way?</td>\n",
       "      <td>What are some of the ways?</td>\n",
       "      <td>What are all of the ways?</td>\n",
       "      <td>What is the way?</td>\n",
       "    </tr>\n",
       "    <tr>\n",
       "      <th>4136</th>\n",
       "      <td>72731:16</td>\n",
       "      <td>how, how do you look at * counting credit cards *t*-1?</td>\n",
       "      <td>###speakera29.###yeah.###but other than that, uh, i, i guess 0 over the years * tried *-1 to avoid the national credit card syndrome, of * just putting everything on there day after day after day###speakerb30.###uh-huh.###speakera31.###and then, then you really get socked *-1 to it, if you don't watch it.###speakerb32.###yeah.###speakera33.</td>\n",
       "      <td></td>\n",
       "      <td>What is a way?</td>\n",
       "      <td>What are some of the ways?</td>\n",
       "      <td>What are all of the ways?</td>\n",
       "      <td>What is the way?</td>\n",
       "    </tr>\n",
       "    <tr>\n",
       "      <th>8061</th>\n",
       "      <td>144081:90</td>\n",
       "      <td>because i, you know, if somebody has been convicted *-1 and has been sentenced *-1 *-1 to be put *-2 to death, how is it that they can appeal and appeal and appeal and get stays of ex-, execution *t*-3?</td>\n",
       "      <td>###it's,###speakerb39.###as far as capital punishment, i think that, uh, ten years on death row is cruel and unusual punishment.###i think 0 the guy should have ninety days###and if he can't produce evidence not argument, but evidence,###speakera40.###uh-huh.###speakerb41.###speakera42.###see, the only thing 0 i don't, you know, i don't understand *t*-1, i guess 0 i, i don't understand our judicial system, uh, as it is right now</td>\n",
       "      <td></td>\n",
       "      <td>What is a way?</td>\n",
       "      <td>What are some of the ways?</td>\n",
       "      <td>What are all of the ways?</td>\n",
       "      <td>What is the way?</td>\n",
       "    </tr>\n",
       "    <tr>\n",
       "      <th>1406</th>\n",
       "      <td>24572:42</td>\n",
       "      <td>how'd, how did they, how do they pick their people *t*-1?</td>\n",
       "      <td>###but then, you know, it's kind of like a, a lottery.###somebody in their lifetime may win millions of dollars where another person doesn't win anything, and tries and tries and tries *t*-1. you know.###speakera23.###yeah.###speakerb24.###speakera25.###well, i ha-, i know that, for instance, in the n c double a, they drug test###and it's not random.###speakerb26.###oh, i see.</td>\n",
       "      <td></td>\n",
       "      <td>What is a way?</td>\n",
       "      <td>What are some of the ways?</td>\n",
       "      <td>What are all of the ways?</td>\n",
       "      <td>What is the way?</td>\n",
       "    </tr>\n",
       "  </tbody>\n",
       "</table>\n",
       "</div>"
      ],
      "text/plain": [
       "         TGrepID  \\\n",
       "7769    137049:4   \n",
       "9997    174870:4   \n",
       "3118     54662:4   \n",
       "1311     22805:4   \n",
       "10007   175042:4   \n",
       "8348    149860:4   \n",
       "6892    119975:9   \n",
       "9953    174186:4   \n",
       "4421     77454:4   \n",
       "6230    107918:7   \n",
       "9920    173703:4   \n",
       "2497    42953:95   \n",
       "3226    56100:28   \n",
       "6873    119708:4   \n",
       "849      14615:4   \n",
       "9311    164724:4   \n",
       "6092   105776:24   \n",
       "8566    153193:4   \n",
       "5018     87827:4   \n",
       "1426    24955:16   \n",
       "2505     43080:4   \n",
       "8504   152366:16   \n",
       "1240     21725:6   \n",
       "9533    168089:7   \n",
       "7974    142067:4   \n",
       "1034     18367:4   \n",
       "7641    133926:4   \n",
       "4136    72731:16   \n",
       "8061   144081:90   \n",
       "1406    24572:42   \n",
       "\n",
       "                                                                                                                                                                                                                                 EntireSentence  \\\n",
       "7769                                                                                                                                                                                                                        where's that *t*-1?   \n",
       "9997                                                                                                                                                                                                                   where do you work *t*-1?   \n",
       "3118                                                                                                                                                                                                who's your favorite actress or actor *t*-1?   \n",
       "1311                                                                                                                                                         how do you feel about them *t*-1, i mean, since you've kind of been close to that.   \n",
       "10007                                                                                                                                                                                               how do you feel about public schools *t*-1?   \n",
       "8348                                                                                                                                                                                                                     where do you go *t*-1?   \n",
       "6892                                                                                                                                                                                                                well, how's it going *t*-1?   \n",
       "9953                                                                                                                                                                                                                       how you doing *t*-1?   \n",
       "4421                                                                                                                                                                                                                  who would they ask *t*-1?   \n",
       "6230                                                                                                                                                                                                      well how do you dress for work *t*-1?   \n",
       "9920                                                                                                                                                                                                                           who *t*-1 knows.   \n",
       "2497   and, and, if, if you manage *-1 to get it out and then, you know, what, how can you even afford to, *-5 to think about what, what you're going *-1 to do *t*-3 because you don't know where your kids are *t*-2, at the same time *t*-4.   \n",
       "3226                                                                                                                                                                      and even if it's not environmentally safe, who *t*-1 cares, you know.   \n",
       "6873                                                                                                                                                                                                                                 how's, uh,   \n",
       "849                                                                                                                                                                                                        how'd you find out about this *t*-1?   \n",
       "9311                                                                                                                                                                                                                  how do you like it *t*-1?   \n",
       "6092                                                                                                                                                                              now, do you, where did you first get your lessons from *t*-1?   \n",
       "8566                                                                                                                                                                                                  how does he treat the other people *t*-1?   \n",
       "5018                                                                                                                                                                                                                     how do you mean *t*-1?   \n",
       "1426                                                                                                                                                                                          who, who *t*-1's supposed *-2 to make the change,   \n",
       "2505                                                                                                                                                                                                     how did you get rid *-1 of them *t*-2?   \n",
       "8504                                                                                                                                                                            how, how does, uh, university of new hampshire handle it *t*-1?   \n",
       "1240                                                                                                                                                                                                                 and where do you go *t*-1?   \n",
       "9533                                                                                                                                                                                                  now where does the source light go *t*-1?   \n",
       "7974                                                                                                                                                                                                 where do you play golf *t*-1 in this area?   \n",
       "1034                                                                                                                                                                                                       how do you put trees in there *t*-1?   \n",
       "7641                                                                                                                                                                                   how do you get your main source of current events *t*-1?   \n",
       "4136                                                                                                                                                                                     how, how do you look at * counting credit cards *t*-1?   \n",
       "8061                                 because i, you know, if somebody has been convicted *-1 and has been sentenced *-1 *-1 to be put *-2 to death, how is it that they can appeal and appeal and appeal and get stays of ex-, execution *t*-3?   \n",
       "1406                                                                                                                                                                                  how'd, how did they, how do they pick their people *t*-1?   \n",
       "\n",
       "                                                                                                                                                                                                                                                                                                                                                                                                                                                                                                                                                                                                                PreceedingContext  \\\n",
       "7769                                                                                                                                                                                                                                         ###so you have probably a lot of green, and lot of real pretty things.### our, our climate's real dry###speakerb60.###where is that *t*-1?###speakera61.###and you have *-1 to kind of get up into the mountains *-2 to get much of the greenery.### most of, most, most of the land's pretty brown.###you don't have as much of the greenery like you have *?*.###speakerb62.###oh,   \n",
       "9997                                                                                                                                                                                                ###and i went through a, a pretty, i don't know, i went through a, standard drug testing thing before i, i was brought *-1 on.###speakerb4.###uh-huh.###speakera5.###i think 0 that's pretty standard.###at least at honeywell it is *?*.###uh, i think 0 it's important * to insure the quality and, and, uh, i don't know, almost the goodness of character. you know that kind of thing.###speakerb6.###yeah.###speakera7.   \n",
       "3118                                                                                                                                                                                                                                                                                                                                      ###you see it for, uh, you know a couple of hours or an hour###and it really,###there's a lot in it when you look at the scenery and the cars, and all the different stuff like that *t*-1, you know.###speakera80.###oh, yeah,###oh.###speakerb81.###speakera82.###yeah.###speakerb83.   \n",
       "1311                                                                                                                                                                                                                                                                                                                         ###and i,###speakera1.###all right.###well, on this subject, i really hadn't had *-1 to deal with *-2 putting someone in there yet,###but my mother's always been administrator of a nursing home###speakerb2.###uh-huh.###speakera3.###so i've always been involved, you know, in one.###speakerb4.   \n",
       "10007                                                                                                                                                                                                                                                                                                                                                                                                                                ### they don't, they don't really do that.###so.###speakerb66.###wow.###is it *exp*-1 formal policy that they said 0 they might test?###speakera67.###yeah.###speakera1.###okay,###i'm here.   \n",
       "8348                                                                                                                                                                                                                                                                                                                                                               ### i, i agree totally.###speakera53.###speakerb54.###um, i mean, this, this, it just seems so, you know, so ridiculous that it was allowed *-1 to happen.###um, i, i'm in college right now,###and.###speakera55.###so am *t*-1 i.###speakerb56.###oh really,   \n",
       "6892                                                                                                                                                                                                                                                                                                                                                              ###and then you iron that on the t shirt,###and you paint around it.###speakera9.###oh, i see.###speakerb10.###so, it's real fun.###i started *-1 doing it as a, um, just something fun 0 * to do *t*-2,###and now i'm selling them###and pretty,###speakera11.   \n",
       "9953                                                                                                                                                                                                                                                                                                                                                      ###but, uh, boy, i, i feel for you and your husband.###speakerb117.###oh, why is that *t*-1?###speakera118.###well, my, my, uh, two of my, uh,###speakera1.###i'm nevin from sunnyvale, california.###speakerb2.###hi,###this is jim bliss from minneapolis, minnesota.   \n",
       "4421                                                                                                                                                                                                                                                                                                                                                                                                                                            ###speakerb77.###right.###speakera78.###and it was, uh,###you just felt, gee, if i weren't here, how,###speakerb79.###uh-huh###speakera80.### or, or if my husband,###speakerb81.   \n",
       "6230                                                                                                                                                                                                                                                                                                                                                                   ###why don't you start *t*-1###so you probably have a job 0 you need *-1 to get to *t*-2 pretty soon.###speakerb2.###i'm already on my job###speakera3.###oh, you are *?*,###speakerb4.###so, you, you reached me at my job.###speakera5.###oh, wonderful,   \n",
       "9920   ###well i think 0, uh, the dr-, the laws on, uh, uh, uh, the first morphine laws were, were like ninety, or nineteen ten or nineteen five, something like that.###speakerb22.###yeah.###so, ei-, eighty years or so.###yeah.###speakera23.###yeah.###speakerb24.###uh, so i, you know,### it's, it *ich*-5's hard * to, i guess, for me to justify what *t*-1 so-, seems like, you know, basically a breach of the first amen-, you know, freedom from, uh, search and seizure, you know, uh, on something that *t*-2 may *rnr*-3 or may not stand as a law, you know, fifty years *ich*-4 from now or even twenty or ten,   \n",
       "2497                                                                                                                                                                                                                                                                                                                                                                                                              ###where are the kids *t*-1,###what are they doing *t*-2, you know,###where is this person coming in from *t*-3,###speakera197.###yeah.###speakerb198.###speakera199.###right.###speakerb200.###uh, you've got,   \n",
       "3226        ###it's just, thing, a part of everyone's consciousness.###speakera97.###uh-huh.###well, the thing about that is though, 0 it's got a,###i mean because it was, i mean it was big, you remember, like in the early seventies and all that.### and, you know, and then it kind of just went out of vogue.###and i, i'm worried that it, it might, you know, it'll, it, the same thing will happen.###it's like, you know, environmentalism was really big for a couple of years###and then people like, well, you know,###i'd ruther, rather spend, you know, fifty cents less on, uh, on, on such and such, you know,   \n",
       "6873                                                                                                                                                                                                                                                                                                                                                                                                                                                             ###where in pennsylvania?###speakerb10.###um, state college,###i go to penn state.###speakera11.###oh, do you,###well, great.###speakerb12.###yep.###speakera13.   \n",
       "849                                                                                                                                                                                                                                                                                                                                                                                                                                     ###speakera11.###yeah,###so. my name is fernando.###speakerb12.###well, my name's mary.###speakera13.###speakerb14.###fernando, glad * to know you.###speakera15.###so, um, do you, well,   \n",
       "9311                                                                                                                                                                                                                                                                                                                                                                     ###yeah,### we have a lo-, well, we have, uh, dallas morning news which *t*-1 is the big paper in dallas.###speakera19.###uh-huh.###speakerb20.### we read, i read it pretty much from cover to cover.###speakera21.###yeah.###speakerb22.###speakera23.   \n",
       "6092                                                                                                                                                                                                                                                                                           ###speakerb40.###if you ever start, * be sure and start with a large piece that you can, i mean a large flat plate.###um, that way you can get the feel of,###you're not cramped on these smaller objects.###speakera41.###right,###where you're getting into the delicate work *t*-1.###speakerb42.###that's right.###speakera43.   \n",
       "8566                                                                                                                                                                                                                                                                                                                                                                                                                      ### this, this cat is a, uh, more like a dog.###speakera9.###oh yeah.###speakerb10.###yeah###he's, uh, a one owner.###he likes one boy in the family###and that's about it.###speakera11.###that's odd.   \n",
       "5018                                                                                                                                                                                                                                                                                                                                                                            ###oh, did you?###speakerb12.###actually i saw it twice because i liked it so much.###speakera13.###oh.###see that's also on my list.###speakerb14.###and it's very, it's really disturbing but a good movie.###speakera15.###a disturbing movie,   \n",
       "1426                                                                                                                                                                                                                                                                                                                                                         ###and she's got four kids.###a kid in,###her first grader,###i don't see where she's going *-1 to have much time for them *t*-2.###so, i don't know.###it's just like,###speakerb54.###i guess 0 you just have *-1 to wonder,###is it up to the,###is it, you know,   \n",
       "2505                                                                                                                                                                                                                                                                                                                                     ###speakerb16.###it was like you'd go out in the yard *-1 to water something,###you'd just be standing *-1 still.###speakera17.###uh-huh.###speakerb18.###and the ants would start *-1 crawling up your legs.###it's like, i'm not standing in a mound, though.###speakera19.###oh, wow.   \n",
       "8504                                                                                                                                                                                                                       ###right.###speakera49.###but i'll tell you, 0 i, i don't mind *-1 having dental, you know,###sometimes dental costs can be, um, just about as expensive, if not more,###and i know 0 historically a lot of companies i think carried dental as a rider along with the medical###speakerb50.###uh-huh.###speakera51.###but i'm not sure 0 that's, that's widely followed *-1 any more.###i'm not sure,   \n",
       "1240                                                                                                                                                                                                                                                                                                                                                                                                                                        ###speakera32.###oh, yeah,###yeah,###yeah.###speakerb33.###in the summer or like in the easter time, like around now?###speakera34.###no,###usually in the summer time.###speakerb35.   \n",
       "9533                                                                                                                                                                                                                                                                                 ###what they do *t*-1, they do several different types of things.###sometimes they put a source light###and they look at the source light###and then as the car goes by, you can see the exhaust pipe and the source light behind it###and you can look at the emissions actually.###speakerb31.###huh.###speakera32.###and...###speakerb33.   \n",
       "7974                                                                                                                                                                                                                                                                                                                                            ###okay, uh,###what kind of hobbies do you have *t*-1 lori?###speakerb2.###uh, i guess, 0 i, uh, i like *-1 to play golf.###speakera3.###uh-huh.###speakerb4.###and, uh, i also like *-1 to plant flowers and do do some gardening and do arts and crafts.###speakera5.###uh-huh.   \n",
       "1034                                                                                                                                                                                                                                                                                                                                                                                                                                                ###golly.###speakerb38.###but, uh,###speakera39.### is it, is it limestone under, underneath?###speakerb40.###yeah,###it is *?*.### it's, it's solid limestone.###speakera41.   \n",
       "7641                                                                                                                                                                                                                                                                                                                                                                                                                     ###and * start right there.###speakerb104.###speakera105.###do you seem *-1 to get it straighter,###is that the advantage,###or what's the,###speakerb106.###well, you, you,###speakerb1.### what, what,   \n",
       "4136                                                                                                                                                                                                                                                                       ###speakera29.###yeah.###but other than that, uh, i, i guess 0 over the years * tried *-1 to avoid the national credit card syndrome, of * just putting everything on there day after day after day###speakerb30.###uh-huh.###speakera31.###and then, then you really get socked *-1 to it, if you don't watch it.###speakerb32.###yeah.###speakera33.   \n",
       "8061                                                                                                                                                                             ###it's,###speakerb39.###as far as capital punishment, i think that, uh, ten years on death row is cruel and unusual punishment.###i think 0 the guy should have ninety days###and if he can't produce evidence not argument, but evidence,###speakera40.###uh-huh.###speakerb41.###speakera42.###see, the only thing 0 i don't, you know, i don't understand *t*-1, i guess 0 i, i don't understand our judicial system, uh, as it is right now   \n",
       "1406                                                                                                                                                                                                                                  ###but then, you know, it's kind of like a, a lottery.###somebody in their lifetime may win millions of dollars where another person doesn't win anything, and tries and tries and tries *t*-1. you know.###speakera23.###yeah.###speakerb24.###speakera25.###well, i ha-, i know that, for instance, in the n c double a, they drug test###and it's not random.###speakerb26.###oh, i see.   \n",
       "\n",
       "      BestResponse       AResponse                SomeResponse  \\\n",
       "7769                What is a way?  What are some of the ways?   \n",
       "9997                What is a way?  What are some of the ways?   \n",
       "3118                What is a way?  What are some of the ways?   \n",
       "1311                What is a way?  What are some of the ways?   \n",
       "10007               What is a way?  What are some of the ways?   \n",
       "8348                What is a way?  What are some of the ways?   \n",
       "6892                What is a way?  What are some of the ways?   \n",
       "9953                What is a way?  What are some of the ways?   \n",
       "4421                What is a way?  What are some of the ways?   \n",
       "6230                What is a way?  What are some of the ways?   \n",
       "9920                What is a way?  What are some of the ways?   \n",
       "2497                What is a way?  What are some of the ways?   \n",
       "3226                What is a way?  What are some of the ways?   \n",
       "6873                What is a way?  What are some of the ways?   \n",
       "849                 What is a way?  What are some of the ways?   \n",
       "9311                What is a way?  What are some of the ways?   \n",
       "6092                What is a way?  What are some of the ways?   \n",
       "8566                What is a way?  What are some of the ways?   \n",
       "5018                What is a way?  What are some of the ways?   \n",
       "1426                What is a way?  What are some of the ways?   \n",
       "2505                What is a way?  What are some of the ways?   \n",
       "8504                What is a way?  What are some of the ways?   \n",
       "1240                What is a way?  What are some of the ways?   \n",
       "9533                What is a way?  What are some of the ways?   \n",
       "7974                What is a way?  What are some of the ways?   \n",
       "1034                What is a way?  What are some of the ways?   \n",
       "7641                What is a way?  What are some of the ways?   \n",
       "4136                What is a way?  What are some of the ways?   \n",
       "8061                What is a way?  What are some of the ways?   \n",
       "1406                What is a way?  What are some of the ways?   \n",
       "\n",
       "                     AllResponse       TheResponse  \n",
       "7769   What are all of the ways?  What is the way?  \n",
       "9997   What are all of the ways?  What is the way?  \n",
       "3118   What are all of the ways?  What is the way?  \n",
       "1311   What are all of the ways?  What is the way?  \n",
       "10007  What are all of the ways?  What is the way?  \n",
       "8348   What are all of the ways?  What is the way?  \n",
       "6892   What are all of the ways?  What is the way?  \n",
       "9953   What are all of the ways?  What is the way?  \n",
       "4421   What are all of the ways?  What is the way?  \n",
       "6230   What are all of the ways?  What is the way?  \n",
       "9920   What are all of the ways?  What is the way?  \n",
       "2497   What are all of the ways?  What is the way?  \n",
       "3226   What are all of the ways?  What is the way?  \n",
       "6873   What are all of the ways?  What is the way?  \n",
       "849    What are all of the ways?  What is the way?  \n",
       "9311   What are all of the ways?  What is the way?  \n",
       "6092   What are all of the ways?  What is the way?  \n",
       "8566   What are all of the ways?  What is the way?  \n",
       "5018   What are all of the ways?  What is the way?  \n",
       "1426   What are all of the ways?  What is the way?  \n",
       "2505   What are all of the ways?  What is the way?  \n",
       "8504   What are all of the ways?  What is the way?  \n",
       "1240   What are all of the ways?  What is the way?  \n",
       "9533   What are all of the ways?  What is the way?  \n",
       "7974   What are all of the ways?  What is the way?  \n",
       "1034   What are all of the ways?  What is the way?  \n",
       "7641   What are all of the ways?  What is the way?  \n",
       "4136   What are all of the ways?  What is the way?  \n",
       "8061   What are all of the ways?  What is the way?  \n",
       "1406   What are all of the ways?  What is the way?  "
      ]
     },
     "execution_count": 261,
     "metadata": {},
     "output_type": "execute_result"
    }
   ],
   "source": [
    "d.to_csv(\"testfile.txt\",header=True,sep=\"\\t\",index=False)"
   ]
  }
 ],
 "metadata": {
  "kernelspec": {
   "display_name": "Python 3",
   "language": "python",
   "name": "python3"
  },
  "language_info": {
   "codemirror_mode": {
    "name": "ipython",
    "version": 3
   },
   "file_extension": ".py",
   "mimetype": "text/x-python",
   "name": "python",
   "nbconvert_exporter": "python",
   "pygments_lexer": "ipython3",
   "version": "3.8.3"
  }
 },
 "nbformat": 4,
 "nbformat_minor": 4
}
