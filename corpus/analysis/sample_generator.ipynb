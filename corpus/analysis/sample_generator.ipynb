{
 "cells": [
  {
   "cell_type": "markdown",
   "metadata": {},
   "source": [
    "# sample generator\n",
    "This notebook is for creating the random sample .txt files for the experiment."
   ]
  },
  {
   "cell_type": "code",
   "execution_count": 2,
   "metadata": {},
   "outputs": [],
   "source": [
    "import pandas as pd\n",
    "import numpy as np"
   ]
  },
  {
   "cell_type": "markdown",
   "metadata": {},
   "source": [
    " ## Contents\n",
    " 1. [Create separate file with contexts](#Create-separate-file-with-contexts)\n",
    " 2. [Create separate file without contexts](#Create-separate-file-without-contexts)\n",
    " 3. [Creating the files for the experiment](#Creating-files-for-the-experiment)\n",
    " 4. [Automate Paraphrase Generator](#Automate-pharaphrase-generator)\n"
   ]
  },
  {
   "cell_type": "code",
   "execution_count": 3,
   "metadata": {},
   "outputs": [],
   "source": [
    "# import the database file from the TGrep2 searching\n",
    "df = pd.read_csv(\"../results/swbd.tab\", sep='\\t', engine='python')"
   ]
  },
  {
   "cell_type": "code",
   "execution_count": 4,
   "metadata": {},
   "outputs": [],
   "source": [
    "# This makes the display show more info\n",
    "pd.set_option('display.max_rows', None)\n",
    "pd.set_option('display.max_colwidth', None)"
   ]
  },
  {
   "cell_type": "markdown",
   "metadata": {},
   "source": [
    "# Creating the files for the experiment"
   ]
  },
  {
   "cell_type": "markdown",
   "metadata": {},
   "source": [
    "## Constrain dataset\n",
    "for experimental mock-up\n",
    "\n",
    "First we have to remove the questions that we don;t want to include:\n",
    "1. non-embedded or root questions\n",
    "2. no degree questions\n",
    "3. no identity questions\n",
    "4. generally only monomorphemic wh-phrases\n",
    "5. only who-, where-, and how-questions"
   ]
  },
  {
   "cell_type": "code",
   "execution_count": 5,
   "metadata": {},
   "outputs": [],
   "source": [
    "df_root = df[df.QuestionType==\"root\"]\n",
    "df_emb = df[df.QuestionType==\"embedded\"]"
   ]
  },
  {
   "cell_type": "code",
   "execution_count": 6,
   "metadata": {},
   "outputs": [],
   "source": [
    "critical = df[(df['QuestionType'] == 'root') # only root questions\n",
    "              & \n",
    "              (df['DegreeQ'] == 'no' ) # no degree questions\n",
    "              &\n",
    "              (df['IdentityQ'] == \"no\") # no identity questions\n",
    "              &\n",
    "              (df['Wh'].isin(['how','How','where','Where','who','Who'])) # just these wh-words\n",
    "              &\n",
    "              (df['WhPhaseType'] == 'monomorphemic') # monomorphic wh only (might get anything not go by degQ)\n",
    "             ]"
   ]
  },
  {
   "cell_type": "code",
   "execution_count": 10,
   "metadata": {},
   "outputs": [
    {
     "data": {
      "text/plain": [
       "46.44572997352682"
      ]
     },
     "execution_count": 10,
     "metadata": {},
     "output_type": "execute_result"
    }
   ],
   "source": [
    "(len(df_root)+len(df_emb))/len(df)*100"
   ]
  },
  {
   "cell_type": "code",
   "execution_count": 7,
   "metadata": {},
   "outputs": [
    {
     "data": {
      "text/plain": [
       "19.488074461896453"
      ]
     },
     "execution_count": 7,
     "metadata": {},
     "output_type": "execute_result"
    }
   ],
   "source": [
    "# Percentage of total dataset\n",
    "len(critical)/len(df_root)*100"
   ]
  },
  {
   "cell_type": "code",
   "execution_count": 11,
   "metadata": {},
   "outputs": [
    {
     "data": {
      "text/plain": [
       "7.071986489339244"
      ]
     },
     "execution_count": 11,
     "metadata": {},
     "output_type": "execute_result"
    }
   ],
   "source": [
    "len(critical)/(len(df_root)+len(df_emb))*100"
   ]
  },
  {
   "cell_type": "code",
   "execution_count": 14,
   "metadata": {},
   "outputs": [
    {
     "data": {
      "text/plain": [
       "3.2846357486028044"
      ]
     },
     "execution_count": 14,
     "metadata": {},
     "output_type": "execute_result"
    }
   ],
   "source": [
    "len(critical)/len(df)*100"
   ]
  },
  {
   "cell_type": "code",
   "execution_count": 15,
   "metadata": {},
   "outputs": [
    {
     "data": {
      "text/plain": [
       "335"
      ]
     },
     "execution_count": 15,
     "metadata": {},
     "output_type": "execute_result"
    }
   ],
   "source": [
    "len(critical)"
   ]
  },
  {
   "cell_type": "markdown",
   "metadata": {},
   "source": [
    "Notes from Judith meeting 11/5:\n",
    "15 how , 10 where, 5 who\n",
    "\n",
    "randomly divide the gru\n",
    "each list should get about 30 judgements\n",
    "\n",
    "but pilot first with 10 items to test different dependent measures\n"
   ]
  },
  {
   "cell_type": "code",
   "execution_count": 7,
   "metadata": {},
   "outputs": [
    {
     "data": {
      "text/html": [
       "<div>\n",
       "<style scoped>\n",
       "    .dataframe tbody tr th:only-of-type {\n",
       "        vertical-align: middle;\n",
       "    }\n",
       "\n",
       "    .dataframe tbody tr th {\n",
       "        vertical-align: top;\n",
       "    }\n",
       "\n",
       "    .dataframe thead th {\n",
       "        text-align: right;\n",
       "    }\n",
       "</style>\n",
       "<table border=\"1\" class=\"dataframe\">\n",
       "  <thead>\n",
       "    <tr style=\"text-align: right;\">\n",
       "      <th></th>\n",
       "      <th>Wh</th>\n",
       "      <th>Sentence</th>\n",
       "    </tr>\n",
       "  </thead>\n",
       "  <tbody>\n",
       "    <tr>\n",
       "      <th>0</th>\n",
       "      <td>how</td>\n",
       "      <td>0.549254</td>\n",
       "    </tr>\n",
       "    <tr>\n",
       "      <th>1</th>\n",
       "      <td>where</td>\n",
       "      <td>0.289552</td>\n",
       "    </tr>\n",
       "    <tr>\n",
       "      <th>2</th>\n",
       "      <td>who</td>\n",
       "      <td>0.161194</td>\n",
       "    </tr>\n",
       "  </tbody>\n",
       "</table>\n",
       "</div>"
      ],
      "text/plain": [
       "      Wh  Sentence\n",
       "0    how  0.549254\n",
       "1  where  0.289552\n",
       "2    who  0.161194"
      ]
     },
     "execution_count": 7,
     "metadata": {},
     "output_type": "execute_result"
    }
   ],
   "source": [
    "critical.pivot_table(index=['Wh'], values=\"Sentence\", aggfunc=len).groupby([\"Wh\"]).Sentence.transform(lambda x: x/len(critical)).reset_index()"
   ]
  },
  {
   "cell_type": "code",
   "execution_count": 8,
   "metadata": {},
   "outputs": [],
   "source": []
  },
  {
   "cell_type": "code",
   "execution_count": 9,
   "metadata": {},
   "outputs": [
    {
     "data": {
      "text/plain": [
       "0.11940298507462686"
      ]
     },
     "execution_count": 9,
     "metadata": {},
     "output_type": "execute_result"
    }
   ],
   "source": [
    "40/335"
   ]
  },
  {
   "cell_type": "markdown",
   "metadata": {},
   "source": [
    "should contain about 3 modal in each batch\n",
    "10 lists of 30\n",
    "1 list of 30\n",
    "\n",
    "balance so that there are 3 modals \n",
    "\n",
    "\n",
    "QUESTION PHRASING\n",
    "avoid using 'paraphrase'\n",
    "1. based on the question in red, which of the following does the speaker want to know?\n",
    "2. \"none of the above\"\n",
    "3. ellipsis before the \n",
    "4. practice examples that are fake from the literature clear MS/MA answers....\n",
    "4. get rid of trace\n",
    "\n",
    "should be a way to highlight just the question, and not the entire sentence\n",
    "\"how can you tell where it's going to come down at\"\n",
    "\n",
    "\n",
    "is there a way to reorder the elements of the question to create the paraphrase\n",
    "strip the \"do\" and insert \"that\"\n",
    "\n",
    "\n",
    "rhetorical questions: \"so my family may say that on occasion, who knows\"\n",
    "\n",
    "Piloting\n",
    "10 items that will be repiloted for each different testing \n",
    "\n",
    "vary between subjects the order of the paraphrases\n",
    "sample randomly at the beginning of the experiment what the order is\n",
    "but keep it consistent in the experiment and change between subjects\n",
    "\n",
    "\n",
    "By monday post on proliferate*\n",
    "\n",
    "\n",
    "\n",
    "look at the lab wifi for pre-registration on OSF\n",
    "\n",
    "get R going...."
   ]
  },
  {
   "cell_type": "code",
   "execution_count": 10,
   "metadata": {},
   "outputs": [
    {
     "data": {
      "text/plain": [
       "335"
      ]
     },
     "execution_count": 10,
     "metadata": {},
     "output_type": "execute_result"
    }
   ],
   "source": [
    "len(critical)"
   ]
  },
  {
   "cell_type": "markdown",
   "metadata": {},
   "source": [
    "## Paraphrase Generator\n",
    "this should take as input the entire constrained dataframe from the above section, and then generate the paraphrases\n",
    "\n",
    "For Who questions: Who is a person...? / Who is some person...? / \"Who is every person...\" / \"Who is the person...\""
   ]
  },
  {
   "cell_type": "code",
   "execution_count": 11,
   "metadata": {},
   "outputs": [],
   "source": [
    "# read in df with contexts\n",
    "cntxts = pd.read_csv(\"swbd_contexts.csv\")"
   ]
  },
  {
   "cell_type": "code",
   "execution_count": 12,
   "metadata": {},
   "outputs": [],
   "source": [
    "cntxts = cntxts.drop(columns=\"FollowingContext\")"
   ]
  },
  {
   "cell_type": "code",
   "execution_count": 13,
   "metadata": {},
   "outputs": [],
   "source": [
    "# get the indixes from critical\n",
    "crit_index = critical.Item_ID"
   ]
  },
  {
   "cell_type": "code",
   "execution_count": null,
   "metadata": {},
   "outputs": [],
   "source": []
  },
  {
   "cell_type": "code",
   "execution_count": 14,
   "metadata": {},
   "outputs": [],
   "source": [
    "# subset to the items that are just the ones filtered in the previos section\n",
    "\n",
    "# otherwise, if using the database file with contexts directly in there, then this step\n",
    "# is not necessary\n",
    "df_valid = cntxts[cntxts[\"TGrepID\"].isin(set(crit_index))]"
   ]
  },
  {
   "cell_type": "code",
   "execution_count": 15,
   "metadata": {},
   "outputs": [],
   "source": [
    "who = df_valid[df_valid[\"EntireSentence\"].str.contains(\"Who|who\")]\n",
    "where = df_valid[df_valid[\"EntireSentence\"].str.contains(\"Where|where\")]\n",
    "how = df_valid[df_valid[\"EntireSentence\"].str.contains(\"How|how\")]"
   ]
  },
  {
   "cell_type": "code",
   "execution_count": 16,
   "metadata": {},
   "outputs": [
    {
     "data": {
      "text/html": [
       "<div>\n",
       "<style scoped>\n",
       "    .dataframe tbody tr th:only-of-type {\n",
       "        vertical-align: middle;\n",
       "    }\n",
       "\n",
       "    .dataframe tbody tr th {\n",
       "        vertical-align: top;\n",
       "    }\n",
       "\n",
       "    .dataframe thead th {\n",
       "        text-align: right;\n",
       "    }\n",
       "</style>\n",
       "<table border=\"1\" class=\"dataframe\">\n",
       "  <thead>\n",
       "    <tr style=\"text-align: right;\">\n",
       "      <th></th>\n",
       "      <th>TGrepID</th>\n",
       "      <th>EntireSentence</th>\n",
       "      <th>PreceedingContext</th>\n",
       "    </tr>\n",
       "  </thead>\n",
       "  <tbody>\n",
       "    <tr>\n",
       "      <th>95</th>\n",
       "      <td>1721:4</td>\n",
       "      <td>how do you feel *t*-1 about rap music?</td>\n",
       "      <td>###there's such a wide selection,### i think 0 i like a lot, i like a little bit of a lot of different types of music.###you know, i, i, i like music that *t*-1 is, that i feel###if it is performed *-1 correctly or if it's done *-2 right, or if the version is done *-3 right, i like it,###speakera15.###yeah.###speakerb16.###but, if, if it's not *?*, then i won't *?*.### i, i really don't,###speakera17.</td>\n",
       "    </tr>\n",
       "    <tr>\n",
       "      <th>189</th>\n",
       "      <td>2936:24</td>\n",
       "      <td>oh, rea-, where *ich*-2 did you go to school in indiana *t*-1?</td>\n",
       "      <td>###speakerb58.###so, that, uh, you, you became accustomed to it, i guess.###speakera59.###uh-huh.###speakerb60.###but, uh, otherwise w-, as i said, we have had, uh, a relatively mild winter, * speaking for this area of the country.###speakera61.###uh-huh.###speakerb62.###speakera63.</td>\n",
       "    </tr>\n",
       "    <tr>\n",
       "      <th>246</th>\n",
       "      <td>4134:4</td>\n",
       "      <td>how did you hear,</td>\n",
       "      <td>###do you work for t i?###speakera90.###no,###no,###i work for g t e. in maryland,###speakerb91.###really?###speakera92.###yes.###speakerb93.</td>\n",
       "    </tr>\n",
       "    <tr>\n",
       "      <th>247</th>\n",
       "      <td>4140:4</td>\n",
       "      <td>how did i hear about it *t*-1?</td>\n",
       "      <td>###really?###speakera92.###yes.###speakerb93.###how did you hear,###oh we're not even supposed *-1 to be talking about this though, are we *?*?###speakera94.###i guess not.###speakerb95.###speakera96.</td>\n",
       "    </tr>\n",
       "    <tr>\n",
       "      <th>256</th>\n",
       "      <td>4270:11</td>\n",
       "      <td>so, and how do you feel about it *t*-1?.</td>\n",
       "      <td>###yeah,###so. i'm, i'm an avid aerobics, uh, person and just very, very athletic.###speakera9.###uh-huh.###speakerb10.###enjoying a th-, you know, uh, anything dealing with sports.###speakera11.###uh-huh,###uh-huh.###speakerb12.</td>\n",
       "    </tr>\n",
       "  </tbody>\n",
       "</table>\n",
       "</div>"
      ],
      "text/plain": [
       "     TGrepID                                                  EntireSentence  \\\n",
       "95    1721:4                          how do you feel *t*-1 about rap music?   \n",
       "189  2936:24  oh, rea-, where *ich*-2 did you go to school in indiana *t*-1?   \n",
       "246   4134:4                                               how did you hear,   \n",
       "247   4140:4                                  how did i hear about it *t*-1?   \n",
       "256  4270:11                        so, and how do you feel about it *t*-1?.   \n",
       "\n",
       "                                                                                                                                                                                                                                                                                                                                                                                                        PreceedingContext  \n",
       "95   ###there's such a wide selection,### i think 0 i like a lot, i like a little bit of a lot of different types of music.###you know, i, i, i like music that *t*-1 is, that i feel###if it is performed *-1 correctly or if it's done *-2 right, or if the version is done *-3 right, i like it,###speakera15.###yeah.###speakerb16.###but, if, if it's not *?*, then i won't *?*.### i, i really don't,###speakera17.  \n",
       "189                                                                                                                           ###speakerb58.###so, that, uh, you, you became accustomed to it, i guess.###speakera59.###uh-huh.###speakerb60.###but, uh, otherwise w-, as i said, we have had, uh, a relatively mild winter, * speaking for this area of the country.###speakera61.###uh-huh.###speakerb62.###speakera63.  \n",
       "246                                                                                                                                                                                                                                                                         ###do you work for t i?###speakera90.###no,###no,###i work for g t e. in maryland,###speakerb91.###really?###speakera92.###yes.###speakerb93.  \n",
       "247                                                                                                                                                                                                              ###really?###speakera92.###yes.###speakerb93.###how did you hear,###oh we're not even supposed *-1 to be talking about this though, are we *?*?###speakera94.###i guess not.###speakerb95.###speakera96.  \n",
       "256                                                                                                                                                                                 ###yeah,###so. i'm, i'm an avid aerobics, uh, person and just very, very athletic.###speakera9.###uh-huh.###speakerb10.###enjoying a th-, you know, uh, anything dealing with sports.###speakera11.###uh-huh,###uh-huh.###speakerb12.  "
      ]
     },
     "execution_count": 16,
     "metadata": {},
     "output_type": "execute_result"
    }
   ],
   "source": [
    "df_valid.head()"
   ]
  },
  {
   "cell_type": "code",
   "execution_count": 17,
   "metadata": {},
   "outputs": [
    {
     "name": "stderr",
     "output_type": "stream",
     "text": [
      "<ipython-input-17-a0fe390ba77f>:1: SettingWithCopyWarning: \n",
      "A value is trying to be set on a copy of a slice from a DataFrame.\n",
      "Try using .loc[row_indexer,col_indexer] = value instead\n",
      "\n",
      "See the caveats in the documentation: https://pandas.pydata.org/pandas-docs/stable/user_guide/indexing.html#returning-a-view-versus-a-copy\n",
      "  who[\"AResponse\"] = \"Who is a person...?\"\n",
      "<ipython-input-17-a0fe390ba77f>:2: SettingWithCopyWarning: \n",
      "A value is trying to be set on a copy of a slice from a DataFrame.\n",
      "Try using .loc[row_indexer,col_indexer] = value instead\n",
      "\n",
      "See the caveats in the documentation: https://pandas.pydata.org/pandas-docs/stable/user_guide/indexing.html#returning-a-view-versus-a-copy\n",
      "  who[\"SomeResponse\"] = \"Who is some person...?\"\n",
      "<ipython-input-17-a0fe390ba77f>:3: SettingWithCopyWarning: \n",
      "A value is trying to be set on a copy of a slice from a DataFrame.\n",
      "Try using .loc[row_indexer,col_indexer] = value instead\n",
      "\n",
      "See the caveats in the documentation: https://pandas.pydata.org/pandas-docs/stable/user_guide/indexing.html#returning-a-view-versus-a-copy\n",
      "  who[\"AllResponse\"] = \"Who is every person...?\"\n",
      "<ipython-input-17-a0fe390ba77f>:4: SettingWithCopyWarning: \n",
      "A value is trying to be set on a copy of a slice from a DataFrame.\n",
      "Try using .loc[row_indexer,col_indexer] = value instead\n",
      "\n",
      "See the caveats in the documentation: https://pandas.pydata.org/pandas-docs/stable/user_guide/indexing.html#returning-a-view-versus-a-copy\n",
      "  who[\"TheResponse\"] = \"Who is the person...?\"\n",
      "<ipython-input-17-a0fe390ba77f>:7: SettingWithCopyWarning: \n",
      "A value is trying to be set on a copy of a slice from a DataFrame.\n",
      "Try using .loc[row_indexer,col_indexer] = value instead\n",
      "\n",
      "See the caveats in the documentation: https://pandas.pydata.org/pandas-docs/stable/user_guide/indexing.html#returning-a-view-versus-a-copy\n",
      "  where[\"AResponse\"] = \"What is a place...?\"\n",
      "<ipython-input-17-a0fe390ba77f>:8: SettingWithCopyWarning: \n",
      "A value is trying to be set on a copy of a slice from a DataFrame.\n",
      "Try using .loc[row_indexer,col_indexer] = value instead\n",
      "\n",
      "See the caveats in the documentation: https://pandas.pydata.org/pandas-docs/stable/user_guide/indexing.html#returning-a-view-versus-a-copy\n",
      "  where[\"SomeResponse\"] = \"What is some place...?\"\n",
      "<ipython-input-17-a0fe390ba77f>:9: SettingWithCopyWarning: \n",
      "A value is trying to be set on a copy of a slice from a DataFrame.\n",
      "Try using .loc[row_indexer,col_indexer] = value instead\n",
      "\n",
      "See the caveats in the documentation: https://pandas.pydata.org/pandas-docs/stable/user_guide/indexing.html#returning-a-view-versus-a-copy\n",
      "  where[\"AllResponse\"] = \"What is every place...?\"\n",
      "<ipython-input-17-a0fe390ba77f>:10: SettingWithCopyWarning: \n",
      "A value is trying to be set on a copy of a slice from a DataFrame.\n",
      "Try using .loc[row_indexer,col_indexer] = value instead\n",
      "\n",
      "See the caveats in the documentation: https://pandas.pydata.org/pandas-docs/stable/user_guide/indexing.html#returning-a-view-versus-a-copy\n",
      "  where[\"TheResponse\"] = \"What is the place...?\"\n",
      "<ipython-input-17-a0fe390ba77f>:13: SettingWithCopyWarning: \n",
      "A value is trying to be set on a copy of a slice from a DataFrame.\n",
      "Try using .loc[row_indexer,col_indexer] = value instead\n",
      "\n",
      "See the caveats in the documentation: https://pandas.pydata.org/pandas-docs/stable/user_guide/indexing.html#returning-a-view-versus-a-copy\n",
      "  how[\"AResponse\"] = \"What is a way...?\"\n",
      "<ipython-input-17-a0fe390ba77f>:14: SettingWithCopyWarning: \n",
      "A value is trying to be set on a copy of a slice from a DataFrame.\n",
      "Try using .loc[row_indexer,col_indexer] = value instead\n",
      "\n",
      "See the caveats in the documentation: https://pandas.pydata.org/pandas-docs/stable/user_guide/indexing.html#returning-a-view-versus-a-copy\n",
      "  how[\"SomeResponse\"] = \"What is some way...?\"\n",
      "<ipython-input-17-a0fe390ba77f>:15: SettingWithCopyWarning: \n",
      "A value is trying to be set on a copy of a slice from a DataFrame.\n",
      "Try using .loc[row_indexer,col_indexer] = value instead\n",
      "\n",
      "See the caveats in the documentation: https://pandas.pydata.org/pandas-docs/stable/user_guide/indexing.html#returning-a-view-versus-a-copy\n",
      "  how[\"AllResponse\"] = \"What is every way...?\"\n",
      "<ipython-input-17-a0fe390ba77f>:16: SettingWithCopyWarning: \n",
      "A value is trying to be set on a copy of a slice from a DataFrame.\n",
      "Try using .loc[row_indexer,col_indexer] = value instead\n",
      "\n",
      "See the caveats in the documentation: https://pandas.pydata.org/pandas-docs/stable/user_guide/indexing.html#returning-a-view-versus-a-copy\n",
      "  how[\"TheResponse\"] = \"What is the way...?\"\n"
     ]
    }
   ],
   "source": [
    "who[\"AResponse\"] = \"Who is a person...?\"\n",
    "who[\"SomeResponse\"] = \"Who is some person...?\"\n",
    "who[\"AllResponse\"] = \"Who is every person...?\"\n",
    "who[\"TheResponse\"] = \"Who is the person...?\"\n",
    "\n",
    "\n",
    "where[\"AResponse\"] = \"What is a place...?\"\n",
    "where[\"SomeResponse\"] = \"What is some place...?\"\n",
    "where[\"AllResponse\"] = \"What is every place...?\"\n",
    "where[\"TheResponse\"] = \"What is the place...?\"\n",
    "\n",
    "\n",
    "how[\"AResponse\"] = \"What is a way...?\"\n",
    "how[\"SomeResponse\"] = \"What is some way...?\"\n",
    "how[\"AllResponse\"] = \"What is every way...?\"\n",
    "how[\"TheResponse\"] = \"What is the way...?\""
   ]
  },
  {
   "cell_type": "code",
   "execution_count": 18,
   "metadata": {},
   "outputs": [],
   "source": [
    "df_final = pd.concat([who,where,how])"
   ]
  },
  {
   "cell_type": "markdown",
   "metadata": {},
   "source": [
    "There should be a way to automate that whole thing in one definitieion, but im failing to do that correctly"
   ]
  },
  {
   "cell_type": "code",
   "execution_count": 19,
   "metadata": {},
   "outputs": [],
   "source": [
    "# def paramap(data):\n",
    "#     if data[\"EntireSentence\"].str.contains(\"who|Who\"):\n",
    "#         data[\"AResponse\"] == \"Who is a person?\"\n",
    "#         data[\"SomeResponse\"] == \"Who is some person?\"\n",
    "#         data[\"AllResponse\"] == \"Who is every person?\"\n",
    "#         data[\"TheResponse\"] == \"Who is the person?\"\n",
    "    #         return\n",
    "    #     if df[\"EntireSentence\"].str.contains([\"where|Where\"]):\n",
    "    #         return \"places\"\n",
    "    #     if df[\"EntireSentence\"].str.contains([\"how|How\"]):\n",
    "    #         return \"ways\""
   ]
  },
  {
   "cell_type": "code",
   "execution_count": 20,
   "metadata": {},
   "outputs": [],
   "source": [
    "# df_para = df_valid.apply(paramap)"
   ]
  },
  {
   "cell_type": "markdown",
   "metadata": {},
   "source": [
    "## Create randomly sampled files"
   ]
  },
  {
   "cell_type": "markdown",
   "metadata": {},
   "source": [
    "## Pilot Samples"
   ]
  },
  {
   "cell_type": "markdown",
   "metadata": {},
   "source": [
    "### Pilot Ex 01"
   ]
  },
  {
   "cell_type": "code",
   "execution_count": 21,
   "metadata": {},
   "outputs": [],
   "source": [
    "pilot = df_final.sample(10, random_state=333)"
   ]
  },
  {
   "cell_type": "code",
   "execution_count": 22,
   "metadata": {},
   "outputs": [],
   "source": [
    "# pilot.to_csv(\"../../experiments/clean_corpus/pilot1.txt\",header=True,sep=\"\\t\",index=False)"
   ]
  },
  {
   "cell_type": "markdown",
   "metadata": {},
   "source": [
    "### Pilot Ex 02\n",
    "This design uses sliders rather than radio buttons, and is not a forced choice.\n",
    "\n",
    "Stimuli are the same as Pilot Ex01, but with rhetorical questions replaced."
   ]
  },
  {
   "cell_type": "code",
   "execution_count": 23,
   "metadata": {},
   "outputs": [
    {
     "data": {
      "text/plain": [
       "3582                                                    how are your kids handling it *t*-1?\n",
       "3511                                                                        who *t*-1 knows.\n",
       "2178                           well how do you think 0 the royals are going *-1 to do *t*-2?\n",
       "5928    but, uh, who *t*-1 knows what the future will hold *t*-2. uh, as far as energy goes,\n",
       "5859                                      how do you usually find a, a new restaurant *t*-1?\n",
       "2931                                                           uh, who's the last one *t*-1.\n",
       "7463                          oh, g-, where *ich*-3 have i gone *t*-1 that *t*-2's anywhere.\n",
       "2328        you know, how can you help *-1 depending on the day care center *t*-2, you know,\n",
       "6779                                                  uh, how do you feel about taxes *t*-1?\n",
       "3938                                                                  where do you go *t*-1?\n",
       "Name: EntireSentence, dtype: object"
      ]
     },
     "execution_count": 23,
     "metadata": {},
     "output_type": "execute_result"
    }
   ],
   "source": [
    "# rhetorical questions to remove\n",
    "# 5928, 2328\n",
    "pilot.EntireSentence"
   ]
  },
  {
   "cell_type": "code",
   "execution_count": 24,
   "metadata": {},
   "outputs": [],
   "source": [
    "sample2 = df_final.sample(2, random_state=33)"
   ]
  },
  {
   "cell_type": "code",
   "execution_count": 25,
   "metadata": {},
   "outputs": [
    {
     "data": {
      "text/plain": [
       "5347    ###that's all mexico, i think 0 *t*-1.###speakerb57.###yes,###uh-huh.### and, but it was wonderful.###so we really like those.###and, uh, i guess 0 we just like *-1 to go someplace, someplace entirely different.###we've been to a few places in this country.###we still have a lot 0 *-1 to see *t*-2, though.###speakera58.\n",
       "7270                                                                                                              ###i mean, pretty much it's a white shirt and slacks and shoes and a coat.###speakerb12.###uh-huh.###speakera13.###speakerb14.###uh-huh.###speakera15.###speakerb16.###speakera17.###but, it was very different before.\n",
       "Name: PreceedingContext, dtype: object"
      ]
     },
     "execution_count": 25,
     "metadata": {},
     "output_type": "execute_result"
    }
   ],
   "source": [
    "sample2.PreceedingContext"
   ]
  },
  {
   "cell_type": "code",
   "execution_count": 26,
   "metadata": {},
   "outputs": [
    {
     "data": {
      "text/plain": [
       "5347    where are you from *t*-1 originally?\n",
       "7270                 how do you dress *t*-1?\n",
       "Name: EntireSentence, dtype: object"
      ]
     },
     "execution_count": 26,
     "metadata": {},
     "output_type": "execute_result"
    }
   ],
   "source": [
    "sample2.EntireSentence"
   ]
  },
  {
   "cell_type": "code",
   "execution_count": 27,
   "metadata": {},
   "outputs": [],
   "source": [
    "pilot = pilot.drop([5928,2328], axis=0)"
   ]
  },
  {
   "cell_type": "code",
   "execution_count": 32,
   "metadata": {},
   "outputs": [],
   "source": [
    "pilot2 = pd.concat([pilot, sample2])"
   ]
  },
  {
   "cell_type": "code",
   "execution_count": 36,
   "metadata": {},
   "outputs": [],
   "source": [
    "# remove the someresponse column\n",
    "pilot2 = pilot2.drop(columns=\"SomeResponse\")"
   ]
  },
  {
   "cell_type": "code",
   "execution_count": 37,
   "metadata": {},
   "outputs": [
    {
     "data": {
      "text/html": [
       "<div>\n",
       "<style scoped>\n",
       "    .dataframe tbody tr th:only-of-type {\n",
       "        vertical-align: middle;\n",
       "    }\n",
       "\n",
       "    .dataframe tbody tr th {\n",
       "        vertical-align: top;\n",
       "    }\n",
       "\n",
       "    .dataframe thead th {\n",
       "        text-align: right;\n",
       "    }\n",
       "</style>\n",
       "<table border=\"1\" class=\"dataframe\">\n",
       "  <thead>\n",
       "    <tr style=\"text-align: right;\">\n",
       "      <th></th>\n",
       "      <th>TGrepID</th>\n",
       "      <th>EntireSentence</th>\n",
       "      <th>PreceedingContext</th>\n",
       "      <th>AResponse</th>\n",
       "      <th>AllResponse</th>\n",
       "      <th>TheResponse</th>\n",
       "    </tr>\n",
       "  </thead>\n",
       "  <tbody>\n",
       "    <tr>\n",
       "      <th>3582</th>\n",
       "      <td>61578:4</td>\n",
       "      <td>how are your kids handling it *t*-1?</td>\n",
       "      <td>###speakera161.###no,### i, i know,###i mean he's always, you know, he really does have a good home.###i think 0 that's what *t*-1 really bothers me the most about it.###speakerb162.###yeah.###speakera163.###you know, it's like,###speakerb164.</td>\n",
       "      <td>What is a way...?</td>\n",
       "      <td>What is every way...?</td>\n",
       "      <td>What is the way...?</td>\n",
       "    </tr>\n",
       "  </tbody>\n",
       "</table>\n",
       "</div>"
      ],
      "text/plain": [
       "      TGrepID                        EntireSentence  \\\n",
       "3582  61578:4  how are your kids handling it *t*-1?   \n",
       "\n",
       "                                                                                                                                                                                                                                        PreceedingContext  \\\n",
       "3582  ###speakera161.###no,### i, i know,###i mean he's always, you know, he really does have a good home.###i think 0 that's what *t*-1 really bothers me the most about it.###speakerb162.###yeah.###speakera163.###you know, it's like,###speakerb164.   \n",
       "\n",
       "              AResponse            AllResponse          TheResponse  \n",
       "3582  What is a way...?  What is every way...?  What is the way...?  "
      ]
     },
     "execution_count": 37,
     "metadata": {},
     "output_type": "execute_result"
    }
   ],
   "source": [
    "pilot2.head(1)"
   ]
  },
  {
   "cell_type": "code",
   "execution_count": 38,
   "metadata": {},
   "outputs": [],
   "source": [
    "pilot2.to_csv(\"../../experiments/clean_corpus/pilot2.txt\",header=True,sep=\"\\t\",index=False)"
   ]
  },
  {
   "cell_type": "markdown",
   "metadata": {},
   "source": [
    "### TEST SAMPLE"
   ]
  },
  {
   "cell_type": "markdown",
   "metadata": {},
   "source": [
    "save to csv"
   ]
  },
  {
   "cell_type": "code",
   "execution_count": 30,
   "metadata": {},
   "outputs": [],
   "source": [
    "def generate_stimuli(df):\n",
    "    who = df[df[\"EntireSentence\"]]"
   ]
  },
  {
   "cell_type": "code",
   "execution_count": 31,
   "metadata": {},
   "outputs": [
    {
     "ename": "NameError",
     "evalue": "name 'd' is not defined",
     "output_type": "error",
     "traceback": [
      "\u001b[0;31m---------------------------------------------------------------------------\u001b[0m",
      "\u001b[0;31mNameError\u001b[0m                                 Traceback (most recent call last)",
      "\u001b[0;32m<ipython-input-31-8c3fb6c13bdb>\u001b[0m in \u001b[0;36m<module>\u001b[0;34m\u001b[0m\n\u001b[0;32m----> 1\u001b[0;31m \u001b[0md\u001b[0m\u001b[0;34m.\u001b[0m\u001b[0mto_csv\u001b[0m\u001b[0;34m(\u001b[0m\u001b[0;34m\"testfile.txt\"\u001b[0m\u001b[0;34m,\u001b[0m\u001b[0mheader\u001b[0m\u001b[0;34m=\u001b[0m\u001b[0;32mTrue\u001b[0m\u001b[0;34m,\u001b[0m\u001b[0msep\u001b[0m\u001b[0;34m=\u001b[0m\u001b[0;34m\"\\t\"\u001b[0m\u001b[0;34m,\u001b[0m\u001b[0mindex\u001b[0m\u001b[0;34m=\u001b[0m\u001b[0;32mFalse\u001b[0m\u001b[0;34m)\u001b[0m\u001b[0;34m\u001b[0m\u001b[0;34m\u001b[0m\u001b[0m\n\u001b[0m",
      "\u001b[0;31mNameError\u001b[0m: name 'd' is not defined"
     ]
    }
   ],
   "source": [
    "d.to_csv(\"testfile.txt\",header=True,sep=\"\\t\",index=False)"
   ]
  }
 ],
 "metadata": {
  "kernelspec": {
   "display_name": "Python 3",
   "language": "python",
   "name": "python3"
  },
  "language_info": {
   "codemirror_mode": {
    "name": "ipython",
    "version": 3
   },
   "file_extension": ".py",
   "mimetype": "text/x-python",
   "name": "python",
   "nbconvert_exporter": "python",
   "pygments_lexer": "ipython3",
   "version": "3.8.3"
  }
 },
 "nbformat": 4,
 "nbformat_minor": 4
}
