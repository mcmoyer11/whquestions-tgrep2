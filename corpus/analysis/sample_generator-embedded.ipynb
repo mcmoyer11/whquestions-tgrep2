{
 "cells": [
  {
   "cell_type": "markdown",
   "metadata": {},
   "source": [
    "# sample generator for embedded questions\n",
    "This notebook is for creating the random sample .txt files for the experiment."
   ]
  },
  {
   "cell_type": "code",
   "execution_count": 1,
   "metadata": {},
   "outputs": [],
   "source": [
    "import pandas as pd\n",
    "import numpy as np"
   ]
  },
  {
   "cell_type": "markdown",
   "metadata": {},
   "source": [
    " # Contents\n",
    " 1. [Constrain the data set to stimuli set](#Constrain-the-dataset-to-stimuli-set)\n",
    " 2. [Figuring out the distribution of factors per list](#Figuring-out-the-distribution-of-factors-per-list)\n",
    " 3. [Figure out how to collapse the matrix verb columns](#Figure-out-how-to-collapse-the-matrix-verb-columns)\n",
    " 4. [Add in the paraphrases](#Add-in-the-paraphrases)\n",
    " 5. [Split EntireSentence on Question](#Split-EntireSentence-on-Question)\n",
    " 6. [Controls](#Controls)\n",
    " 7. [Balancing factors](#Balancing-factors)\n",
    "     1. [Modal Balancing](#Modal-Balancing)\n",
    "     2. [Wh Balancing](#Wh-Balancing)\n",
    "         1. [Who](#Who)\n",
    "         2. [What](#What)\n",
    "         3. [Where](#Where)\n",
    "         4. [When](#When)\n",
    "         5. [How](#How)\n",
    "         6. [Why](#Why)\n",
    " 8. [Generating-random-samples](#Generating-random-samples)\n",
    "     1. [First Iteration](#First-Iteration)\n",
    "     2. [Second Iteration](#Second-Itreation)\n",
    "     3. [Third Iteration](#Third-Iteration)\n",
    "     4. [Fourth Iteration](#Fourth-Iteration)\n",
    "     5. [Fifth Iteration](#Fifth-Iteration)\n",
    "     6. [Sixth Iteration](#Sixth-Iteration)\n",
    "     7. [Final Set](#Final-Set)\n",
    " 9. [Pilot Samples](#Pilot-Samples)"
   ]
  },
  {
   "cell_type": "code",
   "execution_count": 2,
   "metadata": {},
   "outputs": [],
   "source": [
    "# import the database file from the TGrep2 searching\n",
    "df = pd.read_csv(\"../results/swbd.tab\", sep='\\t', engine='python')"
   ]
  },
  {
   "cell_type": "code",
   "execution_count": null,
   "metadata": {
    "scrolled": true
   },
   "outputs": [],
   "source": []
  },
  {
   "cell_type": "code",
   "execution_count": 3,
   "metadata": {},
   "outputs": [],
   "source": [
    "# This makes the display show more info\n",
    "pd.set_option('display.max_rows', None)\n",
    "pd.set_option('display.max_colwidth', None)"
   ]
  },
  {
   "cell_type": "code",
   "execution_count": 4,
   "metadata": {},
   "outputs": [
    {
     "data": {
      "text/html": [
       "<div>\n",
       "<style scoped>\n",
       "    .dataframe tbody tr th:only-of-type {\n",
       "        vertical-align: middle;\n",
       "    }\n",
       "\n",
       "    .dataframe tbody tr th {\n",
       "        vertical-align: top;\n",
       "    }\n",
       "\n",
       "    .dataframe thead th {\n",
       "        text-align: right;\n",
       "    }\n",
       "</style>\n",
       "<table border=\"1\" class=\"dataframe\">\n",
       "  <thead>\n",
       "    <tr style=\"text-align: right;\">\n",
       "      <th></th>\n",
       "      <th>QuestionType</th>\n",
       "      <th>Question</th>\n",
       "    </tr>\n",
       "  </thead>\n",
       "  <tbody>\n",
       "    <tr>\n",
       "      <th>0</th>\n",
       "      <td>adjunct</td>\n",
       "      <td>0.075203</td>\n",
       "    </tr>\n",
       "    <tr>\n",
       "      <th>1</th>\n",
       "      <td>cleft</td>\n",
       "      <td>0.064712</td>\n",
       "    </tr>\n",
       "    <tr>\n",
       "      <th>2</th>\n",
       "      <td>embadjunct</td>\n",
       "      <td>0.236886</td>\n",
       "    </tr>\n",
       "    <tr>\n",
       "      <th>3</th>\n",
       "      <td>embedded</td>\n",
       "      <td>0.160800</td>\n",
       "    </tr>\n",
       "    <tr>\n",
       "      <th>4</th>\n",
       "      <td>fragment</td>\n",
       "      <td>0.067654</td>\n",
       "    </tr>\n",
       "    <tr>\n",
       "      <th>5</th>\n",
       "      <td>relative</td>\n",
       "      <td>0.133150</td>\n",
       "    </tr>\n",
       "    <tr>\n",
       "      <th>6</th>\n",
       "      <td>root</td>\n",
       "      <td>0.124424</td>\n",
       "    </tr>\n",
       "    <tr>\n",
       "      <th>7</th>\n",
       "      <td>subject</td>\n",
       "      <td>0.137072</td>\n",
       "    </tr>\n",
       "  </tbody>\n",
       "</table>\n",
       "</div>"
      ],
      "text/plain": [
       "  QuestionType  Question\n",
       "0      adjunct  0.075203\n",
       "1        cleft  0.064712\n",
       "2   embadjunct  0.236886\n",
       "3     embedded  0.160800\n",
       "4     fragment  0.067654\n",
       "5     relative  0.133150\n",
       "6         root  0.124424\n",
       "7      subject  0.137072"
      ]
     },
     "execution_count": 4,
     "metadata": {},
     "output_type": "execute_result"
    }
   ],
   "source": [
    "df.pivot_table(index=['QuestionType'], values=\"Question\", aggfunc=len).groupby([\"QuestionType\"]).Question.transform(lambda x: x/len(df)).reset_index()"
   ]
  },
  {
   "cell_type": "markdown",
   "metadata": {},
   "source": [
    "# Constrain the dataset to stimuli set\n",
    "for experimental mock-up\n",
    "\n",
    "First we have to remove the questions that we don;t want to include:\n",
    "1. embedded questions only\n",
    "2. no degree questions\n",
    "3. no identity questions\n",
    "4. generally only monomorphemic wh-phrases\n",
    "5. only who-, what-, where-, when-, how-, and why-questions"
   ]
  },
  {
   "cell_type": "code",
   "execution_count": 43,
   "metadata": {},
   "outputs": [],
   "source": [
    "critical = df[(df['QuestionType'] == 'embedded') # only root questions\n",
    "              & \n",
    "              (df['DegreeQ'] == 'no' ) # no degree questions\n",
    "              &\n",
    "              (df['IdentityQ'] == \"no\") # no identity questions\n",
    "              &\n",
    "              (df['WhPhaseType'] == \"monomorphemic\") # no identity questions\n",
    "              &\n",
    "              (df['Wh'].isin(['how','How','where','Where','who','Who','what','What','why','Why','when','When']))] # just these wh-words]"
   ]
  },
  {
   "cell_type": "code",
   "execution_count": 11,
   "metadata": {},
   "outputs": [
    {
     "data": {
      "text/plain": [
       "1073"
      ]
     },
     "execution_count": 11,
     "metadata": {},
     "output_type": "execute_result"
    }
   ],
   "source": [
    "len(critical)"
   ]
  },
  {
   "cell_type": "markdown",
   "metadata": {},
   "source": [
    "### Figuring out how many lists\n",
    "\n",
    "1073/30 = 35.76\n",
    "\n",
    "35 lists x 30 = 1050\n",
    "\n",
    "1073-1050 = 23\n",
    "\n",
    "35 lists of 30, 1 list of 23\n",
    "\n",
    "\n",
    "### Number of participants\n",
    "36 lists x 30 participants per list = 1080 participants"
   ]
  },
  {
   "cell_type": "markdown",
   "metadata": {},
   "source": [
    "# Figure out how to collapse the matrix verb columns - TBD"
   ]
  },
  {
   "cell_type": "code",
   "execution_count": 113,
   "metadata": {},
   "outputs": [],
   "source": [
    "critical = critical.assign(Matrix = critical.MatrixPredVerb.astype(str) + ' ' + \\\n",
    "                critical.MatrixPredOther.astype(str) + ' ' +\\\n",
    "  critical.MatrixPredParticle.astype(str))"
   ]
  },
  {
   "cell_type": "code",
   "execution_count": 114,
   "metadata": {},
   "outputs": [],
   "source": [
    "df['ColumnA'] = df[df.columns[1:]].apply(\n",
    "    lambda x: ','.join(x.dropna().astype(str)),\n",
    "    axis=1)"
   ]
  },
  {
   "cell_type": "code",
   "execution_count": 47,
   "metadata": {},
   "outputs": [],
   "source": [
    "def verb_label(df):\n",
    "    if df[\"MatrixPredVerb\"] != \"NaN\":\n",
    "        df[\"Matrix\"] = df.loc([\"MatrixPredVerb\"])\n",
    "    elif df[\"MatrixPredOther\"] != \"NaN\":\n",
    "        df[\"Matrix\"] = df[\"MatrixPredOther\"]\n",
    "    elif df[\"MatrixPredParticle\"] != \"NaN\":\n",
    "        df[\"Matrix\"] = df[\"MatrixPredParticle\"]"
   ]
  },
  {
   "cell_type": "code",
   "execution_count": 49,
   "metadata": {
    "collapsed": true
   },
   "outputs": [
    {
     "data": {
      "text/plain": [
       "8        False\n",
       "28       False\n",
       "58       False\n",
       "65       False\n",
       "66       False\n",
       "69       False\n",
       "70       False\n",
       "77       False\n",
       "111      False\n",
       "114      False\n",
       "143      False\n",
       "167      False\n",
       "180      False\n",
       "186      False\n",
       "192      False\n",
       "222      False\n",
       "233      False\n",
       "252      False\n",
       "260      False\n",
       "263      False\n",
       "267      False\n",
       "273      False\n",
       "281      False\n",
       "290      False\n",
       "295      False\n",
       "298      False\n",
       "325      False\n",
       "327      False\n",
       "334      False\n",
       "336      False\n",
       "373      False\n",
       "376      False\n",
       "377      False\n",
       "379      False\n",
       "392      False\n",
       "397      False\n",
       "407      False\n",
       "420      False\n",
       "429      False\n",
       "445      False\n",
       "448      False\n",
       "449      False\n",
       "451      False\n",
       "452      False\n",
       "462      False\n",
       "463      False\n",
       "464      False\n",
       "476      False\n",
       "485      False\n",
       "491      False\n",
       "520      False\n",
       "523      False\n",
       "530      False\n",
       "535      False\n",
       "545      False\n",
       "564      False\n",
       "572      False\n",
       "577      False\n",
       "581      False\n",
       "583      False\n",
       "594      False\n",
       "602      False\n",
       "659      False\n",
       "660      False\n",
       "661      False\n",
       "663      False\n",
       "689      False\n",
       "705      False\n",
       "731      False\n",
       "732      False\n",
       "733      False\n",
       "734      False\n",
       "758      False\n",
       "772      False\n",
       "778      False\n",
       "783      False\n",
       "784      False\n",
       "786      False\n",
       "805      False\n",
       "812      False\n",
       "823      False\n",
       "824      False\n",
       "840      False\n",
       "847      False\n",
       "857      False\n",
       "865      False\n",
       "871      False\n",
       "872      False\n",
       "875      False\n",
       "881      False\n",
       "888      False\n",
       "889      False\n",
       "891      False\n",
       "911      False\n",
       "918      False\n",
       "928      False\n",
       "933      False\n",
       "940      False\n",
       "943      False\n",
       "963      False\n",
       "980      False\n",
       "989      False\n",
       "994      False\n",
       "1012     False\n",
       "1039     False\n",
       "1042     False\n",
       "1043     False\n",
       "1054     False\n",
       "1057     False\n",
       "1074     False\n",
       "1079     False\n",
       "1096     False\n",
       "1125     False\n",
       "1133     False\n",
       "1143     False\n",
       "1146     False\n",
       "1197     False\n",
       "1207     False\n",
       "1211     False\n",
       "1214     False\n",
       "1226     False\n",
       "1227     False\n",
       "1258     False\n",
       "1279     False\n",
       "1280     False\n",
       "1281     False\n",
       "1285     False\n",
       "1322     False\n",
       "1327     False\n",
       "1330     False\n",
       "1334     False\n",
       "1339     False\n",
       "1340     False\n",
       "1343     False\n",
       "1350     False\n",
       "1372     False\n",
       "1378     False\n",
       "1379     False\n",
       "1396     False\n",
       "1400     False\n",
       "1403     False\n",
       "1405     False\n",
       "1415     False\n",
       "1422     False\n",
       "1423     False\n",
       "1425     False\n",
       "1449     False\n",
       "1454     False\n",
       "1472     False\n",
       "1473     False\n",
       "1499     False\n",
       "1516     False\n",
       "1522     False\n",
       "1528     False\n",
       "1529     False\n",
       "1530     False\n",
       "1535     False\n",
       "1537     False\n",
       "1538     False\n",
       "1542     False\n",
       "1557     False\n",
       "1561     False\n",
       "1571     False\n",
       "1581     False\n",
       "1592     False\n",
       "1602     False\n",
       "1604     False\n",
       "1608     False\n",
       "1627     False\n",
       "1629     False\n",
       "1630     False\n",
       "1636     False\n",
       "1640     False\n",
       "1667     False\n",
       "1676     False\n",
       "1681     False\n",
       "1688     False\n",
       "1691     False\n",
       "1695     False\n",
       "1715     False\n",
       "1716     False\n",
       "1728     False\n",
       "1748     False\n",
       "1759     False\n",
       "1760     False\n",
       "1762     False\n",
       "1766     False\n",
       "1767     False\n",
       "1777     False\n",
       "1782     False\n",
       "1793     False\n",
       "1794     False\n",
       "1800     False\n",
       "1801     False\n",
       "1805     False\n",
       "1809     False\n",
       "1813     False\n",
       "1814     False\n",
       "1818     False\n",
       "1828     False\n",
       "1832     False\n",
       "1834     False\n",
       "1845     False\n",
       "1846     False\n",
       "1857     False\n",
       "1863     False\n",
       "1866     False\n",
       "1900     False\n",
       "1909     False\n",
       "1912     False\n",
       "1913     False\n",
       "1928     False\n",
       "1933     False\n",
       "1948     False\n",
       "1959     False\n",
       "1963     False\n",
       "1967     False\n",
       "1974     False\n",
       "1976     False\n",
       "1977     False\n",
       "1978     False\n",
       "1984     False\n",
       "1987     False\n",
       "1991     False\n",
       "1994     False\n",
       "1996     False\n",
       "2003     False\n",
       "2022     False\n",
       "2023     False\n",
       "2032     False\n",
       "2033     False\n",
       "2035     False\n",
       "2037     False\n",
       "2045     False\n",
       "2062     False\n",
       "2077     False\n",
       "2081     False\n",
       "2100     False\n",
       "2118     False\n",
       "2121     False\n",
       "2129     False\n",
       "2140     False\n",
       "2180     False\n",
       "2188     False\n",
       "2193     False\n",
       "2214     False\n",
       "2236     False\n",
       "2247     False\n",
       "2255     False\n",
       "2260     False\n",
       "2268     False\n",
       "2277     False\n",
       "2287     False\n",
       "2291     False\n",
       "2308     False\n",
       "2315     False\n",
       "2321     False\n",
       "2338     False\n",
       "2343     False\n",
       "2354     False\n",
       "2355     False\n",
       "2358     False\n",
       "2370     False\n",
       "2385     False\n",
       "2389     False\n",
       "2433     False\n",
       "2448     False\n",
       "2456     False\n",
       "2457     False\n",
       "2463     False\n",
       "2465     False\n",
       "2470     False\n",
       "2488     False\n",
       "2491     False\n",
       "2500     False\n",
       "2509     False\n",
       "2529     False\n",
       "2532     False\n",
       "2558     False\n",
       "2564     False\n",
       "2572     False\n",
       "2578     False\n",
       "2581     False\n",
       "2594     False\n",
       "2595     False\n",
       "2603     False\n",
       "2604     False\n",
       "2606     False\n",
       "2614     False\n",
       "2625     False\n",
       "2626     False\n",
       "2627     False\n",
       "2628     False\n",
       "2634     False\n",
       "2642     False\n",
       "2649     False\n",
       "2650     False\n",
       "2696     False\n",
       "2699     False\n",
       "2714     False\n",
       "2715     False\n",
       "2719     False\n",
       "2723     False\n",
       "2730     False\n",
       "2731     False\n",
       "2737     False\n",
       "2741     False\n",
       "2747     False\n",
       "2761     False\n",
       "2778     False\n",
       "2787     False\n",
       "2792     False\n",
       "2793     False\n",
       "2794     False\n",
       "2797     False\n",
       "2798     False\n",
       "2805     False\n",
       "2809     False\n",
       "2818     False\n",
       "2828     False\n",
       "2838     False\n",
       "2844     False\n",
       "2871     False\n",
       "2877     False\n",
       "2881     False\n",
       "2890     False\n",
       "2901     False\n",
       "2905     False\n",
       "2909     False\n",
       "2929     False\n",
       "2948     False\n",
       "2953     False\n",
       "2954     False\n",
       "2966     False\n",
       "2987     False\n",
       "2992     False\n",
       "3002     False\n",
       "3005     False\n",
       "3021     False\n",
       "3026     False\n",
       "3039     False\n",
       "3043     False\n",
       "3045     False\n",
       "3046     False\n",
       "3047     False\n",
       "3049     False\n",
       "3050     False\n",
       "3052     False\n",
       "3053     False\n",
       "3054     False\n",
       "3059     False\n",
       "3071     False\n",
       "3088     False\n",
       "3089     False\n",
       "3091     False\n",
       "3093     False\n",
       "3108     False\n",
       "3109     False\n",
       "3110     False\n",
       "3114     False\n",
       "3115     False\n",
       "3140     False\n",
       "3170     False\n",
       "3171     False\n",
       "3176     False\n",
       "3188     False\n",
       "3213     False\n",
       "3234     False\n",
       "3245     False\n",
       "3257     False\n",
       "3266     False\n",
       "3268     False\n",
       "3274     False\n",
       "3275     False\n",
       "3276     False\n",
       "3310     False\n",
       "3313     False\n",
       "3315     False\n",
       "3317     False\n",
       "3318     False\n",
       "3319     False\n",
       "3320     False\n",
       "3325     False\n",
       "3328     False\n",
       "3335     False\n",
       "3337     False\n",
       "3354     False\n",
       "3358     False\n",
       "3368     False\n",
       "3385     False\n",
       "3386     False\n",
       "3387     False\n",
       "3390     False\n",
       "3399     False\n",
       "3401     False\n",
       "3407     False\n",
       "3408     False\n",
       "3409     False\n",
       "3410     False\n",
       "3412     False\n",
       "3414     False\n",
       "3415     False\n",
       "3416     False\n",
       "3425     False\n",
       "3431     False\n",
       "3435     False\n",
       "3447     False\n",
       "3456     False\n",
       "3457     False\n",
       "3458     False\n",
       "3465     False\n",
       "3471     False\n",
       "3473     False\n",
       "3495     False\n",
       "3497     False\n",
       "3501     False\n",
       "3517     False\n",
       "3520     False\n",
       "3521     False\n",
       "3533     False\n",
       "3535     False\n",
       "3540     False\n",
       "3543     False\n",
       "3547     False\n",
       "3553     False\n",
       "3562     False\n",
       "3571     False\n",
       "3575     False\n",
       "3577     False\n",
       "3579     False\n",
       "3580     False\n",
       "3588     False\n",
       "3590     False\n",
       "3596     False\n",
       "3597     False\n",
       "3598     False\n",
       "3603     False\n",
       "3604     False\n",
       "3608     False\n",
       "3617     False\n",
       "3620     False\n",
       "3624     False\n",
       "3627     False\n",
       "3646     False\n",
       "3656     False\n",
       "3658     False\n",
       "3671     False\n",
       "3677     False\n",
       "3684     False\n",
       "3699     False\n",
       "3706     False\n",
       "3708     False\n",
       "3719     False\n",
       "3728     False\n",
       "3729     False\n",
       "3752     False\n",
       "3756     False\n",
       "3778     False\n",
       "3779     False\n",
       "3801     False\n",
       "3810     False\n",
       "3814     False\n",
       "3819     False\n",
       "3832     False\n",
       "3838     False\n",
       "3844     False\n",
       "3848     False\n",
       "3873     False\n",
       "3882     False\n",
       "3897     False\n",
       "3900     False\n",
       "3947     False\n",
       "3948     False\n",
       "3951     False\n",
       "3982     False\n",
       "3984     False\n",
       "3985     False\n",
       "3994     False\n",
       "3997     False\n",
       "4001     False\n",
       "4021     False\n",
       "4031     False\n",
       "4035     False\n",
       "4040     False\n",
       "4045     False\n",
       "4073     False\n",
       "4074     False\n",
       "4081     False\n",
       "4089     False\n",
       "4099     False\n",
       "4100     False\n",
       "4111     False\n",
       "4112     False\n",
       "4124     False\n",
       "4127     False\n",
       "4130     False\n",
       "4142     False\n",
       "4149     False\n",
       "4162     False\n",
       "4165     False\n",
       "4168     False\n",
       "4182     False\n",
       "4183     False\n",
       "4218     False\n",
       "4227     False\n",
       "4235     False\n",
       "4245     False\n",
       "4249     False\n",
       "4250     False\n",
       "4255     False\n",
       "4270     False\n",
       "4274     False\n",
       "4282     False\n",
       "4283     False\n",
       "4313     False\n",
       "4326     False\n",
       "4331     False\n",
       "4340     False\n",
       "4366     False\n",
       "4380     False\n",
       "4381     False\n",
       "4382     False\n",
       "4387     False\n",
       "4389     False\n",
       "4400     False\n",
       "4459     False\n",
       "4490     False\n",
       "4491     False\n",
       "4492     False\n",
       "4502     False\n",
       "4504     False\n",
       "4507     False\n",
       "4520     False\n",
       "4523     False\n",
       "4526     False\n",
       "4532     False\n",
       "4540     False\n",
       "4588     False\n",
       "4600     False\n",
       "4611     False\n",
       "4612     False\n",
       "4613     False\n",
       "4621     False\n",
       "4625     False\n",
       "4640     False\n",
       "4641     False\n",
       "4646     False\n",
       "4650     False\n",
       "4680     False\n",
       "4695     False\n",
       "4717     False\n",
       "4723     False\n",
       "4746     False\n",
       "4755     False\n",
       "4758     False\n",
       "4764     False\n",
       "4765     False\n",
       "4767     False\n",
       "4773     False\n",
       "4774     False\n",
       "4778     False\n",
       "4779     False\n",
       "4782     False\n",
       "4794     False\n",
       "4795     False\n",
       "4797     False\n",
       "4804     False\n",
       "4813     False\n",
       "4814     False\n",
       "4818     False\n",
       "4819     False\n",
       "4829     False\n",
       "4835     False\n",
       "4836     False\n",
       "4839     False\n",
       "4842     False\n",
       "4849     False\n",
       "4859     False\n",
       "4861     False\n",
       "4863     False\n",
       "4875     False\n",
       "4878     False\n",
       "4890     False\n",
       "4909     False\n",
       "4934     False\n",
       "4938     False\n",
       "4940     False\n",
       "4941     False\n",
       "4944     False\n",
       "4945     False\n",
       "4947     False\n",
       "4962     False\n",
       "5004     False\n",
       "5005     False\n",
       "5006     False\n",
       "5014     False\n",
       "5015     False\n",
       "5021     False\n",
       "5026     False\n",
       "5027     False\n",
       "5038     False\n",
       "5059     False\n",
       "5064     False\n",
       "5097     False\n",
       "5115     False\n",
       "5116     False\n",
       "5132     False\n",
       "5133     False\n",
       "5156     False\n",
       "5166     False\n",
       "5171     False\n",
       "5174     False\n",
       "5180     False\n",
       "5206     False\n",
       "5207     False\n",
       "5208     False\n",
       "5209     False\n",
       "5213     False\n",
       "5216     False\n",
       "5218     False\n",
       "5243     False\n",
       "5252     False\n",
       "5266     False\n",
       "5267     False\n",
       "5268     False\n",
       "5275     False\n",
       "5284     False\n",
       "5285     False\n",
       "5297     False\n",
       "5305     False\n",
       "5325     False\n",
       "5327     False\n",
       "5332     False\n",
       "5370     False\n",
       "5378     False\n",
       "5388     False\n",
       "5390     False\n",
       "5433     False\n",
       "5439     False\n",
       "5460     False\n",
       "5465     False\n",
       "5472     False\n",
       "5475     False\n",
       "5486     False\n",
       "5492     False\n",
       "5515     False\n",
       "5551     False\n",
       "5552     False\n",
       "5554     False\n",
       "5571     False\n",
       "5578     False\n",
       "5628     False\n",
       "5647     False\n",
       "5648     False\n",
       "5658     False\n",
       "5668     False\n",
       "5672     False\n",
       "5678     False\n",
       "5692     False\n",
       "5695     False\n",
       "5713     False\n",
       "5752     False\n",
       "5753     False\n",
       "5758     False\n",
       "5763     False\n",
       "5788     False\n",
       "5789     False\n",
       "5819     False\n",
       "5828     False\n",
       "5829     False\n",
       "5897     False\n",
       "5898     False\n",
       "5903     False\n",
       "5913     False\n",
       "5924     False\n",
       "5929     False\n",
       "5939     False\n",
       "5971     False\n",
       "5978     False\n",
       "5980     False\n",
       "5982     False\n",
       "5992     False\n",
       "5993     False\n",
       "6001     False\n",
       "6002     False\n",
       "6017     False\n",
       "6036     False\n",
       "6041     False\n",
       "6050     False\n",
       "6051     False\n",
       "6052     False\n",
       "6054     False\n",
       "6055     False\n",
       "6057     False\n",
       "6065     False\n",
       "6082     False\n",
       "6111     False\n",
       "6116     False\n",
       "6119     False\n",
       "6129     False\n",
       "6130     False\n",
       "6132     False\n",
       "6141     False\n",
       "6142     False\n",
       "6143     False\n",
       "6150     False\n",
       "6162     False\n",
       "6187     False\n",
       "6196     False\n",
       "6197     False\n",
       "6198     False\n",
       "6204     False\n",
       "6215     False\n",
       "6217     False\n",
       "6218     False\n",
       "6227     False\n",
       "6228     False\n",
       "6239     False\n",
       "6253     False\n",
       "6258     False\n",
       "6296     False\n",
       "6299     False\n",
       "6302     False\n",
       "6304     False\n",
       "6329     False\n",
       "6333     False\n",
       "6341     False\n",
       "6342     False\n",
       "6347     False\n",
       "6357     False\n",
       "6360     False\n",
       "6375     False\n",
       "6387     False\n",
       "6397     False\n",
       "6400     False\n",
       "6402     False\n",
       "6403     False\n",
       "6404     False\n",
       "6417     False\n",
       "6424     False\n",
       "6466     False\n",
       "6470     False\n",
       "6471     False\n",
       "6474     False\n",
       "6475     False\n",
       "6479     False\n",
       "6488     False\n",
       "6493     False\n",
       "6496     False\n",
       "6528     False\n",
       "6537     False\n",
       "6540     False\n",
       "6546     False\n",
       "6549     False\n",
       "6570     False\n",
       "6594     False\n",
       "6605     False\n",
       "6606     False\n",
       "6622     False\n",
       "6628     False\n",
       "6629     False\n",
       "6643     False\n",
       "6647     False\n",
       "6662     False\n",
       "6669     False\n",
       "6691     False\n",
       "6692     False\n",
       "6693     False\n",
       "6706     False\n",
       "6710     False\n",
       "6724     False\n",
       "6741     False\n",
       "6742     False\n",
       "6758     False\n",
       "6767     False\n",
       "6776     False\n",
       "6783     False\n",
       "6795     False\n",
       "6802     False\n",
       "6810     False\n",
       "6811     False\n",
       "6814     False\n",
       "6815     False\n",
       "6817     False\n",
       "6823     False\n",
       "6840     False\n",
       "6851     False\n",
       "6854     False\n",
       "6863     False\n",
       "6870     False\n",
       "6876     False\n",
       "6877     False\n",
       "6896     False\n",
       "6921     False\n",
       "6934     False\n",
       "6954     False\n",
       "7007     False\n",
       "7032     False\n",
       "7040     False\n",
       "7049     False\n",
       "7051     False\n",
       "7053     False\n",
       "7057     False\n",
       "7059     False\n",
       "7062     False\n",
       "7063     False\n",
       "7070     False\n",
       "7084     False\n",
       "7085     False\n",
       "7101     False\n",
       "7112     False\n",
       "7162     False\n",
       "7165     False\n",
       "7181     False\n",
       "7183     False\n",
       "7228     False\n",
       "7233     False\n",
       "7246     False\n",
       "7254     False\n",
       "7255     False\n",
       "7262     False\n",
       "7267     False\n",
       "7269     False\n",
       "7271     False\n",
       "7280     False\n",
       "7283     False\n",
       "7307     False\n",
       "7311     False\n",
       "7317     False\n",
       "7350     False\n",
       "7361     False\n",
       "7393     False\n",
       "7399     False\n",
       "7411     False\n",
       "7422     False\n",
       "7428     False\n",
       "7438     False\n",
       "7450     False\n",
       "7485     False\n",
       "7504     False\n",
       "7505     False\n",
       "7506     False\n",
       "7536     False\n",
       "7542     False\n",
       "7550     False\n",
       "7565     False\n",
       "7582     False\n",
       "7587     False\n",
       "7609     False\n",
       "7612     False\n",
       "7618     False\n",
       "7628     False\n",
       "7629     False\n",
       "7684     False\n",
       "7687     False\n",
       "7714     False\n",
       "7735     False\n",
       "7740     False\n",
       "7751     False\n",
       "7760     False\n",
       "7782     False\n",
       "7784     False\n",
       "7796     False\n",
       "7811     False\n",
       "7825     False\n",
       "7833     False\n",
       "7835     False\n",
       "7836     False\n",
       "7847     False\n",
       "7853     False\n",
       "7854     False\n",
       "7868     False\n",
       "7883     False\n",
       "7892     False\n",
       "7916     False\n",
       "7944     False\n",
       "7946     False\n",
       "7950     False\n",
       "7952     False\n",
       "7972     False\n",
       "7981     False\n",
       "7982     False\n",
       "7995     False\n",
       "8005     False\n",
       "8018     False\n",
       "8040     False\n",
       "8042     False\n",
       "8048     False\n",
       "8057     False\n",
       "8070     False\n",
       "8073     False\n",
       "8080     False\n",
       "8082     False\n",
       "8083     False\n",
       "8091     False\n",
       "8093     False\n",
       "8108     False\n",
       "8110     False\n",
       "8118     False\n",
       "8120     False\n",
       "8130     False\n",
       "8159     False\n",
       "8172     False\n",
       "8173     False\n",
       "8174     False\n",
       "8176     False\n",
       "8182     False\n",
       "8183     False\n",
       "8196     False\n",
       "8198     False\n",
       "8220     False\n",
       "8227     False\n",
       "8237     False\n",
       "8238     False\n",
       "8240     False\n",
       "8241     False\n",
       "8243     False\n",
       "8245     False\n",
       "8249     False\n",
       "8252     False\n",
       "8254     False\n",
       "8258     False\n",
       "8262     False\n",
       "8263     False\n",
       "8269     False\n",
       "8273     False\n",
       "8294     False\n",
       "8295     False\n",
       "8315     False\n",
       "8324     False\n",
       "8347     False\n",
       "8352     False\n",
       "8367     False\n",
       "8387     False\n",
       "8396     False\n",
       "8402     False\n",
       "8404     False\n",
       "8409     False\n",
       "8414     False\n",
       "8431     False\n",
       "8434     False\n",
       "8439     False\n",
       "8452     False\n",
       "8473     False\n",
       "8477     False\n",
       "8494     False\n",
       "8531     False\n",
       "8540     False\n",
       "8568     False\n",
       "8577     False\n",
       "8578     False\n",
       "8579     False\n",
       "8581     False\n",
       "8587     False\n",
       "8589     False\n",
       "8590     False\n",
       "8608     False\n",
       "8609     False\n",
       "8617     False\n",
       "8622     False\n",
       "8640     False\n",
       "8642     False\n",
       "8644     False\n",
       "8653     False\n",
       "8670     False\n",
       "8674     False\n",
       "8675     False\n",
       "8694     False\n",
       "8698     False\n",
       "8706     False\n",
       "8708     False\n",
       "8716     False\n",
       "8717     False\n",
       "8719     False\n",
       "8720     False\n",
       "8725     False\n",
       "8737     False\n",
       "8750     False\n",
       "8751     False\n",
       "8761     False\n",
       "8767     False\n",
       "8768     False\n",
       "8817     False\n",
       "8834     False\n",
       "8852     False\n",
       "8871     False\n",
       "8876     False\n",
       "8922     False\n",
       "8937     False\n",
       "8938     False\n",
       "8945     False\n",
       "8947     False\n",
       "8957     False\n",
       "8959     False\n",
       "8961     False\n",
       "8973     False\n",
       "9003     False\n",
       "9009     False\n",
       "9013     False\n",
       "9029     False\n",
       "9033     False\n",
       "9077     False\n",
       "9115     False\n",
       "9173     False\n",
       "9182     False\n",
       "9186     False\n",
       "9234     False\n",
       "9240     False\n",
       "9247     False\n",
       "9248     False\n",
       "9296     False\n",
       "9301     False\n",
       "9320     False\n",
       "9327     False\n",
       "9335     False\n",
       "9336     False\n",
       "9353     False\n",
       "9365     False\n",
       "9370     False\n",
       "9375     False\n",
       "9380     False\n",
       "9407     False\n",
       "9409     False\n",
       "9410     False\n",
       "9422     False\n",
       "9431     False\n",
       "9520     False\n",
       "9535     False\n",
       "9562     False\n",
       "9579     False\n",
       "9581     False\n",
       "9588     False\n",
       "9589     False\n",
       "9602     False\n",
       "9608     False\n",
       "9613     False\n",
       "9633     False\n",
       "9637     False\n",
       "9648     False\n",
       "9649     False\n",
       "9674     False\n",
       "9682     False\n",
       "9702     False\n",
       "9708     False\n",
       "9714     False\n",
       "9715     False\n",
       "9730     False\n",
       "9736     False\n",
       "9740     False\n",
       "9754     False\n",
       "9758     False\n",
       "9762     False\n",
       "9780     False\n",
       "9799     False\n",
       "9801     False\n",
       "9806     False\n",
       "9831     False\n",
       "9834     False\n",
       "9837     False\n",
       "9840     False\n",
       "9852     False\n",
       "9864     False\n",
       "9869     False\n",
       "9871     False\n",
       "9876     False\n",
       "9885     False\n",
       "9890     False\n",
       "9891     False\n",
       "9892     False\n",
       "9905     False\n",
       "9921     False\n",
       "9924     False\n",
       "9939     False\n",
       "9959     False\n",
       "9969     False\n",
       "9970     False\n",
       "9971     False\n",
       "9974     False\n",
       "10008    False\n",
       "10015    False\n",
       "10021    False\n",
       "10022    False\n",
       "10029    False\n",
       "10039    False\n",
       "10042    False\n",
       "10044    False\n",
       "10059    False\n",
       "10062    False\n",
       "10067    False\n",
       "10068    False\n",
       "10107    False\n",
       "10110    False\n",
       "10128    False\n",
       "10134    False\n",
       "10139    False\n",
       "10148    False\n",
       "10155    False\n",
       "10156    False\n",
       "10158    False\n",
       "10161    False\n",
       "10162    False\n",
       "10164    False\n",
       "10174    False\n",
       "10181    False\n",
       "Name: Matrix, dtype: bool"
      ]
     },
     "execution_count": 49,
     "metadata": {},
     "output_type": "execute_result"
    }
   ],
   "source": [
    "critical[\"Matrix\"] == \"\""
   ]
  },
  {
   "cell_type": "code",
   "execution_count": 53,
   "metadata": {},
   "outputs": [
    {
     "name": "stderr",
     "output_type": "stream",
     "text": [
      "<ipython-input-53-2e38c3192f85>:1: SettingWithCopyWarning: \n",
      "A value is trying to be set on a copy of a slice from a DataFrame.\n",
      "Try using .loc[row_indexer,col_indexer] = value instead\n",
      "\n",
      "See the caveats in the documentation: https://pandas.pydata.org/pandas-docs/stable/user_guide/indexing.html#returning-a-view-versus-a-copy\n",
      "  critical[\"Matrix\"] = critical[\"MatrixPredVerb\"]\n"
     ]
    }
   ],
   "source": [
    "critical[\"Matrix\"] = critical[\"MatrixPredVerb\"]"
   ]
  },
  {
   "cell_type": "code",
   "execution_count": 52,
   "metadata": {
    "collapsed": true
   },
   "outputs": [
    {
     "ename": "KeyError",
     "evalue": "'MatrixPredVerb'",
     "output_type": "error",
     "traceback": [
      "\u001b[0;31m---------------------------------------------------------------------------\u001b[0m",
      "\u001b[0;31mKeyError\u001b[0m                                  Traceback (most recent call last)",
      "\u001b[0;32m<ipython-input-52-1b81cb983b7d>\u001b[0m in \u001b[0;36m<module>\u001b[0;34m\u001b[0m\n\u001b[0;32m----> 1\u001b[0;31m \u001b[0mcritical\u001b[0m\u001b[0;34m.\u001b[0m\u001b[0mapply\u001b[0m\u001b[0;34m(\u001b[0m\u001b[0;32mlambda\u001b[0m \u001b[0mx\u001b[0m\u001b[0;34m:\u001b[0m \u001b[0mverb_label\u001b[0m\u001b[0;34m(\u001b[0m\u001b[0mx\u001b[0m\u001b[0;34m)\u001b[0m\u001b[0;34m)\u001b[0m\u001b[0;34m\u001b[0m\u001b[0;34m\u001b[0m\u001b[0m\n\u001b[0m",
      "\u001b[0;32m~/opt/anaconda3/lib/python3.8/site-packages/pandas/core/frame.py\u001b[0m in \u001b[0;36mapply\u001b[0;34m(self, func, axis, raw, result_type, args, **kwds)\u001b[0m\n\u001b[1;32m   6876\u001b[0m             \u001b[0mkwds\u001b[0m\u001b[0;34m=\u001b[0m\u001b[0mkwds\u001b[0m\u001b[0;34m,\u001b[0m\u001b[0;34m\u001b[0m\u001b[0;34m\u001b[0m\u001b[0m\n\u001b[1;32m   6877\u001b[0m         )\n\u001b[0;32m-> 6878\u001b[0;31m         \u001b[0;32mreturn\u001b[0m \u001b[0mop\u001b[0m\u001b[0;34m.\u001b[0m\u001b[0mget_result\u001b[0m\u001b[0;34m(\u001b[0m\u001b[0;34m)\u001b[0m\u001b[0;34m\u001b[0m\u001b[0;34m\u001b[0m\u001b[0m\n\u001b[0m\u001b[1;32m   6879\u001b[0m \u001b[0;34m\u001b[0m\u001b[0m\n\u001b[1;32m   6880\u001b[0m     \u001b[0;32mdef\u001b[0m \u001b[0mapplymap\u001b[0m\u001b[0;34m(\u001b[0m\u001b[0mself\u001b[0m\u001b[0;34m,\u001b[0m \u001b[0mfunc\u001b[0m\u001b[0;34m)\u001b[0m \u001b[0;34m->\u001b[0m \u001b[0;34m\"DataFrame\"\u001b[0m\u001b[0;34m:\u001b[0m\u001b[0;34m\u001b[0m\u001b[0;34m\u001b[0m\u001b[0m\n",
      "\u001b[0;32m~/opt/anaconda3/lib/python3.8/site-packages/pandas/core/apply.py\u001b[0m in \u001b[0;36mget_result\u001b[0;34m(self)\u001b[0m\n\u001b[1;32m    184\u001b[0m             \u001b[0;32mreturn\u001b[0m \u001b[0mself\u001b[0m\u001b[0;34m.\u001b[0m\u001b[0mapply_raw\u001b[0m\u001b[0;34m(\u001b[0m\u001b[0;34m)\u001b[0m\u001b[0;34m\u001b[0m\u001b[0;34m\u001b[0m\u001b[0m\n\u001b[1;32m    185\u001b[0m \u001b[0;34m\u001b[0m\u001b[0m\n\u001b[0;32m--> 186\u001b[0;31m         \u001b[0;32mreturn\u001b[0m \u001b[0mself\u001b[0m\u001b[0;34m.\u001b[0m\u001b[0mapply_standard\u001b[0m\u001b[0;34m(\u001b[0m\u001b[0;34m)\u001b[0m\u001b[0;34m\u001b[0m\u001b[0;34m\u001b[0m\u001b[0m\n\u001b[0m\u001b[1;32m    187\u001b[0m \u001b[0;34m\u001b[0m\u001b[0m\n\u001b[1;32m    188\u001b[0m     \u001b[0;32mdef\u001b[0m \u001b[0mapply_empty_result\u001b[0m\u001b[0;34m(\u001b[0m\u001b[0mself\u001b[0m\u001b[0;34m)\u001b[0m\u001b[0;34m:\u001b[0m\u001b[0;34m\u001b[0m\u001b[0;34m\u001b[0m\u001b[0m\n",
      "\u001b[0;32m~/opt/anaconda3/lib/python3.8/site-packages/pandas/core/apply.py\u001b[0m in \u001b[0;36mapply_standard\u001b[0;34m(self)\u001b[0m\n\u001b[1;32m    293\u001b[0m \u001b[0;34m\u001b[0m\u001b[0m\n\u001b[1;32m    294\u001b[0m             \u001b[0;32mtry\u001b[0m\u001b[0;34m:\u001b[0m\u001b[0;34m\u001b[0m\u001b[0;34m\u001b[0m\u001b[0m\n\u001b[0;32m--> 295\u001b[0;31m                 result = libreduction.compute_reduction(\n\u001b[0m\u001b[1;32m    296\u001b[0m                     \u001b[0mvalues\u001b[0m\u001b[0;34m,\u001b[0m \u001b[0mself\u001b[0m\u001b[0;34m.\u001b[0m\u001b[0mf\u001b[0m\u001b[0;34m,\u001b[0m \u001b[0maxis\u001b[0m\u001b[0;34m=\u001b[0m\u001b[0mself\u001b[0m\u001b[0;34m.\u001b[0m\u001b[0maxis\u001b[0m\u001b[0;34m,\u001b[0m \u001b[0mdummy\u001b[0m\u001b[0;34m=\u001b[0m\u001b[0mdummy\u001b[0m\u001b[0;34m,\u001b[0m \u001b[0mlabels\u001b[0m\u001b[0;34m=\u001b[0m\u001b[0mlabels\u001b[0m\u001b[0;34m\u001b[0m\u001b[0;34m\u001b[0m\u001b[0m\n\u001b[1;32m    297\u001b[0m                 )\n",
      "\u001b[0;32mpandas/_libs/reduction.pyx\u001b[0m in \u001b[0;36mpandas._libs.reduction.compute_reduction\u001b[0;34m()\u001b[0m\n",
      "\u001b[0;32mpandas/_libs/reduction.pyx\u001b[0m in \u001b[0;36mpandas._libs.reduction.Reducer.get_result\u001b[0;34m()\u001b[0m\n",
      "\u001b[0;32m<ipython-input-52-1b81cb983b7d>\u001b[0m in \u001b[0;36m<lambda>\u001b[0;34m(x)\u001b[0m\n\u001b[0;32m----> 1\u001b[0;31m \u001b[0mcritical\u001b[0m\u001b[0;34m.\u001b[0m\u001b[0mapply\u001b[0m\u001b[0;34m(\u001b[0m\u001b[0;32mlambda\u001b[0m \u001b[0mx\u001b[0m\u001b[0;34m:\u001b[0m \u001b[0mverb_label\u001b[0m\u001b[0;34m(\u001b[0m\u001b[0mx\u001b[0m\u001b[0;34m)\u001b[0m\u001b[0;34m)\u001b[0m\u001b[0;34m\u001b[0m\u001b[0;34m\u001b[0m\u001b[0m\n\u001b[0m",
      "\u001b[0;32m<ipython-input-47-2e786538b635>\u001b[0m in \u001b[0;36mverb_label\u001b[0;34m(df)\u001b[0m\n\u001b[1;32m      1\u001b[0m \u001b[0;32mdef\u001b[0m \u001b[0mverb_label\u001b[0m\u001b[0;34m(\u001b[0m\u001b[0mdf\u001b[0m\u001b[0;34m)\u001b[0m\u001b[0;34m:\u001b[0m\u001b[0;34m\u001b[0m\u001b[0;34m\u001b[0m\u001b[0m\n\u001b[0;32m----> 2\u001b[0;31m     \u001b[0;32mif\u001b[0m \u001b[0mdf\u001b[0m\u001b[0;34m[\u001b[0m\u001b[0;34m\"MatrixPredVerb\"\u001b[0m\u001b[0;34m]\u001b[0m \u001b[0;34m!=\u001b[0m \u001b[0;34m\"NaN\"\u001b[0m\u001b[0;34m:\u001b[0m\u001b[0;34m\u001b[0m\u001b[0;34m\u001b[0m\u001b[0m\n\u001b[0m\u001b[1;32m      3\u001b[0m         \u001b[0mdf\u001b[0m\u001b[0;34m[\u001b[0m\u001b[0;34m\"Matrix\"\u001b[0m\u001b[0;34m]\u001b[0m \u001b[0;34m=\u001b[0m \u001b[0mdf\u001b[0m\u001b[0;34m[\u001b[0m\u001b[0;34m\"MatrixPredVerb\"\u001b[0m\u001b[0;34m]\u001b[0m\u001b[0;34m\u001b[0m\u001b[0;34m\u001b[0m\u001b[0m\n\u001b[1;32m      4\u001b[0m     \u001b[0;32melif\u001b[0m \u001b[0mdf\u001b[0m\u001b[0;34m[\u001b[0m\u001b[0;34m\"MatrixPredOther\"\u001b[0m\u001b[0;34m]\u001b[0m \u001b[0;34m!=\u001b[0m \u001b[0;34m\"NaN\"\u001b[0m\u001b[0;34m:\u001b[0m\u001b[0;34m\u001b[0m\u001b[0;34m\u001b[0m\u001b[0m\n\u001b[1;32m      5\u001b[0m         \u001b[0mdf\u001b[0m\u001b[0;34m[\u001b[0m\u001b[0;34m\"Matrix\"\u001b[0m\u001b[0;34m]\u001b[0m \u001b[0;34m=\u001b[0m \u001b[0mdf\u001b[0m\u001b[0;34m[\u001b[0m\u001b[0;34m\"MatrixPredOther\"\u001b[0m\u001b[0;34m]\u001b[0m\u001b[0;34m\u001b[0m\u001b[0;34m\u001b[0m\u001b[0m\n",
      "\u001b[0;32m~/opt/anaconda3/lib/python3.8/site-packages/pandas/core/series.py\u001b[0m in \u001b[0;36m__getitem__\u001b[0;34m(self, key)\u001b[0m\n\u001b[1;32m    869\u001b[0m         \u001b[0mkey\u001b[0m \u001b[0;34m=\u001b[0m \u001b[0mcom\u001b[0m\u001b[0;34m.\u001b[0m\u001b[0mapply_if_callable\u001b[0m\u001b[0;34m(\u001b[0m\u001b[0mkey\u001b[0m\u001b[0;34m,\u001b[0m \u001b[0mself\u001b[0m\u001b[0;34m)\u001b[0m\u001b[0;34m\u001b[0m\u001b[0;34m\u001b[0m\u001b[0m\n\u001b[1;32m    870\u001b[0m         \u001b[0;32mtry\u001b[0m\u001b[0;34m:\u001b[0m\u001b[0;34m\u001b[0m\u001b[0;34m\u001b[0m\u001b[0m\n\u001b[0;32m--> 871\u001b[0;31m             \u001b[0mresult\u001b[0m \u001b[0;34m=\u001b[0m \u001b[0mself\u001b[0m\u001b[0;34m.\u001b[0m\u001b[0mindex\u001b[0m\u001b[0;34m.\u001b[0m\u001b[0mget_value\u001b[0m\u001b[0;34m(\u001b[0m\u001b[0mself\u001b[0m\u001b[0;34m,\u001b[0m \u001b[0mkey\u001b[0m\u001b[0;34m)\u001b[0m\u001b[0;34m\u001b[0m\u001b[0;34m\u001b[0m\u001b[0m\n\u001b[0m\u001b[1;32m    872\u001b[0m \u001b[0;34m\u001b[0m\u001b[0m\n\u001b[1;32m    873\u001b[0m             \u001b[0;32mif\u001b[0m \u001b[0;32mnot\u001b[0m \u001b[0mis_scalar\u001b[0m\u001b[0;34m(\u001b[0m\u001b[0mresult\u001b[0m\u001b[0;34m)\u001b[0m\u001b[0;34m:\u001b[0m\u001b[0;34m\u001b[0m\u001b[0;34m\u001b[0m\u001b[0m\n",
      "\u001b[0;32m~/opt/anaconda3/lib/python3.8/site-packages/pandas/core/indexes/base.py\u001b[0m in \u001b[0;36mget_value\u001b[0;34m(self, series, key)\u001b[0m\n\u001b[1;32m   4403\u001b[0m         \u001b[0mk\u001b[0m \u001b[0;34m=\u001b[0m \u001b[0mself\u001b[0m\u001b[0;34m.\u001b[0m\u001b[0m_convert_scalar_indexer\u001b[0m\u001b[0;34m(\u001b[0m\u001b[0mk\u001b[0m\u001b[0;34m,\u001b[0m \u001b[0mkind\u001b[0m\u001b[0;34m=\u001b[0m\u001b[0;34m\"getitem\"\u001b[0m\u001b[0;34m)\u001b[0m\u001b[0;34m\u001b[0m\u001b[0;34m\u001b[0m\u001b[0m\n\u001b[1;32m   4404\u001b[0m         \u001b[0;32mtry\u001b[0m\u001b[0;34m:\u001b[0m\u001b[0;34m\u001b[0m\u001b[0;34m\u001b[0m\u001b[0m\n\u001b[0;32m-> 4405\u001b[0;31m             \u001b[0;32mreturn\u001b[0m \u001b[0mself\u001b[0m\u001b[0;34m.\u001b[0m\u001b[0m_engine\u001b[0m\u001b[0;34m.\u001b[0m\u001b[0mget_value\u001b[0m\u001b[0;34m(\u001b[0m\u001b[0ms\u001b[0m\u001b[0;34m,\u001b[0m \u001b[0mk\u001b[0m\u001b[0;34m,\u001b[0m \u001b[0mtz\u001b[0m\u001b[0;34m=\u001b[0m\u001b[0mgetattr\u001b[0m\u001b[0;34m(\u001b[0m\u001b[0mseries\u001b[0m\u001b[0;34m.\u001b[0m\u001b[0mdtype\u001b[0m\u001b[0;34m,\u001b[0m \u001b[0;34m\"tz\"\u001b[0m\u001b[0;34m,\u001b[0m \u001b[0;32mNone\u001b[0m\u001b[0;34m)\u001b[0m\u001b[0;34m)\u001b[0m\u001b[0;34m\u001b[0m\u001b[0;34m\u001b[0m\u001b[0m\n\u001b[0m\u001b[1;32m   4406\u001b[0m         \u001b[0;32mexcept\u001b[0m \u001b[0mKeyError\u001b[0m \u001b[0;32mas\u001b[0m \u001b[0me1\u001b[0m\u001b[0;34m:\u001b[0m\u001b[0;34m\u001b[0m\u001b[0;34m\u001b[0m\u001b[0m\n\u001b[1;32m   4407\u001b[0m             \u001b[0;32mif\u001b[0m \u001b[0mlen\u001b[0m\u001b[0;34m(\u001b[0m\u001b[0mself\u001b[0m\u001b[0;34m)\u001b[0m \u001b[0;34m>\u001b[0m \u001b[0;36m0\u001b[0m \u001b[0;32mand\u001b[0m \u001b[0;34m(\u001b[0m\u001b[0mself\u001b[0m\u001b[0;34m.\u001b[0m\u001b[0mholds_integer\u001b[0m\u001b[0;34m(\u001b[0m\u001b[0;34m)\u001b[0m \u001b[0;32mor\u001b[0m \u001b[0mself\u001b[0m\u001b[0;34m.\u001b[0m\u001b[0mis_boolean\u001b[0m\u001b[0;34m(\u001b[0m\u001b[0;34m)\u001b[0m\u001b[0;34m)\u001b[0m\u001b[0;34m:\u001b[0m\u001b[0;34m\u001b[0m\u001b[0;34m\u001b[0m\u001b[0m\n",
      "\u001b[0;32mpandas/_libs/index.pyx\u001b[0m in \u001b[0;36mpandas._libs.index.IndexEngine.get_value\u001b[0;34m()\u001b[0m\n",
      "\u001b[0;32mpandas/_libs/index.pyx\u001b[0m in \u001b[0;36mpandas._libs.index.IndexEngine.get_value\u001b[0;34m()\u001b[0m\n",
      "\u001b[0;32mpandas/_libs/index.pyx\u001b[0m in \u001b[0;36mpandas._libs.index.IndexEngine.get_loc\u001b[0;34m()\u001b[0m\n",
      "\u001b[0;32mpandas/_libs/index_class_helper.pxi\u001b[0m in \u001b[0;36mpandas._libs.index.Int64Engine._check_type\u001b[0;34m()\u001b[0m\n",
      "\u001b[0;31mKeyError\u001b[0m: 'MatrixPredVerb'"
     ]
    }
   ],
   "source": [
    "critical.apply(lambda x: verb_label(x))"
   ]
  },
  {
   "cell_type": "code",
   "execution_count": 21,
   "metadata": {
    "collapsed": true
   },
   "outputs": [
    {
     "data": {
      "text/plain": [
       "Index(['Item_ID', 'Sentence', 'HaveNeedTo', 'Finite', 'ModalPresent',\n",
       "       'QuestionType', 'DegreeQ', 'SubjectAuxInv', 'WhAll', 'MatrixNegPresent',\n",
       "       'EmbeddedNegPresent', 'SbarNomPresent', 'QuantifiedSubject',\n",
       "       'QuantifiedPredicate', 'Wh', 'MatrixNegation', 'InvertedAuxVerb',\n",
       "       'MatrixPredAux', 'MatrixPredVerb', 'MatrixPredOther',\n",
       "       'MatrixPredParticle', 'MatrixPred2', 'Modal', 'EmbeddedNegation',\n",
       "       'Verb1', 'Verb2', 'Verb3', 'DeterminerSubject', 'DeterminerNonSubject',\n",
       "       'FullWhPhrase', 'JustMatrixClause', 'DeterminerSubjPresent',\n",
       "       'DeterminerNonSubjPresent', 'WhNode', 'WhParse', 'Question',\n",
       "       'SentenceParse', 'WhPhaseType', 'IdentityQ'],\n",
       "      dtype='object')"
      ]
     },
     "execution_count": 21,
     "metadata": {},
     "output_type": "execute_result"
    }
   ],
   "source": [
    "critical.columns"
   ]
  },
  {
   "cell_type": "markdown",
   "metadata": {},
   "source": [
    "# Combine contexts with constrained db"
   ]
  },
  {
   "cell_type": "code",
   "execution_count": 44,
   "metadata": {},
   "outputs": [],
   "source": [
    "# read in df with contexts\n",
    "cntxts = pd.read_csv(\"swbd_contexts.csv\")"
   ]
  },
  {
   "cell_type": "code",
   "execution_count": 45,
   "metadata": {},
   "outputs": [],
   "source": [
    "cntxts = cntxts.drop(columns=\"FollowingContext\")"
   ]
  },
  {
   "cell_type": "code",
   "execution_count": 46,
   "metadata": {},
   "outputs": [],
   "source": [
    "# get the indixes from critical\n",
    "crit_index = critical.Item_ID"
   ]
  },
  {
   "cell_type": "markdown",
   "metadata": {},
   "source": [
    "### Merge back in Wh and ModalPresent colums"
   ]
  },
  {
   "cell_type": "code",
   "execution_count": 139,
   "metadata": {},
   "outputs": [
    {
     "data": {
      "text/plain": [
       "Wh     Finite\n",
       "how    no         92\n",
       "       yes       156\n",
       "what   no         25\n",
       "       yes       365\n",
       "when   yes        21\n",
       "where  no          5\n",
       "       yes       122\n",
       "who    no          2\n",
       "       yes        53\n",
       "why    yes        67\n",
       "Name: Wh, dtype: int64"
      ]
     },
     "execution_count": 139,
     "metadata": {},
     "output_type": "execute_result"
    }
   ],
   "source": [
    "critical.groupby(['Wh','Finite'])['Wh'].count()"
   ]
  },
  {
   "cell_type": "code",
   "execution_count": 140,
   "metadata": {},
   "outputs": [],
   "source": [
    "df_WhMod = critical[[\"Item_ID\",\"Wh\",\"ModalPresent\",\"Finite\",\"Question\"]].rename(columns={\"Item_ID\": \"TGrepID\"})"
   ]
  },
  {
   "cell_type": "code",
   "execution_count": 141,
   "metadata": {},
   "outputs": [],
   "source": [
    "# subset to the items that are just the ones filtered in the previos section\n",
    "\n",
    "# otherwise, if using the database file with contexts directly in there, then this step\n",
    "# is not necessary\n",
    "df_valid = cntxts[cntxts[\"TGrepID\"].isin(set(crit_index))]"
   ]
  },
  {
   "cell_type": "code",
   "execution_count": 185,
   "metadata": {},
   "outputs": [],
   "source": [
    "# Merge\n",
    "df_valid = df_valid.merge(df_WhMod, how = 'inner', indicator=False)"
   ]
  },
  {
   "cell_type": "markdown",
   "metadata": {},
   "source": [
    "# Merge ModalPresent and Finiteness into one Modal Column"
   ]
  },
  {
   "cell_type": "code",
   "execution_count": 186,
   "metadata": {},
   "outputs": [],
   "source": [
    "modP = df_valid[df_valid.ModalPresent == \"yes\"].TGrepID\n",
    "fin = df_valid[df_valid.Finite == \"yes\"].TGrepID"
   ]
  },
  {
   "cell_type": "code",
   "execution_count": 187,
   "metadata": {},
   "outputs": [],
   "source": [
    "mods = pd.concat([modP,nonfin])\n",
    "nonmods = pd.concat([modNP,fin])"
   ]
  },
  {
   "cell_type": "code",
   "execution_count": 188,
   "metadata": {},
   "outputs": [],
   "source": [
    "df_valid[\"Modal\"] = \"\""
   ]
  },
  {
   "cell_type": "code",
   "execution_count": 189,
   "metadata": {},
   "outputs": [],
   "source": [
    "df_valid_mods = df_valid[df_valid[\"TGrepID\"].isin(set(mods))].assign(Modal = \"yes\")\n",
    "df_valid_nomods = df_valid[~df_valid[\"TGrepID\"].isin(set(mods))].assign(Modal = \"no\")"
   ]
  },
  {
   "cell_type": "code",
   "execution_count": 190,
   "metadata": {},
   "outputs": [],
   "source": [
    "df_valid = pd.concat([df_valid_mods,df_valid_nomods])"
   ]
  },
  {
   "cell_type": "code",
   "execution_count": 191,
   "metadata": {},
   "outputs": [
    {
     "data": {
      "text/plain": [
       "1073"
      ]
     },
     "execution_count": 191,
     "metadata": {},
     "output_type": "execute_result"
    }
   ],
   "source": [
    "len(df_valid)"
   ]
  },
  {
   "cell_type": "code",
   "execution_count": null,
   "metadata": {},
   "outputs": [],
   "source": []
  },
  {
   "cell_type": "markdown",
   "metadata": {},
   "source": [
    "# Split EntireSentence on Question \n",
    "This is necessary because we need to bold the question only and not the Matrix in the experimental file"
   ]
  },
  {
   "cell_type": "code",
   "execution_count": 199,
   "metadata": {},
   "outputs": [],
   "source": [
    "# split EntireSentence\n",
    "df_valid[\"Matrix\"] = df_valid.apply(lambda x: x['EntireSentence'].replace(x['Question'],\"\").strip(),axis=1)"
   ]
  },
  {
   "cell_type": "code",
   "execution_count": 200,
   "metadata": {},
   "outputs": [],
   "source": [
    "# split that last punctuation off, to be added back on in .js script\n",
    "df_valid[\"punct\"] = df_valid[\"Matrix\"].apply(lambda x: list(x)[-1])"
   ]
  },
  {
   "cell_type": "code",
   "execution_count": 201,
   "metadata": {},
   "outputs": [],
   "source": [
    "def split(word):\n",
    "    return [char for char in word] "
   ]
  },
  {
   "cell_type": "code",
   "execution_count": 202,
   "metadata": {},
   "outputs": [],
   "source": [
    "# remove that final punct from the Matrix column\n",
    "df_valid[\"Matrix\"] = df_valid[\"Matrix\"].apply(lambda x: x.replace(list(x)[-1], ' '))"
   ]
  },
  {
   "cell_type": "markdown",
   "metadata": {},
   "source": [
    "# Add in the paraphrases\n",
    "this should take as input the entire constrained dataframe from the above section, and then generate the paraphrases\n",
    "\n",
    "For Who questions: Who is a person...? / Who is some person...? / \"Who is every person...\" / \"Who is the person...\""
   ]
  },
  {
   "cell_type": "code",
   "execution_count": 203,
   "metadata": {},
   "outputs": [],
   "source": [
    "who = df_valid[df_valid[\"Wh\"] == \"who\"]\n",
    "where = df_valid[df_valid[\"Wh\"] == \"where\"]\n",
    "how = df_valid[df_valid[\"Wh\"] == \"how\"]\n",
    "when = df_valid[df_valid[\"Wh\"] == \"when\"]\n",
    "why = df_valid[df_valid[\"Wh\"] == \"why\"]\n",
    "what = df_valid[df_valid[\"Wh\"] == \"what\"]"
   ]
  },
  {
   "cell_type": "code",
   "execution_count": 204,
   "metadata": {},
   "outputs": [
    {
     "name": "stderr",
     "output_type": "stream",
     "text": [
      "<ipython-input-204-42af90f9edbb>:1: SettingWithCopyWarning: \n",
      "A value is trying to be set on a copy of a slice from a DataFrame.\n",
      "Try using .loc[row_indexer,col_indexer] = value instead\n",
      "\n",
      "See the caveats in the documentation: https://pandas.pydata.org/pandas-docs/stable/user_guide/indexing.html#returning-a-view-versus-a-copy\n",
      "  who[\"AResponse\"] = \"...who is a person...\"\n",
      "<ipython-input-204-42af90f9edbb>:3: SettingWithCopyWarning: \n",
      "A value is trying to be set on a copy of a slice from a DataFrame.\n",
      "Try using .loc[row_indexer,col_indexer] = value instead\n",
      "\n",
      "See the caveats in the documentation: https://pandas.pydata.org/pandas-docs/stable/user_guide/indexing.html#returning-a-view-versus-a-copy\n",
      "  who[\"AllResponse\"] = \"...who is every person...\"\n",
      "<ipython-input-204-42af90f9edbb>:4: SettingWithCopyWarning: \n",
      "A value is trying to be set on a copy of a slice from a DataFrame.\n",
      "Try using .loc[row_indexer,col_indexer] = value instead\n",
      "\n",
      "See the caveats in the documentation: https://pandas.pydata.org/pandas-docs/stable/user_guide/indexing.html#returning-a-view-versus-a-copy\n",
      "  who[\"TheResponse\"] = \"...who is the person...\"\n",
      "<ipython-input-204-42af90f9edbb>:7: SettingWithCopyWarning: \n",
      "A value is trying to be set on a copy of a slice from a DataFrame.\n",
      "Try using .loc[row_indexer,col_indexer] = value instead\n",
      "\n",
      "See the caveats in the documentation: https://pandas.pydata.org/pandas-docs/stable/user_guide/indexing.html#returning-a-view-versus-a-copy\n",
      "  where[\"AResponse\"] = \"...what is a place...\"\n",
      "<ipython-input-204-42af90f9edbb>:9: SettingWithCopyWarning: \n",
      "A value is trying to be set on a copy of a slice from a DataFrame.\n",
      "Try using .loc[row_indexer,col_indexer] = value instead\n",
      "\n",
      "See the caveats in the documentation: https://pandas.pydata.org/pandas-docs/stable/user_guide/indexing.html#returning-a-view-versus-a-copy\n",
      "  where[\"AllResponse\"] = \"...what is every place...\"\n",
      "<ipython-input-204-42af90f9edbb>:10: SettingWithCopyWarning: \n",
      "A value is trying to be set on a copy of a slice from a DataFrame.\n",
      "Try using .loc[row_indexer,col_indexer] = value instead\n",
      "\n",
      "See the caveats in the documentation: https://pandas.pydata.org/pandas-docs/stable/user_guide/indexing.html#returning-a-view-versus-a-copy\n",
      "  where[\"TheResponse\"] = \"...what is the place...\"\n",
      "<ipython-input-204-42af90f9edbb>:13: SettingWithCopyWarning: \n",
      "A value is trying to be set on a copy of a slice from a DataFrame.\n",
      "Try using .loc[row_indexer,col_indexer] = value instead\n",
      "\n",
      "See the caveats in the documentation: https://pandas.pydata.org/pandas-docs/stable/user_guide/indexing.html#returning-a-view-versus-a-copy\n",
      "  how[\"AResponse\"] = \"...what is a way...\"\n",
      "<ipython-input-204-42af90f9edbb>:15: SettingWithCopyWarning: \n",
      "A value is trying to be set on a copy of a slice from a DataFrame.\n",
      "Try using .loc[row_indexer,col_indexer] = value instead\n",
      "\n",
      "See the caveats in the documentation: https://pandas.pydata.org/pandas-docs/stable/user_guide/indexing.html#returning-a-view-versus-a-copy\n",
      "  how[\"AllResponse\"] = \"...what is every way...\"\n",
      "<ipython-input-204-42af90f9edbb>:16: SettingWithCopyWarning: \n",
      "A value is trying to be set on a copy of a slice from a DataFrame.\n",
      "Try using .loc[row_indexer,col_indexer] = value instead\n",
      "\n",
      "See the caveats in the documentation: https://pandas.pydata.org/pandas-docs/stable/user_guide/indexing.html#returning-a-view-versus-a-copy\n",
      "  how[\"TheResponse\"] = \"...what is the way...\"\n",
      "<ipython-input-204-42af90f9edbb>:18: SettingWithCopyWarning: \n",
      "A value is trying to be set on a copy of a slice from a DataFrame.\n",
      "Try using .loc[row_indexer,col_indexer] = value instead\n",
      "\n",
      "See the caveats in the documentation: https://pandas.pydata.org/pandas-docs/stable/user_guide/indexing.html#returning-a-view-versus-a-copy\n",
      "  when[\"AResponse\"] = \"...what is a time...\"\n",
      "<ipython-input-204-42af90f9edbb>:20: SettingWithCopyWarning: \n",
      "A value is trying to be set on a copy of a slice from a DataFrame.\n",
      "Try using .loc[row_indexer,col_indexer] = value instead\n",
      "\n",
      "See the caveats in the documentation: https://pandas.pydata.org/pandas-docs/stable/user_guide/indexing.html#returning-a-view-versus-a-copy\n",
      "  when[\"AllResponse\"] = \"...what is every time...\"\n",
      "<ipython-input-204-42af90f9edbb>:21: SettingWithCopyWarning: \n",
      "A value is trying to be set on a copy of a slice from a DataFrame.\n",
      "Try using .loc[row_indexer,col_indexer] = value instead\n",
      "\n",
      "See the caveats in the documentation: https://pandas.pydata.org/pandas-docs/stable/user_guide/indexing.html#returning-a-view-versus-a-copy\n",
      "  when[\"TheResponse\"] = \"...what is the time...\"\n",
      "<ipython-input-204-42af90f9edbb>:24: SettingWithCopyWarning: \n",
      "A value is trying to be set on a copy of a slice from a DataFrame.\n",
      "Try using .loc[row_indexer,col_indexer] = value instead\n",
      "\n",
      "See the caveats in the documentation: https://pandas.pydata.org/pandas-docs/stable/user_guide/indexing.html#returning-a-view-versus-a-copy\n",
      "  why[\"AResponse\"] = \"...what is a reason...\"\n",
      "<ipython-input-204-42af90f9edbb>:26: SettingWithCopyWarning: \n",
      "A value is trying to be set on a copy of a slice from a DataFrame.\n",
      "Try using .loc[row_indexer,col_indexer] = value instead\n",
      "\n",
      "See the caveats in the documentation: https://pandas.pydata.org/pandas-docs/stable/user_guide/indexing.html#returning-a-view-versus-a-copy\n",
      "  why[\"AllResponse\"] = \"...what is every reason...\"\n",
      "<ipython-input-204-42af90f9edbb>:27: SettingWithCopyWarning: \n",
      "A value is trying to be set on a copy of a slice from a DataFrame.\n",
      "Try using .loc[row_indexer,col_indexer] = value instead\n",
      "\n",
      "See the caveats in the documentation: https://pandas.pydata.org/pandas-docs/stable/user_guide/indexing.html#returning-a-view-versus-a-copy\n",
      "  why[\"TheResponse\"] = \"...what is the reason...\"\n",
      "<ipython-input-204-42af90f9edbb>:30: SettingWithCopyWarning: \n",
      "A value is trying to be set on a copy of a slice from a DataFrame.\n",
      "Try using .loc[row_indexer,col_indexer] = value instead\n",
      "\n",
      "See the caveats in the documentation: https://pandas.pydata.org/pandas-docs/stable/user_guide/indexing.html#returning-a-view-versus-a-copy\n",
      "  what[\"AResponse\"] = \"...what is a thing...\"\n",
      "<ipython-input-204-42af90f9edbb>:32: SettingWithCopyWarning: \n",
      "A value is trying to be set on a copy of a slice from a DataFrame.\n",
      "Try using .loc[row_indexer,col_indexer] = value instead\n",
      "\n",
      "See the caveats in the documentation: https://pandas.pydata.org/pandas-docs/stable/user_guide/indexing.html#returning-a-view-versus-a-copy\n",
      "  what[\"AllResponse\"] = \"...what is every thing...\"\n",
      "<ipython-input-204-42af90f9edbb>:33: SettingWithCopyWarning: \n",
      "A value is trying to be set on a copy of a slice from a DataFrame.\n",
      "Try using .loc[row_indexer,col_indexer] = value instead\n",
      "\n",
      "See the caveats in the documentation: https://pandas.pydata.org/pandas-docs/stable/user_guide/indexing.html#returning-a-view-versus-a-copy\n",
      "  what[\"TheResponse\"] = \"...what is the thing...\"\n"
     ]
    }
   ],
   "source": [
    "who[\"AResponse\"] = \"...who is a person...\"\n",
    "# who[\"SomeResponse\"] = \"Who is some person...\"\n",
    "who[\"AllResponse\"] = \"...who is every person...\"\n",
    "who[\"TheResponse\"] = \"...who is the person...\"\n",
    "\n",
    "\n",
    "where[\"AResponse\"] = \"...what is a place...\"\n",
    "# where[\"SomeResponse\"] = \"What is some place...\"\n",
    "where[\"AllResponse\"] = \"...what is every place...\"\n",
    "where[\"TheResponse\"] = \"...what is the place...\"\n",
    "\n",
    "\n",
    "how[\"AResponse\"] = \"...what is a way...\"\n",
    "# how[\"SomeResponse\"] = \"What is some way...\"\n",
    "how[\"AllResponse\"] = \"...what is every way...\"\n",
    "how[\"TheResponse\"] = \"...what is the way...\"\n",
    "\n",
    "when[\"AResponse\"] = \"...what is a time...\"\n",
    "# when[\"SomeResponse\"] = \"What is some time...\"\n",
    "when[\"AllResponse\"] = \"...what is every time...\"\n",
    "when[\"TheResponse\"] = \"...what is the time...\"\n",
    "\n",
    "\n",
    "why[\"AResponse\"] = \"...what is a reason...\"\n",
    "# why[\"SomeResponse\"] = \"What is some reason...\"\n",
    "why[\"AllResponse\"] = \"...what is every reason...\"\n",
    "why[\"TheResponse\"] = \"...what is the reason...\"\n",
    "\n",
    "\n",
    "what[\"AResponse\"] = \"...what is a thing...\"\n",
    "# what[\"SomeResponse\"] = \"What is some thing...\"\n",
    "what[\"AllResponse\"] = \"...what is every thing...\"\n",
    "what[\"TheResponse\"] = \"...what is the thing...\""
   ]
  },
  {
   "cell_type": "code",
   "execution_count": 205,
   "metadata": {},
   "outputs": [],
   "source": [
    "df_final = pd.concat([who,where,how,why,when,what])"
   ]
  },
  {
   "cell_type": "code",
   "execution_count": 22,
   "metadata": {},
   "outputs": [
    {
     "data": {
      "text/plain": [
       "1073"
      ]
     },
     "execution_count": 22,
     "metadata": {},
     "output_type": "execute_result"
    }
   ],
   "source": [
    "len(df_final)"
   ]
  },
  {
   "cell_type": "markdown",
   "metadata": {},
   "source": [
    "# Controls"
   ]
  },
  {
   "cell_type": "code",
   "execution_count": 96,
   "metadata": {},
   "outputs": [],
   "source": [
    "controls = pd.read_csv(\"../../experiments/clean_corpus/controls.csv\")"
   ]
  },
  {
   "cell_type": "code",
   "execution_count": 206,
   "metadata": {},
   "outputs": [],
   "source": [
    "# Add columns to make merging datasets easier\n",
    "controls[\"Wh\"] = \"none\"\n",
    "controls[\"ModalPresent\"] = \"no\"\n",
    "controls[\"Question\"] = controls[\"EntireSentence\"]\n",
    "controls[\"punct\"] = \"\"\n",
    "controls[\"Matrix\"] = \"\"\n",
    "controls[\"Modal\"] = \"\""
   ]
  },
  {
   "cell_type": "code",
   "execution_count": 207,
   "metadata": {},
   "outputs": [],
   "source": [
    "controls = controls[[\"TGrepID\",\"EntireSentence\",\"PreceedingContext\",\"Matrix\",\"Question\",\"Wh\",\"Modal\",\"punct\",\"AResponse\",\"AllResponse\",\"TheResponse\"]]"
   ]
  },
  {
   "cell_type": "code",
   "execution_count": null,
   "metadata": {},
   "outputs": [],
   "source": []
  },
  {
   "cell_type": "markdown",
   "metadata": {},
   "source": [
    "# Balancing factors"
   ]
  },
  {
   "cell_type": "code",
   "execution_count": 52,
   "metadata": {},
   "outputs": [
    {
     "data": {
      "text/plain": [
       "1073"
      ]
     },
     "execution_count": 52,
     "metadata": {},
     "output_type": "execute_result"
    }
   ],
   "source": [
    "len(df_final)"
   ]
  },
  {
   "cell_type": "code",
   "execution_count": 53,
   "metadata": {},
   "outputs": [
    {
     "data": {
      "text/plain": [
       "23"
      ]
     },
     "execution_count": 53,
     "metadata": {},
     "output_type": "execute_result"
    }
   ],
   "source": [
    "1073 - 30*35"
   ]
  },
  {
   "cell_type": "code",
   "execution_count": 210,
   "metadata": {},
   "outputs": [
    {
     "data": {
      "text/plain": [
       "1073"
      ]
     },
     "execution_count": 210,
     "metadata": {},
     "output_type": "execute_result"
    }
   ],
   "source": [
    "# 35 lists of 30, 1 list of 23\n",
    "30*35 + 23"
   ]
  },
  {
   "cell_type": "code",
   "execution_count": 215,
   "metadata": {},
   "outputs": [
    {
     "data": {
      "text/plain": [
       "9"
      ]
     },
     "execution_count": 215,
     "metadata": {},
     "output_type": "execute_result"
    }
   ],
   "source": [
    "289 - (35*8)"
   ]
  },
  {
   "cell_type": "code",
   "execution_count": 216,
   "metadata": {},
   "outputs": [
    {
     "data": {
      "text/plain": [
       "289"
      ]
     },
     "execution_count": 216,
     "metadata": {},
     "output_type": "execute_result"
    }
   ],
   "source": [
    "35*8 + 1*9"
   ]
  },
  {
   "cell_type": "markdown",
   "metadata": {},
   "source": [
    "## Modal Balancing\n",
    "- Lists 1-35: 8\n",
    "- List 36: 9"
   ]
  },
  {
   "cell_type": "code",
   "execution_count": 208,
   "metadata": {},
   "outputs": [
    {
     "data": {
      "text/plain": [
       "Modal\n",
       "no     784\n",
       "yes    289\n",
       "Name: Modal, dtype: int64"
      ]
     },
     "execution_count": 208,
     "metadata": {},
     "output_type": "execute_result"
    }
   ],
   "source": [
    "df_final.groupby([\"Modal\"])[\"Modal\"].count()"
   ]
  },
  {
   "cell_type": "markdown",
   "metadata": {},
   "source": [
    "Modals"
   ]
  },
  {
   "cell_type": "code",
   "execution_count": 209,
   "metadata": {},
   "outputs": [
    {
     "data": {
      "text/html": [
       "<div>\n",
       "<style scoped>\n",
       "    .dataframe tbody tr th:only-of-type {\n",
       "        vertical-align: middle;\n",
       "    }\n",
       "\n",
       "    .dataframe tbody tr th {\n",
       "        vertical-align: top;\n",
       "    }\n",
       "\n",
       "    .dataframe thead th {\n",
       "        text-align: right;\n",
       "    }\n",
       "</style>\n",
       "<table border=\"1\" class=\"dataframe\">\n",
       "  <thead>\n",
       "    <tr style=\"text-align: right;\">\n",
       "      <th></th>\n",
       "      <th>Modal</th>\n",
       "      <th>Question</th>\n",
       "    </tr>\n",
       "  </thead>\n",
       "  <tbody>\n",
       "    <tr>\n",
       "      <th>0</th>\n",
       "      <td>no</td>\n",
       "      <td>0.730662</td>\n",
       "    </tr>\n",
       "    <tr>\n",
       "      <th>1</th>\n",
       "      <td>yes</td>\n",
       "      <td>0.269338</td>\n",
       "    </tr>\n",
       "  </tbody>\n",
       "</table>\n",
       "</div>"
      ],
      "text/plain": [
       "  Modal  Question\n",
       "0    no  0.730662\n",
       "1   yes  0.269338"
      ]
     },
     "execution_count": 209,
     "metadata": {},
     "output_type": "execute_result"
    }
   ],
   "source": [
    "df_final.pivot_table(index=['Modal'], values=\"Question\", aggfunc=len).groupby([\"Modal\"]).Question.transform(lambda x: x/len(df_final)).reset_index()"
   ]
  },
  {
   "cell_type": "code",
   "execution_count": 207,
   "metadata": {},
   "outputs": [
    {
     "data": {
      "text/html": [
       "<div>\n",
       "<style scoped>\n",
       "    .dataframe tbody tr th:only-of-type {\n",
       "        vertical-align: middle;\n",
       "    }\n",
       "\n",
       "    .dataframe tbody tr th {\n",
       "        vertical-align: top;\n",
       "    }\n",
       "\n",
       "    .dataframe thead th {\n",
       "        text-align: right;\n",
       "    }\n",
       "</style>\n",
       "<table border=\"1\" class=\"dataframe\">\n",
       "  <thead>\n",
       "    <tr style=\"text-align: right;\">\n",
       "      <th></th>\n",
       "      <th>Wh</th>\n",
       "      <th>Question</th>\n",
       "    </tr>\n",
       "  </thead>\n",
       "  <tbody>\n",
       "    <tr>\n",
       "      <th>0</th>\n",
       "      <td>how</td>\n",
       "      <td>0.269338</td>\n",
       "    </tr>\n",
       "    <tr>\n",
       "      <th>1</th>\n",
       "      <td>what</td>\n",
       "      <td>0.416589</td>\n",
       "    </tr>\n",
       "    <tr>\n",
       "      <th>2</th>\n",
       "      <td>when</td>\n",
       "      <td>0.025163</td>\n",
       "    </tr>\n",
       "    <tr>\n",
       "      <th>3</th>\n",
       "      <td>where</td>\n",
       "      <td>0.158434</td>\n",
       "    </tr>\n",
       "    <tr>\n",
       "      <th>4</th>\n",
       "      <td>who</td>\n",
       "      <td>0.053122</td>\n",
       "    </tr>\n",
       "    <tr>\n",
       "      <th>5</th>\n",
       "      <td>why</td>\n",
       "      <td>0.077353</td>\n",
       "    </tr>\n",
       "  </tbody>\n",
       "</table>\n",
       "</div>"
      ],
      "text/plain": [
       "      Wh  Question\n",
       "0    how  0.269338\n",
       "1   what  0.416589\n",
       "2   when  0.025163\n",
       "3  where  0.158434\n",
       "4    who  0.053122\n",
       "5    why  0.077353"
      ]
     },
     "execution_count": 207,
     "metadata": {},
     "output_type": "execute_result"
    }
   ],
   "source": [
    "df_final.pivot_table(index=['Wh'], values=\"Question\", aggfunc=len).groupby([\"Wh\"]).Question.transform(lambda x: x/len(df_final)).reset_index()"
   ]
  },
  {
   "cell_type": "code",
   "execution_count": 270,
   "metadata": {},
   "outputs": [],
   "source": [
    "df_final = pd.concat([who,where,how,why,when,what])"
   ]
  },
  {
   "cell_type": "code",
   "execution_count": 254,
   "metadata": {},
   "outputs": [
    {
     "data": {
      "text/plain": [
       "1073"
      ]
     },
     "execution_count": 254,
     "metadata": {},
     "output_type": "execute_result"
    }
   ],
   "source": [
    "len(df_final)"
   ]
  },
  {
   "cell_type": "markdown",
   "metadata": {},
   "source": [
    "# Generating random samples"
   ]
  },
  {
   "cell_type": "markdown",
   "metadata": {},
   "source": [
    "## First Iteration"
   ]
  },
  {
   "cell_type": "markdown",
   "metadata": {},
   "source": [
    "Lists 1-21 (30): 21\n",
    "    1 when ... 21\n",
    "    2 who .... 42\n",
    "    2 why .... 42\n",
    "    5 where ...105\n",
    "    8 how ....168\n",
    "    12 what ...252\n",
    "\n",
    "Modals = 5"
   ]
  },
  {
   "cell_type": "code",
   "execution_count": 238,
   "metadata": {},
   "outputs": [
    {
     "data": {
      "text/plain": [
       "Wh     Modal\n",
       "how    no       156\n",
       "       yes      133\n",
       "what   no       365\n",
       "       yes       82\n",
       "when   no        21\n",
       "       yes        6\n",
       "where  no       122\n",
       "       yes       48\n",
       "who    no        53\n",
       "       yes        4\n",
       "why    no        67\n",
       "       yes       16\n",
       "Name: Wh, dtype: int64"
      ]
     },
     "execution_count": 238,
     "metadata": {},
     "output_type": "execute_result"
    }
   ],
   "source": [
    "df_final.groupby([\"Wh\",\"Modal\"])[\"Wh\"].count()"
   ]
  },
  {
   "cell_type": "code",
   "execution_count": 224,
   "metadata": {},
   "outputs": [
    {
     "data": {
      "text/plain": [
       "Modal\n",
       "no     403\n",
       "yes     70\n",
       "Name: Modal, dtype: int64"
      ]
     },
     "execution_count": 224,
     "metadata": {},
     "output_type": "execute_result"
    }
   ],
   "source": [
    "df_final.groupby([\"Modal\"])[\"Modal\"].count()"
   ]
  },
  {
   "cell_type": "code",
   "execution_count": 352,
   "metadata": {},
   "outputs": [],
   "source": [
    "df_final = pd.concat([who,where,how,why,when,what])"
   ]
  },
  {
   "cell_type": "code",
   "execution_count": 353,
   "metadata": {},
   "outputs": [
    {
     "data": {
      "text/plain": [
       "1073"
      ]
     },
     "execution_count": 353,
     "metadata": {},
     "output_type": "execute_result"
    }
   ],
   "source": [
    "len(df_final)"
   ]
  },
  {
   "cell_type": "code",
   "execution_count": 354,
   "metadata": {},
   "outputs": [
    {
     "data": {
      "text/plain": [
       "1073"
      ]
     },
     "execution_count": 354,
     "metadata": {},
     "output_type": "execute_result"
    }
   ],
   "source": [
    "len(df_final)"
   ]
  },
  {
   "cell_type": "code",
   "execution_count": 355,
   "metadata": {},
   "outputs": [
    {
     "name": "stdout",
     "output_type": "stream",
     "text": [
      "loop2 1, 0\n",
      "who: 2, 0\n",
      "why: 1, 1\n",
      "where: 1, 4\n",
      "how: 5, 3\n",
      "what: 12, 0\n",
      "total #1 = 36\n",
      "loop2 1, 0\n",
      "who: 2, 0\n",
      "why: 2, 0\n",
      "where: 4, 1\n",
      "how: 3, 5\n",
      "what: 10, 2\n",
      "total #2 = 36\n",
      "loop2 1, 0\n",
      "who: 2, 0\n",
      "why: 1, 1\n",
      "where: 4, 1\n",
      "how: 3, 5\n",
      "what: 11, 1\n",
      "total #3 = 36\n",
      "loop2 1, 0\n",
      "who: 2, 0\n",
      "why: 2, 0\n",
      "where: 4, 1\n",
      "how: 1, 7\n",
      "what: 12, 0\n",
      "total #4 = 36\n",
      "loop2 1, 0\n",
      "who: 1, 1\n",
      "why: 2, 0\n",
      "where: 4, 1\n",
      "how: 3, 5\n",
      "what: 11, 1\n",
      "total #5 = 36\n",
      "loop2 1, 0\n",
      "who: 2, 0\n",
      "why: 1, 1\n",
      "where: 3, 2\n",
      "how: 5, 3\n",
      "what: 10, 2\n",
      "total #6 = 36\n",
      "loop2 1, 0\n",
      "who: 2, 0\n",
      "why: 2, 0\n",
      "where: 5, 0\n",
      "how: 3, 5\n",
      "what: 9, 3\n",
      "total #7 = 36\n",
      "when: 1, 1\n",
      "who: 2, 0\n",
      "why: 2, 0\n",
      "where: 4, 1\n",
      "how: 4, 4\n",
      "what: 10, 2\n",
      "total #8 = 36\n",
      "loop2 1, 0\n",
      "who: 2, 0\n",
      "why: 1, 1\n",
      "where: 3, 2\n",
      "how: 4, 4\n",
      "what: 11, 1\n",
      "total #9 = 36\n",
      "when: 1, 1\n",
      "who: 2, 0\n",
      "why: 1, 1\n",
      "where: 5, 0\n",
      "how: 6, 2\n",
      "what: 8, 4\n",
      "total #10 = 36\n",
      "loop2 1, 0\n",
      "who: 2, 0\n",
      "why: 2, 0\n",
      "where: 4, 1\n",
      "how: 7, 1\n",
      "what: 6, 6\n",
      "total #11 = 36\n",
      "loop2 1, 0\n",
      "who: 2, 0\n",
      "why: 2, 0\n",
      "where: 5, 0\n",
      "how: 6, 2\n",
      "what: 6, 6\n",
      "total #12 = 36\n",
      "loop2 1, 0\n",
      "who: 2, 0\n",
      "why: 1, 1\n",
      "where: 5, 0\n",
      "how: 3, 5\n",
      "what: 10, 2\n",
      "total #13 = 36\n",
      "loop2 1, 0\n",
      "who: 2, 0\n",
      "why: 2, 0\n",
      "where: 4, 1\n",
      "how: 5, 3\n",
      "what: 8, 4\n",
      "total #14 = 36\n",
      "loop2 1, 0\n",
      "who: 2, 0\n",
      "why: 2, 0\n",
      "where: 4, 1\n",
      "how: 5, 3\n",
      "what: 8, 4\n",
      "total #15 = 36\n",
      "when: 1, 1\n",
      "who: 2, 0\n",
      "why: 0, 2\n",
      "where: 5, 0\n",
      "how: 5, 3\n",
      "what: 10, 2\n",
      "total #16 = 36\n",
      "loop2 1, 0\n",
      "who: 2, 0\n",
      "why: 2, 0\n",
      "where: 4, 1\n",
      "how: 2, 6\n",
      "what: 11, 1\n",
      "total #17 = 36\n",
      "loop2 1, 0\n",
      "who: 1, 1\n",
      "why: 2, 0\n",
      "where: 2, 3\n",
      "how: 7, 1\n",
      "what: 9, 3\n",
      "total #18 = 36\n",
      "when: 1, 1\n",
      "who: 1, 1\n",
      "why: 1, 1\n",
      "where: 4, 1\n",
      "how: 5, 3\n",
      "what: 11, 1\n",
      "total #19 = 36\n",
      "loop2 1, 0\n",
      "who: 1, 1\n",
      "why: 2, 0\n",
      "where: 3, 2\n",
      "how: 4, 4\n",
      "what: 11, 1\n",
      "total #20 = 36\n",
      "loop2 1, 0\n",
      "who: 2, 0\n",
      "why: 2, 0\n",
      "where: 4, 1\n",
      "how: 5, 3\n",
      "what: 8, 4\n",
      "total #21 = 36\n"
     ]
    }
   ],
   "source": [
    "for n in range(1,22):\n",
    "    mod_sample = df_final[df_final[\"Modal\"] == \"yes\"].sample(8)\n",
    "\n",
    "    i = len(mod_sample[mod_sample[\"Wh\"] == \"why\"])\n",
    "    j = len(mod_sample[mod_sample[\"Wh\"] == \"when\"])\n",
    "    k = len(mod_sample[mod_sample[\"Wh\"] == \"what\"])\n",
    "    l = len(mod_sample[mod_sample[\"Wh\"] == \"how\"])\n",
    "    m = len(mod_sample[mod_sample[\"Wh\"] == \"who\"])\n",
    "    o = len(mod_sample[mod_sample[\"Wh\"] == \"where\"])\n",
    "    df_final = df_final.drop(mod_sample.index)\n",
    "\n",
    "    when_sample = pd.DataFrame(columns=df_final.columns)\n",
    "    if j >= 1:\n",
    "        print(f\"when: {j}, {j}\")\n",
    "        when_sample\n",
    "    else:\n",
    "        ws = df_final[(df_final[\"Wh\"]==\"when\") & (df_final[\"Modal\"] == \"no\")].sample(1)\n",
    "        when_sample = pd.concat([when_sample,ws])\n",
    "        print(f\"loop2 {len(when_sample)}, {j}\")\n",
    "        when_sample\n",
    "    df_final = df_final.drop(when_sample.index)\n",
    "\n",
    "    who_sample = df_final[\n",
    "        (df_final[\"Wh\"] == \"who\") &\n",
    "        (df_final[\"Modal\"] == \"no\")\n",
    "    ].sample(2-m)\n",
    "    print(f\"who: {len(who_sample)}, {m}\")\n",
    "    df_final = df_final.drop(who_sample.index)  \n",
    "\n",
    "#     who_sample = pd.DataFrame(columns=df_final.columns)\n",
    "#     if m >= 2:\n",
    "#         print(f\"who: {j}, {j}\")\n",
    "#         who_sample\n",
    "#     else:\n",
    "#         ws = df_final[(df_final[\"Wh\"]==\"who\") & (df_final[\"Modal\"] == \"no\")].sample(2)\n",
    "#         who_sample = pd.concat([who_sample,ws])\n",
    "#         print(f\"loop2 {len(who_sample)}, {j}\")\n",
    "#         who_sample\n",
    "#     df_final = df_final.drop(who_sample.index)\n",
    "    \n",
    "#     why_sample = pd.DataFrame(columns=df_final.columns)\n",
    "#     if j >= 1:\n",
    "#         print(f\"why: {j}, {j}\")\n",
    "#         why_sample\n",
    "#     else:\n",
    "#         ws = df_final[(df_final[\"Wh\"]==\"why\") & (df_final[\"Modal\"] == \"no\")].sample(1)\n",
    "#         why_sample = pd.concat([why_sample,ws])\n",
    "#         print(f\"loop2 {len(why_sample)}, {j}\")\n",
    "#         why_sample\n",
    "#     df_final = df_final.drop(why_sample.index)  \n",
    "    \n",
    "    why_sample = df_final[\n",
    "        (df_final[\"Wh\"] == \"why\") &\n",
    "        (df_final[\"Modal\"] == \"no\")\n",
    "    ].sample(2-i)\n",
    "    print(f\"why: {len(why_sample)}, {i}\")\n",
    "    df_final = df_final.drop(why_sample.index)\n",
    "    \n",
    "    where_sample = df_final[\n",
    "        (df_final[\"Wh\"] == \"where\") &\n",
    "        (df_final[\"Modal\"] == \"no\")\n",
    "    ].sample(5-o)\n",
    "    print(f\"where: {len(where_sample)}, {o}\")\n",
    "    df_final = df_final.drop(where_sample.index)\n",
    "\n",
    "    how_sample = df_final[\n",
    "        (df_final[\"Wh\"] == \"how\") &\n",
    "        (df_final[\"Modal\"] == \"no\")\n",
    "    ].sample(8-l)\n",
    "    print(f\"how: {len(how_sample)}, {l}\")\n",
    "    df_final = df_final.drop(how_sample.index)    \n",
    "    \n",
    "    what_sample = df_final[\n",
    "        (df_final[\"Wh\"] == \"what\") &\n",
    "        (df_final[\"Modal\"] == \"no\")\n",
    "    ].sample(12-k)\n",
    "    print(f\"what: {len(what_sample)}, {k}\")\n",
    "    df_final = df_final.drop(what_sample.index)\n",
    "    \n",
    "    total = pd.concat([mod_sample,why_sample,when_sample,what_sample,how_sample,who_sample,where_sample,controls])\n",
    "    print(f\"total #{n} = {len(total)}\")\n",
    "    # save to file\n",
    "    filename = f\"../../experiments/clean_corpus/04_experiment/corpus_{n}.txt\".format(n=n)\n",
    "    total.to_csv(filename,header=True,sep=\"\\t\",index=False)"
   ]
  },
  {
   "cell_type": "code",
   "execution_count": 356,
   "metadata": {},
   "outputs": [
    {
     "data": {
      "text/plain": [
       "443"
      ]
     },
     "execution_count": 356,
     "metadata": {},
     "output_type": "execute_result"
    }
   ],
   "source": [
    "1073 - 21*30"
   ]
  },
  {
   "cell_type": "code",
   "execution_count": 357,
   "metadata": {},
   "outputs": [
    {
     "data": {
      "text/plain": [
       "443"
      ]
     },
     "execution_count": 357,
     "metadata": {},
     "output_type": "execute_result"
    }
   ],
   "source": [
    "len(df_final)"
   ]
  },
  {
   "cell_type": "code",
   "execution_count": 348,
   "metadata": {},
   "outputs": [
    {
     "data": {
      "text/plain": [
       "Wh     ModalPresent\n",
       "how    no              105\n",
       "       yes              16\n",
       "what   no              167\n",
       "       yes              28\n",
       "when   no                3\n",
       "       yes               3\n",
       "where  no               44\n",
       "       yes              21\n",
       "who    no               15\n",
       "why    no               33\n",
       "       yes               8\n",
       "Name: Wh, dtype: int64"
      ]
     },
     "execution_count": 348,
     "metadata": {},
     "output_type": "execute_result"
    }
   ],
   "source": [
    "df_final.groupby([\"Wh\",\"ModalPresent\"])[\"Wh\"].count()"
   ]
  },
  {
   "cell_type": "code",
   "execution_count": 350,
   "metadata": {},
   "outputs": [
    {
     "data": {
      "text/plain": [
       "ModalPresent\n",
       "no     367\n",
       "yes     76\n",
       "Name: ModalPresent, dtype: int64"
      ]
     },
     "execution_count": 350,
     "metadata": {},
     "output_type": "execute_result"
    }
   ],
   "source": [
    "df_final.groupby([\"ModalPresent\"])[\"ModalPresent\"].count()"
   ]
  },
  {
   "cell_type": "code",
   "execution_count": 329,
   "metadata": {},
   "outputs": [
    {
     "data": {
      "text/plain": [
       "443"
      ]
     },
     "execution_count": 329,
     "metadata": {},
     "output_type": "execute_result"
    }
   ],
   "source": [
    "1073 - 30*21"
   ]
  },
  {
   "cell_type": "code",
   "execution_count": 328,
   "metadata": {},
   "outputs": [
    {
     "data": {
      "text/plain": [
       "443"
      ]
     },
     "execution_count": 328,
     "metadata": {},
     "output_type": "execute_result"
    }
   ],
   "source": [
    "len(df_final)"
   ]
  },
  {
   "cell_type": "markdown",
   "metadata": {},
   "source": [
    "## Second iteration"
   ]
  },
  {
   "cell_type": "markdown",
   "metadata": {},
   "source": [
    "Modal 22-36 =  4\n",
    "\n",
    "List 22-27 (30): <<<< 6\n",
    "    1 when ...6\n",
    "    1 who ....6\n",
    "    2 why  ...12\n",
    "    5 where ..30\n",
    "    8 how  ...48\n",
    "    13 what ...78"
   ]
  },
  {
   "cell_type": "code",
   "execution_count": 358,
   "metadata": {},
   "outputs": [],
   "source": [
    "for n in range(22,28):\n",
    "    mod_sample = df_final[df_final[\"Modal\"] == \"yes\"].sample(8)\n",
    "\n",
    "    i = len(mod_sample[mod_sample[\"Wh\"] == \"why\"])\n",
    "    j = len(mod_sample[mod_sample[\"Wh\"] == \"when\"])\n",
    "    k = len(mod_sample[mod_sample[\"Wh\"] == \"what\"])\n",
    "    l = len(mod_sample[mod_sample[\"Wh\"] == \"how\"])\n",
    "    m = len(mod_sample[mod_sample[\"Wh\"] == \"who\"])\n",
    "    o = len(mod_sample[mod_sample[\"Wh\"] == \"where\"])\n",
    "    df_final = df_final.drop(mod_sample.index)\n",
    "\n",
    "    when_sample = pd.DataFrame(columns=df_final.columns)\n",
    "    if j >= 1:\n",
    "        # make an empty dataframe\n",
    "        when_sample\n",
    "    else:\n",
    "        ws = df_final[(df_final[\"Wh\"]==\"when\")].sample(1)\n",
    "        when_sample = pd.concat([when_sample,ws])\n",
    "        when_sample\n",
    "    df_final = df_final.drop(when_sample.index)\n",
    "    \n",
    "    who_sample = df_final[\n",
    "        (df_final[\"Wh\"] == \"who\") &\n",
    "        (df_final[\"Modal\"] == \"no\")\n",
    "    ].sample(1-m)\n",
    "    df_final = df_final.drop(who_sample.index)    \n",
    "    \n",
    "    why_sample = df_final[\n",
    "        (df_final[\"Wh\"] == \"why\") &\n",
    "        (df_final[\"Modal\"] == \"no\")\n",
    "    ].sample(2-i)\n",
    "    df_final = df_final.drop(why_sample.index)\n",
    "    \n",
    "    where_sample = df_final[\n",
    "        (df_final[\"Wh\"] == \"where\") &\n",
    "        (df_final[\"Modal\"] == \"no\")\n",
    "    ].sample(5-o)\n",
    "    df_final = df_final.drop(where_sample.index)\n",
    "\n",
    "    how_sample = df_final[\n",
    "        (df_final[\"Wh\"] == \"how\") &\n",
    "        (df_final[\"Modal\"] == \"no\")\n",
    "    ].sample(8-l)\n",
    "    df_final = df_final.drop(how_sample.index)    \n",
    "    \n",
    "    what_sample = df_final[\n",
    "        (df_final[\"Wh\"] == \"what\") &\n",
    "        (df_final[\"Modal\"] == \"no\")\n",
    "    ].sample(13-k)\n",
    "    df_final = df_final.drop(what_sample.index)\n",
    "    \n",
    "    total = pd.concat([mod_sample,when_sample,why_sample,what_sample,how_sample,who_sample,where_sample,controls])\n",
    "\n",
    "    # save to file\n",
    "    filename = f\"../../experiments/clean_corpus/04_experiment/corpus_{n}.txt\".format(n=n)\n",
    "    total.to_csv(filename,header=True,sep=\"\\t\",index=False)"
   ]
  },
  {
   "cell_type": "code",
   "execution_count": 360,
   "metadata": {},
   "outputs": [
    {
     "data": {
      "text/plain": [
       "263"
      ]
     },
     "execution_count": 360,
     "metadata": {},
     "output_type": "execute_result"
    }
   ],
   "source": [
    "443 - 6*30"
   ]
  },
  {
   "cell_type": "code",
   "execution_count": 359,
   "metadata": {},
   "outputs": [
    {
     "data": {
      "text/plain": [
       "263"
      ]
     },
     "execution_count": 359,
     "metadata": {},
     "output_type": "execute_result"
    }
   ],
   "source": [
    "len(df_final)"
   ]
  },
  {
   "cell_type": "code",
   "execution_count": 361,
   "metadata": {},
   "outputs": [
    {
     "data": {
      "text/plain": [
       "ModalPresent\n",
       "no     227\n",
       "yes     36\n",
       "Name: ModalPresent, dtype: int64"
      ]
     },
     "execution_count": 361,
     "metadata": {},
     "output_type": "execute_result"
    }
   ],
   "source": [
    "df_final.groupby([\"ModalPresent\"])[\"ModalPresent\"].count()"
   ]
  },
  {
   "cell_type": "code",
   "execution_count": null,
   "metadata": {},
   "outputs": [],
   "source": []
  },
  {
   "cell_type": "code",
   "execution_count": 120,
   "metadata": {},
   "outputs": [
    {
     "data": {
      "text/plain": [
       "Wh\n",
       "how       73\n",
       "what     117\n",
       "where     35\n",
       "who        9\n",
       "why       29\n",
       "Name: Wh, dtype: int64"
      ]
     },
     "execution_count": 120,
     "metadata": {},
     "output_type": "execute_result"
    }
   ],
   "source": [
    "df_final.groupby([\"Wh\"])[\"Wh\"].count()"
   ]
  },
  {
   "cell_type": "markdown",
   "metadata": {},
   "source": [
    "## Third iteration"
   ]
  },
  {
   "cell_type": "markdown",
   "metadata": {},
   "source": [
    "List 28-30 (30): 3\n",
    "    0 when....\n",
    "    1 who ....3\n",
    "    3 why ....9\n",
    "    5 where....15\n",
    "    9 how......27\n",
    "    12 what ...36"
   ]
  },
  {
   "cell_type": "code",
   "execution_count": 362,
   "metadata": {},
   "outputs": [],
   "source": [
    "for n in range(28,31):\n",
    "    mod_sample = df_final[df_final[\"Modal\"] == \"yes\"].sample(8)\n",
    "\n",
    "    i = len(mod_sample[mod_sample[\"Wh\"] == \"why\"])\n",
    "    k = len(mod_sample[mod_sample[\"Wh\"] == \"what\"])\n",
    "    l = len(mod_sample[mod_sample[\"Wh\"] == \"how\"])\n",
    "    m = len(mod_sample[mod_sample[\"Wh\"] == \"who\"])\n",
    "    o = len(mod_sample[mod_sample[\"Wh\"] == \"where\"])\n",
    "    df_final = df_final.drop(mod_sample.index)\n",
    "\n",
    "    who_sample = df_final[\n",
    "        (df_final[\"Wh\"] == \"who\") &\n",
    "        (df_final[\"Modal\"] == \"no\")\n",
    "    ].sample(1-m)\n",
    "    df_final = df_final.drop(who_sample.index)    \n",
    "    \n",
    "    why_sample = df_final[\n",
    "        (df_final[\"Wh\"] == \"why\") &\n",
    "        (df_final[\"Modal\"] == \"no\")\n",
    "    ].sample(3-i)\n",
    "    df_final = df_final.drop(why_sample.index)\n",
    "    \n",
    "    where_sample = df_final[\n",
    "        (df_final[\"Wh\"] == \"where\") &\n",
    "        (df_final[\"Modal\"] == \"no\")\n",
    "    ].sample(5-o)\n",
    "    df_final = df_final.drop(where_sample.index)\n",
    "\n",
    "    how_sample = df_final[\n",
    "        (df_final[\"Wh\"] == \"how\") &\n",
    "        (df_final[\"Modal\"] == \"no\")\n",
    "    ].sample(9-l)\n",
    "    df_final = df_final.drop(how_sample.index)    \n",
    "    \n",
    "    what_sample = df_final[\n",
    "        (df_final[\"Wh\"] == \"what\") &\n",
    "        (df_final[\"Modal\"] == \"no\")\n",
    "    ].sample(12-k)\n",
    "    df_final = df_final.drop(what_sample.index)\n",
    "    \n",
    "    total = pd.concat([mod_sample,why_sample,what_sample,how_sample,who_sample,where_sample,controls])\n",
    "\n",
    "    # save to file\n",
    "    filename = f\"../../experiments/clean_corpus/04_experiment/corpus_{n}.txt\".format(n=n)\n",
    "    total.to_csv(filename,header=True,sep=\"\\t\",index=False)"
   ]
  },
  {
   "cell_type": "code",
   "execution_count": 363,
   "metadata": {},
   "outputs": [
    {
     "data": {
      "text/plain": [
       "173"
      ]
     },
     "execution_count": 363,
     "metadata": {},
     "output_type": "execute_result"
    }
   ],
   "source": [
    "len(df_final)"
   ]
  },
  {
   "cell_type": "code",
   "execution_count": 364,
   "metadata": {},
   "outputs": [
    {
     "data": {
      "text/plain": [
       "173"
      ]
     },
     "execution_count": 364,
     "metadata": {},
     "output_type": "execute_result"
    }
   ],
   "source": [
    "263 - 30*3"
   ]
  },
  {
   "cell_type": "code",
   "execution_count": 365,
   "metadata": {},
   "outputs": [
    {
     "data": {
      "text/plain": [
       "Wh     ModalPresent\n",
       "how    no              39\n",
       "       yes              7\n",
       "what   no              75\n",
       "       yes              6\n",
       "where  no              13\n",
       "       yes              7\n",
       "who    no               6\n",
       "why    no              17\n",
       "       yes              3\n",
       "Name: Wh, dtype: int64"
      ]
     },
     "execution_count": 365,
     "metadata": {},
     "output_type": "execute_result"
    }
   ],
   "source": [
    "df_final.groupby([\"Wh\",\"ModalPresent\"])[\"Wh\"].count()"
   ]
  },
  {
   "cell_type": "markdown",
   "metadata": {},
   "source": [
    "## Fourth Iteration\n",
    "\n",
    "List 31-32 (30): 2\n",
    "    0 when...0\n",
    "    1 who....2\n",
    "    3 why....6\n",
    "    4 where..8\n",
    "    9 how....18\n",
    "    13 what..26"
   ]
  },
  {
   "cell_type": "code",
   "execution_count": 366,
   "metadata": {},
   "outputs": [],
   "source": [
    "for n in range(31,33):\n",
    "    mod_sample = df_final[df_final[\"Modal\"] == \"yes\"].sample(8)\n",
    "\n",
    "    i = len(mod_sample[mod_sample[\"Wh\"] == \"why\"])\n",
    "    k = len(mod_sample[mod_sample[\"Wh\"] == \"what\"])\n",
    "    l = len(mod_sample[mod_sample[\"Wh\"] == \"how\"])\n",
    "    m = len(mod_sample[mod_sample[\"Wh\"] == \"who\"])\n",
    "    o = len(mod_sample[mod_sample[\"Wh\"] == \"where\"])\n",
    "    df_final = df_final.drop(mod_sample.index)\n",
    "\n",
    "    who_sample = df_final[\n",
    "        (df_final[\"Wh\"] == \"who\") &\n",
    "        (df_final[\"Modal\"] == \"no\")\n",
    "    ].sample(1-m)\n",
    "    df_final = df_final.drop(who_sample.index)    \n",
    "    \n",
    "    why_sample = df_final[\n",
    "        (df_final[\"Wh\"] == \"why\") &\n",
    "        (df_final[\"Modal\"] == \"no\")\n",
    "    ].sample(3-i)\n",
    "    df_final = df_final.drop(why_sample.index)\n",
    "    \n",
    "    where_sample = df_final[\n",
    "        (df_final[\"Wh\"] == \"where\") &\n",
    "        (df_final[\"Modal\"] == \"no\")\n",
    "    ].sample(4-o)\n",
    "    df_final = df_final.drop(where_sample.index)\n",
    "\n",
    "    how_sample = df_final[\n",
    "        (df_final[\"Wh\"] == \"how\") &\n",
    "        (df_final[\"Modal\"] == \"no\")\n",
    "    ].sample(9-l)\n",
    "    df_final = df_final.drop(how_sample.index)    \n",
    "    \n",
    "    what_sample = df_final[\n",
    "        (df_final[\"Wh\"] == \"what\") &\n",
    "        (df_final[\"Modal\"] == \"no\")\n",
    "    ].sample(13-k)\n",
    "    df_final = df_final.drop(what_sample.index)\n",
    "    \n",
    "    total = pd.concat([mod_sample,why_sample,what_sample,how_sample,who_sample,where_sample,controls])\n",
    "\n",
    "    # save to file\n",
    "    filename = f\"../../experiments/clean_corpus/03_experiment/corpus_{n}.txt\".format(n=n)\n",
    "    total.to_csv(filename,header=True,sep=\"\\t\",index=False)"
   ]
  },
  {
   "cell_type": "code",
   "execution_count": 367,
   "metadata": {},
   "outputs": [
    {
     "data": {
      "text/plain": [
       "113"
      ]
     },
     "execution_count": 367,
     "metadata": {},
     "output_type": "execute_result"
    }
   ],
   "source": [
    "len(df_final)"
   ]
  },
  {
   "cell_type": "code",
   "execution_count": 368,
   "metadata": {},
   "outputs": [
    {
     "data": {
      "text/plain": [
       "113"
      ]
     },
     "execution_count": 368,
     "metadata": {},
     "output_type": "execute_result"
    }
   ],
   "source": [
    "173 - 30*2"
   ]
  },
  {
   "cell_type": "code",
   "execution_count": 369,
   "metadata": {},
   "outputs": [
    {
     "data": {
      "text/plain": [
       "Wh\n",
       "how      28\n",
       "what     55\n",
       "where    12\n",
       "who       4\n",
       "why      14\n",
       "Name: Wh, dtype: int64"
      ]
     },
     "execution_count": 369,
     "metadata": {},
     "output_type": "execute_result"
    }
   ],
   "source": [
    "df_final.groupby([\"Wh\"])[\"Wh\"].count()"
   ]
  },
  {
   "cell_type": "code",
   "execution_count": null,
   "metadata": {},
   "outputs": [],
   "source": []
  },
  {
   "cell_type": "markdown",
   "metadata": {},
   "source": [
    "## Fifth Iteration\n",
    "\n",
    "List 33 (30): 1\n",
    "    0 when...0\n",
    "    1 who....1\n",
    "    3 why....3\n",
    "    5 where..5\n",
    "    7 how....7\n",
    "    14 what..14"
   ]
  },
  {
   "cell_type": "code",
   "execution_count": 370,
   "metadata": {},
   "outputs": [],
   "source": [
    "for n in range(33,34):\n",
    "    mod_sample = df_final[df_final[\"Modal\"] == \"yes\"].sample(8)\n",
    "\n",
    "    i = len(mod_sample[mod_sample[\"Wh\"] == \"why\"])\n",
    "    k = len(mod_sample[mod_sample[\"Wh\"] == \"what\"])\n",
    "    l = len(mod_sample[mod_sample[\"Wh\"] == \"how\"])\n",
    "    m = len(mod_sample[mod_sample[\"Wh\"] == \"who\"])\n",
    "    o = len(mod_sample[mod_sample[\"Wh\"] == \"where\"])\n",
    "    df_final = df_final.drop(mod_sample.index)\n",
    "\n",
    "    who_sample = df_final[\n",
    "        (df_final[\"Wh\"] == \"who\") &\n",
    "        (df_final[\"Modal\"] == \"no\")\n",
    "    ].sample(1-m)\n",
    "    df_final = df_final.drop(who_sample.index)    \n",
    "    \n",
    "    why_sample = df_final[\n",
    "        (df_final[\"Wh\"] == \"why\") &\n",
    "        (df_final[\"Modal\"] == \"no\")\n",
    "    ].sample(3-i)\n",
    "    df_final = df_final.drop(why_sample.index)\n",
    "    \n",
    "    where_sample = df_final[\n",
    "        (df_final[\"Wh\"] == \"where\") &\n",
    "        (df_final[\"Modal\"] == \"no\")\n",
    "    ].sample(5-o)\n",
    "    df_final = df_final.drop(where_sample.index)\n",
    "\n",
    "    how_sample = df_final[\n",
    "        (df_final[\"Wh\"] == \"how\") &\n",
    "        (df_final[\"Modal\"] == \"no\")\n",
    "    ].sample(7-l)\n",
    "    df_final = df_final.drop(how_sample.index)    \n",
    "    \n",
    "    what_sample = df_final[\n",
    "        (df_final[\"Wh\"] == \"what\") &\n",
    "        (df_final[\"Modal\"] == \"no\")\n",
    "    ].sample(14-k)\n",
    "    df_final = df_final.drop(what_sample.index)\n",
    "    \n",
    "    total = pd.concat([mod_sample,why_sample,what_sample,how_sample,who_sample,where_sample,controls])\n",
    "\n",
    "    # save to file\n",
    "    filename = f\"../../experiments/clean_corpus/04_experiment/corpus_{n}.txt\".format(n=n)\n",
    "    total.to_csv(filename,header=True,sep=\"\\t\",index=False)"
   ]
  },
  {
   "cell_type": "code",
   "execution_count": 371,
   "metadata": {},
   "outputs": [
    {
     "data": {
      "text/plain": [
       "83"
      ]
     },
     "execution_count": 371,
     "metadata": {},
     "output_type": "execute_result"
    }
   ],
   "source": [
    "len(df_final)"
   ]
  },
  {
   "cell_type": "code",
   "execution_count": 373,
   "metadata": {},
   "outputs": [
    {
     "data": {
      "text/plain": [
       "83"
      ]
     },
     "execution_count": 373,
     "metadata": {},
     "output_type": "execute_result"
    }
   ],
   "source": [
    "113 - 1*30"
   ]
  },
  {
   "cell_type": "markdown",
   "metadata": {},
   "source": [
    "## Sixth Iteration\n",
    "\n",
    "List 34-35 (30): 2\n",
    "    0 when....0\n",
    "    1 who.....2\n",
    "    3 why.....6\n",
    "    3 where...6\n",
    "    7 how.....14\n",
    "    16 what...32"
   ]
  },
  {
   "cell_type": "code",
   "execution_count": 374,
   "metadata": {},
   "outputs": [],
   "source": [
    "for n in range(34,36):\n",
    "    mod_sample = df_final[df_final[\"Modal\"] == \"yes\"].sample(8)\n",
    "\n",
    "    i = len(mod_sample[mod_sample[\"Wh\"] == \"why\"])\n",
    "    k = len(mod_sample[mod_sample[\"Wh\"] == \"what\"])\n",
    "    l = len(mod_sample[mod_sample[\"Wh\"] == \"how\"])\n",
    "    m = len(mod_sample[mod_sample[\"Wh\"] == \"who\"])\n",
    "    o = len(mod_sample[mod_sample[\"Wh\"] == \"where\"])\n",
    "    df_final = df_final.drop(mod_sample.index)\n",
    "\n",
    "    who_sample = df_final[\n",
    "        (df_final[\"Wh\"] == \"who\") &\n",
    "        (df_final[\"Modal\"] == \"no\")\n",
    "    ].sample(1-m)\n",
    "    df_final = df_final.drop(who_sample.index)    \n",
    "    \n",
    "    why_sample = df_final[\n",
    "        (df_final[\"Wh\"] == \"why\") &\n",
    "        (df_final[\"Modal\"] == \"no\")\n",
    "    ].sample(3-i)\n",
    "    df_final = df_final.drop(why_sample.index)\n",
    "    \n",
    "    \n",
    "#     where_sample = pd.DataFrame(columns=df_final.columns)\n",
    "#     if j >= 1:\n",
    "#         print(f\"when: {j}, {j}\")\n",
    "#         # make an empty dataframe\n",
    "#         WS2 = df_final[(df_final[\"Wh\"] == \"why\") & (df_final[\"Modal\"] == \"no\")].sample(3)\n",
    "#         where_sample = pd.concat([where_sample,WS2])\n",
    "#     else:\n",
    "#         where_sample = pd.concat([where_sample,df_final[df_final[\"Modal\"] == \"no\"].sample(3)])\n",
    "# #         print(f\"loop2 {len(when_sample)}, {j}\")\n",
    "#         where_sample\n",
    "#     df_final = df_final.drop(when_sample.index)\n",
    "    \n",
    "    where_sample = df_final[\n",
    "        (df_final[\"Wh\"] == \"where\") &\n",
    "        (df_final[\"Modal\"] == \"no\")\n",
    "    ].sample(3-o)\n",
    "    df_final = df_final.drop(where_sample.index)\n",
    "\n",
    "    how_sample = df_final[\n",
    "        (df_final[\"Wh\"] == \"how\") &\n",
    "        (df_final[\"Modal\"] == \"no\")\n",
    "    ].sample(7-l)\n",
    "    df_final = df_final.drop(how_sample.index)    \n",
    "    \n",
    "    what_sample = df_final[\n",
    "        (df_final[\"Wh\"] == \"what\") &\n",
    "        (df_final[\"Modal\"] == \"no\")\n",
    "    ].sample(16-k)\n",
    "    df_final = df_final.drop(what_sample.index)\n",
    "    \n",
    "    total = pd.concat([mod_sample,why_sample,what_sample,how_sample,who_sample,where_sample,controls])\n",
    "\n",
    "    # save to file\n",
    "    filename = f\"../../experiments/clean_corpus/04_experiment/corpus_{n}.txt\".format(n=n)\n",
    "    total.to_csv(filename,header=True,sep=\"\\t\",index=False)"
   ]
  },
  {
   "cell_type": "code",
   "execution_count": 375,
   "metadata": {},
   "outputs": [
    {
     "data": {
      "text/plain": [
       "23"
      ]
     },
     "execution_count": 375,
     "metadata": {},
     "output_type": "execute_result"
    }
   ],
   "source": [
    "len(df_final)"
   ]
  },
  {
   "cell_type": "code",
   "execution_count": 376,
   "metadata": {},
   "outputs": [
    {
     "data": {
      "text/plain": [
       "23"
      ]
     },
     "execution_count": 376,
     "metadata": {},
     "output_type": "execute_result"
    }
   ],
   "source": [
    "83 - 2*30"
   ]
  },
  {
   "cell_type": "markdown",
   "metadata": {},
   "source": [
    "## Final Set\n",
    "\n",
    "List 36 (23): <--target = 23\n",
    "    0 when\n",
    "    1 who\n",
    "    5 why\n",
    "    1 where\n",
    "    7 how\n",
    "    9 what"
   ]
  },
  {
   "cell_type": "code",
   "execution_count": 377,
   "metadata": {},
   "outputs": [],
   "source": [
    "last = pd.concat([df_final,controls])"
   ]
  },
  {
   "cell_type": "code",
   "execution_count": 378,
   "metadata": {},
   "outputs": [],
   "source": [
    "last.to_csv(\"../../experiments/clean_corpus/04_experiment/corpus_36.txt\",header=True,sep=\"\\t\",index=False)"
   ]
  },
  {
   "cell_type": "markdown",
   "metadata": {},
   "source": [
    "# Pilot Samples"
   ]
  },
  {
   "cell_type": "code",
   "execution_count": 40,
   "metadata": {},
   "outputs": [
    {
     "data": {
      "text/html": [
       "<div>\n",
       "<style scoped>\n",
       "    .dataframe tbody tr th:only-of-type {\n",
       "        vertical-align: middle;\n",
       "    }\n",
       "\n",
       "    .dataframe tbody tr th {\n",
       "        vertical-align: top;\n",
       "    }\n",
       "\n",
       "    .dataframe thead th {\n",
       "        text-align: right;\n",
       "    }\n",
       "</style>\n",
       "<table border=\"1\" class=\"dataframe\">\n",
       "  <thead>\n",
       "    <tr style=\"text-align: right;\">\n",
       "      <th></th>\n",
       "      <th>Wh</th>\n",
       "      <th>EntireSentence</th>\n",
       "    </tr>\n",
       "  </thead>\n",
       "  <tbody>\n",
       "    <tr>\n",
       "      <th>0</th>\n",
       "      <td>how</td>\n",
       "      <td>0.256433</td>\n",
       "    </tr>\n",
       "    <tr>\n",
       "      <th>1</th>\n",
       "      <td>what</td>\n",
       "      <td>0.411713</td>\n",
       "    </tr>\n",
       "    <tr>\n",
       "      <th>2</th>\n",
       "      <td>when</td>\n",
       "      <td>0.023957</td>\n",
       "    </tr>\n",
       "    <tr>\n",
       "      <th>3</th>\n",
       "      <td>where</td>\n",
       "      <td>0.150843</td>\n",
       "    </tr>\n",
       "    <tr>\n",
       "      <th>4</th>\n",
       "      <td>which</td>\n",
       "      <td>0.032831</td>\n",
       "    </tr>\n",
       "    <tr>\n",
       "      <th>5</th>\n",
       "      <td>who</td>\n",
       "      <td>0.050577</td>\n",
       "    </tr>\n",
       "    <tr>\n",
       "      <th>6</th>\n",
       "      <td>why</td>\n",
       "      <td>0.073647</td>\n",
       "    </tr>\n",
       "  </tbody>\n",
       "</table>\n",
       "</div>"
      ],
      "text/plain": [
       "      Wh  EntireSentence\n",
       "0    how        0.256433\n",
       "1   what        0.411713\n",
       "2   when        0.023957\n",
       "3  where        0.150843\n",
       "4  which        0.032831\n",
       "5    who        0.050577\n",
       "6    why        0.073647"
      ]
     },
     "execution_count": 40,
     "metadata": {},
     "output_type": "execute_result"
    }
   ],
   "source": [
    "df_final.pivot_table(index=['Wh'], values=\"EntireSentence\", aggfunc=len).groupby([\"Wh\"]).EntireSentence.transform(lambda x: x/len(df_final)).reset_index()"
   ]
  },
  {
   "cell_type": "code",
   "execution_count": 164,
   "metadata": {},
   "outputs": [],
   "source": [
    "eq_pilot = df_final.sample(10,random_state=666)"
   ]
  },
  {
   "cell_type": "code",
   "execution_count": 166,
   "metadata": {},
   "outputs": [],
   "source": [
    "eqp = pd.concat([eq_pilot,controls])"
   ]
  },
  {
   "cell_type": "code",
   "execution_count": 167,
   "metadata": {},
   "outputs": [],
   "source": [
    "eqp.to_csv(\"../../experiments/clean_corpus/04_experiment/pilot.txt\",header=True,sep=\"\\t\",index=False)"
   ]
  },
  {
   "cell_type": "code",
   "execution_count": 116,
   "metadata": {},
   "outputs": [
    {
     "data": {
      "text/plain": [
       "99.5"
      ]
     },
     "execution_count": 116,
     "metadata": {},
     "output_type": "execute_result"
    }
   ],
   "source": []
  },
  {
   "cell_type": "code",
   "execution_count": 125,
   "metadata": {},
   "outputs": [],
   "source": [
    "mod_sample = df_final[df_final[\"ModalPresent\"] == \"yes\"].sample(1)\n",
    "\n",
    "i = len(mod_sample[mod_sample[\"Wh\"] == \"why\"])\n",
    "j = len(mod_sample[mod_sample[\"Wh\"] == \"when\"])\n",
    "k = len(mod_sample[mod_sample[\"Wh\"] == \"what\"])\n",
    "l = len(mod_sample[mod_sample[\"Wh\"] == \"how\"])\n",
    "m = len(mod_sample[mod_sample[\"Wh\"] == \"who\"])\n",
    "n = len(mod_sample[mod_sample[\"Wh\"] == \"where\"])\n",
    "n = len(mod_sample[mod_sample[\"Wh\"] == \"which\"])\n",
    "df_final = df_final.drop(mod_sample.index)\n",
    "\n",
    "why_sample = df_final[\n",
    "    (df_final[\"Wh\"] == \"why\") &\n",
    "    (df_final[\"ModalPresent\"] == \"no\")\n",
    "                     ].sample(1-i)\n",
    "df_final = df_final.drop(why_sample.index)\n",
    "\n",
    "when_sample = df_final[\n",
    "    (df_final[\"Wh\"] == \"when\") &\n",
    "    (df_final[\"ModalPresent\"] == \"no\")].sample(1-j)\n",
    "df_final = df_final.drop(when_sample.index)\n",
    "\n",
    "what_sample = df_final[\n",
    "    (df_final[\"Wh\"] == \"what\") &\n",
    "    (df_final[\"ModalPresent\"] == \"no\")].sample(5-k)\n",
    "df_final = df_final.drop(what_sample.index)\n",
    "\n",
    "how_sample = df_final[\n",
    "    (df_final[\"Wh\"] == \"how\") &\n",
    "    (df_final[\"ModalPresent\"] == \"no\")\n",
    "                     ].sample(1-l)\n",
    "df_final = df_final.drop(how_sample.index)\n",
    "\n",
    "who_sample = df_final[\n",
    "    (df_final[\"Wh\"] == \"who\") &\n",
    "    (df_final[\"ModalPresent\"] == \"no\")].sample(1-m)\n",
    "df_final = df_final.drop(who_sample.index)\n",
    "\n",
    "where_sample = df_final[\n",
    "    (df_final[\"Wh\"] == \"where\") &\n",
    "    (df_final[\"ModalPresent\"] == \"no\")].sample(1-n)\n",
    "df_final = df_final.drop(where_sample.index)\n"
   ]
  },
  {
   "cell_type": "code",
   "execution_count": 128,
   "metadata": {},
   "outputs": [],
   "source": [
    "total = pd.concat([mod_sample,why_sample,when_sample,what_sample,how_sample,who_sample,where_sample,controls])\n",
    "\n",
    "# save to file\n"
   ]
  },
  {
   "cell_type": "code",
   "execution_count": null,
   "metadata": {},
   "outputs": [],
   "source": []
  },
  {
   "cell_type": "code",
   "execution_count": 129,
   "metadata": {},
   "outputs": [],
   "source": [
    "total.to_csv(\"../../experiments/clean_corpus/04_experiment/pilot.txt\",header=True,sep=\"\\t\",index=False)"
   ]
  },
  {
   "cell_type": "code",
   "execution_count": null,
   "metadata": {},
   "outputs": [],
   "source": []
  }
 ],
 "metadata": {
  "kernelspec": {
   "display_name": "Python 3",
   "language": "python",
   "name": "python3"
  },
  "language_info": {
   "codemirror_mode": {
    "name": "ipython",
    "version": 3
   },
   "file_extension": ".py",
   "mimetype": "text/x-python",
   "name": "python",
   "nbconvert_exporter": "python",
   "pygments_lexer": "ipython3",
   "version": "3.8.3"
  }
 },
 "nbformat": 4,
 "nbformat_minor": 4
}
