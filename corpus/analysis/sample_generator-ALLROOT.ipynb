{
 "cells": [
  {
   "cell_type": "markdown",
   "metadata": {},
   "source": [
    "# sample generator for when, why, what\n",
    "This notebook is for creating the random sample .txt files for the experiment."
   ]
  },
  {
   "cell_type": "code",
   "execution_count": 49,
   "metadata": {},
   "outputs": [],
   "source": [
    "import pandas as pd\n",
    "import numpy as np\n",
    "import seaborn as sns\n",
    "import matplotlib.pyplot as plt\n",
    "import matplotlib as mpl "
   ]
  },
  {
   "cell_type": "markdown",
   "metadata": {},
   "source": [
    " ## Contents\n",
    " 1. [Create separate file with contexts](#Create-separate-file-with-contexts)\n",
    " 2. [Create separate file without contexts](#Create-separate-file-without-contexts)\n",
    " 3. [Creating the files for the experiment](#Creating-files-for-the-experiment)\n",
    " 4. [Automate Paraphrase Generator](#Automate-pharaphrase-generator)\n"
   ]
  },
  {
   "cell_type": "code",
   "execution_count": 2,
   "metadata": {},
   "outputs": [],
   "source": [
    "# import the database file from the TGrep2 searching\n",
    "df = pd.read_csv(\"../results/swbd.tab\", sep='\\t', engine='python')"
   ]
  },
  {
   "cell_type": "code",
   "execution_count": null,
   "metadata": {
    "scrolled": true
   },
   "outputs": [],
   "source": []
  },
  {
   "cell_type": "code",
   "execution_count": 10,
   "metadata": {},
   "outputs": [],
   "source": [
    "# This makes the display show more info\n",
    "pd.set_option('display.max_rows', None)\n",
    "pd.set_option('display.max_colwidth', None)"
   ]
  },
  {
   "cell_type": "markdown",
   "metadata": {},
   "source": [
    "# Creating the files for the experiment"
   ]
  },
  {
   "cell_type": "markdown",
   "metadata": {},
   "source": [
    "## Constrain dataset\n",
    "for experimental mock-up\n",
    "\n",
    "First we have to remove the questions that we don;t want to include:\n",
    "1. non-embedded or root questions\n",
    "2. no degree questions\n",
    "3. no identity questions\n",
    "4. generally only monomorphemic wh-phrases\n",
    "5. only what-, when-, and why-questions"
   ]
  },
  {
   "cell_type": "code",
   "execution_count": 338,
   "metadata": {},
   "outputs": [],
   "source": [
    "# distribution before "
   ]
  },
  {
   "cell_type": "code",
   "execution_count": 339,
   "metadata": {},
   "outputs": [
    {
     "data": {
      "text/plain": [
       "Index(['Item_ID', 'Sentence', 'HaveNeedTo', 'Finite', 'ModalPresent',\n",
       "       'QuestionType', 'DegreeQ', 'SubjectAuxInv', 'WhAll', 'MatrixNegPresent',\n",
       "       'EmbeddedNegPresent', 'SbarNomPresent', 'QuantifiedSubject',\n",
       "       'QuantifiedPredicate', 'Wh', 'MatrixNegation', 'InvertedAuxVerb',\n",
       "       'MatrixPredAux', 'MatrixPredVerb', 'MatrixPredOther',\n",
       "       'MatrixPredParticle', 'MatrixPred2', 'Modal', 'EmbeddedNegation',\n",
       "       'Verb1', 'Verb2', 'Verb3', 'DeterminerSubject', 'DeterminerNonSubject',\n",
       "       'FullWhPhrase', 'JustMatrixClause', 'DeterminerSubjPresent',\n",
       "       'DeterminerNonSubjPresent', 'WhNode', 'WhParse', 'Question',\n",
       "       'SentenceParse', 'WhPhaseType', 'IdentityQ'],\n",
       "      dtype='object')"
      ]
     },
     "execution_count": 339,
     "metadata": {},
     "output_type": "execute_result"
    }
   ],
   "source": [
    "df.columns"
   ]
  },
  {
   "cell_type": "code",
   "execution_count": 4,
   "metadata": {},
   "outputs": [
    {
     "data": {
      "text/plain": [
       "QuestionType\n",
       "adjunct         775\n",
       "cleft           650\n",
       "embadjunct     2418\n",
       "embedded       1692\n",
       "exclamation      34\n",
       "fragment        126\n",
       "relative       1378\n",
       "root           1719\n",
       "subject        1406\n",
       "Name: QuestionType, dtype: int64"
      ]
     },
     "execution_count": 4,
     "metadata": {},
     "output_type": "execute_result"
    }
   ],
   "source": [
    "df.groupby([\"QuestionType\"])[\"QuestionType\"].count()"
   ]
  },
  {
   "cell_type": "code",
   "execution_count": 26,
   "metadata": {},
   "outputs": [
    {
     "data": {
      "text/html": [
       "<div>\n",
       "<style scoped>\n",
       "    .dataframe tbody tr th:only-of-type {\n",
       "        vertical-align: middle;\n",
       "    }\n",
       "\n",
       "    .dataframe tbody tr th {\n",
       "        vertical-align: top;\n",
       "    }\n",
       "\n",
       "    .dataframe thead th {\n",
       "        text-align: right;\n",
       "    }\n",
       "</style>\n",
       "<table border=\"1\" class=\"dataframe\">\n",
       "  <thead>\n",
       "    <tr style=\"text-align: right;\">\n",
       "      <th></th>\n",
       "      <th>QuestionType</th>\n",
       "      <th>Question</th>\n",
       "    </tr>\n",
       "  </thead>\n",
       "  <tbody>\n",
       "    <tr>\n",
       "      <th>0</th>\n",
       "      <td>adjunct</td>\n",
       "      <td>7.598784</td>\n",
       "    </tr>\n",
       "    <tr>\n",
       "      <th>1</th>\n",
       "      <td>cleft</td>\n",
       "      <td>6.373174</td>\n",
       "    </tr>\n",
       "    <tr>\n",
       "      <th>2</th>\n",
       "      <td>embadjunct</td>\n",
       "      <td>23.708207</td>\n",
       "    </tr>\n",
       "    <tr>\n",
       "      <th>3</th>\n",
       "      <td>embedded</td>\n",
       "      <td>16.589862</td>\n",
       "    </tr>\n",
       "    <tr>\n",
       "      <th>4</th>\n",
       "      <td>exclamation</td>\n",
       "      <td>0.333366</td>\n",
       "    </tr>\n",
       "    <tr>\n",
       "      <th>5</th>\n",
       "      <td>fragment</td>\n",
       "      <td>1.235415</td>\n",
       "    </tr>\n",
       "    <tr>\n",
       "      <th>6</th>\n",
       "      <td>relative</td>\n",
       "      <td>13.511129</td>\n",
       "    </tr>\n",
       "    <tr>\n",
       "      <th>7</th>\n",
       "      <td>root</td>\n",
       "      <td>16.854594</td>\n",
       "    </tr>\n",
       "    <tr>\n",
       "      <th>8</th>\n",
       "      <td>subject</td>\n",
       "      <td>13.785665</td>\n",
       "    </tr>\n",
       "  </tbody>\n",
       "</table>\n",
       "</div>"
      ],
      "text/plain": [
       "  QuestionType   Question\n",
       "0      adjunct   7.598784\n",
       "1        cleft   6.373174\n",
       "2   embadjunct  23.708207\n",
       "3     embedded  16.589862\n",
       "4  exclamation   0.333366\n",
       "5     fragment   1.235415\n",
       "6     relative  13.511129\n",
       "7         root  16.854594\n",
       "8      subject  13.785665"
      ]
     },
     "execution_count": 26,
     "metadata": {},
     "output_type": "execute_result"
    }
   ],
   "source": [
    "df.pivot_table(index=['QuestionType'], values=\"Question\", aggfunc=len).groupby([\"QuestionType\"]).Question.transform(lambda x: x/len(df)*100).reset_index()"
   ]
  },
  {
   "cell_type": "code",
   "execution_count": 27,
   "metadata": {},
   "outputs": [
    {
     "data": {
      "text/plain": [
       "45.092699999999994"
      ]
     },
     "execution_count": 27,
     "metadata": {},
     "output_type": "execute_result"
    }
   ],
   "source": [
    "# combine adj + embadj + subject together as \"adjunct\"\n",
    "(.075988 + 0.237082 + 0.137857)*100"
   ]
  },
  {
   "cell_type": "code",
   "execution_count": 42,
   "metadata": {},
   "outputs": [
    {
     "data": {
      "text/plain": [
       "Wh\n",
       "how            381\n",
       "what           991\n",
       "whatever         1\n",
       "when            17\n",
       "where          151\n",
       "whereabouts      1\n",
       "which           19\n",
       "who             83\n",
       "whose            2\n",
       "why             73\n",
       "Name: Wh, dtype: int64"
      ]
     },
     "execution_count": 42,
     "metadata": {},
     "output_type": "execute_result"
    }
   ],
   "source": [
    "df[df['QuestionType'] == 'root'].groupby([\"Wh\"])[\"Wh\"].count()"
   ]
  },
  {
   "cell_type": "code",
   "execution_count": 65,
   "metadata": {},
   "outputs": [],
   "source": [
    "ct = critical.pivot_table(index=['Wh','ModalPresent'], values='Sentence', aggfunc=len).groupby(['Wh']).Sentence.transform(lambda x: x/len(critical)).reset_index()"
   ]
  },
  {
   "cell_type": "code",
   "execution_count": 66,
   "metadata": {},
   "outputs": [
    {
     "data": {
      "text/html": [
       "<div>\n",
       "<style scoped>\n",
       "    .dataframe tbody tr th:only-of-type {\n",
       "        vertical-align: middle;\n",
       "    }\n",
       "\n",
       "    .dataframe tbody tr th {\n",
       "        vertical-align: top;\n",
       "    }\n",
       "\n",
       "    .dataframe thead th {\n",
       "        text-align: right;\n",
       "    }\n",
       "</style>\n",
       "<table border=\"1\" class=\"dataframe\">\n",
       "  <thead>\n",
       "    <tr style=\"text-align: right;\">\n",
       "      <th></th>\n",
       "      <th>Wh</th>\n",
       "      <th>ModalPresent</th>\n",
       "      <th>Sentence</th>\n",
       "    </tr>\n",
       "  </thead>\n",
       "  <tbody>\n",
       "    <tr>\n",
       "      <th>0</th>\n",
       "      <td>how</td>\n",
       "      <td>no</td>\n",
       "      <td>0.156784</td>\n",
       "    </tr>\n",
       "    <tr>\n",
       "      <th>1</th>\n",
       "      <td>how</td>\n",
       "      <td>yes</td>\n",
       "      <td>0.028141</td>\n",
       "    </tr>\n",
       "    <tr>\n",
       "      <th>2</th>\n",
       "      <td>what</td>\n",
       "      <td>no</td>\n",
       "      <td>0.520603</td>\n",
       "    </tr>\n",
       "    <tr>\n",
       "      <th>3</th>\n",
       "      <td>what</td>\n",
       "      <td>yes</td>\n",
       "      <td>0.067337</td>\n",
       "    </tr>\n",
       "    <tr>\n",
       "      <th>4</th>\n",
       "      <td>when</td>\n",
       "      <td>no</td>\n",
       "      <td>0.014070</td>\n",
       "    </tr>\n",
       "    <tr>\n",
       "      <th>5</th>\n",
       "      <td>when</td>\n",
       "      <td>yes</td>\n",
       "      <td>0.001005</td>\n",
       "    </tr>\n",
       "    <tr>\n",
       "      <th>6</th>\n",
       "      <td>where</td>\n",
       "      <td>no</td>\n",
       "      <td>0.093467</td>\n",
       "    </tr>\n",
       "    <tr>\n",
       "      <th>7</th>\n",
       "      <td>where</td>\n",
       "      <td>yes</td>\n",
       "      <td>0.004020</td>\n",
       "    </tr>\n",
       "    <tr>\n",
       "      <th>8</th>\n",
       "      <td>who</td>\n",
       "      <td>no</td>\n",
       "      <td>0.046231</td>\n",
       "    </tr>\n",
       "    <tr>\n",
       "      <th>9</th>\n",
       "      <td>who</td>\n",
       "      <td>yes</td>\n",
       "      <td>0.008040</td>\n",
       "    </tr>\n",
       "    <tr>\n",
       "      <th>10</th>\n",
       "      <td>why</td>\n",
       "      <td>no</td>\n",
       "      <td>0.047236</td>\n",
       "    </tr>\n",
       "    <tr>\n",
       "      <th>11</th>\n",
       "      <td>why</td>\n",
       "      <td>yes</td>\n",
       "      <td>0.013065</td>\n",
       "    </tr>\n",
       "  </tbody>\n",
       "</table>\n",
       "</div>"
      ],
      "text/plain": [
       "       Wh ModalPresent  Sentence\n",
       "0     how           no  0.156784\n",
       "1     how          yes  0.028141\n",
       "2    what           no  0.520603\n",
       "3    what          yes  0.067337\n",
       "4    when           no  0.014070\n",
       "5    when          yes  0.001005\n",
       "6   where           no  0.093467\n",
       "7   where          yes  0.004020\n",
       "8     who           no  0.046231\n",
       "9     who          yes  0.008040\n",
       "10    why           no  0.047236\n",
       "11    why          yes  0.013065"
      ]
     },
     "execution_count": 66,
     "metadata": {},
     "output_type": "execute_result"
    }
   ],
   "source": [
    "ct"
   ]
  },
  {
   "cell_type": "code",
   "execution_count": 67,
   "metadata": {},
   "outputs": [
    {
     "data": {
      "image/png": "[encoded data removed]",
      "text/plain": [
       "<Figure size 576x432 with 1 Axes>"
      ]
     },
     "metadata": {},
     "output_type": "display_data"
    }
   ],
   "source": [
    "sns.set(font_scale=1.5)\n",
    "fig_dims = (8, 6)\n",
    "fig, ax = plt.subplots(figsize=fig_dims)\n",
    "g = sns.barplot(x=\"ModalPresent\", y=\"Sentence\", hue=\"Wh\", palette=\"ch:.25\", data=ct)\n",
    "plt.subplots_adjust(top=0.9)\n",
    "# g.fig.suptitle('questType x clauseType x wh')\n",
    "plt.show()\n",
    "\n"
   ]
  },
  {
   "cell_type": "code",
   "execution_count": null,
   "metadata": {},
   "outputs": [],
   "source": []
  },
  {
   "cell_type": "code",
   "execution_count": null,
   "metadata": {},
   "outputs": [],
   "source": []
  },
  {
   "cell_type": "code",
   "execution_count": 30,
   "metadata": {
    "collapsed": true
   },
   "outputs": [
    {
     "data": {
      "text/plain": [
       "Item_ID                                                                                                                                                                                                                                                                                                                                                                         3477:32\n",
       "Sentence                                                                                                                                                                                                                                                                                                          i, i never found out what a lot of the seventies music had *t*-1 too.\n",
       "HaveNeedTo                                                                                                                                                                                                                                                                                                                                                                           no\n",
       "Finite                                                                                                                                                                                                                                                                                                                                                                              yes\n",
       "ModalPresent                                                                                                                                                                                                                                                                                                                                                                         no\n",
       "QuestionType                                                                                                                                                                                                                                                                                                                                                                    subject\n",
       "DegreeQ                                                                                                                                                                                                                                                                                                                                                                              no\n",
       "SubjectAuxInv                                                                                                                                                                                                                                                                                                                                                                       NaN\n",
       "WhAll                                                                                                                                                                                                                                                                                                                                                                               NaN\n",
       "MatrixNegPresent                                                                                                                                                                                                                                                                                                                                                                    NaN\n",
       "EmbeddedNegPresent                                                                                                                                                                                                                                                                                                                                                                  NaN\n",
       "SbarNomPresent                                                                                                                                                                                                                                                                                                                                                                      yes\n",
       "QuantifiedSubject                                                                                                                                                                                                                                                                                                                                                                   NaN\n",
       "QuantifiedPredicate                                                                                                                                                                                                                                                                                                                                                                 NaN\n",
       "Wh                                                                                                                                                                                                                                                                                                                                                                                 what\n",
       "MatrixNegation                                                                                                                                                                                                                                                                                                                                                                      NaN\n",
       "InvertedAuxVerb                                                                                                                                                                                                                                                                                                                                                                     NaN\n",
       "MatrixPredAux                                                                                                                                                                                                                                                                                                                                                                       NaN\n",
       "MatrixPredVerb                                                                                                                                                                                                                                                                                                                                                                    found\n",
       "MatrixPredOther                                                                                                                                                                                                                                                                                                                                                                     NaN\n",
       "MatrixPredParticle                                                                                                                                                                                                                                                                                                                                                                  NaN\n",
       "MatrixPred2                                                                                                                                                                                                                                                                                                                                                                         NaN\n",
       "Modal                                                                                                                                                                                                                                                                                                                                                                               NaN\n",
       "EmbeddedNegation                                                                                                                                                                                                                                                                                                                                                                    NaN\n",
       "Verb1                                                                                                                                                                                                                                                                                                                                                                               had\n",
       "Verb2                                                                                                                                                                                                                                                                                                                                                                               too\n",
       "Verb3                                                                                                                                                                                                                                                                                                                                                                               NaN\n",
       "DeterminerSubject                                                                                                                                                                                                                                                                                                                                          a lot of the seventies music\n",
       "DeterminerNonSubject                                                                                                                                                                                                                                                                                                                                       a lot of the seventies music\n",
       "FullWhPhrase                                                                                                                                                                                                                                                                                                                                                                        NaN\n",
       "JustMatrixClause                                                                                                                                                                                                                                                                                                  i, i never found out what a lot of the seventies music had *t*-1 too.\n",
       "DeterminerSubjPresent                                                                                                                                                                                                                                                                                                                                                               yes\n",
       "DeterminerNonSubjPresent                                                                                                                                                                                                                                                                                                                                                             no\n",
       "WhNode                                                                                                                                                                                                                                                                                                                                                                              NaN\n",
       "WhParse                                                                                                                                                                                                                                                                                                                                                                       (WP what)\n",
       "Question                                                                                                                                                                                                                                                                                                                                what a lot of the seventies music had *t*-1 too\n",
       "SentenceParse               (TOP (S (EDITED (RM (-DFL- \\[)) (NP-SBJ (PRP I)) (, ,) (IP (-DFL- \\+))) (NP-SBJ (PRP I)) (RS (-DFL- \\])) (ADVP-TMP (RB never)) (VP (VBD found) (PRT (RP out)) (SBAR-NOM (WHNP-1 (WP what)) (S (NP-SBJ (NP (DT a) (NN lot)) (PP (IN of) (NP (DT the) (NNS seventies) (NN music)))) (VP (VBD had) (NP (-NONE- *T*-1)) (ADVP (RB too)))))) (. .) (-DFL- E_S)))\n",
       "WhPhaseType                                                                                                                                                                                                                                                                                                                                                               monomorphemic\n",
       "IdentityQ                                                                                                                                                                                                                                                                                                                                                                            no\n",
       "Name: 220, dtype: object"
      ]
     },
     "execution_count": 30,
     "metadata": {},
     "output_type": "execute_result"
    }
   ],
   "source": [
    "# this should potentially be embedded....definitely not subject!\n",
    "df.iloc[220]\n",
    "# same with 331, 400....477\n",
    "\n",
    "\n",
    "# should be identity q: 30\n",
    "# should not be embedded: 233"
   ]
  },
  {
   "cell_type": "code",
   "execution_count": 5,
   "metadata": {},
   "outputs": [],
   "source": [
    "critical = df[(df['QuestionType'] == 'root') # only root questions\n",
    "              & \n",
    "              (df['DegreeQ'] == 'no' ) # no degree questions\n",
    "              &\n",
    "              (df['IdentityQ'] == \"no\") # no identity questions\n",
    "              &\n",
    "              (df['Wh'].isin(['how','How','where','Where','who','Who','what','What','why','Why','when','When'])) # just these wh-words\n",
    "              &\n",
    "              (df['WhPhaseType'] == 'monomorphemic') # monomorphic wh only (might get anything not go by degQ)\n",
    "             ]"
   ]
  },
  {
   "cell_type": "code",
   "execution_count": 19,
   "metadata": {},
   "outputs": [
    {
     "data": {
      "text/plain": [
       "15                                                                                                                                                                                                                                          what did you wear *t*-1 to work today?\n",
       "16                                                                                                                                                                                                                                            what did i wear *t*-1 to work today?\n",
       "117                                                                                                                                                                                                                                         what do you mean *t*-1 by world music?\n",
       "126                                                                                                                                                                                                                                                      what do you all do *t*-1?\n",
       "131                                                                                                                                                                                                                             what are you all trying *-1 to do *t*-2 long term.\n",
       "225                                                                                                                                                                                                                                             what *t*-1 happened in the middle?\n",
       "227                                                                                                                                                                                                                                             uh what, what are you doing *t*-1?\n",
       "242                                                                                                                                                                                                                                                    what, what do you do *t*-1?\n",
       "299                                                                                                                                                                                                                                        i mean, what's the other one *t*-1, uh,\n",
       "305                                                                                                                                                                                                                        well, what newspapers, uh, do you read *t*-1 in dallas?\n",
       "315                                                                                                                                                                                                                                                what time is it *t*-1 over th-,\n",
       "317                                                                                                                                                                                                                                           wha-, what are you working on *t*-1?\n",
       "355                                                                                                                                                                                                                   well, what d-, do you think *t*-1 in terms of, uh, benefits?\n",
       "358                                                                                           now that i'm a hundred percent vested *-1, you know, you kind of look through the book and see well, what exactly, what does that mean *t*-2 and what is the pension all about *t*-3\n",
       "408                                                                                                                                                                                                                   well, if they went awol, what are you going *-1 to do *t*-2.\n",
       "421                                                                                                                                                                                                                                        what are you afraid of *t*-1 with them?\n",
       "422                                                                                                                                                                                                                                                     what am i afraid of *t*-1?\n",
       "461                                                                                                                                                              well, what do you think *t*-1 about nolan ryan being the first baseball player 0 *t*-2 to earn a million dollars?\n",
       "470                                                                                                                                                                                                                                 what was, no, * wait mumblex about the liquor?\n",
       "473                                                                                                                                                                                                                                                     oh, what's he teach *t*-1?\n",
       "474                                                                                                                                                                                                                                                      so, what do you do *t*-1?\n",
       "493                                                                                                                                                                                                             what would you serve *t*-1, uh, if you were having a dinner party?\n",
       "494                                                                                                                                                                         it was, um, about movies, you know, what have you seen *t*-1 at the movies lately and stuff like that.\n",
       "514                                                                                                                                                                                                                                                what *t*-1 makes you, think so?\n",
       "515                                                                                                                                                                                                                                     what are you, what are you studying *t*-1?\n",
       "516                                                                                                                                                                                                                             and what do you think 0 you'll do *t*-1 with that?\n",
       "517                                                                                                                                                                                                                   or what's the specialty that you're looking for *t*-1 *t*-2?\n",
       "531                                                                                                                                                                                                                 what *t*-1 are some of your things 0 you like *-2 to do *t*-3?\n",
       "537                                                                                                                                                                                                                                        uh, what else did i get *t*-1 in there,\n",
       "546                                                                                                                                                                                                                                           what do you think 0 we can do *t*-1?\n",
       "597                                                                                                                                                                                                                                              what did he shoot him with *t*-1.\n",
       "607                                                                                                                                                                                                                                                    and what do you have *t*-1.\n",
       "646                                                                                                                                                                                                                                                 well what have you seen *t*-1?\n",
       "650                                                                                                                                                                                                                                                              what else did it.\n",
       "656                                                                                                                                                                                                                             what did you think *t*-1 about the buffalo scenes.\n",
       "665                                                                                                                                                                                                                                                       what do you think *t*-1?\n",
       "681                                                                                                                                                      i mean, what do you think 0 we can, uh, i guess *rnr*-2 as individuals or as a group, do *t*-1 about, uh, air pollution?.\n",
       "686                                                                                                                                                                                                well, what do you think *t*-1 about like a device, a meter right on a tail pipe\n",
       "690                                                                                                                                                                                                                                            what do you like *-1 to cook *t*-2?\n",
       "693                                                                                                                                                                                                                                        what do you like to, *-1 to cook *t*-2?\n",
       "698                                                                                                                                                                                                                                              what did i make *t*-1 that night.\n",
       "710                                                                                                                                                                                and, and what, what do you do *t*-2 with the people that *t*-1 are over there in the mean time.\n",
       "725                                                                                                                                                                                                                                                                    what els-,.\n",
       "730                                                                                                                                                                                                  what's that real, oh, not real old, my wife she is old too, dancer *t*-1, uh,\n",
       "741                                                                                                                                                                                    uh, what do you think *t*-1 about, uh, the idea of * having volunteer service for everyone?\n",
       "746                                                                                                                                                                                                      what, what would, what would you find, what would you have them do *t*-1?\n",
       "747                                                                                                                                                                                                         what would you have these people do *t*-2 if they were brought in *-1?\n",
       "789                                                                                                                                                                                                                                                        what do you mean *t*-1?\n",
       "802                                                                                                                                                                                what, what do you envision *t*-1 for the next twenty years as far as women in american society?\n",
       "804                                                                                                                                                                      well what do you think *t*-1 about the idea of, uh, kids having *-2 to do public service work for a year?\n",
       "822                                                                                                                                                                                                                      what did you think *t*-1 of the news coverage of the war?\n",
       "845                                                                                                                                                                                                                                               what are they going up to *t*-1,\n",
       "851                                                                                                                                                                                                                                           so, uh, what do you think, that, uh,\n",
       "852                                                                                                                                                                                         what do, what do, what do you think 0 we can do *t*-1 * to solve the crime in america?\n",
       "902                                                                                                                                                                                                                                           and then what else did i have *t*-1?\n",
       "910                                                                                                                                                                                                                                               what have you seen *t*-1 lately?\n",
       "974                                                                                                                                                                                                                                                    what, what do you do *t*-1?\n",
       "983                                                                                                                                                                                                                                                   what's his name *t*-1 again?\n",
       "986                                                                                                                                                                                                                                                                  oh, what can,\n",
       "1006                                                                                                                                                                                                                              and, uh, what is the other one called *-2 *t*-1.\n",
       "1028                                                                                                                                                                                                              wh-, d-, what do you plan, have *t*-1 planned *-2 for your yard?\n",
       "1097                                                                                                                                                                                                             you know. what's, uh, what's, what's *t*-1 really happening here.\n",
       "1106                                                                                                                                                                                                                                wh-, uh, w-, what do you get shot *-1 by *t*-5\n",
       "1110                                                                                                                                                                                                           what are we going *-2 to do *t*-1 with all the soldiers over there?\n",
       "1116                                                                                                                                                                                                                          so, what's the latest one 0 you've read *t*-1 *t*-2?\n",
       "1127                                                                                                                                                                                                                                   so, you know. what does that make me *t*-1,\n",
       "1151                                                                                                                                                                                                                                        where, what did they say *t*-1 to, uh,\n",
       "1170                                                                                                                                                                                                                                             what are trying *-1 to get *t*-2?\n",
       "1201                                                                                                                                                                                                               so what do you, what do you consider *t*-1 your favorite shows?\n",
       "1236                                                                                                                                                                                                                                               what, what are you doing *t*-1?\n",
       "1261                                                                                                                                                                                                                                        what does it, what does it cost *t*-1.\n",
       "1262                                                                                                                                                                                                                                        what are you learning *-2 to be *t*-1?\n",
       "1263                                                                                                                                                                                       what degree, i mean, what are you wanting *-1 to do *t*-2 after you get out of college?\n",
       "1283                                                                                                                                                                                                                                              and what do those kids do *t*-1,\n",
       "1284                                                                                                                                                                                                                                                   what do they do *t*-1 then.\n",
       "1296                                                                                                                                                                                                                                                what'd you do *t*-1 with them?\n",
       "1325                                                                                                                                                                                                                                          so what do you think *t*-1 about it?\n",
       "1336                                                                                                                                                                                                                           but what do you do *t*-1 with them in the meantime?\n",
       "1344                                                                                                                                                                                                                                            um, what is that called *-1 *t*-2?\n",
       "1348                                                                                                                                                                                                                                   what are some of your favorite foods *t*-1?\n",
       "1356                                                                                                                                                                                                              what do you, what other, what dishes do you serve *t*-1 with it?\n",
       "1367                                                                                                                                                   well, the first thing, uh, what do you think 0 you would offer *t*-1 as far as, uh, information about * selecting a school?\n",
       "1388                                                                                                                                                                                                                   what's *t*-1 going *-2 to happen when she gets there *t*-3.\n",
       "1429                                                                                                                                                                                                                                             what, what do you advocate *t*-1,\n",
       "1478                                                                                                                                                                                                                                                      so what is it *t*-1 now?\n",
       "1479                                                                                                                                                                                                                                                        what do you mean *t*-1\n",
       "1483                                                                                                                                                                                                                                                    what are you saying *t*-1?\n",
       "1486                                                                                                                                                                                                                                       what is that thing 0 i saw *t*-1 *t*-2,\n",
       "1488                                                                                                                                                                                                                                            what else can we talk about *t*-1?\n",
       "1494                                                                                                                                                                                                                                                what do you mean *t*-1, where?\n",
       "1496                                                                                                                                                                                                                                 so what are you getting your degree in *t*-1?\n",
       "1497                                                                                                                                                                                                                                             and what do you do *t*-1 with it?\n",
       "1547                                                                                                                                                                                                                                                what can we do *t*-1 about it?\n",
       "1567                                                                                                                                                                                                                                               what's the solution *t*-1 then?\n",
       "1606                                                                                                                                                                                                                                                                what will you,\n",
       "1626                                                                                                                                                                                                                                                        what do you use *t*-1?\n",
       "1631                                                                                                                                                                                                                                what's the word 0 i'm looking for *t*-1 *t*-2,\n",
       "1657                                                                                                                                                                                                                                     now what year are we talking about *t*-1?\n",
       "1708                                                                                                                                                                                                                                                 what did you call that *t*-1?\n",
       "1754                                                                                                                                                                                                                                              what do you have *t*-1, at home?\n",
       "1787                                                                                                                                                                                                                                  but then what movie *t*-1 isn't *?* anymore.\n",
       "1816                                                                                                                            you know, what has, you know, has, has the educational system been watered *-3 down to *t*-1 that anybody who *t*-2's above average is now gifted?\n",
       "1821                                                                                                                                                                                                                                      what are you telling that student *t*-1?\n",
       "1831                                                                                                                                                                                                                                     so, uh, what do you think *t*-1 about it?\n",
       "1835                                                                                                                                                                                                              and what *t*-1 happens if it, you know, if it, if they catch it,\n",
       "1847                                                                                                                                                                                                        what limits *t*-1 ought *-2 to be put *-3 on it, do you think 0 *t*-4?\n",
       "1904                                                                                                                                                                                                                                    what have you got *t*-1 growing right now?\n",
       "1914                                                                                                                                                                                                                            well, what would you have *t*-1 at a dinner party?\n",
       "1954                                                                                                                                                                                                                                                what'd they do *t*-1 for that?\n",
       "1997                                                                                                                                                                                                                               what was the last comedy 0 you saw *t*-1 *t*-2?\n",
       "1998                                                                                                                                                                                                                        oh gosh what was the last comedy 0 we saw *t*-1 *t*-2?\n",
       "2034                                                                                                                                                                                           the children's program i think 0 *t*-3 at the time was called *-2 what *t*-1's new.\n",
       "2073                                                                                                                                                                                    what *t*-1 would happen if the mumblex required young people to do service to the country,\n",
       "2074                                                                                                                                                                                                                         what should they get *t*-2 in return, i wonder *t*-1.\n",
       "2075                                                                                                                                                                                                                              i mean, what are we, what are we becoming *t*-1?\n",
       "2084                                                                                                                                                                                                                                                  what *t*-1's more important,\n",
       "2090                                                                                                                                                                                                                                                      what else do i do *t*-1.\n",
       "2113                                                                                                                                                                   what do you, what do you do *t*-1 when you get a, i mean, like a really violent storm like a tornado *t*-2,\n",
       "2153                                                                                                                                                                                                                                                      what do you think *t*-1,\n",
       "2204                                                                                                                                                                                                                                       what's that going *-2 to be like *t*-1.\n",
       "2213                                                                                                                                                                                                                                 and now, you know, what do we have *t*-1 now.\n",
       "2216                                                                                                                                                                                                                                             what *t*-1's going *-2 to happen?\n",
       "2218                                                                                                                                                             and what's it going *-1 to be like *t*-2 in another twelve years when my, uh, oldest son is in high school *t*-3.\n",
       "2226                                                                                                                                                                                                                                      what processor does it have *t*-1 in it?\n",
       "2250                                                                                                                                                                                                                                           what do you like *-1 to read *t*-2?\n",
       "2254                                                                                                                                                                                                                                               what would you recommend *t*-1?\n",
       "2266                                                                                                                                                                                                                                                  what else have i done *t*-1?\n",
       "2281                                                                                                                                                                                                                                                what do you use *t*-1 mumblex?\n",
       "2282                                                                                                                                                                                                                                              what do you serve *t*-1 with it?\n",
       "2283                                                                                                                                                                                                                                              what do you serve *t*-1 with it?\n",
       "2286                                                                                                                                                                                                                                          what time should we be there *t*-1?.\n",
       "2301                                                                                                                                                                                                              so which, uh, what basketball teams are you interested in *t*-1?\n",
       "2320                                                                                                                                                                                                                                                       what do they have *t*-1\n",
       "2415                                                                                                                                                                                                                                      what do you usually wear *t*-1 to work?.\n",
       "2440                                                                                                                         and, uh, and i find 0 even, even at home here now, i, i will wear blue jeans or i'll wear shorts and what have you *t*-1, uh, and be very comfortable\n",
       "2449                                                                                                                                                                                                                            how do yo-, wh-, what do you think *t*-1 about it.\n",
       "2460                                                                                                                                                                                                                              well what are we going *-1 to do *t*-2 about it?\n",
       "2462                                                                                                                                                                                                                                                 well what do you think *t*-1?\n",
       "2497                                                                                                                                                                                                                                          what are they doing *t*-2, you know,\n",
       "2506                                                                                                                                                                                                                                                    what have you done *t*-1?.\n",
       "2521                                                                                                                                                                                                                                          what do you do *t*-1 in your garden,\n",
       "2522                                                                                                                                                                                                                                                       what should i do *t*-1?\n",
       "2523                                                                                                                                                                                                                                                     what have you seen *t*-1?\n",
       "2531                                                                                                                                                                                                                you know, what's the significance of the apes *t*-1, you know.\n",
       "2536                                                                                                                                                                                                                      what are some other ones 0 i've seen *t*-1 lately *t*-2.\n",
       "2601                             well, the, see the problem is 0 if, if the, if someone would have came up to me and said it's going *-1 to cost you five hundred dollars *-2 to keep your dog alive. what do you want *-1 to do *t*-2? i probably would have had second thoughts.\n",
       "2698                                                                                                                                                                                                                                 well, wh-, what *t*-1's the difference there,\n",
       "2702                                                                                                                                                                                                                                                  what do they get paid *t*-1.\n",
       "2708                                                                                                                                                                                                                            well, what a wh-, what do we currently have *t*-1,\n",
       "2712                                                                                                                                                                                                                       so, what's your next purchase supposed *-2 to be *t*-1?\n",
       "2713                                                                                                                                                                                                                    if you had a choice of your car, what would you get *t*-1?\n",
       "2765                                                                                                                                                                                                   now when you baby-sit *t*-1, what age group children do you sit with *t*-2?\n",
       "2768                                                                                                                                                                                                                                              and what are you studying *t*-1?\n",
       "2776                                                                                                                                                                                                                                                     what did you teach *t*-1?\n",
       "2806                                                                                                                                                                                                                                                  what kind do you have *t*-1?\n",
       "2841                                                                                                                                                                                                                               what did you have *t*-1 before you bought that.\n",
       "2860                                                                                                                                                                                                                                     or what was the whole deal on that *t*-1?\n",
       "2861                                                                                                                                                                                                                                                    what was i thinking *t*-1.\n",
       "2869                                                                                                                                                                                                                                                                 what do they,\n",
       "2873                                                                                                                                                                                                                                       well, what do you think *t*-1 about it?\n",
       "2886                                                                                                                                                                                              what do you think *t*-1 about the, uh, peace corps or public service commitment?\n",
       "2912                                                                                                                                                                                       what *t*-1 was the reason why somebody was trying *-2 to find out all that stuff *t*-3?\n",
       "2921                                                                                                                                                                                                                    hum, what do you think 0 *t*-1 could be done *-2 about it?\n",
       "2947                                                                                                                                                                                                         so, what *t*-1 made you decide *-2 to put her in a montessori school?\n",
       "2970                                                                                                                                                                                                       what *t*-1's, what *t*-2's your most recent one that you've seen *t*-3?\n",
       "2972                                                                                                                                                                                                                                                        what do you mean *t*-1\n",
       "2973                                                                                                                                                                                                                                  what *t*-1 was your favorite all time movie?\n",
       "2983                                                                                                                                                                                                                                         what *t*-2's the one that *t*-1 just,\n",
       "2997                                                                                  and, you know, what i mean *t*-2, it's like * looking beyond what they're doing *t*-3 and looking at a heart and seeing what is the heart *t*-1, what's the character showing me *t*-4 here.\n",
       "3042                                                                                                                                                                                                                                             what do you think *t*-1 about it?\n",
       "3060                                                                                                                                                                                                                                       what do you propose that they do *t*-1?\n",
       "3064                                                                                                                                                        i mean, what does this have *-1 to do *t*-2 with * getting, you know, a computer science degree or whatever, you know?\n",
       "3095                                                                                                                                                                                                                             uh, what do you want *-1 to concentrate on *t*-2.\n",
       "3100                                                                                                                                                                                  but, uh, what do you think *t*-3 about the mess that *t*-1's, 0 we've created *t*-2 in iraq?\n",
       "3107                                                                                                                                                                                                                                                       what do they say *t*-1,\n",
       "3359                                                                                                                                                                                                                                                     but what did we do *t*-1.\n",
       "3360                                                                                                                                                                                                                                 and, and what were we trying *-1 to do *t*-2.\n",
       "3370                                                                                                                                                                                                               well, uh, what what do you think *t*-1 about the metric system?\n",
       "3400                                                                                                                                                                                                                                             what do you think *t*-1 about it?\n",
       "3461                                                                                                                                                                                                                            what *t*-1's the point of * putting a restrictio-,\n",
       "3499                                                                                                                                                                                                                                                       what did they do *t*-1,\n",
       "3515                                                                                                                                                                                                                                         but, you know, what can one do *t*-1.\n",
       "3525                                                                                                                                                                                   um, well, what do you think 0 *t*-1 is, uh, the pollutants, the main pollutants in the air?\n",
       "3531                                                                                                                                                                                                                           what's it called *-2 *t*-1 when you do flour *t*-3,\n",
       "3556                                                                                                                                                                                                                                    what, what are we going *-1 to have *t*-2,\n",
       "3558                                                                                                                                                                                                                                                      and, and what will we...\n",
       "3586                                                                                                                                                                                                                                      what do you use yours at home for *t*-1?\n",
       "3591                                                                                                                                                                                                                       well, what, what is a a good brand a inexpensive *t*-1.\n",
       "3723                                                                                                                                                                                                                              so what do you think *t*-1 of the texas weather?\n",
       "3768                                                                                                                                                                                                                                       what college are you teaching at *t*-1?\n",
       "3787                                                                                                                                                                                                    anyway, what are your, what are your first comments on that subject *t*-1?\n",
       "3788                                                                                                                                                                                                                                    what would you start *-1 cutting *t*-2 f-,\n",
       "3789                                                                                                                                                                                                                        what *t*-2 would be the first thing 0 you'd cut *t*-1?\n",
       "3803                                                                                                                                                                                                                                                      what would you do *t*-1?\n",
       "3818                                                                                                                                                                                                                        oh, well, what *ich*-2's there *t*-3 0 * to say *t*-1?\n",
       "3830                                                                                                                                                                 but rather it's *?* *-5 on the rules of evidence, what can i hide *t*-2 and what do i have *-1 to tell *t*-3.\n",
       "3831                                                                                                                                                                 but rather it's *?* *-5 on the rules of evidence, what can i hide *t*-2 and what do i have *-1 to tell *t*-3.\n",
       "3837                                                                                                                                                                                                                                             what *t*-1 was the results there.\n",
       "3857                                                                                                                                                                                                                                               uh, what do you ride *t*-1, uh,\n",
       "3888                                                                                                                                                                                                     what's the, unrequir-, what's the word 0 i'm looking for *t*-1 *t*-2, uh,\n",
       "3939                                                                                                                                                                                                                                                what club do you follow *t*-1?\n",
       "3953                                                                                                                                                                    but, what do you do *t*-2 about, the occasional user that *t*-1 may have gone to a party three days before\n",
       "3959                                                                                                                                                                                                      what are your suggestions in * making a family reunion successful *t*-1.\n",
       "3971                                                                                                                                                                                                                                              what's it like *t*-1 down there?\n",
       "3986                                                                                                                                                                                                                                               what area do you live in *t*-1?\n",
       "3991                                                                                                                                                                                                                                                     um, what do you do *t*-1?\n",
       "3992                                                                                                                                                                                                                                      what else do you do *t*-1 to your house?\n",
       "4069                                                                                                                                                                                                                                               what school you going to *t*-1?\n",
       "4071                                                                                                                                                                                                                                                 what did i do *t*-1 to myself\n",
       "4080                                                                                                                                                                                                                                            well, what are you studying *t*-1?\n",
       "4087                                                                                                                                                                                          what, what changes do you think 0 *t*-1 have taken *-2 place in the last generation?\n",
       "4095                                                                                                                                                                                                                                                      what do you think *t*-1?\n",
       "4098                                                                                                                                                                                                                                    what, how do you, what do you think *t*-1?\n",
       "4105                                                                                                                                                                                                                                what was the last book 0 you read *t*-1 *t*-2?\n",
       "4114                                                                                                                                                             which, what book *ich*-4 *ich*-5 have you read *t*-1 that *t*-2 is along those lines, that *t*-3 was really good?\n",
       "4163                                                                                                                                                                                                                                                  what *t*-1's wrong with you?\n",
       "4164                                                                                                                                                                                                                                                         what do i know *t*-1.\n",
       "4175                                                                                                                                                                                                                                    what, uh, department do you work in *t*-1?\n",
       "4212                                                                                                                                                                                                                                     what was, what was your name *t*-1 again?\n",
       "4216                                                                                                                                                                                                  so if you were *-1 to improve it, what would you do *t*-2 *-3 to improve it?\n",
       "4275                                                                                                                                                                                                                                   what was your, uh, graduate study in *t*-1?\n",
       "4293                                                                                                                                                                                               well, what do you think 0 *t*-1 can be done *-2 * to reduce that sort of crime?\n",
       "4299                                                                                                                                                                                                                               what, what deterrent does he really have *t*-1?\n",
       "4346                                                                                                                                                                    and, gosh, what *t*-1's going *-2 to happen when these kids start *-4 coming into the school system *t*-3.\n",
       "4360                                                                                                                                                                                                                                   what could they possibly be thinking *t*-1.\n",
       "4370                                                                                                                                                                                                                                             now, what do you mostly do *t*-1?\n",
       "4376                                                                                                                                                                                                                                                um, what did you all do *t*-1?\n",
       "4385                                                                                                                                      what do you think 0 *t*-1 are some current trends in, uh, the way 0 families spend time together *t*-2, based on what you've seen *t*-3.\n",
       "4396                                                                                                                                                                                                                what's, what are some other questions 0 they have *t*-1 *t*-2,\n",
       "4402                                                                                                                                                                      what *t*-1 are some of the things that you did *t*-2 with your children when they were growing up *t*-3?\n",
       "4422                                                                                                                                                                                                                                                  or what would they do *t*-1?\n",
       "4441                                                                                                                                                                                               what did you think *t*-1 about the coverage like over in the, uh, persian gulf?\n",
       "4481                                                                                                                                                                                                                                    by, what do you mean *t*-1 by liberal, um.\n",
       "4482                                                                                                                                                                                      uh, what's the main, what's the main difference between republicans and democrats *t*-1?\n",
       "4495                                                                                                                                     so what do you think *t*-1 about, uh, what do you think *t*-2 about what you see *t*-3 on t v about them, like in the news or on the ads,\n",
       "4500                                                                                                                                                                                                                                            well what do you believe in *t*-1,\n",
       "4501                                                                                                                                                                                                                                                 what do you believe in *t*-1,\n",
       "4511                                                                                                                                                                                                                                             i mean, what would it take *t*-1,\n",
       "4525                                                                                                                                                                                                                       well what did you think *t*-1 of reagan as a president?\n",
       "4578                                                                                                                                                                                                                                                         what do you do *t*-1?\n",
       "4583                                                                                                                                                                                                                               so what was, what was the other question *t*-1,\n",
       "4636                                                                                                                                                                                                                                           well what movies do you like *t*-1?\n",
       "4638                                                                                                                                                                                                                                  what's the last movie 0 you saw *t*-1 *t*-2?\n",
       "4660                                                                                                                                                                                           what do you call a, uh, double ceiling, double high in one half of the house *t*-1.\n",
       "4675                                                                                                                                                                                             what do you think *t*-2 of that, uh, the greenhouse effect that *t*-1's going on?\n",
       "4700                                                                                                                                                                                                                                what do you do *t*-1 during those, those days?\n",
       "4701                                                                                                                                                                                                                                                what do, what do you do *t*-1?\n",
       "4709                                                                                                                                                                                                                                                 what's your husband do *t*-1?\n",
       "4749                                                                                                                                                                                                                                                       what do you mean *t*-1?\n",
       "4798                                                                                                                                                                                                                                       what color is, is yours blooming *t*-1?\n",
       "4800                                                                                                                                                                                                                                    and what does the foliage look like *t*-1?\n",
       "4922                                                                                                                                                                                                                                at wha-, at, * excuse me, at what age did you,\n",
       "4979                                                                                                                                                                                                                                                 what are you providing *t*-1?\n",
       "5003                                                                                                                                                                                                                                                      what do you think *t*-1?\n",
       "5016                                                                                                                                                                                                                                    so what movies have you seen *t*-1 lately?\n",
       "5028                                                                                                                                                                                                      what did you think *t*-1 about dances with wolves when you saw it *t*-2?\n",
       "5074                                                                                                                                                                                                                    what's the criterion for * choosing *-1 to go there *t*-2?\n",
       "5093                                                                                                                                                                                                       what was one of the latest ones that you've seen *t*-1, actually *t*-2?\n",
       "5098                                                                                                                                                                                                                   what are some others that you have seen *t*-1 lately *t*-2?\n",
       "5102                                                                                                                                                                                                                                                  what did i say *t*-1, peter?\n",
       "5108                                                                                                                                                                                                                                                  what was the last one *t*-1?\n",
       "5215                                                                                                                                                                                                                                   you know, what's the trade off *t*-1 there,\n",
       "5229                                                                                                                                                                                                                                       what books have you read *t*-1 lately?.\n",
       "5244                                                                                                                                                                                                                                    now, translations, what do you mean *t*-1,\n",
       "5291                                                                                                                                                                                                                                             what did you wind up with *t*-1?.\n",
       "5320                                                                                                                                                                                                                                                   what did she do with *t*-1,\n",
       "5321                                                                                                                                                                                                                                          and, what did she do *t*-1 with the,\n",
       "5348                                                                                                                                                                                                                          what's the best part *t*-1, from your point of view?\n",
       "5371                                                                                                                                                                                                          if i'm going *-1 to walk at night, what do i trade it off for *t*-2.\n",
       "5375                                                                                                                                                                                                                                        what else did i serve *t*-1 with that.\n",
       "5377                                                                                                                                                                                                                                   what else do we like *-2 to have *t*-1 for,\n",
       "5382                                                                                                                                                                                                                                                            what *t*-1's next,\n",
       "5397                                                                                                                                                                                                                             what do you think 0 *t*-1 is the biggest problem?\n",
       "5404                                                                                                                                                                                                       and what do you, what would you do *t*-1 *-2 to fix the school systems?\n",
       "5455                                                                                                                                                                                                                                         and what do you work on *t*-1 at t i?\n",
       "5457                                                                                                                                                                                                                                             what do you think *t*-1 about it?\n",
       "5497                                                                                                                                                                                                                                   so but, what does you husband do *t*-1 now?\n",
       "5513                                                                                                                                                                                                                          uh, what does, what does that mean *t*-1, alternate?\n",
       "5518                                                                                                                                                                                                                                               or, or what do you think *t*-1?\n",
       "5532     so, uh, uh, how about, what in particular would you think that, uh, women still, other than the work place, where women still are being, uh, oh, you know, mumblex found *-1 wanting, you know, or not re-, as highly *ich*-2 regarded *-1 as men would be *?* *-4 *t*-3.\n",
       "5557                                                                                                                                                                                                                                                so what were you saying *t*-1?\n",
       "5598                                                                                                                                                                                                                      well, what movies have you seen *t*-1 recently, valerie?\n",
       "5616                                                                                                                                                                                                                            what, what do you think 0 *t*-1 can prevent crime?\n",
       "5624                                                                                                                                                                                                                                          what *t*-1 happens if we lose worse.\n",
       "5631                                                                                                                                                                                                         what are, what does your city have *t*-1 for gun control if anything?\n",
       "5693                                                                                                                                                                                                                                                              what, what does,\n",
       "5710                                                                                                                                                                                                                                             what *t*-1 brought you down here?\n",
       "5738                                                                                                                                                                                                                                         now what, what do they pick *t*-1 up?\n",
       "5755                                                                                                                                                                                                                            what *ich*-1 does that house got *t*-2 attraction?\n",
       "5760                                                                                                                                                                           um, what do you think *t*-1 about the proposal that all young americans should spend a year or two,\n",
       "5780                                                                                                                                                                                                        you know like, what are their plans after high school *t*-1, you know.\n",
       "5793                                                                                                                          and, uh, if we have children who *t*-1 are not getting their education, for one reason or another, then what are we going *-2 to do *t*-3 with them?\n",
       "5794                                                                                                                                                                                                                                     what *t*-1's going *-2 to happen to them?\n",
       "5798                                                                                                                                                                                                                                                       and what are, you know,\n",
       "5835                                                                                                                                                                                                                                          what, what does it have *t*-1 in it?\n",
       "5842                                                                                                                                                                                                                                                      what's that mean *t*-1?.\n",
       "5843                                                                                                                                                                                            what else *t*-1 has changed between the sixties and the eighties and the nineties?\n",
       "5868                                                                                                                                                                                                                                        what's your favorite restaurant *t*-1?\n",
       "5872                                                                                                                                                                                                                                              what have you seen *t*-1 lately?\n",
       "5881                                                                                                                                                                                                                                                 well, wha-, what's your next,\n",
       "5944                                                                                                                                                                                                              and what is he going *-1 to do *t*-2 prison to the other people?\n",
       "6028                                                                                                                                                                                                                                     what did you think *t*-1 about that idea?\n",
       "6066                                                                                                                                                                                                                                            what more could you ask for *t*-1?\n",
       "6072                                                                                                                                                                                                                                           and, uh, what else do i want *t*-1.\n",
       "6097                                                                                                                                                                                so where are your, what are the places, you know, memorable places 0 you've eaten *t*-1 *t*-2?\n",
       "6114                                                                                                                                                                                                                                                  uh, what do you think *t*-1?\n",
       "6133                                                                                                                                                                                                                 uh, what i-, what is your practice *t*-1 as far as budgeting?\n",
       "6186                                                                                                                                                                                                                                             oh, what kind do you have *t*-1?.\n",
       "6238                                                                                                                                                                                                                                well, so what is your favorite t v show *t*-1?\n",
       "6241                                                                                                                                                                                                                                     what kind do you like *-1 to watch *t*-2?\n",
       "6242                                                                                                                                                                                                                                      and, uh, what's the other one *t*-1 now,\n",
       "6256                                                                                                                                                                                                                                       so what do you use *t*-1 for cookbooks?\n",
       "6259                                                                                                                                                                                                                                  but, what you serve *t*-1 or what would you,\n",
       "6266                                                                                                                                                                                                                          what would i put *t*-1 together for a formal dinner.\n",
       "6270                                                                                                                                                                                                                                           what school are you going to *t*-1?\n",
       "6272                                                                                                                                                                                                                              oh. well, what *t*-1 took you to north carolina?\n",
       "6275                                                                                                                                                                                                                                                       what did you say *t*-1?\n",
       "6283                                                                                                                                                                                           what, what do you feel 0 *t*-2 is the, the major change that *t*-1's been going on?\n",
       "6287                                                                                                                                                                                                                                          what, what grade do you teach *t*-1?\n",
       "6425                                                                                                                                                                                                          well, what are some of your, your favorite inexpensive places *t*-1?\n",
       "6455                                                                                                                                                                                                                                          what are your favorite places *t*-1?\n",
       "6465                                                                                                                                                                                                  now what is your, what's your child's favorite place 0 * to eat *t*-1 *t*-2?\n",
       "6489                                                                                                                                                                                                                                                         what do you do *t*-1?\n",
       "6516                                                                                                                                                                                                                                     what, what do you think *t*-1 about them?\n",
       "6547                                                                                                                                                                                                                                         so, what do you think *t*-1 about it?\n",
       "6552                                                                                                                                                                                                                                                  but what do you think *t*-1,\n",
       "6554                                                                                                                                                                                                                                           what do you think *t*-1 about that?\n",
       "6560                                                                                                                                                                                                                                          well, what do you think about *t*-1,\n",
       "6561                                                                                                                                                                                                                                           what do you think *t*-1 about that?\n",
       "6563                                                                                                                                                                                                                   so, uh, what was the last car repair 0 you had *t*-1 *t*-2?\n",
       "6576                                                                                                                                                                                                                                              so what, so what *t*-1 gets you?\n",
       "6577                                                                                                                                                                                                                                                  uh, what do you think *t*-1?\n",
       "6596                                                                                                                                                                                                                                                  what kind do you have *t*-1?\n",
       "6614                                                                                                                                                                                                                             well, what are you doing *t*-1 way in washington?\n",
       "6630                                                                                                                                                                                                                                     what, what does a computer club do *t*-1.\n",
       "6632                                                                                                                                                                                                                                                           what else, did you,\n",
       "6633                                                                                                                                                                                                                                               what was the other thing *t*-1?\n",
       "6635                                                                                                                                                                                                                             what's that, what's that state north of us *t*-1,\n",
       "6649                                                                                                                                                                                                                                                       what do you take *t*-1,\n",
       "6655                                                                                                                                                                                                                                                                  what do you,\n",
       "6666                                                                                                                                                                                                                                        what, what state do you live in *t*-1?\n",
       "6667                                                                                                                                                                                                                                     what do you think *t*-1 about robin hood?\n",
       "6668                                                                                                                                                                                                                                   what school district do you work for *t*-1?\n",
       "6676                                                                                                                                                                                                                                           what do you like *t*-1 about tempe?\n",
       "6682                                                                                                                                                                                                                                                  what are you studying *t*-1?\n",
       "6711                                                                                                                                                                                                      so what *ich*-2 have you seen *t*-1 interesting on oprah winfrey lately?\n",
       "6753                                                                                                                                                                                                                                                   and what do you have *t*-1?\n",
       "6800                                                                                                                                                                                                                                              but, then, what do i know *t*-1,\n",
       "6809                                                                                                                                                                                                           well, what *ich*-2 do you know *t*-1 about latin american policies?\n",
       "6819                                                                                                                                                                well, what do you think *t*-1 of, uh, this, uh, u s free trade agreement 0 we're working on *t*-2 with mexico?\n",
       "6829                                                                                                                                                                                                                                                  and what else do i do *t*-1,\n",
       "6867                                                                                                                                                                                                           and, and what does it cost these people over there *t*-1, you know.\n",
       "6868                                                                                                                                                                                                                        what do you think 0 *t*-1's going *-2 to happen there.\n",
       "6875                                                                                                                                                                                                                          well, what particularly are you interested in *t*-1?\n",
       "6881                                                                                                                                                                                                     so what do you think *t*-1 about the quality of news coverage in america?\n",
       "6882                                                                                                                                                                                                       i, i mean, i mean, what else could they do *t*-1 *-2 to make it better.\n",
       "6901                                                                                                                                                                                                                       what's the most expensive one 0 you bought *t*-1 *t*-2?\n",
       "6910                                                                                                                                                                                                                           what does he think *t*-1 of your, uh, t shirts and,\n",
       "6920                                                                                                                                                                                                                                                what, what do you think *t*-1?\n",
       "6933                                                                                                                                                                                                                                       well what do you do *t*-1 on your yard?\n",
       "6944                                                                                                                                                                                                                                                      what did you grow *t*-1?\n",
       "6963                                                                                                                                                                                                                                                         what do you do *t*-1?\n",
       "6970                                                                                                                                                                                                                                          what's your favorite t v show *t*-1?\n",
       "6972                                                                                                                                                                                                                                                  what time is it *t*-1 there?\n",
       "6986                                                                                                                                                                                                                                      well, what did you have *t*-1 for lunch?\n",
       "6987                                                                                                                                                                                                            if you're having a dinner party, what, what would you serve *t*-1?\n",
       "7008                                                                                                                                                                                                                                   now what can you do *t*-1 *-2 to stop that?\n",
       "7014                                                                                                                                                                                                                                   but. what else would *t*-1 be an annoyance?\n",
       "7021                                                                                                                                                                                  uh, what, what are some of the shows that you have been able *-1 to rent *t*-2 *t*-3 though?\n",
       "7023                                                                                                                                                                                                                                           what have you seen *t*-1 recently?.\n",
       "7024                                                                                                                                                                                                                                         what did you think *t*-1 of that one?\n",
       "7055                                                                                                                                                                                                                                  wh-, i-, what would we do *t*-1 without it?.\n",
       "7056                                                                                                                                                                                                                                    what did we do *t*-1 without it back then?\n",
       "7087                                                                                                                                                                                                                                   what do you think *t*-1 about, uh, houston?\n",
       "7093                                                                                                                                                                                                                                    um, what cities are they looking at *t*-1?\n",
       "7097                                                                                                                                                                                                                                    so what do you guys having *t*-1 up there?\n",
       "7098                                                                                                                                                                                                                                        so what's it been like *t*-1 up there?\n",
       "7106                                                                                                                                                                                                                                      what, uh, school are you going to *t*-1?\n",
       "7107                                                                                                                                                                                                                                          leslie, what are you studying *t*-1?\n",
       "7108                                                                                                                                                                                                                               so, what are you planning *-1 to go into *t*-2?\n",
       "7128                                                                                                                                                                                                                                 what did you think *t*-1 of the world series?\n",
       "7131                                                                                                                                                                                                                 what do you think 0 *t*-1 going *-2 to happen to the rangers?\n",
       "7141                                                                                                                                                                                            so what do you, uh, think 0 *t*-1 is the, uh, the worst culprit for air pollution?\n",
       "7150                                                                                                                                                                                                                                           and what did you graduate in *t*-1?\n",
       "7152                                                                                                                                                                                                                          so what is your advice to * picking a college *t*-1.\n",
       "7154                                                                                                                                                                                                                                      is that, what was yours more like *t*-1?\n",
       "7158                                                                                                                                                                                 well, what would *t*-1 be your advice to a parent of a child thinking of * attending college?\n",
       "7167                                                                                                                                                                                                                                                           what, what can you.\n",
       "7171                                                                                                                              if you had, uh, no financial requirements, if you could buy any car in the entire world, no matter what it cost *t*-1, what would you buy *t*-2?\n",
       "7215                                                                                                                                                                                                   well, what, uh, what things do you consider *t*-1 when you buy a car *t*-2?\n",
       "7230                                                                                                                                                                                                                               what do you do *t*-1 when you're putting *t*-2?\n",
       "7241                                                                                                                                                                                                                                              what are dialing services *t*-1?\n",
       "7252                                                                                                                                                                                                                                                     what do you think *t*-1?.\n",
       "7257                                                                                                                                                                                                                                            but, what do i know *t*-1, right?.\n",
       "7264                                                                                                                                                                                                             what *ich*-2 have you seen *t*-3 recently that you enjoyed *t*-1?\n",
       "7268                                                                                                                                                                                                            well, what movies are you looking forward to *-1 seeing *t*-2 now?\n",
       "7281                                                                                                                                                                                                                  what do you think 0 *t*-1 has caused our horrible situation?\n",
       "7293                                                                                                                                                                                                                                     what, what kind do you subscribe to *t*-1\n",
       "7301                                                                                                                                                                                                                                    uh, what do i watch *t*-1 at nine o'clock.\n",
       "7302                                                                                                                                                                                                                    and, uh, what's the one 0 *t*-2 comes on after that *t*-1.\n",
       "7304                                                                                                                                                                                                                                    what, now what night is that on *t*-1 now?\n",
       "7320                                                                                                                                                                                                                                    now what, what *t*-1 keeps you doing that.\n",
       "7325                                                                                                                                                                                                             what, what, what, what's *t*-1 on, what's this mat *t*-2, i mean,\n",
       "7347                                                                                                                                                                                                                      what, what's the criteria for * picking a college *t*-1?\n",
       "7348                                                                                                                                                                                                                                             what advice would you give *t*-1?\n",
       "7354                                                                                                                                                                                                                                              what have you seen *t*-1 lately?\n",
       "7363                                                                                                                                                                                                                       what do you feel 0 *t*-1 are some of the main problems?\n",
       "7379                                                                                                                                                                                                                but, uh, see, see what else can i say *t*-1 about the weather.\n",
       "7380                                                                                                                                                                                                                         so, what's the temperature *t*-1 up today over there?\n",
       "7401                                                                                                                                                                                                                                                   but what is it worth *t*-1?\n",
       "7403                                                                                                                                                                                        well, now, so if you were going *-1 to have a dinner party, what would you make *t*-2?\n",
       "7404                                                                                                                                                                                                   now what is, uh, what is, uh, the steamed shellfish 0 you said *t*-1 *t*-2?\n",
       "7405                                                                                                                                                                                                                                            and what would that be like *t*-1,\n",
       "7406                                                                                                             so if you have a, a dinner party and you're going *-1 to serve, uh, seafood for supper, what type of, uh, hors d'oeuvres would you serve *t*-2 prior to the meal?\n",
       "7417                                                                                                                                                                                                                                              what, what do you do *t*-1, now?\n",
       "7423                                                                                                                                                                                                                 what are some of the things 0 they don't recycle *t*-1 *t*-2.\n",
       "7424                                                                                                                                                                and, yet, what am i going *-1 to do *t*-4 when i have a couple double a batteries 0 * to toss *t*-2 out *t*-3.\n",
       "7431                                                                                                                                                                                                                          but, i mean, what would somebody do *t*-1 with them.\n",
       "7443                                                                                                                                                                                                                                        what's everybody drive *t*-1 up there?\n",
       "7446                                                                                                                                                                                                                                             what's your favorite color *t*-1?\n",
       "7456                                                                                                                                                                                                                                            what did you do *t*-1 on the farm?\n",
       "7461                                                                                                                                                                                                             and, uh, what else are you planning *-1 to do *t*-2, if anything?\n",
       "7464                                                                                                                                                                                                                                            uh, see, what do we recycle *t*-1?\n",
       "7486                                                                                                                                                                                                                               what changes do you feel 0 *t*-1 have happened?\n",
       "7490                                                                                                                                                                                                                            what do you see, uh, *t*-1 changing in the future?\n",
       "7525                                                                                                                                                                                                                                                       what do you have *t*-1?\n",
       "7526                                                                                                                                                                                                                                                        what did you do *t*-1,\n",
       "7527                                                                                                                                                                                                                                                 what do you use it for *t*-1?\n",
       "7528                                                                                                                                                                                                                                                 what do you use it for *t*-1?\n",
       "7541                                                                                                                                                                                                               what do you think *t*-1 about, uh, the self insurance business?\n",
       "7562                                                                                                                                                                wha-, what do you think *t*-1 of that new luxury car tax, anything over ten thou-, or thirty thousand dollars?\n",
       "7567                                                                                                                                                                                                                                                     what are we having *t*-1?\n",
       "7572                                                                                                                                                                                                                             well, what else do you serve *t*-1 with your pig?\n",
       "7575                                                                                                                                                                                                                                                   what do you have *t*-1 now?\n",
       "7576                                                                                                                                                                                                                                               so what car do you drive *t*-1?\n",
       "7589                                                                                                                                                                                                       so do you, what *ich*-2 do you think 0 *t*-1 is good about the schools?\n",
       "7607                                                                                                                                                                                                                                   what are some of the other questions *t*-1.\n",
       "7678                                                                                                                                                                                                                               what does that mean *t*-1, accidental tomatoes?\n",
       "7679                                                                                                                                                                                                                                           so what do you know *t*-1 about it.\n",
       "7702                                                                                                                                                                                                                                             what do you like *-1 to do *t*-2?\n",
       "7708                                                                                                                                                                                                                                              what size do you have *t*-1 now?\n",
       "7732                                                                                                                                                                                                                                           what are your favorite shows *t*-1?\n",
       "7736                                                                                                                                                                                                                                        what, what ones do you get into *t*-1?\n",
       "7746                                                                                                                                                                                                           what do you use *t*-1 *-2 to keep from *-3 sliding off that rascal?\n",
       "7762                                                                                                                                                                                                            what vacations *ich*-2 have you been on *t*-3 that you like *t*-1?\n",
       "7764                                                                                                                                                                                                                                what vacation have you enjoyed *t*-1 the most?\n",
       "7792                                                                                                                                                                                                                                                       what did you get *t*-1?\n",
       "7800                                                                                                                                                                                                                       uh, so what do you think *t*-1 about the school system?\n",
       "7826                                                                                                                                                                                                                                  what am i going *-1 to fix *t*-2 for supper.\n",
       "7830                                                                                                                                                                                                                                          what would we like *-2 to say *t*-1.\n",
       "7843                                                                                                                                                                                                                                         uh, what do you think *t*-1 about it?\n",
       "7894                                                                                                                                                                                                                what are you, what are you studying *t*-1 there at heidelberg?\n",
       "7898                                                                                                                                                                                                                                                     what would you get *t*-1?\n",
       "7905                                                                                                                                                                                                 what what do you like *-1 to do *t*-2 for yourself in car automobile repairs?\n",
       "7922                                                                                                                                                                                                                                                 what's the best method *t*-1?\n",
       "7938                                                                                                                                                   so what do you feel 0 *t*-1 are the current trends in the way 0 families spend time in general, you know, in america *t*-2?\n",
       "7947                                                                                                                                                                                                  so, so, *-2 to make one successful, i mean, i mean what do you all do *t*-1.\n",
       "7955                                                                                                                                                                                                                       oh, well what do you do *t*-1 with your seventh grader?\n",
       "7963                                                                                                                                                                                                                                              what's your favorite news *t*-1,\n",
       "7965                                                                                                                                                                 what, what's, i mean, what are we supposed *-2 to, uh, compare it to *t*-3 you know, i mean, the quality, uh,\n",
       "8000                                                                                                                                                                                                                                               what color did you paint *t*-1,\n",
       "8001                                                                                                                                                                                                                                what color did you paint your house *-2 *t*-1?\n",
       "8003                                                                                                                                                                                                                                          what do you call those things *t*-1?\n",
       "8011                                                                                                                                                                                what are your thinkings on what they can do *t*-1, what they'll be able *-2 to do *t*-3 *t*-4?\n",
       "8064                                                                                                                                                                                                                         what do you think *t*-1 about, uh, uh, convicted, uh,\n",
       "8076                                                                                                                                                                                                  well, michael, what do you think *t*-1 about, uh, funding for aids research?\n",
       "8084                                                                                                                                                                                                                                           what do you think *t*-1 about that?\n",
       "8124                                                                                                                                                                                                                                             what do you think *t*-1 about it?\n",
       "8125                                                                                                                                                                                                                                                       what should i say *t*-1\n",
       "8135                                                                                                                                                                                                                                                   well, uh, what benefits do,\n",
       "8148                                                                                                                                                                                                                                       so, what are your favorite shows *t*-1?\n",
       "8149                                                                                                                                                                                                                                                                  what do you,\n",
       "8239                                                                                                                                                                                                                oh, what was the lady's name that *t*-1 ran a couple of *t*-2,\n",
       "8259                                                                                                                                                                                                                          well, uh, what is your favorite kind of music *t*-1?\n",
       "8261                                                                                                                                                                                                                           or what era do you, era do you like *t*-1 the most?\n",
       "8268                                                                                                                                                                                         what do you call them *t*-2 the guys that *t*-1 orchestrate the con-, the conductors.\n",
       "8274                                                                                                                                                                                                                               what, what magazines do you have *t*-1 at home?\n",
       "8300                                                                                                                                                                                                                                           what are you going *-1 to do *t*-2?\n",
       "8303                                                                                                                                                                                                                               now. well, mark, um, what was that *t*-1 again?\n",
       "8305                                                                                                                                                                                                                                       what do you use yours for *t*-1 mostly?\n",
       "8306                                                                                                                                                                                                                     um, what do you find that you use yours mostly for *t*-1?\n",
       "8310                                                                                                                                                                                                                                              well, see, what do you do *t*-1?\n",
       "8319                                                                                                                                                                                               um, so, um, what were you doing *t*-2 when you were using an apple two e *t*-1?\n",
       "8327                                                                                                                                                                                                                                uh, what are the ages of your kids *t*-1 then?\n",
       "8336                                                                                                                                                                                                                                              and what kind do you have *t*-1?\n",
       "8360                                                                                                                                                                                                   well what do you think 0 *t*-1 can be done *-2 about the crime in the city?\n",
       "8378                                                                                                                                                                               and so what do you think, next to salary do you rank *t*-1, is the most important job benefits?\n",
       "8388                                                                                                                                                                                                                                                   what do you do *t*-1 there?\n",
       "8428                                                                                                                                                                                                                                      what was, what was the other case *t*-1?\n",
       "8479                                                                                                                                                                                     well, what did you find 0 *t*-1 was most helpful in * planning the birthday get together?\n",
       "8502                                                                                                                                                                                 what do you consider *t*-1 most important, you think, in terms of, of the different benefits?\n",
       "8524                                                                                                                                                                                                                               so what else do you think 0 *t*-1 is important?\n",
       "8549                                                                                                                                                                                                                 what what channel *ich*-1 do you watch *t*-2 or what station?\n",
       "8560                                                                                                                                                                                                                          what did you think *t*-1 of the coverage of the war?\n",
       "8610                                                                                                                                                                                                                                                   what do you do *t*-1, jeff?\n",
       "8611                                                                                                                                                                                                                                                         what do you do *t*-1?\n",
       "8638                                                                                                                                                                                                                                                      so what do you do *t*-1?\n",
       "8654                                                                                                                                                                                                                            so, what what is the e p a recommending *t*-1 now?\n",
       "8665                                                                                                                                                                                                                                                   well, what do you do *t*-1?\n",
       "8679                                                                                                                                                                                                                                           what are they doing *t*-1 up there?\n",
       "8701                                                                                                                                                                                                                                        what do you do *t*-1 with your budget?\n",
       "8702                                                                                                                                                                                                                                                           what do i do *t*-1,\n",
       "8705                                                                                                                                                                                                                                                           so uh, what do yo-,\n",
       "8709                                                                                                                                                                                                                                    so, what do you and your husband do *t*-1?\n",
       "8721                                                                                                                                                                                           uh, so, what do you think *t*-1, uh, about * putting the elderly in a nursing home?\n",
       "8726                                                                                                                                                                                                                                                       what do you mean *t*-1?\n",
       "8727                                                                                                                                                                                                                                                      what do you think *t*-1?\n",
       "8789                                                                                                                                                                                                                                 what, what, uh, newspapers do you read *t*-1?\n",
       "8835                                                                                                                                                                                                                                   what do you think *t*-1 about that subject?\n",
       "8850                                                                                                                                                                                                                             uh, what are you thinking about *-2 buying *t*-1?\n",
       "8890                                                                                                                                                                                                                                                  what did you major in *t*-1?\n",
       "8916                                                                                                                                                                                                                  so what's the prevailing thought *t*-1 within the community?\n",
       "8939                                                                                                                                                                                                  well what do you feel *t*-1 about the, um, present situation in the mideast?\n",
       "8940                                                                                                                                                                                                                                                what do you think *t*-1, mark?\n",
       "8944                                                                                                                                                                                                                                                              well what do y-,\n",
       "8949                                                                                                                                                                                                                                                               or what do yo-,\n",
       "8951                                                                                                                                                                                                                                                         what do you do *t*-1?\n",
       "8960                                                                                                                                                                                                                                       what are you studying *t*-1 down there?\n",
       "9002                                                                                                                                                                                                                                             well, what were you saying *t*-1?\n",
       "9004                                                                                                                                                                                                                                 wh-, what's the old country music like *t*-1?\n",
       "9014                                                                                                                                                                                                                    what kind of music is, does what songs does he play *t*-1?\n",
       "9032                                                                                                                                                                                                   uh, what do you feel *t*-1 about come of the things that *t*-2 need *-3 to,\n",
       "9041                                                                                                                                                                                                             so what's a guy *-3 to do *t*-1? you know.. i asked myself *t*-2.\n",
       "9048                                                                                                                                                                                                                                                      what do you think *t*-1?\n",
       "9056                                                                                                                                                                            i mean what do you, what, what do you find *t*-1 interesting versus what do you find *t*-2 boring?\n",
       "9057                                                                                                                                                                            i mean what do you, what, what do you find *t*-1 interesting versus what do you find *t*-2 boring?\n",
       "9085                                                                                                                                                                                                                                 what was the other dog 0 you had *t*-1 *t*-2?\n",
       "9105                                                                                                                                                                                                                                                    what's the standard *t*-1?\n",
       "9121                                                                                                                                                                                                                                 what kind of, what lake do you all use *t*-1?\n",
       "9122                                                                                                                                                                                                                                           so, what do you do *t*-1 for a job?\n",
       "9199                                                                                                                                                                                                                                             oh, what's that called *-2 *t*-1,\n",
       "9209                                                                                                                                                                                         i'm going *-1 to have *-2 to leave those details like, what would you do *t*-3 about,\n",
       "9237                                                                                                                                                                                                                                           or, or, or what do you think *t*-1?\n",
       "9295                                                                                          what, what do you think 0 *t*-1 is, uh, is an appropriate, uh, punishment for some of the various, you know, such as, things such as rape or, or, uh, murder or something like that.\n",
       "9364                                                                                                                                                                                                                                      w-, w-, what baud rate do you get *t*-1?\n",
       "9376                                                                                                                                                                                                                                                     what can we do *t*-1 here\n",
       "9378                                                                                                                                                                                                                                         uh, but uh, but what do you do *t*-1?\n",
       "9386                                                                                                                                                                                                                                                    what do you call it *t*-1?\n",
       "9387                                                                                                                                                                                                                      what do you, what do you looking for *t*-1 in, in those?\n",
       "9388                                                                                                                                                                                                                                 what, what *t*-1 attracts you to the saturns?\n",
       "9391                                                                                                                                                                                              what is your, uh, community, uh, currently doing *t*-1 with regard to recycling?\n",
       "9397                                                                                                                                                                                                   uh, what do you think 0 *t*-2 was different *ich*-1 ten years ago from now?\n",
       "9398                                                                                                                                                                                                                                       uh, what do you think *t*-1 about that?\n",
       "9468                                                                                                                                                                                                                                                      what do you think *t*-1?\n",
       "9491                                                                                                                                                                                                                                          what, what, are you putting *t*-1 in\n",
       "9493                                                                                                                                                                                                                             what do you usually do *t*-1 as far as budgeting?\n",
       "9497                                                                                                                                                             because you're, you've, you've sat down with a piece of paper and said well * let's see what are we going *-1 to,\n",
       "9498                                                                                                                                                                                                                          so what *t*-1 goes into that, that particular thing?\n",
       "9503                                                                                                                                                                                                                           well, you know, uh, what do you do *t*-1 as far as,\n",
       "9512                                                                                                                                                                                                                                                                      what d-,\n",
       "9559                                                                                                                                                                                                      what's he going *-1 to be doing *t*-2 when he turns into an adult *t*-3.\n",
       "9577                                                                                                                                                                                                             so, uh, what things do you consider *t*-1 an invasion of privacy?\n",
       "9578                                                                                                                                                                                                                                                      what do you think *t*-1?\n",
       "9583                                                                                                   but there were some things *ich*-3 that people brought *t*-1 up like well what *t*-2 happens if they, they get a false positive, you know, what recourse do you have *t*-4.\n",
       "9584                                                                                                   but there were some things *ich*-3 that people brought *t*-1 up like well what *t*-2 happens if they, they get a false positive, you know, what recourse do you have *t*-4.\n",
       "9620                                                                                                                                                                                                                                        what am i trying *-1 to say *t*-2. uh,\n",
       "9644                                                                                                                                                                                                                                        so what do you think *t*-1 about that?\n",
       "9650                                                                                                                                                                                                             you know, what, what, uh, what do you think 0 *t*-1 is important?\n",
       "9655                                       but if you had, if you had, uh, parents say or, or, or th-, grandparents, whatever it is *t*-1, uh, who *t*-2 were ready, who, who you thought 0 *t*-3 might benefit from a nursing home, what do you think 0 you would look for *t*-4?\n",
       "9683                                                                                                                                                                                                                                                         what do you do *t*-1?\n",
       "9723                                                                                                                                                                                                                                             so, wha-, what do you have *t*-1?\n",
       "9752                                                                                                                                                                                                                                                     what do you think *t*-1?.\n",
       "9802                                                                                                      and, it's like, okay, what *ich*-1 do we have *t*-3 left, what do we have *-2 to pay *t*-4, what have we paid *t*-5 this month. what *t*-6 hasn't come in yet, you know.\n",
       "9803                                                                                                      and, it's like, okay, what *ich*-1 do we have *t*-3 left, what do we have *-2 to pay *t*-4, what have we paid *t*-5 this month. what *t*-6 hasn't come in yet, you know.\n",
       "9805                                                                                                      and, it's like, okay, what *ich*-1 do we have *t*-3 left, what do we have *-2 to pay *t*-4, what have we paid *t*-5 this month. what *t*-6 hasn't come in yet, you know.\n",
       "9877                                                                                                                                                                                                                                          i mean, what do you drive *t*-1 now?\n",
       "9888                                                                                                                                                                                                                                           what's the new criteria *t*-1, huh.\n",
       "9898                                                                                                                                                                                                                                             so what does that tell you *t*-1?\n",
       "9923                                                                                                                                                                                                      what is it *t*-1 that you are, you know, particularly upset about *t*-2?\n",
       "9925                                                                                                                               what *ich*-2 do you feel that your kids are getting *t*-1 in the parochial schools that they wouldn't get *t*-3 in a, the public school system?\n",
       "9938                                                                                                                                                                                                what was the age difference *ich*-2 *t*-1 between the youngest and the oldest?\n",
       "9941                                                                                                                                                                                                                                                  and what would you do *t*-1,\n",
       "9955                                                                                                                                                                                                     so, uh, what are your, what are your thoughts on the subject *t*-1 there?\n",
       "9972                                                                                                                                                                                                                                                     what do you do now *t*-1?\n",
       "9983                                                                                                                                                                                                                                                    what program you in *t*-1?\n",
       "9984                                                                                                                                                                                                           what *t*-1 is it, what *t*-2's the policy *ich*-3 now with treason?\n",
       "9995                                                                                                                                                                                                                                              what do you do *t*-1 georgeanne?\n",
       "9996                                                                                                                                                                                                                                                         what do you do *t*-1?\n",
       "10002                                                                                                                                                                                                                             wh-, what *t*-1 happens if you were *-2 to fail?\n",
       "10011                                                                                                                                                                                                                           what do you think 0 *t*-1's wrong * to cause that?\n",
       "10024                                                                                                                                                                                                             uh, what would you do *t*-1 *-2 to change it? to make it better?\n",
       "10056                                                                                                                                                                                                                                                     what *t*-1 happened, uh,\n",
       "10113                                                                                                                                                                                                                  what did you do *t*-1 when your kids were growing up *t*-2?\n",
       "10153                                                                                                                                                                                                                                                    what do you think *t*-1?.\n",
       "10157                                                                                                                                                                                                                                                hey, what do you think *t*-1,\n",
       "Name: Sentence, dtype: object"
      ]
     },
     "execution_count": 19,
     "metadata": {},
     "output_type": "execute_result"
    }
   ],
   "source": [
    "critical[critical['Wh'] == 'what'].Sentence"
   ]
  },
  {
   "cell_type": "code",
   "execution_count": 343,
   "metadata": {},
   "outputs": [
    {
     "data": {
      "text/plain": [
       "995"
      ]
     },
     "execution_count": 343,
     "metadata": {},
     "output_type": "execute_result"
    }
   ],
   "source": [
    "len(critical)"
   ]
  },
  {
   "cell_type": "code",
   "execution_count": 344,
   "metadata": {},
   "outputs": [
    {
     "data": {
      "text/plain": [
       "33.166666666666664"
      ]
     },
     "execution_count": 344,
     "metadata": {},
     "output_type": "execute_result"
    }
   ],
   "source": [
    "# Number of lists (30 items per list)\n",
    "len(critical)/30"
   ]
  },
  {
   "cell_type": "code",
   "execution_count": 345,
   "metadata": {},
   "outputs": [
    {
     "data": {
      "text/plain": [
       "5"
      ]
     },
     "execution_count": 345,
     "metadata": {},
     "output_type": "execute_result"
    }
   ],
   "source": [
    "995 - 33*30"
   ]
  },
  {
   "cell_type": "markdown",
   "metadata": {},
   "source": [
    "33 lists of 30, 1 list of 35"
   ]
  },
  {
   "cell_type": "code",
   "execution_count": 346,
   "metadata": {},
   "outputs": [
    {
     "data": {
      "text/html": [
       "<div>\n",
       "<style scoped>\n",
       "    .dataframe tbody tr th:only-of-type {\n",
       "        vertical-align: middle;\n",
       "    }\n",
       "\n",
       "    .dataframe tbody tr th {\n",
       "        vertical-align: top;\n",
       "    }\n",
       "\n",
       "    .dataframe thead th {\n",
       "        text-align: right;\n",
       "    }\n",
       "</style>\n",
       "<table border=\"1\" class=\"dataframe\">\n",
       "  <thead>\n",
       "    <tr style=\"text-align: right;\">\n",
       "      <th></th>\n",
       "      <th>ModalPresent</th>\n",
       "      <th>Question</th>\n",
       "    </tr>\n",
       "  </thead>\n",
       "  <tbody>\n",
       "    <tr>\n",
       "      <th>0</th>\n",
       "      <td>no</td>\n",
       "      <td>0.878392</td>\n",
       "    </tr>\n",
       "    <tr>\n",
       "      <th>1</th>\n",
       "      <td>yes</td>\n",
       "      <td>0.121608</td>\n",
       "    </tr>\n",
       "  </tbody>\n",
       "</table>\n",
       "</div>"
      ],
      "text/plain": [
       "  ModalPresent  Question\n",
       "0           no  0.878392\n",
       "1          yes  0.121608"
      ]
     },
     "execution_count": 346,
     "metadata": {},
     "output_type": "execute_result"
    }
   ],
   "source": [
    "critical.pivot_table(index=['ModalPresent'], values=\"Question\", aggfunc=len).groupby([\"ModalPresent\"]).Question.transform(lambda x: x/len(critical)).reset_index()"
   ]
  },
  {
   "cell_type": "code",
   "execution_count": 347,
   "metadata": {},
   "outputs": [
    {
     "data": {
      "text/html": [
       "<div>\n",
       "<style scoped>\n",
       "    .dataframe tbody tr th:only-of-type {\n",
       "        vertical-align: middle;\n",
       "    }\n",
       "\n",
       "    .dataframe tbody tr th {\n",
       "        vertical-align: top;\n",
       "    }\n",
       "\n",
       "    .dataframe thead th {\n",
       "        text-align: right;\n",
       "    }\n",
       "</style>\n",
       "<table border=\"1\" class=\"dataframe\">\n",
       "  <thead>\n",
       "    <tr style=\"text-align: right;\">\n",
       "      <th></th>\n",
       "      <th>Wh</th>\n",
       "      <th>Question</th>\n",
       "    </tr>\n",
       "  </thead>\n",
       "  <tbody>\n",
       "    <tr>\n",
       "      <th>0</th>\n",
       "      <td>how</td>\n",
       "      <td>0.184925</td>\n",
       "    </tr>\n",
       "    <tr>\n",
       "      <th>1</th>\n",
       "      <td>what</td>\n",
       "      <td>0.587940</td>\n",
       "    </tr>\n",
       "    <tr>\n",
       "      <th>2</th>\n",
       "      <td>when</td>\n",
       "      <td>0.015075</td>\n",
       "    </tr>\n",
       "    <tr>\n",
       "      <th>3</th>\n",
       "      <td>where</td>\n",
       "      <td>0.097487</td>\n",
       "    </tr>\n",
       "    <tr>\n",
       "      <th>4</th>\n",
       "      <td>who</td>\n",
       "      <td>0.054271</td>\n",
       "    </tr>\n",
       "    <tr>\n",
       "      <th>5</th>\n",
       "      <td>why</td>\n",
       "      <td>0.060302</td>\n",
       "    </tr>\n",
       "  </tbody>\n",
       "</table>\n",
       "</div>"
      ],
      "text/plain": [
       "      Wh  Question\n",
       "0    how  0.184925\n",
       "1   what  0.587940\n",
       "2   when  0.015075\n",
       "3  where  0.097487\n",
       "4    who  0.054271\n",
       "5    why  0.060302"
      ]
     },
     "execution_count": 347,
     "metadata": {},
     "output_type": "execute_result"
    }
   ],
   "source": [
    "critical.pivot_table(index=['Wh'], values=\"Question\", aggfunc=len).groupby([\"Wh\"]).Question.transform(lambda x: x/len(critical)).reset_index()"
   ]
  },
  {
   "cell_type": "code",
   "execution_count": 348,
   "metadata": {},
   "outputs": [
    {
     "data": {
      "text/html": [
       "<div>\n",
       "<style scoped>\n",
       "    .dataframe tbody tr th:only-of-type {\n",
       "        vertical-align: middle;\n",
       "    }\n",
       "\n",
       "    .dataframe tbody tr th {\n",
       "        vertical-align: top;\n",
       "    }\n",
       "\n",
       "    .dataframe thead th {\n",
       "        text-align: right;\n",
       "    }\n",
       "</style>\n",
       "<table border=\"1\" class=\"dataframe\">\n",
       "  <thead>\n",
       "    <tr style=\"text-align: right;\">\n",
       "      <th></th>\n",
       "      <th>Wh</th>\n",
       "      <th>ModalPresent</th>\n",
       "      <th>Question</th>\n",
       "    </tr>\n",
       "  </thead>\n",
       "  <tbody>\n",
       "    <tr>\n",
       "      <th>0</th>\n",
       "      <td>how</td>\n",
       "      <td>no</td>\n",
       "      <td>15.678392</td>\n",
       "    </tr>\n",
       "    <tr>\n",
       "      <th>1</th>\n",
       "      <td>how</td>\n",
       "      <td>yes</td>\n",
       "      <td>2.814070</td>\n",
       "    </tr>\n",
       "    <tr>\n",
       "      <th>2</th>\n",
       "      <td>what</td>\n",
       "      <td>no</td>\n",
       "      <td>52.060302</td>\n",
       "    </tr>\n",
       "    <tr>\n",
       "      <th>3</th>\n",
       "      <td>what</td>\n",
       "      <td>yes</td>\n",
       "      <td>6.733668</td>\n",
       "    </tr>\n",
       "    <tr>\n",
       "      <th>4</th>\n",
       "      <td>when</td>\n",
       "      <td>no</td>\n",
       "      <td>1.407035</td>\n",
       "    </tr>\n",
       "    <tr>\n",
       "      <th>5</th>\n",
       "      <td>when</td>\n",
       "      <td>yes</td>\n",
       "      <td>0.100503</td>\n",
       "    </tr>\n",
       "    <tr>\n",
       "      <th>6</th>\n",
       "      <td>where</td>\n",
       "      <td>no</td>\n",
       "      <td>9.346734</td>\n",
       "    </tr>\n",
       "    <tr>\n",
       "      <th>7</th>\n",
       "      <td>where</td>\n",
       "      <td>yes</td>\n",
       "      <td>0.402010</td>\n",
       "    </tr>\n",
       "    <tr>\n",
       "      <th>8</th>\n",
       "      <td>who</td>\n",
       "      <td>no</td>\n",
       "      <td>4.623116</td>\n",
       "    </tr>\n",
       "    <tr>\n",
       "      <th>9</th>\n",
       "      <td>who</td>\n",
       "      <td>yes</td>\n",
       "      <td>0.804020</td>\n",
       "    </tr>\n",
       "    <tr>\n",
       "      <th>10</th>\n",
       "      <td>why</td>\n",
       "      <td>no</td>\n",
       "      <td>4.723618</td>\n",
       "    </tr>\n",
       "    <tr>\n",
       "      <th>11</th>\n",
       "      <td>why</td>\n",
       "      <td>yes</td>\n",
       "      <td>1.306533</td>\n",
       "    </tr>\n",
       "  </tbody>\n",
       "</table>\n",
       "</div>"
      ],
      "text/plain": [
       "       Wh ModalPresent   Question\n",
       "0     how           no  15.678392\n",
       "1     how          yes   2.814070\n",
       "2    what           no  52.060302\n",
       "3    what          yes   6.733668\n",
       "4    when           no   1.407035\n",
       "5    when          yes   0.100503\n",
       "6   where           no   9.346734\n",
       "7   where          yes   0.402010\n",
       "8     who           no   4.623116\n",
       "9     who          yes   0.804020\n",
       "10    why           no   4.723618\n",
       "11    why          yes   1.306533"
      ]
     },
     "execution_count": 348,
     "metadata": {},
     "output_type": "execute_result"
    }
   ],
   "source": [
    "critical.pivot_table(index=['Wh','ModalPresent'], values=\"Question\", aggfunc=len).groupby([\"Wh\"]).Question.transform(lambda x: x/len(critical)*100).reset_index()"
   ]
  },
  {
   "cell_type": "markdown",
   "metadata": {},
   "source": []
  },
  {
   "cell_type": "code",
   "execution_count": null,
   "metadata": {},
   "outputs": [],
   "source": []
  },
  {
   "cell_type": "markdown",
   "metadata": {},
   "source": [
    "## Paraphrase Generator\n",
    "this should take as input the entire constrained dataframe from the above section, and then generate the paraphrases\n",
    "\n",
    "For Who questions: Who is a person...? / Who is some person...? / \"Who is every person...\" / \"Who is the person...\""
   ]
  },
  {
   "cell_type": "code",
   "execution_count": 83,
   "metadata": {},
   "outputs": [],
   "source": [
    "# read in df with contexts\n",
    "cntxts = pd.read_csv(\"swbd_contexts.csv\")"
   ]
  },
  {
   "cell_type": "code",
   "execution_count": 69,
   "metadata": {},
   "outputs": [],
   "source": [
    "cntxts = cntxts.drop(columns=\"FollowingContext\")"
   ]
  },
  {
   "cell_type": "code",
   "execution_count": 70,
   "metadata": {},
   "outputs": [],
   "source": [
    "# get the indixes from critical\n",
    "crit_index = critical.Item_ID"
   ]
  },
  {
   "cell_type": "code",
   "execution_count": null,
   "metadata": {},
   "outputs": [],
   "source": []
  },
  {
   "cell_type": "markdown",
   "metadata": {},
   "source": [
    "Merge back in Wh and ModalPresent colums"
   ]
  },
  {
   "cell_type": "code",
   "execution_count": 71,
   "metadata": {},
   "outputs": [],
   "source": [
    "df_WhMod = critical[[\"Item_ID\",\"Wh\",\"ModalPresent\"]].rename(columns={\"Item_ID\": \"TGrepID\"})"
   ]
  },
  {
   "cell_type": "code",
   "execution_count": 73,
   "metadata": {},
   "outputs": [],
   "source": [
    "# subset to the items that are just the ones filtered in the previos section\n",
    "\n",
    "# otherwise, if using the database file with contexts directly in there, then this step\n",
    "# is not necessary\n",
    "df_valid = cntxts[cntxts[\"TGrepID\"].isin(set(crit_index))]"
   ]
  },
  {
   "cell_type": "code",
   "execution_count": 74,
   "metadata": {},
   "outputs": [
    {
     "data": {
      "text/plain": [
       "995"
      ]
     },
     "execution_count": 74,
     "metadata": {},
     "output_type": "execute_result"
    }
   ],
   "source": [
    "len(df_valid)"
   ]
  },
  {
   "cell_type": "code",
   "execution_count": 79,
   "metadata": {},
   "outputs": [
    {
     "data": {
      "text/plain": [
       "Index(['TGrepID', 'EntireSentence', 'PreceedingContext', 'Wh', 'ModalPresent'], dtype='object')"
      ]
     },
     "execution_count": 79,
     "metadata": {},
     "output_type": "execute_result"
    }
   ],
   "source": [
    "df_valid.columns"
   ]
  },
  {
   "cell_type": "code",
   "execution_count": 76,
   "metadata": {},
   "outputs": [],
   "source": [
    "df_valid = df_valid.merge(df_WhMod, how = 'inner', indicator=False)"
   ]
  },
  {
   "cell_type": "code",
   "execution_count": 356,
   "metadata": {},
   "outputs": [
    {
     "data": {
      "text/plain": [
       "995"
      ]
     },
     "execution_count": 356,
     "metadata": {},
     "output_type": "execute_result"
    }
   ],
   "source": [
    "len(df_valid)"
   ]
  },
  {
   "cell_type": "code",
   "execution_count": 97,
   "metadata": {},
   "outputs": [
    {
     "data": {
      "text/html": [
       "<div>\n",
       "<style scoped>\n",
       "    .dataframe tbody tr th:only-of-type {\n",
       "        vertical-align: middle;\n",
       "    }\n",
       "\n",
       "    .dataframe tbody tr th {\n",
       "        vertical-align: top;\n",
       "    }\n",
       "\n",
       "    .dataframe thead th {\n",
       "        text-align: right;\n",
       "    }\n",
       "</style>\n",
       "<table border=\"1\" class=\"dataframe\">\n",
       "  <thead>\n",
       "    <tr style=\"text-align: right;\">\n",
       "      <th></th>\n",
       "      <th>TGrepID</th>\n",
       "      <th>EntireSentence</th>\n",
       "      <th>PreceedingContext</th>\n",
       "      <th>FollowingContext</th>\n",
       "    </tr>\n",
       "  </thead>\n",
       "  <tbody>\n",
       "    <tr>\n",
       "      <th>8021</th>\n",
       "      <td>143033:4</td>\n",
       "      <td>where have you been *t*-1?</td>\n",
       "      <td>###speakera11.###uh-huh.###speakerb12.###but, um, i guess 0 my favorite is probably switzerland and ireland.###speakera13.###uh-huh.###yeah###well, i've been over there too.###speakerb14.###uh-huh.</td>\n",
       "      <td>###speakera15.###i even.###* let's see, um,###mostly germany and france.###speakerb16.###uh-huh.###speakera17.###i lived in france for a year and a half###so i was able,###speakerb18.</td>\n",
       "    </tr>\n",
       "  </tbody>\n",
       "</table>\n",
       "</div>"
      ],
      "text/plain": [
       "       TGrepID              EntireSentence  \\\n",
       "8021  143033:4  where have you been *t*-1?   \n",
       "\n",
       "                                                                                                                                                                                          PreceedingContext  \\\n",
       "8021  ###speakera11.###uh-huh.###speakerb12.###but, um, i guess 0 my favorite is probably switzerland and ireland.###speakera13.###uh-huh.###yeah###well, i've been over there too.###speakerb14.###uh-huh.   \n",
       "\n",
       "                                                                                                                                                                             FollowingContext  \n",
       "8021  ###speakera15.###i even.###* let's see, um,###mostly germany and france.###speakerb16.###uh-huh.###speakera17.###i lived in france for a year and a half###so i was able,###speakerb18.  "
      ]
     },
     "execution_count": 97,
     "metadata": {},
     "output_type": "execute_result"
    }
   ],
   "source": [
    "cntxts[cntxts[\"TGrepID\"]==\"143033:4\"]"
   ]
  },
  {
   "cell_type": "code",
   "execution_count": null,
   "metadata": {},
   "outputs": [],
   "source": []
  },
  {
   "cell_type": "code",
   "execution_count": null,
   "metadata": {},
   "outputs": [],
   "source": []
  },
  {
   "cell_type": "code",
   "execution_count": null,
   "metadata": {},
   "outputs": [],
   "source": []
  },
  {
   "cell_type": "code",
   "execution_count": 323,
   "metadata": {},
   "outputs": [
    {
     "data": {
      "text/html": [
       "<div>\n",
       "<style scoped>\n",
       "    .dataframe tbody tr th:only-of-type {\n",
       "        vertical-align: middle;\n",
       "    }\n",
       "\n",
       "    .dataframe tbody tr th {\n",
       "        vertical-align: top;\n",
       "    }\n",
       "\n",
       "    .dataframe thead th {\n",
       "        text-align: right;\n",
       "    }\n",
       "</style>\n",
       "<table border=\"1\" class=\"dataframe\">\n",
       "  <thead>\n",
       "    <tr style=\"text-align: right;\">\n",
       "      <th></th>\n",
       "      <th>Wh</th>\n",
       "      <th>EntireSentence</th>\n",
       "    </tr>\n",
       "  </thead>\n",
       "  <tbody>\n",
       "    <tr>\n",
       "      <th>0</th>\n",
       "      <td>how</td>\n",
       "      <td>0.184925</td>\n",
       "    </tr>\n",
       "    <tr>\n",
       "      <th>1</th>\n",
       "      <td>what</td>\n",
       "      <td>0.587940</td>\n",
       "    </tr>\n",
       "    <tr>\n",
       "      <th>2</th>\n",
       "      <td>when</td>\n",
       "      <td>0.015075</td>\n",
       "    </tr>\n",
       "    <tr>\n",
       "      <th>3</th>\n",
       "      <td>where</td>\n",
       "      <td>0.097487</td>\n",
       "    </tr>\n",
       "    <tr>\n",
       "      <th>4</th>\n",
       "      <td>who</td>\n",
       "      <td>0.054271</td>\n",
       "    </tr>\n",
       "    <tr>\n",
       "      <th>5</th>\n",
       "      <td>why</td>\n",
       "      <td>0.060302</td>\n",
       "    </tr>\n",
       "  </tbody>\n",
       "</table>\n",
       "</div>"
      ],
      "text/plain": [
       "      Wh  EntireSentence\n",
       "0    how        0.184925\n",
       "1   what        0.587940\n",
       "2   when        0.015075\n",
       "3  where        0.097487\n",
       "4    who        0.054271\n",
       "5    why        0.060302"
      ]
     },
     "execution_count": 323,
     "metadata": {},
     "output_type": "execute_result"
    }
   ],
   "source": [
    "df_valid.pivot_table(index=['Wh'], values=\"EntireSentence\", aggfunc=len).groupby([\"Wh\"]).EntireSentence.transform(lambda x: x/len(df_valid)).reset_index()"
   ]
  },
  {
   "cell_type": "code",
   "execution_count": 357,
   "metadata": {},
   "outputs": [],
   "source": [
    "who = df_valid[df_valid[\"Wh\"] == \"who\"]\n",
    "where = df_valid[df_valid[\"Wh\"] == \"where\"]\n",
    "how = df_valid[df_valid[\"Wh\"] == \"how\"]\n",
    "when = df_valid[df_valid[\"Wh\"] == \"when\"]\n",
    "why = df_valid[df_valid[\"Wh\"] == \"why\"]\n",
    "what = df_valid[df_valid[\"Wh\"] == \"what\"]"
   ]
  },
  {
   "cell_type": "code",
   "execution_count": 358,
   "metadata": {
    "collapsed": true
   },
   "outputs": [
    {
     "name": "stderr",
     "output_type": "stream",
     "text": [
      "<ipython-input-358-bf84b428f8ef>:1: SettingWithCopyWarning: \n",
      "A value is trying to be set on a copy of a slice from a DataFrame.\n",
      "Try using .loc[row_indexer,col_indexer] = value instead\n",
      "\n",
      "See the caveats in the documentation: https://pandas.pydata.org/pandas-docs/stable/user_guide/indexing.html#returning-a-view-versus-a-copy\n",
      "  who[\"AResponse\"] = \"Who is a person...?\"\n",
      "<ipython-input-358-bf84b428f8ef>:3: SettingWithCopyWarning: \n",
      "A value is trying to be set on a copy of a slice from a DataFrame.\n",
      "Try using .loc[row_indexer,col_indexer] = value instead\n",
      "\n",
      "See the caveats in the documentation: https://pandas.pydata.org/pandas-docs/stable/user_guide/indexing.html#returning-a-view-versus-a-copy\n",
      "  who[\"AllResponse\"] = \"Who is every person...?\"\n",
      "<ipython-input-358-bf84b428f8ef>:4: SettingWithCopyWarning: \n",
      "A value is trying to be set on a copy of a slice from a DataFrame.\n",
      "Try using .loc[row_indexer,col_indexer] = value instead\n",
      "\n",
      "See the caveats in the documentation: https://pandas.pydata.org/pandas-docs/stable/user_guide/indexing.html#returning-a-view-versus-a-copy\n",
      "  who[\"TheResponse\"] = \"Who is the person...?\"\n",
      "<ipython-input-358-bf84b428f8ef>:7: SettingWithCopyWarning: \n",
      "A value is trying to be set on a copy of a slice from a DataFrame.\n",
      "Try using .loc[row_indexer,col_indexer] = value instead\n",
      "\n",
      "See the caveats in the documentation: https://pandas.pydata.org/pandas-docs/stable/user_guide/indexing.html#returning-a-view-versus-a-copy\n",
      "  where[\"AResponse\"] = \"What is a place...?\"\n",
      "<ipython-input-358-bf84b428f8ef>:9: SettingWithCopyWarning: \n",
      "A value is trying to be set on a copy of a slice from a DataFrame.\n",
      "Try using .loc[row_indexer,col_indexer] = value instead\n",
      "\n",
      "See the caveats in the documentation: https://pandas.pydata.org/pandas-docs/stable/user_guide/indexing.html#returning-a-view-versus-a-copy\n",
      "  where[\"AllResponse\"] = \"What is every place...?\"\n",
      "<ipython-input-358-bf84b428f8ef>:10: SettingWithCopyWarning: \n",
      "A value is trying to be set on a copy of a slice from a DataFrame.\n",
      "Try using .loc[row_indexer,col_indexer] = value instead\n",
      "\n",
      "See the caveats in the documentation: https://pandas.pydata.org/pandas-docs/stable/user_guide/indexing.html#returning-a-view-versus-a-copy\n",
      "  where[\"TheResponse\"] = \"What is the place...?\"\n",
      "<ipython-input-358-bf84b428f8ef>:13: SettingWithCopyWarning: \n",
      "A value is trying to be set on a copy of a slice from a DataFrame.\n",
      "Try using .loc[row_indexer,col_indexer] = value instead\n",
      "\n",
      "See the caveats in the documentation: https://pandas.pydata.org/pandas-docs/stable/user_guide/indexing.html#returning-a-view-versus-a-copy\n",
      "  how[\"AResponse\"] = \"What is a way...?\"\n",
      "<ipython-input-358-bf84b428f8ef>:15: SettingWithCopyWarning: \n",
      "A value is trying to be set on a copy of a slice from a DataFrame.\n",
      "Try using .loc[row_indexer,col_indexer] = value instead\n",
      "\n",
      "See the caveats in the documentation: https://pandas.pydata.org/pandas-docs/stable/user_guide/indexing.html#returning-a-view-versus-a-copy\n",
      "  how[\"AllResponse\"] = \"What is every way...?\"\n",
      "<ipython-input-358-bf84b428f8ef>:16: SettingWithCopyWarning: \n",
      "A value is trying to be set on a copy of a slice from a DataFrame.\n",
      "Try using .loc[row_indexer,col_indexer] = value instead\n",
      "\n",
      "See the caveats in the documentation: https://pandas.pydata.org/pandas-docs/stable/user_guide/indexing.html#returning-a-view-versus-a-copy\n",
      "  how[\"TheResponse\"] = \"What is the way...?\"\n",
      "<ipython-input-358-bf84b428f8ef>:18: SettingWithCopyWarning: \n",
      "A value is trying to be set on a copy of a slice from a DataFrame.\n",
      "Try using .loc[row_indexer,col_indexer] = value instead\n",
      "\n",
      "See the caveats in the documentation: https://pandas.pydata.org/pandas-docs/stable/user_guide/indexing.html#returning-a-view-versus-a-copy\n",
      "  when[\"AResponse\"] = \"What is a time...?\"\n",
      "<ipython-input-358-bf84b428f8ef>:20: SettingWithCopyWarning: \n",
      "A value is trying to be set on a copy of a slice from a DataFrame.\n",
      "Try using .loc[row_indexer,col_indexer] = value instead\n",
      "\n",
      "See the caveats in the documentation: https://pandas.pydata.org/pandas-docs/stable/user_guide/indexing.html#returning-a-view-versus-a-copy\n",
      "  when[\"AllResponse\"] = \"What is every time...?\"\n",
      "<ipython-input-358-bf84b428f8ef>:21: SettingWithCopyWarning: \n",
      "A value is trying to be set on a copy of a slice from a DataFrame.\n",
      "Try using .loc[row_indexer,col_indexer] = value instead\n",
      "\n",
      "See the caveats in the documentation: https://pandas.pydata.org/pandas-docs/stable/user_guide/indexing.html#returning-a-view-versus-a-copy\n",
      "  when[\"TheResponse\"] = \"What is the time...?\"\n",
      "<ipython-input-358-bf84b428f8ef>:24: SettingWithCopyWarning: \n",
      "A value is trying to be set on a copy of a slice from a DataFrame.\n",
      "Try using .loc[row_indexer,col_indexer] = value instead\n",
      "\n",
      "See the caveats in the documentation: https://pandas.pydata.org/pandas-docs/stable/user_guide/indexing.html#returning-a-view-versus-a-copy\n",
      "  why[\"AResponse\"] = \"What is a reason...?\"\n",
      "<ipython-input-358-bf84b428f8ef>:26: SettingWithCopyWarning: \n",
      "A value is trying to be set on a copy of a slice from a DataFrame.\n",
      "Try using .loc[row_indexer,col_indexer] = value instead\n",
      "\n",
      "See the caveats in the documentation: https://pandas.pydata.org/pandas-docs/stable/user_guide/indexing.html#returning-a-view-versus-a-copy\n",
      "  why[\"AllResponse\"] = \"What is every reason...?\"\n",
      "<ipython-input-358-bf84b428f8ef>:27: SettingWithCopyWarning: \n",
      "A value is trying to be set on a copy of a slice from a DataFrame.\n",
      "Try using .loc[row_indexer,col_indexer] = value instead\n",
      "\n",
      "See the caveats in the documentation: https://pandas.pydata.org/pandas-docs/stable/user_guide/indexing.html#returning-a-view-versus-a-copy\n",
      "  why[\"TheResponse\"] = \"What is the reason...?\"\n",
      "<ipython-input-358-bf84b428f8ef>:30: SettingWithCopyWarning: \n",
      "A value is trying to be set on a copy of a slice from a DataFrame.\n",
      "Try using .loc[row_indexer,col_indexer] = value instead\n",
      "\n",
      "See the caveats in the documentation: https://pandas.pydata.org/pandas-docs/stable/user_guide/indexing.html#returning-a-view-versus-a-copy\n",
      "  what[\"AResponse\"] = \"What is a thing...?\"\n",
      "<ipython-input-358-bf84b428f8ef>:32: SettingWithCopyWarning: \n",
      "A value is trying to be set on a copy of a slice from a DataFrame.\n",
      "Try using .loc[row_indexer,col_indexer] = value instead\n",
      "\n",
      "See the caveats in the documentation: https://pandas.pydata.org/pandas-docs/stable/user_guide/indexing.html#returning-a-view-versus-a-copy\n",
      "  what[\"AllResponse\"] = \"What is every thing...?\"\n",
      "<ipython-input-358-bf84b428f8ef>:33: SettingWithCopyWarning: \n",
      "A value is trying to be set on a copy of a slice from a DataFrame.\n",
      "Try using .loc[row_indexer,col_indexer] = value instead\n",
      "\n",
      "See the caveats in the documentation: https://pandas.pydata.org/pandas-docs/stable/user_guide/indexing.html#returning-a-view-versus-a-copy\n",
      "  what[\"TheResponse\"] = \"What is the thing...?\"\n"
     ]
    }
   ],
   "source": [
    "who[\"AResponse\"] = \"Who is a person...?\"\n",
    "# who[\"SomeResponse\"] = \"Who is some person...?\"\n",
    "who[\"AllResponse\"] = \"Who is every person...?\"\n",
    "who[\"TheResponse\"] = \"Who is the person...?\"\n",
    "\n",
    "\n",
    "where[\"AResponse\"] = \"What is a place...?\"\n",
    "# where[\"SomeResponse\"] = \"What is some place...?\"\n",
    "where[\"AllResponse\"] = \"What is every place...?\"\n",
    "where[\"TheResponse\"] = \"What is the place...?\"\n",
    "\n",
    "\n",
    "how[\"AResponse\"] = \"What is a way...?\"\n",
    "# how[\"SomeResponse\"] = \"What is some way...?\"\n",
    "how[\"AllResponse\"] = \"What is every way...?\"\n",
    "how[\"TheResponse\"] = \"What is the way...?\"\n",
    "\n",
    "when[\"AResponse\"] = \"What is a time...?\"\n",
    "# when[\"SomeResponse\"] = \"What is some time...?\"\n",
    "when[\"AllResponse\"] = \"What is every time...?\"\n",
    "when[\"TheResponse\"] = \"What is the time...?\"\n",
    "\n",
    "\n",
    "why[\"AResponse\"] = \"What is a reason...?\"\n",
    "# why[\"SomeResponse\"] = \"What is some reason...?\"\n",
    "why[\"AllResponse\"] = \"What is every reason...?\"\n",
    "why[\"TheResponse\"] = \"What is the reason...?\"\n",
    "\n",
    "\n",
    "what[\"AResponse\"] = \"What is a thing...?\"\n",
    "# what[\"SomeResponse\"] = \"What is some thing...?\"\n",
    "what[\"AllResponse\"] = \"What is every thing...?\"\n",
    "what[\"TheResponse\"] = \"What is the thing...?\""
   ]
  },
  {
   "cell_type": "code",
   "execution_count": 385,
   "metadata": {},
   "outputs": [],
   "source": [
    "df_final = pd.concat([who,where,how,why,when,what])"
   ]
  },
  {
   "cell_type": "code",
   "execution_count": 360,
   "metadata": {},
   "outputs": [
    {
     "data": {
      "text/plain": [
       "995"
      ]
     },
     "execution_count": 360,
     "metadata": {},
     "output_type": "execute_result"
    }
   ],
   "source": [
    "len(df_final)"
   ]
  },
  {
   "cell_type": "code",
   "execution_count": 97,
   "metadata": {},
   "outputs": [
    {
     "data": {
      "text/html": [
       "<div>\n",
       "<style scoped>\n",
       "    .dataframe tbody tr th:only-of-type {\n",
       "        vertical-align: middle;\n",
       "    }\n",
       "\n",
       "    .dataframe tbody tr th {\n",
       "        vertical-align: top;\n",
       "    }\n",
       "\n",
       "    .dataframe thead th {\n",
       "        text-align: right;\n",
       "    }\n",
       "</style>\n",
       "<table border=\"1\" class=\"dataframe\">\n",
       "  <thead>\n",
       "    <tr style=\"text-align: right;\">\n",
       "      <th></th>\n",
       "      <th>Wh</th>\n",
       "      <th>EntireSentence</th>\n",
       "    </tr>\n",
       "  </thead>\n",
       "  <tbody>\n",
       "    <tr>\n",
       "      <th>0</th>\n",
       "      <td>how</td>\n",
       "      <td>0.184925</td>\n",
       "    </tr>\n",
       "    <tr>\n",
       "      <th>1</th>\n",
       "      <td>what</td>\n",
       "      <td>0.587940</td>\n",
       "    </tr>\n",
       "    <tr>\n",
       "      <th>2</th>\n",
       "      <td>when</td>\n",
       "      <td>0.015075</td>\n",
       "    </tr>\n",
       "    <tr>\n",
       "      <th>3</th>\n",
       "      <td>where</td>\n",
       "      <td>0.097487</td>\n",
       "    </tr>\n",
       "    <tr>\n",
       "      <th>4</th>\n",
       "      <td>who</td>\n",
       "      <td>0.054271</td>\n",
       "    </tr>\n",
       "    <tr>\n",
       "      <th>5</th>\n",
       "      <td>why</td>\n",
       "      <td>0.060302</td>\n",
       "    </tr>\n",
       "  </tbody>\n",
       "</table>\n",
       "</div>"
      ],
      "text/plain": [
       "      Wh  EntireSentence\n",
       "0    how        0.184925\n",
       "1   what        0.587940\n",
       "2   when        0.015075\n",
       "3  where        0.097487\n",
       "4    who        0.054271\n",
       "5    why        0.060302"
      ]
     },
     "execution_count": 97,
     "metadata": {},
     "output_type": "execute_result"
    }
   ],
   "source": [
    "df_final.pivot_table(index=['Wh'], values=\"EntireSentence\", aggfunc=len).groupby([\"Wh\"]).EntireSentence.transform(lambda x: x/len(df_final)).reset_index()"
   ]
  },
  {
   "cell_type": "code",
   "execution_count": 98,
   "metadata": {},
   "outputs": [
    {
     "data": {
      "text/html": [
       "<div>\n",
       "<style scoped>\n",
       "    .dataframe tbody tr th:only-of-type {\n",
       "        vertical-align: middle;\n",
       "    }\n",
       "\n",
       "    .dataframe tbody tr th {\n",
       "        vertical-align: top;\n",
       "    }\n",
       "\n",
       "    .dataframe thead th {\n",
       "        text-align: right;\n",
       "    }\n",
       "</style>\n",
       "<table border=\"1\" class=\"dataframe\">\n",
       "  <thead>\n",
       "    <tr style=\"text-align: right;\">\n",
       "      <th></th>\n",
       "      <th>ModalPresent</th>\n",
       "      <th>EntireSentence</th>\n",
       "    </tr>\n",
       "  </thead>\n",
       "  <tbody>\n",
       "    <tr>\n",
       "      <th>0</th>\n",
       "      <td>no</td>\n",
       "      <td>0.878392</td>\n",
       "    </tr>\n",
       "    <tr>\n",
       "      <th>1</th>\n",
       "      <td>yes</td>\n",
       "      <td>0.121608</td>\n",
       "    </tr>\n",
       "  </tbody>\n",
       "</table>\n",
       "</div>"
      ],
      "text/plain": [
       "  ModalPresent  EntireSentence\n",
       "0           no        0.878392\n",
       "1          yes        0.121608"
      ]
     },
     "execution_count": 98,
     "metadata": {},
     "output_type": "execute_result"
    }
   ],
   "source": [
    "df_final.pivot_table(index=['ModalPresent'], values=\"EntireSentence\", aggfunc=len).groupby([\"ModalPresent\"]).EntireSentence.transform(lambda x: x/len(df_final)).reset_index()"
   ]
  },
  {
   "cell_type": "markdown",
   "metadata": {},
   "source": [
    "## Controls"
   ]
  },
  {
   "cell_type": "code",
   "execution_count": 361,
   "metadata": {},
   "outputs": [],
   "source": [
    "controls = pd.read_csv(\"../../experiments/clean_corpus/controls.csv\")"
   ]
  },
  {
   "cell_type": "code",
   "execution_count": 362,
   "metadata": {},
   "outputs": [],
   "source": [
    "controls[\"Wh\"] = \"none\"\n",
    "controls[\"ModalPresent\"] = \"no\""
   ]
  },
  {
   "cell_type": "code",
   "execution_count": 363,
   "metadata": {},
   "outputs": [],
   "source": [
    "controls = controls[[\"TGrepID\",\"EntireSentence\",\"PreceedingContext\",\"Wh\",\"ModalPresent\",\"AResponse\",\"AllResponse\",\"TheResponse\"]]"
   ]
  },
  {
   "cell_type": "markdown",
   "metadata": {},
   "source": [
    "## Create randomly sampled files"
   ]
  },
  {
   "cell_type": "markdown",
   "metadata": {},
   "source": [
    "### TEST SAMPLE"
   ]
  },
  {
   "cell_type": "code",
   "execution_count": 327,
   "metadata": {},
   "outputs": [
    {
     "data": {
      "text/plain": [
       "31.09375"
      ]
     },
     "execution_count": 327,
     "metadata": {},
     "output_type": "execute_result"
    }
   ],
   "source": [
    "len(df_final)/32"
   ]
  },
  {
   "cell_type": "code",
   "execution_count": 141,
   "metadata": {},
   "outputs": [
    {
     "data": {
      "text/plain": [
       "995"
      ]
     },
     "execution_count": 141,
     "metadata": {},
     "output_type": "execute_result"
    }
   ],
   "source": [
    "# 32 lists of 30, 1 list of 35\n",
    "30*32 +35"
   ]
  },
  {
   "cell_type": "markdown",
   "metadata": {},
   "source": [
    "#### For Modal Balancing:\n",
    "- Lists 1-29: 4\n",
    "    - List 1-15: 4\n",
    "    - List 16-29: 4\n",
    "- List 30-32: 1\n",
    "- List 33: 2"
   ]
  },
  {
   "cell_type": "code",
   "execution_count": 144,
   "metadata": {},
   "outputs": [
    {
     "data": {
      "text/plain": [
       "ModalPresent\n",
       "no     874\n",
       "yes    121\n",
       "Name: ModalPresent, dtype: int64"
      ]
     },
     "execution_count": 144,
     "metadata": {},
     "output_type": "execute_result"
    }
   ],
   "source": [
    "df_final.groupby([\"ModalPresent\"])[\"ModalPresent\"].count()"
   ]
  },
  {
   "cell_type": "markdown",
   "metadata": {},
   "source": [
    "Modals"
   ]
  },
  {
   "cell_type": "code",
   "execution_count": 145,
   "metadata": {},
   "outputs": [
    {
     "data": {
      "text/plain": [
       "3.6666666666666665"
      ]
     },
     "execution_count": 145,
     "metadata": {},
     "output_type": "execute_result"
    }
   ],
   "source": [
    "121/33"
   ]
  },
  {
   "cell_type": "code",
   "execution_count": 161,
   "metadata": {},
   "outputs": [
    {
     "data": {
      "text/plain": [
       "5"
      ]
     },
     "execution_count": 161,
     "metadata": {},
     "output_type": "execute_result"
    }
   ],
   "source": [
    "# modal leftovers\n",
    "121 - 4*29"
   ]
  },
  {
   "cell_type": "markdown",
   "metadata": {},
   "source": [
    "### For Wh Balancing"
   ]
  },
  {
   "cell_type": "code",
   "execution_count": 306,
   "metadata": {},
   "outputs": [
    {
     "data": {
      "text/plain": [
       "Wh\n",
       "how      184\n",
       "what     585\n",
       "when      15\n",
       "where     97\n",
       "who       54\n",
       "why       60\n",
       "Name: Wh, dtype: int64"
      ]
     },
     "execution_count": 306,
     "metadata": {},
     "output_type": "execute_result"
    }
   ],
   "source": [
    "df_final.groupby([\"Wh\"])[\"Wh\"].count()"
   ]
  },
  {
   "cell_type": "markdown",
   "metadata": {},
   "source": [
    "#### When:\n",
    "- List 1-15: 1"
   ]
  },
  {
   "cell_type": "markdown",
   "metadata": {},
   "source": [
    "#### Who:\n",
    "- List 1-15: 2\n",
    "- List 15-21: 2\n",
    "- List 22-33: 1"
   ]
  },
  {
   "cell_type": "code",
   "execution_count": 189,
   "metadata": {},
   "outputs": [
    {
     "data": {
      "text/plain": [
       "1.6363636363636365"
      ]
     },
     "execution_count": 189,
     "metadata": {},
     "output_type": "execute_result"
    }
   ],
   "source": [
    "54/33"
   ]
  },
  {
   "cell_type": "code",
   "execution_count": 197,
   "metadata": {},
   "outputs": [
    {
     "data": {
      "text/plain": [
       "54"
      ]
     },
     "execution_count": 197,
     "metadata": {},
     "output_type": "execute_result"
    }
   ],
   "source": [
    "21*2 + 12"
   ]
  },
  {
   "cell_type": "markdown",
   "metadata": {},
   "source": []
  },
  {
   "cell_type": "markdown",
   "metadata": {},
   "source": [
    "#### Why:\n",
    "- List 1-15: 2\n",
    "- List 16-21: 2\n",
    "- List 22-27: 2\n",
    "- List 28-33: 1"
   ]
  },
  {
   "cell_type": "code",
   "execution_count": 199,
   "metadata": {},
   "outputs": [
    {
     "data": {
      "text/plain": [
       "1.8181818181818181"
      ]
     },
     "execution_count": 199,
     "metadata": {},
     "output_type": "execute_result"
    }
   ],
   "source": [
    "60/33"
   ]
  },
  {
   "cell_type": "code",
   "execution_count": 205,
   "metadata": {},
   "outputs": [
    {
     "data": {
      "text/plain": [
       "60"
      ]
     },
     "execution_count": 205,
     "metadata": {},
     "output_type": "execute_result"
    }
   ],
   "source": [
    "27*2 + 6"
   ]
  },
  {
   "cell_type": "markdown",
   "metadata": {},
   "source": [
    "#### Where:\n",
    "- List 1-15: 3\n",
    "- List 16-31: 3\n",
    "- List 32-33: 2"
   ]
  },
  {
   "cell_type": "code",
   "execution_count": 208,
   "metadata": {},
   "outputs": [
    {
     "data": {
      "text/plain": [
       "2.9393939393939394"
      ]
     },
     "execution_count": 208,
     "metadata": {},
     "output_type": "execute_result"
    }
   ],
   "source": [
    "97/33"
   ]
  },
  {
   "cell_type": "code",
   "execution_count": 212,
   "metadata": {},
   "outputs": [
    {
     "data": {
      "text/plain": [
       "97"
      ]
     },
     "execution_count": 212,
     "metadata": {},
     "output_type": "execute_result"
    }
   ],
   "source": [
    "31*3 + 2*2"
   ]
  },
  {
   "cell_type": "markdown",
   "metadata": {},
   "source": [
    "#### How:\n",
    "- List 1-15: 6\n",
    "- List 16-27: 6\n",
    "- List 28-31: 4\n",
    "- List 32-33: 3"
   ]
  },
  {
   "cell_type": "code",
   "execution_count": 264,
   "metadata": {},
   "outputs": [
    {
     "data": {
      "text/plain": [
       "184"
      ]
     },
     "execution_count": 264,
     "metadata": {},
     "output_type": "execute_result"
    }
   ],
   "source": [
    "27*6 + 4*4 + 2*3"
   ]
  },
  {
   "cell_type": "markdown",
   "metadata": {},
   "source": [
    "#### What: \n",
    "- Lists 1-15: 16\n",
    "- List 16-29: 18**\n",
    "- Lists 30-32: 16**\n",
    "- List 33: 15**"
   ]
  },
  {
   "cell_type": "code",
   "execution_count": 328,
   "metadata": {},
   "outputs": [
    {
     "data": {
      "text/plain": [
       "585"
      ]
     },
     "execution_count": 328,
     "metadata": {},
     "output_type": "execute_result"
    }
   ],
   "source": [
    "29*18+3*16+1*15"
   ]
  },
  {
   "cell_type": "code",
   "execution_count": 330,
   "metadata": {},
   "outputs": [
    {
     "data": {
      "text/plain": [
       "557"
      ]
     },
     "execution_count": 330,
     "metadata": {},
     "output_type": "execute_result"
    }
   ],
   "source": [
    "15*16 + 6*17 + 6*18 + 2*21 + 2*21 + 1*23 + 1*28"
   ]
  },
  {
   "cell_type": "code",
   "execution_count": 331,
   "metadata": {},
   "outputs": [
    {
     "data": {
      "text/plain": [
       "28"
      ]
     },
     "execution_count": 331,
     "metadata": {},
     "output_type": "execute_result"
    }
   ],
   "source": [
    "585-557"
   ]
  },
  {
   "cell_type": "markdown",
   "metadata": {},
   "source": [
    "Lists 1-15 (30):\n",
    "    1 when\n",
    "    2 who\n",
    "    2 why\n",
    "    3 where\n",
    "    6 how\n",
    "    16 what\n",
    "\n",
    "List 16-21 (30):\n",
    "    0 when\n",
    "    2 who\n",
    "    2 why\n",
    "    3 where\n",
    "    6 how\n",
    "    17 what\n",
    "\n",
    "\n",
    "List 22-27 (30):\n",
    "    0 when\n",
    "    1 who\n",
    "    2 why\n",
    "    3 where\n",
    "    6 how\n",
    "    18 what\n",
    "\n",
    "List 28-29 (30):\n",
    "    0 when\n",
    "    1 who\n",
    "    1 why\n",
    "    3 where\n",
    "    4 how\n",
    "    21 what\n",
    "\n",
    "List 30-31 (30):\n",
    "    0 when\n",
    "    1 who\n",
    "    1 why\n",
    "    3 where\n",
    "    4 how\n",
    "    21 what\n",
    "\n",
    "List 32 (30):\n",
    "    0 when\n",
    "    1 who\n",
    "    1 why\n",
    "    2 where\n",
    "    3 how\n",
    "    23 what\n",
    "\n",
    "List 33 (35):\n",
    "    1 who\n",
    "    1 why\n",
    "    2 where\n",
    "    3 how\n",
    "    28 what\n"
   ]
  },
  {
   "cell_type": "code",
   "execution_count": 398,
   "metadata": {},
   "outputs": [],
   "source": [
    "df_final = pd.concat([who,where,how,why,when,what])"
   ]
  },
  {
   "cell_type": "code",
   "execution_count": 399,
   "metadata": {},
   "outputs": [],
   "source": [
    "for n in range(1,16):\n",
    "    mod_sample = df_final[df_final[\"ModalPresent\"] == \"yes\"].sample(4)\n",
    "\n",
    "    i = len(mod_sample[mod_sample[\"Wh\"] == \"why\"])\n",
    "    j = len(mod_sample[mod_sample[\"Wh\"] == \"when\"])\n",
    "    k = len(mod_sample[mod_sample[\"Wh\"] == \"what\"])\n",
    "    l = len(mod_sample[mod_sample[\"Wh\"] == \"how\"])\n",
    "    m = len(mod_sample[mod_sample[\"Wh\"] == \"who\"])\n",
    "    o = len(mod_sample[mod_sample[\"Wh\"] == \"where\"])\n",
    "    df_final = df_final.drop(mod_sample.index)\n",
    "\n",
    "    when_sample = df_final[df_final[\"Wh\"] == \"when\"].sample(1-j)\n",
    "    df_final = df_final.drop(when_sample.index)  \n",
    "\n",
    "    who_sample = df_final[\n",
    "        (df_final[\"Wh\"] == \"who\") &\n",
    "        (df_final[\"ModalPresent\"] == \"no\")\n",
    "    ].sample(2-m)\n",
    "    df_final = df_final.drop(who_sample.index)    \n",
    "    \n",
    "    why_sample = df_final[\n",
    "        (df_final[\"Wh\"] == \"why\") &\n",
    "        (df_final[\"ModalPresent\"] == \"no\")\n",
    "    ].sample(2-i)\n",
    "    df_final = df_final.drop(why_sample.index)\n",
    "    \n",
    "    where_sample = df_final[\n",
    "        (df_final[\"Wh\"] == \"where\") &\n",
    "        (df_final[\"ModalPresent\"] == \"no\")\n",
    "    ].sample(3-o)\n",
    "    df_final = df_final.drop(where_sample.index)\n",
    "\n",
    "    how_sample = df_final[\n",
    "        (df_final[\"Wh\"] == \"how\") &\n",
    "        (df_final[\"ModalPresent\"] == \"no\")\n",
    "    ].sample(6-l)\n",
    "    df_final = df_final.drop(how_sample.index)    \n",
    "    \n",
    "    what_sample = df_final[\n",
    "        (df_final[\"Wh\"] == \"what\") &\n",
    "        (df_final[\"ModalPresent\"] == \"no\")\n",
    "    ].sample(16-k)\n",
    "    df_final = df_final.drop(what_sample.index)\n",
    "    \n",
    "    total = pd.concat([mod_sample,why_sample,when_sample,what_sample,how_sample,who_sample,where_sample,controls])\n",
    "\n",
    "    # save to file\n",
    "    filename = f\"../../experiments/clean_corpus/03_experiment/corpus_{n}.txt\".format(n=n)\n",
    "    total.to_csv(filename,header=True,sep=\"\\t\",index=False)"
   ]
  },
  {
   "cell_type": "code",
   "execution_count": 310,
   "metadata": {},
   "outputs": [
    {
     "data": {
      "text/plain": [
       "38"
      ]
     },
     "execution_count": 310,
     "metadata": {},
     "output_type": "execute_result"
    }
   ],
   "source": []
  },
  {
   "cell_type": "code",
   "execution_count": 400,
   "metadata": {},
   "outputs": [
    {
     "data": {
      "text/plain": [
       "545"
      ]
     },
     "execution_count": 400,
     "metadata": {},
     "output_type": "execute_result"
    }
   ],
   "source": [
    "len(df_final)"
   ]
  },
  {
   "cell_type": "code",
   "execution_count": 396,
   "metadata": {},
   "outputs": [
    {
     "data": {
      "text/plain": [
       "Wh\n",
       "how       94\n",
       "what     345\n",
       "where     52\n",
       "who       24\n",
       "why       30\n",
       "Name: Wh, dtype: int64"
      ]
     },
     "execution_count": 396,
     "metadata": {},
     "output_type": "execute_result"
    }
   ],
   "source": [
    "df_final.groupby([\"Wh\"])[\"Wh\"].count()"
   ]
  },
  {
   "cell_type": "markdown",
   "metadata": {},
   "source": [
    "who\n",
    "9/2 = 4.5\n",
    "\n",
    "who\n",
    "9/2 = 3.5\n",
    "\n",
    "how\n",
    "49/2 = 24.5"
   ]
  },
  {
   "cell_type": "code",
   "execution_count": 533,
   "metadata": {},
   "outputs": [
    {
     "data": {
      "text/plain": [
       "ModalPresent\n",
       "no     52\n",
       "yes    13\n",
       "Name: ModalPresent, dtype: int64"
      ]
     },
     "execution_count": 533,
     "metadata": {},
     "output_type": "execute_result"
    }
   ],
   "source": [
    "df_final.groupby([\"ModalPresent\"])[\"ModalPresent\"].count()"
   ]
  },
  {
   "cell_type": "code",
   "execution_count": 506,
   "metadata": {},
   "outputs": [
    {
     "data": {
      "text/plain": [
       "6.5"
      ]
     },
     "execution_count": 506,
     "metadata": {},
     "output_type": "execute_result"
    }
   ],
   "source": [
    "13/2"
   ]
  },
  {
   "cell_type": "markdown",
   "metadata": {},
   "source": [
    "Second iteration"
   ]
  },
  {
   "cell_type": "code",
   "execution_count": 401,
   "metadata": {},
   "outputs": [],
   "source": [
    "for n in range(16,22):\n",
    "    mod_sample = df_final[df_final[\"ModalPresent\"] == \"yes\"].sample(4)\n",
    "\n",
    "    i = len(mod_sample[mod_sample[\"Wh\"] == \"why\"])\n",
    "    k = len(mod_sample[mod_sample[\"Wh\"] == \"what\"])\n",
    "    l = len(mod_sample[mod_sample[\"Wh\"] == \"how\"])\n",
    "    m = len(mod_sample[mod_sample[\"Wh\"] == \"who\"])\n",
    "    o = len(mod_sample[mod_sample[\"Wh\"] == \"where\"])\n",
    "    df_final = df_final.drop(mod_sample.index)\n",
    "\n",
    "    who_sample = df_final[\n",
    "        (df_final[\"Wh\"] == \"who\") &\n",
    "        (df_final[\"ModalPresent\"] == \"no\")\n",
    "    ].sample(2-m)\n",
    "    df_final = df_final.drop(who_sample.index)    \n",
    "    \n",
    "    why_sample = df_final[\n",
    "        (df_final[\"Wh\"] == \"why\") &\n",
    "        (df_final[\"ModalPresent\"] == \"no\")\n",
    "    ].sample(2-i)\n",
    "    df_final = df_final.drop(why_sample.index)\n",
    "    \n",
    "    where_sample = df_final[\n",
    "        (df_final[\"Wh\"] == \"where\") &\n",
    "        (df_final[\"ModalPresent\"] == \"no\")\n",
    "    ].sample(3-o)\n",
    "    df_final = df_final.drop(where_sample.index)\n",
    "\n",
    "    how_sample = df_final[\n",
    "        (df_final[\"Wh\"] == \"how\") &\n",
    "        (df_final[\"ModalPresent\"] == \"no\")\n",
    "    ].sample(6-l)\n",
    "    df_final = df_final.drop(how_sample.index)    \n",
    "    \n",
    "    what_sample = df_final[\n",
    "        (df_final[\"Wh\"] == \"what\") &\n",
    "        (df_final[\"ModalPresent\"] == \"no\")\n",
    "    ].sample(17-k)\n",
    "    df_final = df_final.drop(what_sample.index)\n",
    "    \n",
    "    total = pd.concat([mod_sample,why_sample,what_sample,how_sample,who_sample,where_sample,controls])\n",
    "\n",
    "    # save to file\n",
    "    filename = f\"../../experiments/clean_corpus/03_experiment/corpus_{n}.txt\".format(n=n)\n",
    "    total.to_csv(filename,header=True,sep=\"\\t\",index=False)"
   ]
  },
  {
   "cell_type": "code",
   "execution_count": 29,
   "metadata": {},
   "outputs": [
    {
     "data": {
      "text/plain": [
       "30"
      ]
     },
     "execution_count": 29,
     "metadata": {},
     "output_type": "execute_result"
    }
   ],
   "source": [
    "23+4+3"
   ]
  },
  {
   "cell_type": "code",
   "execution_count": 402,
   "metadata": {},
   "outputs": [
    {
     "data": {
      "text/plain": [
       "365"
      ]
     },
     "execution_count": 402,
     "metadata": {},
     "output_type": "execute_result"
    }
   ],
   "source": [
    "len(df_final)"
   ]
  },
  {
   "cell_type": "code",
   "execution_count": 107,
   "metadata": {},
   "outputs": [
    {
     "data": {
      "text/plain": [
       "ModalPresent\n",
       "no     874\n",
       "yes    121\n",
       "Name: ModalPresent, dtype: int64"
      ]
     },
     "execution_count": 107,
     "metadata": {},
     "output_type": "execute_result"
    }
   ],
   "source": [
    "df_final.groupby([\"ModalPresent\"])[\"ModalPresent\"].count()"
   ]
  },
  {
   "cell_type": "code",
   "execution_count": 110,
   "metadata": {},
   "outputs": [
    {
     "data": {
      "text/plain": [
       "33.166666666666664"
      ]
     },
     "execution_count": 110,
     "metadata": {},
     "output_type": "execute_result"
    }
   ],
   "source": [
    "995/30"
   ]
  },
  {
   "cell_type": "code",
   "execution_count": 108,
   "metadata": {},
   "outputs": [
    {
     "data": {
      "text/plain": [
       "Wh\n",
       "how      184\n",
       "what     585\n",
       "when      15\n",
       "where     97\n",
       "who       54\n",
       "why       60\n",
       "Name: Wh, dtype: int64"
      ]
     },
     "execution_count": 108,
     "metadata": {},
     "output_type": "execute_result"
    }
   ],
   "source": [
    "df_final.groupby([\"Wh\"])[\"Wh\"].count()"
   ]
  },
  {
   "cell_type": "code",
   "execution_count": 403,
   "metadata": {},
   "outputs": [],
   "source": [
    "for n in range(22,28):\n",
    "    mod_sample = df_final[df_final[\"ModalPresent\"] == \"yes\"].sample(4)\n",
    "\n",
    "    i = len(mod_sample[mod_sample[\"Wh\"] == \"why\"])\n",
    "    k = len(mod_sample[mod_sample[\"Wh\"] == \"what\"])\n",
    "    l = len(mod_sample[mod_sample[\"Wh\"] == \"how\"])\n",
    "    m = len(mod_sample[mod_sample[\"Wh\"] == \"who\"])\n",
    "    o = len(mod_sample[mod_sample[\"Wh\"] == \"where\"])\n",
    "    df_final = df_final.drop(mod_sample.index)\n",
    "\n",
    "    who_sample = df_final[\n",
    "        (df_final[\"Wh\"] == \"who\") &\n",
    "        (df_final[\"ModalPresent\"] == \"no\")\n",
    "    ].sample(1-m)\n",
    "    df_final = df_final.drop(who_sample.index)    \n",
    "    \n",
    "    why_sample = df_final[\n",
    "        (df_final[\"Wh\"] == \"why\") &\n",
    "        (df_final[\"ModalPresent\"] == \"no\")\n",
    "    ].sample(2-i)\n",
    "    df_final = df_final.drop(why_sample.index)\n",
    "    \n",
    "    where_sample = df_final[\n",
    "        (df_final[\"Wh\"] == \"where\") &\n",
    "        (df_final[\"ModalPresent\"] == \"no\")\n",
    "    ].sample(3-o)\n",
    "    df_final = df_final.drop(where_sample.index)\n",
    "\n",
    "    how_sample = df_final[\n",
    "        (df_final[\"Wh\"] == \"how\") &\n",
    "        (df_final[\"ModalPresent\"] == \"no\")\n",
    "    ].sample(6-l)\n",
    "    df_final = df_final.drop(how_sample.index)    \n",
    "    \n",
    "    what_sample = df_final[\n",
    "        (df_final[\"Wh\"] == \"what\") &\n",
    "        (df_final[\"ModalPresent\"] == \"no\")\n",
    "    ].sample(18-k)\n",
    "    df_final = df_final.drop(what_sample.index)\n",
    "    \n",
    "    total = pd.concat([mod_sample,why_sample,what_sample,how_sample,who_sample,where_sample,controls])\n",
    "\n",
    "    # save to file\n",
    "    filename = f\"../../experiments/clean_corpus/03_experiment/corpus_{n}.txt\".format(n=n)\n",
    "    total.to_csv(filename,header=True,sep=\"\\t\",index=False)"
   ]
  },
  {
   "cell_type": "code",
   "execution_count": null,
   "metadata": {},
   "outputs": [],
   "source": [
    "len(d_final)"
   ]
  },
  {
   "cell_type": "code",
   "execution_count": 404,
   "metadata": {},
   "outputs": [],
   "source": [
    "for n in range(28,30):\n",
    "    mod_sample = df_final[df_final[\"ModalPresent\"] == \"yes\"].sample(4)\n",
    "\n",
    "    i = len(mod_sample[mod_sample[\"Wh\"] == \"why\"])\n",
    "    k = len(mod_sample[mod_sample[\"Wh\"] == \"what\"])\n",
    "    l = len(mod_sample[mod_sample[\"Wh\"] == \"how\"])\n",
    "    m = len(mod_sample[mod_sample[\"Wh\"] == \"who\"])\n",
    "    o = len(mod_sample[mod_sample[\"Wh\"] == \"where\"])\n",
    "    df_final = df_final.drop(mod_sample.index)\n",
    "\n",
    "    who_sample = df_final[\n",
    "        (df_final[\"Wh\"] == \"who\") &\n",
    "        (df_final[\"ModalPresent\"] == \"no\")\n",
    "    ].sample(1-m)\n",
    "    df_final = df_final.drop(who_sample.index)    \n",
    "    \n",
    "    why_sample = df_final[\n",
    "        (df_final[\"Wh\"] == \"why\") &\n",
    "        (df_final[\"ModalPresent\"] == \"no\")\n",
    "    ].sample(1-i)\n",
    "    df_final = df_final.drop(why_sample.index)\n",
    "    \n",
    "    where_sample = df_final[\n",
    "        (df_final[\"Wh\"] == \"where\") &\n",
    "        (df_final[\"ModalPresent\"] == \"no\")\n",
    "    ].sample(3-o)\n",
    "    df_final = df_final.drop(where_sample.index)\n",
    "\n",
    "    how_sample = df_final[\n",
    "        (df_final[\"Wh\"] == \"how\") &\n",
    "        (df_final[\"ModalPresent\"] == \"no\")\n",
    "    ].sample(4-l)\n",
    "    df_final = df_final.drop(how_sample.index)    \n",
    "    \n",
    "    what_sample = df_final[\n",
    "        (df_final[\"Wh\"] == \"what\") &\n",
    "        (df_final[\"ModalPresent\"] == \"no\")\n",
    "    ].sample(21-k)\n",
    "    df_final = df_final.drop(what_sample.index)\n",
    "    \n",
    "    total = pd.concat([mod_sample,why_sample,what_sample,how_sample,who_sample,where_sample,controls])\n",
    "\n",
    "    # save to file\n",
    "    filename = f\"../../experiments/clean_corpus/03_experiment/corpus_{n}.txt\".format(n=n)\n",
    "    total.to_csv(filename,header=True,sep=\"\\t\",index=False)"
   ]
  },
  {
   "cell_type": "code",
   "execution_count": null,
   "metadata": {},
   "outputs": [],
   "source": [
    "len(d_final)"
   ]
  },
  {
   "cell_type": "code",
   "execution_count": 405,
   "metadata": {},
   "outputs": [],
   "source": [
    "for n in range(30,32):\n",
    "    mod_sample = df_final[df_final[\"ModalPresent\"] == \"yes\"].sample(1)\n",
    "\n",
    "    i = len(mod_sample[mod_sample[\"Wh\"] == \"why\"])\n",
    "    k = len(mod_sample[mod_sample[\"Wh\"] == \"what\"])\n",
    "    l = len(mod_sample[mod_sample[\"Wh\"] == \"how\"])\n",
    "    m = len(mod_sample[mod_sample[\"Wh\"] == \"who\"])\n",
    "    o = len(mod_sample[mod_sample[\"Wh\"] == \"where\"])\n",
    "    df_final = df_final.drop(mod_sample.index)\n",
    "\n",
    "    who_sample = df_final[\n",
    "        (df_final[\"Wh\"] == \"who\") &\n",
    "        (df_final[\"ModalPresent\"] == \"no\")\n",
    "    ].sample(1-m)\n",
    "    df_final = df_final.drop(who_sample.index)    \n",
    "    \n",
    "    why_sample = df_final[\n",
    "        (df_final[\"Wh\"] == \"why\") &\n",
    "        (df_final[\"ModalPresent\"] == \"no\")\n",
    "    ].sample(1-i)\n",
    "    df_final = df_final.drop(why_sample.index)\n",
    "    \n",
    "    where_sample = df_final[\n",
    "        (df_final[\"Wh\"] == \"where\") &\n",
    "        (df_final[\"ModalPresent\"] == \"no\")\n",
    "    ].sample(3-o)\n",
    "    df_final = df_final.drop(where_sample.index)\n",
    "\n",
    "    how_sample = df_final[\n",
    "        (df_final[\"Wh\"] == \"how\") &\n",
    "        (df_final[\"ModalPresent\"] == \"no\")\n",
    "    ].sample(4-l)\n",
    "    df_final = df_final.drop(how_sample.index)    \n",
    "    \n",
    "    what_sample = df_final[\n",
    "        (df_final[\"Wh\"] == \"what\") &\n",
    "        (df_final[\"ModalPresent\"] == \"no\")\n",
    "    ].sample(21-k)\n",
    "    df_final = df_final.drop(what_sample.index)\n",
    "    \n",
    "    total = pd.concat([mod_sample,why_sample,what_sample,how_sample,who_sample,where_sample,controls])\n",
    "\n",
    "    # save to file\n",
    "    filename = f\"../../experiments/clean_corpus/03_experiment/corpus_{n}.txt\".format(n=n)\n",
    "    total.to_csv(filename,header=True,sep=\"\\t\",index=False)"
   ]
  },
  {
   "cell_type": "code",
   "execution_count": 407,
   "metadata": {},
   "outputs": [
    {
     "data": {
      "text/plain": [
       "65"
      ]
     },
     "execution_count": 407,
     "metadata": {},
     "output_type": "execute_result"
    }
   ],
   "source": [
    "len(df_final)"
   ]
  },
  {
   "cell_type": "code",
   "execution_count": 408,
   "metadata": {},
   "outputs": [],
   "source": [
    "for n in range(32,33):\n",
    "    mod_sample = df_final[df_final[\"ModalPresent\"] == \"yes\"].sample(1)\n",
    "\n",
    "    i = len(mod_sample[mod_sample[\"Wh\"] == \"why\"])\n",
    "    k = len(mod_sample[mod_sample[\"Wh\"] == \"what\"])\n",
    "    l = len(mod_sample[mod_sample[\"Wh\"] == \"how\"])\n",
    "    m = len(mod_sample[mod_sample[\"Wh\"] == \"who\"])\n",
    "    o = len(mod_sample[mod_sample[\"Wh\"] == \"where\"])\n",
    "    df_final = df_final.drop(mod_sample.index)\n",
    "\n",
    "    who_sample = df_final[\n",
    "        (df_final[\"Wh\"] == \"who\") &\n",
    "        (df_final[\"ModalPresent\"] == \"no\")\n",
    "    ].sample(1-m)\n",
    "    df_final = df_final.drop(who_sample.index)    \n",
    "    \n",
    "    why_sample = df_final[\n",
    "        (df_final[\"Wh\"] == \"why\") &\n",
    "        (df_final[\"ModalPresent\"] == \"no\")\n",
    "    ].sample(1-i)\n",
    "    df_final = df_final.drop(why_sample.index)\n",
    "    \n",
    "    where_sample = df_final[\n",
    "        (df_final[\"Wh\"] == \"where\") &\n",
    "        (df_final[\"ModalPresent\"] == \"no\")\n",
    "    ].sample(2-o)\n",
    "    df_final = df_final.drop(where_sample.index)\n",
    "\n",
    "    how_sample = df_final[\n",
    "        (df_final[\"Wh\"] == \"how\") &\n",
    "        (df_final[\"ModalPresent\"] == \"no\")\n",
    "    ].sample(3-l)\n",
    "    df_final = df_final.drop(how_sample.index)    \n",
    "    \n",
    "    what_sample = df_final[\n",
    "        (df_final[\"Wh\"] == \"what\") &\n",
    "        (df_final[\"ModalPresent\"] == \"no\")\n",
    "    ].sample(23-k)\n",
    "    df_final = df_final.drop(what_sample.index)\n",
    "    \n",
    "    total = pd.concat([mod_sample,why_sample,what_sample,how_sample,who_sample,where_sample,controls])\n",
    "\n",
    "    # save to file\n",
    "    filename = f\"../../experiments/clean_corpus/03_experiment/corpus_{n}.txt\".format(n=n)\n",
    "    total.to_csv(filename,header=True,sep=\"\\t\",index=False)"
   ]
  },
  {
   "cell_type": "code",
   "execution_count": 410,
   "metadata": {},
   "outputs": [
    {
     "data": {
      "text/plain": [
       "35"
      ]
     },
     "execution_count": 410,
     "metadata": {},
     "output_type": "execute_result"
    }
   ],
   "source": [
    "len(df_final)"
   ]
  },
  {
   "cell_type": "code",
   "execution_count": 411,
   "metadata": {},
   "outputs": [],
   "source": [
    "last = pd.concat([df_final,controls])"
   ]
  },
  {
   "cell_type": "code",
   "execution_count": 412,
   "metadata": {},
   "outputs": [],
   "source": [
    "last.to_csv(\"../../experiments/clean_corpus/03_experiment/corpus_33.txt\",header=True,sep=\"\\t\",index=False)"
   ]
  },
  {
   "cell_type": "markdown",
   "metadata": {},
   "source": [
    "## Pilot Samples"
   ]
  },
  {
   "cell_type": "markdown",
   "metadata": {},
   "source": [
    "### Pilot1"
   ]
  },
  {
   "cell_type": "code",
   "execution_count": 120,
   "metadata": {},
   "outputs": [
    {
     "data": {
      "text/html": [
       "<div>\n",
       "<style scoped>\n",
       "    .dataframe tbody tr th:only-of-type {\n",
       "        vertical-align: middle;\n",
       "    }\n",
       "\n",
       "    .dataframe tbody tr th {\n",
       "        vertical-align: top;\n",
       "    }\n",
       "\n",
       "    .dataframe thead th {\n",
       "        text-align: right;\n",
       "    }\n",
       "</style>\n",
       "<table border=\"1\" class=\"dataframe\">\n",
       "  <thead>\n",
       "    <tr style=\"text-align: right;\">\n",
       "      <th></th>\n",
       "      <th>Wh</th>\n",
       "      <th>EntireSentence</th>\n",
       "    </tr>\n",
       "  </thead>\n",
       "  <tbody>\n",
       "    <tr>\n",
       "      <th>0</th>\n",
       "      <td>how</td>\n",
       "      <td>1.858586</td>\n",
       "    </tr>\n",
       "    <tr>\n",
       "      <th>1</th>\n",
       "      <td>what</td>\n",
       "      <td>5.909091</td>\n",
       "    </tr>\n",
       "    <tr>\n",
       "      <th>2</th>\n",
       "      <td>when</td>\n",
       "      <td>0.151515</td>\n",
       "    </tr>\n",
       "    <tr>\n",
       "      <th>3</th>\n",
       "      <td>where</td>\n",
       "      <td>0.979798</td>\n",
       "    </tr>\n",
       "    <tr>\n",
       "      <th>4</th>\n",
       "      <td>who</td>\n",
       "      <td>0.545455</td>\n",
       "    </tr>\n",
       "    <tr>\n",
       "      <th>5</th>\n",
       "      <td>why</td>\n",
       "      <td>0.606061</td>\n",
       "    </tr>\n",
       "  </tbody>\n",
       "</table>\n",
       "</div>"
      ],
      "text/plain": [
       "      Wh  EntireSentence\n",
       "0    how        1.858586\n",
       "1   what        5.909091\n",
       "2   when        0.151515\n",
       "3  where        0.979798\n",
       "4    who        0.545455\n",
       "5    why        0.606061"
      ]
     },
     "execution_count": 120,
     "metadata": {},
     "output_type": "execute_result"
    }
   ],
   "source": [
    "df_final.pivot_table(index=['Wh'], values=\"EntireSentence\", aggfunc=len).groupby([\"Wh\"]).EntireSentence.transform(lambda x: x/99).reset_index()"
   ]
  },
  {
   "cell_type": "code",
   "execution_count": 121,
   "metadata": {},
   "outputs": [
    {
     "data": {
      "text/plain": [
       "10"
      ]
     },
     "execution_count": 121,
     "metadata": {},
     "output_type": "execute_result"
    }
   ],
   "source": [
    "1+5+1+1+1+1"
   ]
  },
  {
   "cell_type": "code",
   "execution_count": 116,
   "metadata": {},
   "outputs": [
    {
     "data": {
      "text/plain": [
       "99.5"
      ]
     },
     "execution_count": 116,
     "metadata": {},
     "output_type": "execute_result"
    }
   ],
   "source": [
    "995/10"
   ]
  },
  {
   "cell_type": "code",
   "execution_count": 125,
   "metadata": {},
   "outputs": [],
   "source": [
    "mod_sample = df_final[df_final[\"ModalPresent\"] == \"yes\"].sample(1)\n",
    "\n",
    "i = len(mod_sample[mod_sample[\"Wh\"] == \"why\"])\n",
    "j = len(mod_sample[mod_sample[\"Wh\"] == \"when\"])\n",
    "k = len(mod_sample[mod_sample[\"Wh\"] == \"what\"])\n",
    "l = len(mod_sample[mod_sample[\"Wh\"] == \"how\"])\n",
    "m = len(mod_sample[mod_sample[\"Wh\"] == \"who\"])\n",
    "n = len(mod_sample[mod_sample[\"Wh\"] == \"where\"])\n",
    "df_final = df_final.drop(mod_sample.index)\n",
    "\n",
    "why_sample = df_final[\n",
    "    (df_final[\"Wh\"] == \"why\") &\n",
    "    (df_final[\"ModalPresent\"] == \"no\")\n",
    "                     ].sample(1-i)\n",
    "df_final = df_final.drop(why_sample.index)\n",
    "\n",
    "when_sample = df_final[\n",
    "    (df_final[\"Wh\"] == \"when\") &\n",
    "    (df_final[\"ModalPresent\"] == \"no\")].sample(1-j)\n",
    "df_final = df_final.drop(when_sample.index)\n",
    "\n",
    "what_sample = df_final[\n",
    "    (df_final[\"Wh\"] == \"what\") &\n",
    "    (df_final[\"ModalPresent\"] == \"no\")].sample(5-k)\n",
    "df_final = df_final.drop(what_sample.index)\n",
    "\n",
    "how_sample = df_final[\n",
    "    (df_final[\"Wh\"] == \"how\") &\n",
    "    (df_final[\"ModalPresent\"] == \"no\")\n",
    "                     ].sample(1-l)\n",
    "df_final = df_final.drop(how_sample.index)\n",
    "\n",
    "who_sample = df_final[\n",
    "    (df_final[\"Wh\"] == \"who\") &\n",
    "    (df_final[\"ModalPresent\"] == \"no\")].sample(1-m)\n",
    "df_final = df_final.drop(who_sample.index)\n",
    "\n",
    "where_sample = df_final[\n",
    "    (df_final[\"Wh\"] == \"where\") &\n",
    "    (df_final[\"ModalPresent\"] == \"no\")].sample(1-n)\n",
    "df_final = df_final.drop(where_sample.index)\n"
   ]
  },
  {
   "cell_type": "code",
   "execution_count": 128,
   "metadata": {},
   "outputs": [],
   "source": [
    "total = pd.concat([mod_sample,why_sample,when_sample,what_sample,how_sample,who_sample,where_sample,controls])\n",
    "\n",
    "# save to file\n"
   ]
  },
  {
   "cell_type": "code",
   "execution_count": 127,
   "metadata": {},
   "outputs": [
    {
     "data": {
      "text/html": [
       "<div>\n",
       "<style scoped>\n",
       "    .dataframe tbody tr th:only-of-type {\n",
       "        vertical-align: middle;\n",
       "    }\n",
       "\n",
       "    .dataframe tbody tr th {\n",
       "        vertical-align: top;\n",
       "    }\n",
       "\n",
       "    .dataframe thead th {\n",
       "        text-align: right;\n",
       "    }\n",
       "</style>\n",
       "<table border=\"1\" class=\"dataframe\">\n",
       "  <thead>\n",
       "    <tr style=\"text-align: right;\">\n",
       "      <th></th>\n",
       "      <th>TGrepID</th>\n",
       "      <th>EntireSentence</th>\n",
       "      <th>PreceedingContext</th>\n",
       "      <th>Wh</th>\n",
       "      <th>ModalPresent</th>\n",
       "      <th>AResponse</th>\n",
       "      <th>AllResponse</th>\n",
       "      <th>TheResponse</th>\n",
       "    </tr>\n",
       "  </thead>\n",
       "  <tbody>\n",
       "    <tr>\n",
       "      <th>143</th>\n",
       "      <td>25144:43</td>\n",
       "      <td>and if we can't take it and use it easily, well, how can you put that on, like, elderly people and you know, just people that *t*-1 maybe just aren't blessed with as, as much sharpness and ment-, mental acuity *t*-2,</td>\n",
       "      <td>###really.###speakera29.###or i don't know how much of the you know,###speakerb30.###yeah.###speakera31.###but a large percentage probably over half of the rest of the population they don't have any college probably much at all###speakerb32.###absolutely.###speakera33.</td>\n",
       "      <td>how</td>\n",
       "      <td>yes</td>\n",
       "      <td>What is a way...?</td>\n",
       "      <td>What is every way...?</td>\n",
       "      <td>What is the way...?</td>\n",
       "    </tr>\n",
       "    <tr>\n",
       "      <th>142</th>\n",
       "      <td>25048:4</td>\n",
       "      <td>why do you think 0 it, uh, sounds,</td>\n",
       "      <td>###we have a very good public school up here###and a degree out there means a lot.###it's a very good school.### it's, it's university of vermont.###uh, we also have some two year college.###well, there's a four year colleges.###they all have a pretty good reputation.###but, like you say, you,###speakera1.###okay, uh,</td>\n",
       "      <td>why</td>\n",
       "      <td>no</td>\n",
       "      <td>What is a reason...?</td>\n",
       "      <td>What is every reason...?</td>\n",
       "      <td>What is the reason...?</td>\n",
       "    </tr>\n",
       "    <tr>\n",
       "      <th>352</th>\n",
       "      <td>69542:9</td>\n",
       "      <td>uh, when is your next one, uh, scheduled now *t*-1.</td>\n",
       "      <td>###speakera61.###yeah,###yeah,###it's very pretty country in there i think 0 *t*-1,###it's gorgeous.###speakerb62.###uh-huh,###so.###speakera63.###well i,</td>\n",
       "      <td>when</td>\n",
       "      <td>no</td>\n",
       "      <td>What is a time...?</td>\n",
       "      <td>What is every time...?</td>\n",
       "      <td>What is the time...?</td>\n",
       "    </tr>\n",
       "    <tr>\n",
       "      <th>402</th>\n",
       "      <td>78481:16</td>\n",
       "      <td>by, what do you mean *t*-1 by liberal, um.</td>\n",
       "      <td>###unless you have something 0 *t*-1 to do with it.###speakerb10.###yeah.###speakera11.###right.###speakerb12.###but the problem is, that i am very liberal politically###and so i hardly ever have anybody that *t*-1 wins that i vote for *t*-2.###speakera13.###oh, liberal,</td>\n",
       "      <td>what</td>\n",
       "      <td>no</td>\n",
       "      <td>What is a thing...?</td>\n",
       "      <td>What is every thing...?</td>\n",
       "      <td>What is the thing...?</td>\n",
       "    </tr>\n",
       "    <tr>\n",
       "      <th>305</th>\n",
       "      <td>59482:4</td>\n",
       "      <td>what *t*-1's the point of * putting a restrictio-,</td>\n",
       "      <td>###well, the han-, in the hands of the wrong person the car can be just as deadly *ich*-1 as the weapon, as a, as a pistol.###speakera49.###yeah.###speakerb50.###speakera51.###well, i have a bicycle###and that scares me too * to tell you the truth because i've been run *-1 off the road and all sorts of things.###well, i'm still, i'm still puzzled though,###what *t*-1 is the argument,###how does the argument work if, uh, if the bad guys are going *-1 to have guns anyway *t*-2.</td>\n",
       "      <td>what</td>\n",
       "      <td>no</td>\n",
       "      <td>What is a thing...?</td>\n",
       "      <td>What is every thing...?</td>\n",
       "      <td>What is the thing...?</td>\n",
       "    </tr>\n",
       "    <tr>\n",
       "      <th>688</th>\n",
       "      <td>128741:4</td>\n",
       "      <td>what do you feel 0 *t*-1 are some of the main problems?</td>\n",
       "      <td>###speakerb107.###speakera108.###oh, that's, yeah, that's, okay.###speakerb109.###yeah.###speakera110.###yeah,###that's what i was thinking *t*-1.###speakerb1.###okay,</td>\n",
       "      <td>what</td>\n",
       "      <td>no</td>\n",
       "      <td>What is a thing...?</td>\n",
       "      <td>What is every thing...?</td>\n",
       "      <td>What is the thing...?</td>\n",
       "    </tr>\n",
       "    <tr>\n",
       "      <th>975</th>\n",
       "      <td>174836:27</td>\n",
       "      <td>what *t*-1 is it, what *t*-2's the policy *ich*-3 now with treason?</td>\n",
       "      <td>###and then you have like two,###you have these people who *t*-1 are serial killers that *t*-2 didn't even get the death sentence back when ever you know.###speakerb80.###uh-huh.###speakera81.###speakerb82.###yeah.###i don't know.### i, i'm trying *-1 to think about other crimes that *t*-2 would warrant it.###uh, i guess,</td>\n",
       "      <td>what</td>\n",
       "      <td>no</td>\n",
       "      <td>What is a thing...?</td>\n",
       "      <td>What is every thing...?</td>\n",
       "      <td>What is the thing...?</td>\n",
       "    </tr>\n",
       "    <tr>\n",
       "      <th>247</th>\n",
       "      <td>44743:160</td>\n",
       "      <td>well, the, see the problem is 0 if, if the, if someone would have came up to me and said it's going *-1 to cost you five hundred dollars *-2 to keep your dog alive. what do you want *-1 to do *t*-2? i probably would have had second thoughts.</td>\n",
       "      <td>###and she was okay###and she's been okay every since.###it's been about two years now.###speakerb86.###huh.###well, that's great,###it really is *?*.### i, i'm glad that she was able *-1 to pull out of it that way and so cheaply the second time.###speakera87.###yeah.</td>\n",
       "      <td>what</td>\n",
       "      <td>no</td>\n",
       "      <td>What is a thing...?</td>\n",
       "      <td>What is every thing...?</td>\n",
       "      <td>What is the thing...?</td>\n",
       "    </tr>\n",
       "    <tr>\n",
       "      <th>84</th>\n",
       "      <td>14266:4</td>\n",
       "      <td>who do you think *t*-1?</td>\n",
       "      <td>###speakera81.###speakerb82.###speakera83.###so, that is something 0 you might keep your eyes open for *t*-1,###i think 0 it's, it's catching on throughout the country.###speakera1.###okay.###speakerb2.###so, who's your, uh, favorite team *t*-1?###speakera3.</td>\n",
       "      <td>who</td>\n",
       "      <td>no</td>\n",
       "      <td>Who is a person...?</td>\n",
       "      <td>Who is every person...?</td>\n",
       "      <td>Who is the person...?</td>\n",
       "    </tr>\n",
       "    <tr>\n",
       "      <th>229</th>\n",
       "      <td>42945:4</td>\n",
       "      <td>where is this person coming in from *t*-3,</td>\n",
       "      <td>###speakera193.###yeah.###speakerb194.###it was like, you, you come after me, you're going *-1 to get it. you know,###speakera195.###yes,###speakerb196.###and now there's so many other things,###where are the kids *t*-1,###what are they doing *t*-2, you know,</td>\n",
       "      <td>where</td>\n",
       "      <td>no</td>\n",
       "      <td>What is a place...?</td>\n",
       "      <td>What is every place...?</td>\n",
       "      <td>What is the place...?</td>\n",
       "    </tr>\n",
       "    <tr>\n",
       "      <th>0</th>\n",
       "      <td>control_a_tissue</td>\n",
       "      <td>Do you want a tissue?</td>\n",
       "      <td>speakera. Your nose is running. speakerb. Oh yeah I didn't notice. speakera.</td>\n",
       "      <td>none</td>\n",
       "      <td>no</td>\n",
       "      <td>A tissue…?</td>\n",
       "      <td>Every tissue…?</td>\n",
       "      <td>The tissue…?</td>\n",
       "    </tr>\n",
       "    <tr>\n",
       "      <th>1</th>\n",
       "      <td>control_a_napkin</td>\n",
       "      <td>Can I hand you a napkin?</td>\n",
       "      <td>speakera. Oh no! I just spilled my spaghetti down my shirt. speakerb. Oh no.</td>\n",
       "      <td>none</td>\n",
       "      <td>no</td>\n",
       "      <td>A napkin…?</td>\n",
       "      <td>Every napkin…?</td>\n",
       "      <td>The napkin...?</td>\n",
       "    </tr>\n",
       "    <tr>\n",
       "      <th>2</th>\n",
       "      <td>control_the_book</td>\n",
       "      <td>Did you return the book you borrowed?</td>\n",
       "      <td>speakera. Hey. speakerb. Hey what's up? speakera. I noticed a late fee from the library.</td>\n",
       "      <td>none</td>\n",
       "      <td>no</td>\n",
       "      <td>A book...?</td>\n",
       "      <td>Every book…?</td>\n",
       "      <td>The book...?</td>\n",
       "    </tr>\n",
       "    <tr>\n",
       "      <th>3</th>\n",
       "      <td>control_the_movie</td>\n",
       "      <td>Can you text me the movie schedule?</td>\n",
       "      <td>speakera. What are you doing tonight? speakerb. Nothing what about you? Wanna grab a movie? speakerb. Sure but I don't have wifi right now.</td>\n",
       "      <td>none</td>\n",
       "      <td>no</td>\n",
       "      <td>A movie schedule...?</td>\n",
       "      <td>Every movie schedule…?</td>\n",
       "      <td>The movie schedule...?</td>\n",
       "    </tr>\n",
       "    <tr>\n",
       "      <th>4</th>\n",
       "      <td>control_all_cookies</td>\n",
       "      <td>Did you grab all the cookies?</td>\n",
       "      <td>speakera. It's time to leave for the potluck.The car's almost packed. speakerb.</td>\n",
       "      <td>none</td>\n",
       "      <td>no</td>\n",
       "      <td>A cookie...?</td>\n",
       "      <td>Every cookie…?</td>\n",
       "      <td>The cookie...?</td>\n",
       "    </tr>\n",
       "    <tr>\n",
       "      <th>5</th>\n",
       "      <td>control_all_novels</td>\n",
       "      <td>Have you read all her novels?</td>\n",
       "      <td>speakera. I love Octavia Butler she's the best. speakerb. Yeah she's great. speakera.</td>\n",
       "      <td>none</td>\n",
       "      <td>no</td>\n",
       "      <td>An novel...?</td>\n",
       "      <td>Every novel…?</td>\n",
       "      <td>The novel...?</td>\n",
       "    </tr>\n",
       "  </tbody>\n",
       "</table>\n",
       "</div>"
      ],
      "text/plain": [
       "                 TGrepID  \\\n",
       "143             25144:43   \n",
       "142              25048:4   \n",
       "352              69542:9   \n",
       "402             78481:16   \n",
       "305              59482:4   \n",
       "688             128741:4   \n",
       "975            174836:27   \n",
       "247            44743:160   \n",
       "84               14266:4   \n",
       "229              42945:4   \n",
       "0       control_a_tissue   \n",
       "1       control_a_napkin   \n",
       "2       control_the_book   \n",
       "3      control_the_movie   \n",
       "4    control_all_cookies   \n",
       "5     control_all_novels   \n",
       "\n",
       "                                                                                                                                                                                                                                        EntireSentence  \\\n",
       "143                           and if we can't take it and use it easily, well, how can you put that on, like, elderly people and you know, just people that *t*-1 maybe just aren't blessed with as, as much sharpness and ment-, mental acuity *t*-2,   \n",
       "142                                                                                                                                                                                                                 why do you think 0 it, uh, sounds,   \n",
       "352                                                                                                                                                                                                uh, when is your next one, uh, scheduled now *t*-1.   \n",
       "402                                                                                                                                                                                                         by, what do you mean *t*-1 by liberal, um.   \n",
       "305                                                                                                                                                                                                 what *t*-1's the point of * putting a restrictio-,   \n",
       "688                                                                                                                                                                                            what do you feel 0 *t*-1 are some of the main problems?   \n",
       "975                                                                                                                                                                                what *t*-1 is it, what *t*-2's the policy *ich*-3 now with treason?   \n",
       "247  well, the, see the problem is 0 if, if the, if someone would have came up to me and said it's going *-1 to cost you five hundred dollars *-2 to keep your dog alive. what do you want *-1 to do *t*-2? i probably would have had second thoughts.   \n",
       "84                                                                                                                                                                                                                             who do you think *t*-1?   \n",
       "229                                                                                                                                                                                                         where is this person coming in from *t*-3,   \n",
       "0                                                                                                                                                                                                                                Do you want a tissue?   \n",
       "1                                                                                                                                                                                                                             Can I hand you a napkin?   \n",
       "2                                                                                                                                                                                                                Did you return the book you borrowed?   \n",
       "3                                                                                                                                                                                                                  Can you text me the movie schedule?   \n",
       "4                                                                                                                                                                                                                        Did you grab all the cookies?   \n",
       "5                                                                                                                                                                                                                        Have you read all her novels?   \n",
       "\n",
       "                                                                                                                                                                                                                                                                                                                                                                                                                                                                                    PreceedingContext  \\\n",
       "143                                                                                                                                                                                                                     ###really.###speakera29.###or i don't know how much of the you know,###speakerb30.###yeah.###speakera31.###but a large percentage probably over half of the rest of the population they don't have any college probably much at all###speakerb32.###absolutely.###speakera33.   \n",
       "142                                                                                                                                                                   ###we have a very good public school up here###and a degree out there means a lot.###it's a very good school.### it's, it's university of vermont.###uh, we also have some two year college.###well, there's a four year colleges.###they all have a pretty good reputation.###but, like you say, you,###speakera1.###okay, uh,   \n",
       "352                                                                                                                                                                                                                                                                                                                                        ###speakera61.###yeah,###yeah,###it's very pretty country in there i think 0 *t*-1,###it's gorgeous.###speakerb62.###uh-huh,###so.###speakera63.###well i,   \n",
       "402                                                                                                                                                                                                                   ###unless you have something 0 *t*-1 to do with it.###speakerb10.###yeah.###speakera11.###right.###speakerb12.###but the problem is, that i am very liberal politically###and so i hardly ever have anybody that *t*-1 wins that i vote for *t*-2.###speakera13.###oh, liberal,   \n",
       "305  ###well, the han-, in the hands of the wrong person the car can be just as deadly *ich*-1 as the weapon, as a, as a pistol.###speakera49.###yeah.###speakerb50.###speakera51.###well, i have a bicycle###and that scares me too * to tell you the truth because i've been run *-1 off the road and all sorts of things.###well, i'm still, i'm still puzzled though,###what *t*-1 is the argument,###how does the argument work if, uh, if the bad guys are going *-1 to have guns anyway *t*-2.   \n",
       "688                                                                                                                                                                                                                                                                                                                           ###speakerb107.###speakera108.###oh, that's, yeah, that's, okay.###speakerb109.###yeah.###speakera110.###yeah,###that's what i was thinking *t*-1.###speakerb1.###okay,   \n",
       "975                                                                                                                                                               ###and then you have like two,###you have these people who *t*-1 are serial killers that *t*-2 didn't even get the death sentence back when ever you know.###speakerb80.###uh-huh.###speakera81.###speakerb82.###yeah.###i don't know.### i, i'm trying *-1 to think about other crimes that *t*-2 would warrant it.###uh, i guess,   \n",
       "247                                                                                                                                                                                                                      ###and she was okay###and she's been okay every since.###it's been about two years now.###speakerb86.###huh.###well, that's great,###it really is *?*.### i, i'm glad that she was able *-1 to pull out of it that way and so cheaply the second time.###speakera87.###yeah.   \n",
       "84                                                                                                                                                                                                                                 ###speakera81.###speakerb82.###speakera83.###so, that is something 0 you might keep your eyes open for *t*-1,###i think 0 it's, it's catching on throughout the country.###speakera1.###okay.###speakerb2.###so, who's your, uh, favorite team *t*-1?###speakera3.   \n",
       "229                                                                                                                                                                                                                               ###speakera193.###yeah.###speakerb194.###it was like, you, you come after me, you're going *-1 to get it. you know,###speakera195.###yes,###speakerb196.###and now there's so many other things,###where are the kids *t*-1,###what are they doing *t*-2, you know,   \n",
       "0                                                                                                                                                                                                                                                                                                                                                                                                                       speakera. Your nose is running. speakerb. Oh yeah I didn't notice. speakera.    \n",
       "1                                                                                                                                                                                                                                                                                                                                                                                                                        speakera. Oh no! I just spilled my spaghetti down my shirt. speakerb. Oh no.   \n",
       "2                                                                                                                                                                                                                                                                                                                                                                                                           speakera. Hey. speakerb. Hey what's up? speakera. I noticed a late fee from the library.    \n",
       "3                                                                                                                                                                                                                                                                                                                                                        speakera. What are you doing tonight? speakerb. Nothing what about you? Wanna grab a movie? speakerb. Sure but I don't have wifi right now.    \n",
       "4                                                                                                                                                                                                                                                                                                                                                                                                                    speakera. It's time to leave for the potluck.The car's almost packed. speakerb.    \n",
       "5                                                                                                                                                                                                                                                                                                                                                                                                               speakera. I love Octavia Butler she's the best. speakerb. Yeah she's great. speakera.   \n",
       "\n",
       "        Wh ModalPresent             AResponse               AllResponse  \\\n",
       "143    how          yes     What is a way...?     What is every way...?   \n",
       "142    why           no  What is a reason...?  What is every reason...?   \n",
       "352   when           no    What is a time...?    What is every time...?   \n",
       "402   what           no   What is a thing...?   What is every thing...?   \n",
       "305   what           no   What is a thing...?   What is every thing...?   \n",
       "688   what           no   What is a thing...?   What is every thing...?   \n",
       "975   what           no   What is a thing...?   What is every thing...?   \n",
       "247   what           no   What is a thing...?   What is every thing...?   \n",
       "84     who           no   Who is a person...?   Who is every person...?   \n",
       "229  where           no   What is a place...?   What is every place...?   \n",
       "0     none           no            A tissue…?            Every tissue…?   \n",
       "1     none           no            A napkin…?            Every napkin…?   \n",
       "2     none           no            A book...?              Every book…?   \n",
       "3     none           no  A movie schedule...?    Every movie schedule…?   \n",
       "4     none           no          A cookie...?            Every cookie…?   \n",
       "5     none           no          An novel...?             Every novel…?   \n",
       "\n",
       "                TheResponse  \n",
       "143     What is the way...?  \n",
       "142  What is the reason...?  \n",
       "352    What is the time...?  \n",
       "402   What is the thing...?  \n",
       "305   What is the thing...?  \n",
       "688   What is the thing...?  \n",
       "975   What is the thing...?  \n",
       "247   What is the thing...?  \n",
       "84    Who is the person...?  \n",
       "229   What is the place...?  \n",
       "0              The tissue…?  \n",
       "1            The napkin...?  \n",
       "2              The book...?  \n",
       "3    The movie schedule...?  \n",
       "4            The cookie...?  \n",
       "5             The novel...?  "
      ]
     },
     "execution_count": 127,
     "metadata": {},
     "output_type": "execute_result"
    }
   ],
   "source": [
    "total"
   ]
  },
  {
   "cell_type": "code",
   "execution_count": 129,
   "metadata": {},
   "outputs": [],
   "source": [
    "total.to_csv(\"../../experiments/clean_corpus/03_experiment/pilot1.txt\",header=True,sep=\"\\t\",index=False)"
   ]
  },
  {
   "cell_type": "code",
   "execution_count": 99,
   "metadata": {},
   "outputs": [],
   "source": [
    "# since df_final changed, it's a different sample set now.\n",
    "# pilot = df_final.sample(10, random_state=333)\n",
    "pilot = df_final.sample(10, random_state=666)"
   ]
  },
  {
   "cell_type": "code",
   "execution_count": 100,
   "metadata": {},
   "outputs": [],
   "source": [
    "cont = controls.drop(columns=[\"Wh\",\"ModalPresent\"])"
   ]
  },
  {
   "cell_type": "code",
   "execution_count": 101,
   "metadata": {},
   "outputs": [],
   "source": [
    "pilott = pd.concat([pilot,cont])"
   ]
  },
  {
   "cell_type": "code",
   "execution_count": 103,
   "metadata": {},
   "outputs": [
    {
     "data": {
      "text/plain": [
       "16"
      ]
     },
     "execution_count": 103,
     "metadata": {},
     "output_type": "execute_result"
    }
   ],
   "source": [
    "len(pilott)"
   ]
  },
  {
   "cell_type": "code",
   "execution_count": 104,
   "metadata": {},
   "outputs": [
    {
     "data": {
      "text/html": [
       "<div>\n",
       "<style scoped>\n",
       "    .dataframe tbody tr th:only-of-type {\n",
       "        vertical-align: middle;\n",
       "    }\n",
       "\n",
       "    .dataframe tbody tr th {\n",
       "        vertical-align: top;\n",
       "    }\n",
       "\n",
       "    .dataframe thead th {\n",
       "        text-align: right;\n",
       "    }\n",
       "</style>\n",
       "<table border=\"1\" class=\"dataframe\">\n",
       "  <thead>\n",
       "    <tr style=\"text-align: right;\">\n",
       "      <th></th>\n",
       "      <th>TGrepID</th>\n",
       "      <th>EntireSentence</th>\n",
       "      <th>PreceedingContext</th>\n",
       "      <th>Wh</th>\n",
       "      <th>ModalPresent</th>\n",
       "      <th>AResponse</th>\n",
       "      <th>AllResponse</th>\n",
       "      <th>TheResponse</th>\n",
       "    </tr>\n",
       "  </thead>\n",
       "  <tbody>\n",
       "    <tr>\n",
       "      <th>843</th>\n",
       "      <td>154973:12</td>\n",
       "      <td>well, now who do you play with *t*-1?</td>\n",
       "      <td>###oh, great.###speakera41.###speakerb42.###yeah.###do you play every day?###speakera43.###yeah,###pretty much.###when my wife lets me *t*-1.###speakerb44.</td>\n",
       "      <td>who</td>\n",
       "      <td>no</td>\n",
       "      <td>Who is a person...?</td>\n",
       "      <td>Who is every person...?</td>\n",
       "      <td>Who is the person...?</td>\n",
       "    </tr>\n",
       "    <tr>\n",
       "      <th>255</th>\n",
       "      <td>47849:23</td>\n",
       "      <td>now when you baby-sit *t*-1, what age group children do you sit with *t*-2?</td>\n",
       "      <td>### i, most of my friends have three or four kids###and they feel like, you know, that's really why god mumblex###and some of the people in our church use birth control###and some of them don't,###i had my tubes tied *-1###so you,###speakera1.###okay.###speakerb2.###okay,</td>\n",
       "      <td>what</td>\n",
       "      <td>no</td>\n",
       "      <td>What is a thing...?</td>\n",
       "      <td>What is every thing...?</td>\n",
       "      <td>What is the thing...?</td>\n",
       "    </tr>\n",
       "    <tr>\n",
       "      <th>366</th>\n",
       "      <td>72731:16</td>\n",
       "      <td>how, how do you look at * counting credit cards *t*-1?</td>\n",
       "      <td>###speakera29.###yeah.###but other than that, uh, i, i guess 0 over the years * tried *-1 to avoid the national credit card syndrome, of * just putting everything on there day after day after day###speakerb30.###uh-huh.###speakera31.###and then, then you really get socked *-1 to it, if you don't watch it.###speakerb32.###yeah.###speakera33.</td>\n",
       "      <td>how</td>\n",
       "      <td>no</td>\n",
       "      <td>What is a way...?</td>\n",
       "      <td>What is every way...?</td>\n",
       "      <td>What is the way...?</td>\n",
       "    </tr>\n",
       "    <tr>\n",
       "      <th>48</th>\n",
       "      <td>8637:6</td>\n",
       "      <td>and what do you think 0 you'll do *t*-1 with that?</td>\n",
       "      <td>###speakerb48.###yeah.###speakera49.###because, um, he really wants me to concentrate on my studies.###speakerb50.###yeah.### what are you, what are you studying *t*-1?###speakera51.###i'm doing masters in computer science and computer engineering.###speakerb52.</td>\n",
       "      <td>what</td>\n",
       "      <td>yes</td>\n",
       "      <td>What is a thing...?</td>\n",
       "      <td>What is every thing...?</td>\n",
       "      <td>What is the thing...?</td>\n",
       "    </tr>\n",
       "    <tr>\n",
       "      <th>915</th>\n",
       "      <td>165969:16</td>\n",
       "      <td>what, what *t*-1 attracts you to the saturns?</td>\n",
       "      <td>### that, that would be a good deal 0 * to go with *t*-1.###speakera57.###and the other thing 0 we're looking at *t*-1 is the saturns too.###speakerb58.###okay.###speakera59.###because they looked really nice.###speakerb60.###uh-huh.### what do you, what do you looking for *t*-1 in, in those?</td>\n",
       "      <td>what</td>\n",
       "      <td>no</td>\n",
       "      <td>What is a thing...?</td>\n",
       "      <td>What is every thing...?</td>\n",
       "      <td>What is the thing...?</td>\n",
       "    </tr>\n",
       "    <tr>\n",
       "      <th>798</th>\n",
       "      <td>147920:6</td>\n",
       "      <td>or what era do you, era do you like *t*-1 the most?</td>\n",
       "      <td>###speakerb2.###well, i have *-1 to say 0 my favorite type of music would probably be, uh, classical music.###speakera3.###oh, same here.###speakerb4.###oh, really.###speakera5.###yeah.###speakerb6.###what type of music do you like *t*-1 in the classical area,</td>\n",
       "      <td>what</td>\n",
       "      <td>no</td>\n",
       "      <td>What is a thing...?</td>\n",
       "      <td>What is every thing...?</td>\n",
       "      <td>What is the thing...?</td>\n",
       "    </tr>\n",
       "    <tr>\n",
       "      <th>592</th>\n",
       "      <td>116052:4</td>\n",
       "      <td>what do you like *t*-1 about tempe?</td>\n",
       "      <td>###where in arizona?###speakera21.###uh, tempe.###speakerb22.###okay,###i've never been to tempe.###speakera23.###so,###speakerb24.###that's where i'd like *-1 to go *t*-2.</td>\n",
       "      <td>what</td>\n",
       "      <td>no</td>\n",
       "      <td>What is a thing...?</td>\n",
       "      <td>What is every thing...?</td>\n",
       "      <td>What is the thing...?</td>\n",
       "    </tr>\n",
       "    <tr>\n",
       "      <th>542</th>\n",
       "      <td>108874:4</td>\n",
       "      <td>what did you say *t*-1?</td>\n",
       "      <td>###so.###speakerb56.###wow, that's great.###speakera57.###yeah,###i really,###speakerb58.###was it a pell grant?###speakera59.###i'm sorry,</td>\n",
       "      <td>what</td>\n",
       "      <td>no</td>\n",
       "      <td>What is a thing...?</td>\n",
       "      <td>What is every thing...?</td>\n",
       "      <td>What is the thing...?</td>\n",
       "    </tr>\n",
       "    <tr>\n",
       "      <th>25</th>\n",
       "      <td>5622:4</td>\n",
       "      <td>how do you like it out there *t*-1?</td>\n",
       "      <td>###speakera29.###really.###i'm doing my masters in, in computer science and computer engineering.###speakerb30.###yeah?###where at *t*-1?###speakera31.###at north carolina state university.###speakerb32.###hey.</td>\n",
       "      <td>how</td>\n",
       "      <td>no</td>\n",
       "      <td>What is a way...?</td>\n",
       "      <td>What is every way...?</td>\n",
       "      <td>What is the way...?</td>\n",
       "    </tr>\n",
       "    <tr>\n",
       "      <th>750</th>\n",
       "      <td>138616:4</td>\n",
       "      <td>what am i going *-1 to fix *t*-2 for supper.</td>\n",
       "      <td>###i think 0 it's,###well, i don't know,### then, then on the other hand i think 0 it *exp*-1's harder * to stay home in some regards.###it *exp*-1's hard * to always keep yourself feeling like you're doing something productive,###and at the end of the day your house still feels like it's a mess,###and you haven't got anything done *-1###and###speakerb62.###oh, yeah.###speakera63.</td>\n",
       "      <td>what</td>\n",
       "      <td>no</td>\n",
       "      <td>What is a thing...?</td>\n",
       "      <td>What is every thing...?</td>\n",
       "      <td>What is the thing...?</td>\n",
       "    </tr>\n",
       "    <tr>\n",
       "      <th>0</th>\n",
       "      <td>control_a_tissue</td>\n",
       "      <td>Do you want a tissue?</td>\n",
       "      <td>speakera. Your nose is running. speakerb. Oh yeah I didn't notice. speakera.</td>\n",
       "      <td>NaN</td>\n",
       "      <td>NaN</td>\n",
       "      <td>A tissue…?</td>\n",
       "      <td>Every tissue…?</td>\n",
       "      <td>The tissue…?</td>\n",
       "    </tr>\n",
       "    <tr>\n",
       "      <th>1</th>\n",
       "      <td>control_a_napkin</td>\n",
       "      <td>Can I hand you a napkin?</td>\n",
       "      <td>speakera. Oh no! I just spilled my spaghetti down my shirt. speakerb. Oh no.</td>\n",
       "      <td>NaN</td>\n",
       "      <td>NaN</td>\n",
       "      <td>A napkin…?</td>\n",
       "      <td>Every napkin…?</td>\n",
       "      <td>The napkin...?</td>\n",
       "    </tr>\n",
       "    <tr>\n",
       "      <th>2</th>\n",
       "      <td>control_the_book</td>\n",
       "      <td>Did you return the book you borrowed?</td>\n",
       "      <td>speakera. Hey. speakerb. Hey what's up? speakera. I noticed a late fee from the library.</td>\n",
       "      <td>NaN</td>\n",
       "      <td>NaN</td>\n",
       "      <td>A book...?</td>\n",
       "      <td>Every book…?</td>\n",
       "      <td>The book...?</td>\n",
       "    </tr>\n",
       "    <tr>\n",
       "      <th>3</th>\n",
       "      <td>control_the_movie</td>\n",
       "      <td>Can you text me the movie schedule?</td>\n",
       "      <td>speakera. What are you doing tonight? speakerb. Nothing what about you? Wanna grab a movie? speakerb. Sure but I don't have wifi right now.</td>\n",
       "      <td>NaN</td>\n",
       "      <td>NaN</td>\n",
       "      <td>A movie schedule...?</td>\n",
       "      <td>Every movie schedule…?</td>\n",
       "      <td>The movie schedule...?</td>\n",
       "    </tr>\n",
       "    <tr>\n",
       "      <th>4</th>\n",
       "      <td>control_all_cookies</td>\n",
       "      <td>Did you grab all the cookies?</td>\n",
       "      <td>speakera. It's time to leave for the potluck.The car's almost packed. speakerb.</td>\n",
       "      <td>NaN</td>\n",
       "      <td>NaN</td>\n",
       "      <td>A cookie...?</td>\n",
       "      <td>Every cookie…?</td>\n",
       "      <td>The cookie...?</td>\n",
       "    </tr>\n",
       "    <tr>\n",
       "      <th>5</th>\n",
       "      <td>control_all_novels</td>\n",
       "      <td>Have you read all her novels?</td>\n",
       "      <td>speakera. I love Octavia Butler she's the best. speakerb. Yeah she's great. speakera.</td>\n",
       "      <td>NaN</td>\n",
       "      <td>NaN</td>\n",
       "      <td>An novel...?</td>\n",
       "      <td>Every novel…?</td>\n",
       "      <td>The novel...?</td>\n",
       "    </tr>\n",
       "  </tbody>\n",
       "</table>\n",
       "</div>"
      ],
      "text/plain": [
       "                 TGrepID  \\\n",
       "843            154973:12   \n",
       "255             47849:23   \n",
       "366             72731:16   \n",
       "48                8637:6   \n",
       "915            165969:16   \n",
       "798             147920:6   \n",
       "592             116052:4   \n",
       "542             108874:4   \n",
       "25                5622:4   \n",
       "750             138616:4   \n",
       "0       control_a_tissue   \n",
       "1       control_a_napkin   \n",
       "2       control_the_book   \n",
       "3      control_the_movie   \n",
       "4    control_all_cookies   \n",
       "5     control_all_novels   \n",
       "\n",
       "                                                                  EntireSentence  \\\n",
       "843                                        well, now who do you play with *t*-1?   \n",
       "255  now when you baby-sit *t*-1, what age group children do you sit with *t*-2?   \n",
       "366                       how, how do you look at * counting credit cards *t*-1?   \n",
       "48                            and what do you think 0 you'll do *t*-1 with that?   \n",
       "915                                what, what *t*-1 attracts you to the saturns?   \n",
       "798                          or what era do you, era do you like *t*-1 the most?   \n",
       "592                                          what do you like *t*-1 about tempe?   \n",
       "542                                                      what did you say *t*-1?   \n",
       "25                                           how do you like it out there *t*-1?   \n",
       "750                                 what am i going *-1 to fix *t*-2 for supper.   \n",
       "0                                                          Do you want a tissue?   \n",
       "1                                                       Can I hand you a napkin?   \n",
       "2                                          Did you return the book you borrowed?   \n",
       "3                                            Can you text me the movie schedule?   \n",
       "4                                                  Did you grab all the cookies?   \n",
       "5                                                  Have you read all her novels?   \n",
       "\n",
       "                                                                                                                                                                                                                                                                                                                                                                                   PreceedingContext  \\\n",
       "843                                                                                                                                                                                                                                      ###oh, great.###speakera41.###speakerb42.###yeah.###do you play every day?###speakera43.###yeah,###pretty much.###when my wife lets me *t*-1.###speakerb44.   \n",
       "255                                                                                                                 ### i, most of my friends have three or four kids###and they feel like, you know, that's really why god mumblex###and some of the people in our church use birth control###and some of them don't,###i had my tubes tied *-1###so you,###speakera1.###okay.###speakerb2.###okay,   \n",
       "366                                           ###speakera29.###yeah.###but other than that, uh, i, i guess 0 over the years * tried *-1 to avoid the national credit card syndrome, of * just putting everything on there day after day after day###speakerb30.###uh-huh.###speakera31.###and then, then you really get socked *-1 to it, if you don't watch it.###speakerb32.###yeah.###speakera33.   \n",
       "48                                                                                                                            ###speakerb48.###yeah.###speakera49.###because, um, he really wants me to concentrate on my studies.###speakerb50.###yeah.### what are you, what are you studying *t*-1?###speakera51.###i'm doing masters in computer science and computer engineering.###speakerb52.   \n",
       "915                                                                                            ### that, that would be a good deal 0 * to go with *t*-1.###speakera57.###and the other thing 0 we're looking at *t*-1 is the saturns too.###speakerb58.###okay.###speakera59.###because they looked really nice.###speakerb60.###uh-huh.### what do you, what do you looking for *t*-1 in, in those?   \n",
       "798                                                                                                                             ###speakerb2.###well, i have *-1 to say 0 my favorite type of music would probably be, uh, classical music.###speakera3.###oh, same here.###speakerb4.###oh, really.###speakera5.###yeah.###speakerb6.###what type of music do you like *t*-1 in the classical area,   \n",
       "592                                                                                                                                                                                                                     ###where in arizona?###speakera21.###uh, tempe.###speakerb22.###okay,###i've never been to tempe.###speakera23.###so,###speakerb24.###that's where i'd like *-1 to go *t*-2.   \n",
       "542                                                                                                                                                                                                                                                      ###so.###speakerb56.###wow, that's great.###speakera57.###yeah,###i really,###speakerb58.###was it a pell grant?###speakera59.###i'm sorry,   \n",
       "25                                                                                                                                                                                ###speakera29.###really.###i'm doing my masters in, in computer science and computer engineering.###speakerb30.###yeah?###where at *t*-1?###speakera31.###at north carolina state university.###speakerb32.###hey.   \n",
       "750  ###i think 0 it's,###well, i don't know,### then, then on the other hand i think 0 it *exp*-1's harder * to stay home in some regards.###it *exp*-1's hard * to always keep yourself feeling like you're doing something productive,###and at the end of the day your house still feels like it's a mess,###and you haven't got anything done *-1###and###speakerb62.###oh, yeah.###speakera63.   \n",
       "0                                                                                                                                                                                                                                                                                                                      speakera. Your nose is running. speakerb. Oh yeah I didn't notice. speakera.    \n",
       "1                                                                                                                                                                                                                                                                                                                       speakera. Oh no! I just spilled my spaghetti down my shirt. speakerb. Oh no.   \n",
       "2                                                                                                                                                                                                                                                                                                          speakera. Hey. speakerb. Hey what's up? speakera. I noticed a late fee from the library.    \n",
       "3                                                                                                                                                                                                                                                       speakera. What are you doing tonight? speakerb. Nothing what about you? Wanna grab a movie? speakerb. Sure but I don't have wifi right now.    \n",
       "4                                                                                                                                                                                                                                                                                                                   speakera. It's time to leave for the potluck.The car's almost packed. speakerb.    \n",
       "5                                                                                                                                                                                                                                                                                                              speakera. I love Octavia Butler she's the best. speakerb. Yeah she's great. speakera.   \n",
       "\n",
       "       Wh ModalPresent             AResponse              AllResponse  \\\n",
       "843   who           no   Who is a person...?  Who is every person...?   \n",
       "255  what           no   What is a thing...?  What is every thing...?   \n",
       "366   how           no     What is a way...?    What is every way...?   \n",
       "48   what          yes   What is a thing...?  What is every thing...?   \n",
       "915  what           no   What is a thing...?  What is every thing...?   \n",
       "798  what           no   What is a thing...?  What is every thing...?   \n",
       "592  what           no   What is a thing...?  What is every thing...?   \n",
       "542  what           no   What is a thing...?  What is every thing...?   \n",
       "25    how           no     What is a way...?    What is every way...?   \n",
       "750  what           no   What is a thing...?  What is every thing...?   \n",
       "0     NaN          NaN            A tissue…?           Every tissue…?   \n",
       "1     NaN          NaN            A napkin…?           Every napkin…?   \n",
       "2     NaN          NaN            A book...?             Every book…?   \n",
       "3     NaN          NaN  A movie schedule...?   Every movie schedule…?   \n",
       "4     NaN          NaN          A cookie...?           Every cookie…?   \n",
       "5     NaN          NaN          An novel...?            Every novel…?   \n",
       "\n",
       "                TheResponse  \n",
       "843   Who is the person...?  \n",
       "255   What is the thing...?  \n",
       "366     What is the way...?  \n",
       "48    What is the thing...?  \n",
       "915   What is the thing...?  \n",
       "798   What is the thing...?  \n",
       "592   What is the thing...?  \n",
       "542   What is the thing...?  \n",
       "25      What is the way...?  \n",
       "750   What is the thing...?  \n",
       "0              The tissue…?  \n",
       "1            The napkin...?  \n",
       "2              The book...?  \n",
       "3    The movie schedule...?  \n",
       "4            The cookie...?  \n",
       "5             The novel...?  "
      ]
     },
     "execution_count": 104,
     "metadata": {},
     "output_type": "execute_result"
    }
   ],
   "source": [
    "pilott"
   ]
  },
  {
   "cell_type": "code",
   "execution_count": 77,
   "metadata": {},
   "outputs": [],
   "source": [
    "pilott.to_csv(\"../../experiments/clean_corpus/03_experiment/pilot1.txt\",header=True,sep=\"\\t\",index=False)"
   ]
  },
  {
   "cell_type": "code",
   "execution_count": null,
   "metadata": {},
   "outputs": [],
   "source": []
  }
 ],
 "metadata": {
  "kernelspec": {
   "display_name": "Python 3",
   "language": "python",
   "name": "python3"
  },
  "language_info": {
   "codemirror_mode": {
    "name": "ipython",
    "version": 3
   },
   "file_extension": ".py",
   "mimetype": "text/x-python",
   "name": "python",
   "nbconvert_exporter": "python",
   "pygments_lexer": "ipython3",
   "version": "3.8.3"
  }
 },
 "nbformat": 4,
 "nbformat_minor": 4
}
