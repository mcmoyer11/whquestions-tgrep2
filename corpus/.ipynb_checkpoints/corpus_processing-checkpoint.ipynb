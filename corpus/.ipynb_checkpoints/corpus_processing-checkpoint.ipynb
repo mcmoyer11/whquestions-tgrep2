{
 "cells": [
  {
   "cell_type": "markdown",
   "metadata": {},
   "source": [
    "# Corpus Processing\n",
    "This notebook is for miscelaneous processing from the "
   ]
  },
  {
   "cell_type": "code",
   "execution_count": 35,
   "metadata": {},
   "outputs": [],
   "source": [
    "import pandas as pd\n",
    "import numpy as np"
   ]
  },
  {
   "cell_type": "markdown",
   "metadata": {},
   "source": [
    " ## Contents\n",
    " 1. [Create separate file with contexts](#Create-separate-file-with-contexts)\n",
    " 2. [Create separate file without contexts](#Create-separate-file-without-contexts)\n",
    " 3. [Create randomly sampled files](#create-randomly-sampled-files)\n"
   ]
  },
  {
   "cell_type": "code",
   "execution_count": 39,
   "metadata": {},
   "outputs": [],
   "source": [
    "# import the database file from the TGrep2 searching\n",
    "df = pd.read_csv(\"results/swbd.tab\", sep='\\t', engine='python')\n",
    "\n",
    "# import the template file just to take a look at it\n",
    "df_template = pd.read_csv(\"~/Downloads/korpus3_0.txt\", names=['TGrepID','EntireSentence','context','BestResponse'], skiprows=1, sep='\\t')"
   ]
  },
  {
   "cell_type": "code",
   "execution_count": 45,
   "metadata": {},
   "outputs": [],
   "source": [
    "# This makes the display show more info\n",
    "pd.set_option('display.max_rows', None)\n",
    "pd.set_option('display.max_colwidth', None)"
   ]
  },
  {
   "cell_type": "code",
   "execution_count": 46,
   "metadata": {},
   "outputs": [
    {
     "data": {
      "text/plain": [
       "TGrepID                                                                                                                                                                                                                                                                                                                                                                                                                                                                                                                                                                                                                                                                                                                                                                                                                                                                                                                                                                                                                                                                                                                                                                                                                                                                                                                                                                                                                                                        14511:27\n",
       "EntireSentence                                                                                                                                                                                                                                                                                                                                                                                                                                                                                                                                                                                                                                                                                                                                                                                                                                                                                                                                                                                                                                                                                                                                                                                                                                                                                                                               but i heard on the radio this morning, or yesterday morning, that, uh, aikman's back in practicing, doing real, real well.\n",
       "context           ###I think -NONE- the Cowboys probably have \\[ a , \\+ a \\] better team . E_S ###They just , E_S ###at the end of the season , the kind of got messed -N402AE8 up with Aikman getting hurt -N402B03 , because , uh , Laufenberg just could n't ever really get it together at all . E_S ###Of course , he sat along the sidelines all season , E_S ###he never really got in a game , never did a whole lot . E_S ###SpeakerB48*t48 . ###Oh , -NONE- do n't made any excuses for him . E_S ###SpeakerA49*t49 . ###Well , I 'm just saying -NONE- \\[ I should n't , \\+ I should n't \\] blast him like that , say , oh well , Laufenberg got out there and blew it for them , E_S ###I mean , he did n't get -N403021 to see much action . E_S ###But , too bad . E_S ###Because \\[ now , \\+ now , \\] you know , he had a shot \\[ and , \\+ and \\] did n't look too good E_S ###and so , no one 's going -N40323F to have much faith in him any more . E_S ###SpeakerB50*t50 . ###Uh-huh . E_S ###SpeakerA51*t51 . ###In fact , I think -NONE- they 're getting a different guy for a backup quarterback . E_S ###\\[ I have n't , \\+ uh , I have n't \\] kept up with it lately , E_S ###but I remember -N4034C6 reading something -N4034D5 a few months ago about them signing somebody else on , \\[ or , \\+ or \\] trying -N403518 to go after somebody or trade for somebody , E_S ###but it was n't anybody -NONE- I 'd really heard of -N4036B0 . E_S \n",
       "BestResponse                                                                                                                                                                                                                                                                                                                                                                                                                                                                                                                                                                                                                                                                                                                                                                                                                                                                                                                                                                                                                                                                                                                                                                                                                                                                                                                   but i heard on the radio this morning, or yesterday morning but not both, that, uh, aikman's back in  practicing, doing real, real well.\n",
       "Name: 0, dtype: object"
      ]
     },
     "execution_count": 46,
     "metadata": {},
     "output_type": "execute_result"
    }
   ],
   "source": [
    "df_template.iloc[0]"
   ]
  },
  {
   "cell_type": "markdown",
   "metadata": {},
   "source": [
    "## Create separate file with contexts"
   ]
  },
  {
   "cell_type": "code",
   "execution_count": 49,
   "metadata": {},
   "outputs": [],
   "source": [
    "contexts_df = df[[\"Item_ID\",\"Sentence\", \"Prev-Context\",\"FollowingContext\"]].rename(columns={\"Item_ID\":\"TGrepID\",\"Sentence\":\"EntireSentence\",\"Prev-Context\":\"PreceedingContext\"})"
   ]
  },
  {
   "cell_type": "code",
   "execution_count": 50,
   "metadata": {},
   "outputs": [
    {
     "data": {
      "text/html": [
       "<div>\n",
       "<style scoped>\n",
       "    .dataframe tbody tr th:only-of-type {\n",
       "        vertical-align: middle;\n",
       "    }\n",
       "\n",
       "    .dataframe tbody tr th {\n",
       "        vertical-align: top;\n",
       "    }\n",
       "\n",
       "    .dataframe thead th {\n",
       "        text-align: right;\n",
       "    }\n",
       "</style>\n",
       "<table border=\"1\" class=\"dataframe\">\n",
       "  <thead>\n",
       "    <tr style=\"text-align: right;\">\n",
       "      <th></th>\n",
       "      <th>TGrepID</th>\n",
       "      <th>EntireSentence</th>\n",
       "      <th>PreceedingContext</th>\n",
       "      <th>FollowingContext</th>\n",
       "    </tr>\n",
       "  </thead>\n",
       "  <tbody>\n",
       "    <tr>\n",
       "      <th>0</th>\n",
       "      <td>3:43</td>\n",
       "      <td>uh, first, um, i need *-1 to know, uh, how do you feel *t*-2 about, uh, about * sending, uh, an elderly, uh, family member to a nursing home?</td>\n",
       "      <td>###&lt;none&gt;###&lt;none&gt;###&lt;none&gt;###&lt;none&gt;###&lt;none&gt;###&lt;none&gt;###&lt;none&gt;###&lt;none&gt;###speakera1.###okay.</td>\n",
       "      <td>###speakerb2.###well, of course, it's, you know, it's one of the last few things in the world 0 you'd ever want *-1 to do *t*-2, you know. unless it's just, you know, really, you know, and, uh, for their, uh, you know, for their own good.###speakera3.###yes.###yeah.###speakerb4.###i'd be very very careful and, uh, you know, *-1 checking them out.###uh, our,###* had *-1 t-, place my mother in a nursing home.###she had a rather massive stroke about, uh, about uh, eight months ago i guess.</td>\n",
       "    </tr>\n",
       "    <tr>\n",
       "      <th>1</th>\n",
       "      <td>17:77</td>\n",
       "      <td>and, uh, we were, i was fortunate in that i was personally acquainted with the, uh, people who, uh, *t*-1 ran the nursing home in our little hometown.</td>\n",
       "      <td>###yes.###yeah.###speakerb4.###i'd be very very careful and, uh, you know, *-1 checking them out.###uh, our,###* had *-1 t-, place my mother in a nursing home.###she had a rather massive stroke about, uh, about uh, eight months ago i guess.###speakera5.###uh-huh.###speakerb6.</td>\n",
       "      <td>###speakera7.###yeah.###speakerb8.###so, i was very comfortable, you know, in *-1 doing it when it got to the point that we had *-2 to do it *t*-3 *t*-4.###but there's,###well, i had an occasion for my mother-in-law who *t*-1 had fell and needed * to be, you know, could not take care of herself anymore, was confined *-2 to a nursing home for a while###that was really not a very good experience.###uh, it had *-1 to be done *-2 in a hurry.###i mean, we didn't have, you know, like six months *-1 to check all of these places out.###and it was really not, not very good, uh, deal.</td>\n",
       "    </tr>\n",
       "  </tbody>\n",
       "</table>\n",
       "</div>"
      ],
      "text/plain": [
       "  TGrepID  \\\n",
       "0    3:43   \n",
       "1   17:77   \n",
       "\n",
       "                                                                                                                                           EntireSentence  \\\n",
       "0           uh, first, um, i need *-1 to know, uh, how do you feel *t*-2 about, uh, about * sending, uh, an elderly, uh, family member to a nursing home?   \n",
       "1  and, uh, we were, i was fortunate in that i was personally acquainted with the, uh, people who, uh, *t*-1 ran the nursing home in our little hometown.   \n",
       "\n",
       "                                                                                                                                                                                                                                                                      PreceedingContext  \\\n",
       "0                                                                                                                                                                                         ###<none>###<none>###<none>###<none>###<none>###<none>###<none>###<none>###speakera1.###okay.   \n",
       "1  ###yes.###yeah.###speakerb4.###i'd be very very careful and, uh, you know, *-1 checking them out.###uh, our,###* had *-1 t-, place my mother in a nursing home.###she had a rather massive stroke about, uh, about uh, eight months ago i guess.###speakera5.###uh-huh.###speakerb6.   \n",
       "\n",
       "                                                                                                                                                                                                                                                                                                                                                                                                                                                                                                                                                                                        FollowingContext  \n",
       "0                                                                                            ###speakerb2.###well, of course, it's, you know, it's one of the last few things in the world 0 you'd ever want *-1 to do *t*-2, you know. unless it's just, you know, really, you know, and, uh, for their, uh, you know, for their own good.###speakera3.###yes.###yeah.###speakerb4.###i'd be very very careful and, uh, you know, *-1 checking them out.###uh, our,###* had *-1 t-, place my mother in a nursing home.###she had a rather massive stroke about, uh, about uh, eight months ago i guess.  \n",
       "1  ###speakera7.###yeah.###speakerb8.###so, i was very comfortable, you know, in *-1 doing it when it got to the point that we had *-2 to do it *t*-3 *t*-4.###but there's,###well, i had an occasion for my mother-in-law who *t*-1 had fell and needed * to be, you know, could not take care of herself anymore, was confined *-2 to a nursing home for a while###that was really not a very good experience.###uh, it had *-1 to be done *-2 in a hurry.###i mean, we didn't have, you know, like six months *-1 to check all of these places out.###and it was really not, not very good, uh, deal.  "
      ]
     },
     "execution_count": 50,
     "metadata": {},
     "output_type": "execute_result"
    }
   ],
   "source": [
    "contexts_df.head(2)"
   ]
  },
  {
   "cell_type": "code",
   "execution_count": 51,
   "metadata": {},
   "outputs": [],
   "source": [
    "contexts_df.to_csv(\"swbd_contexts.csv\", header=True, index=False)"
   ]
  },
  {
   "cell_type": "markdown",
   "metadata": {},
   "source": [
    "## Create separate file without contexts"
   ]
  },
  {
   "cell_type": "code",
   "execution_count": 59,
   "metadata": {},
   "outputs": [],
   "source": [
    "nocontx_df = df.drop(columns=[ \"Prev-Context\",\"FollowingContext\"]).reset_index()"
   ]
  },
  {
   "cell_type": "code",
   "execution_count": null,
   "metadata": {},
   "outputs": [],
   "source": []
  },
  {
   "cell_type": "code",
   "execution_count": 52,
   "metadata": {},
   "outputs": [],
   "source": [
    "nocontx_df.to_csv(\"swbd_nocntxt.csv\", header=True, index=False)"
   ]
  },
  {
   "cell_type": "markdown",
   "metadata": {},
   "source": [
    "## Looking around at the data"
   ]
  },
  {
   "cell_type": "code",
   "execution_count": 68,
   "metadata": {},
   "outputs": [],
   "source": [
    "df_crit = nocontx_df[nocontx_df.QuestionType.isin([\"root\",\"embedded\"])]"
   ]
  },
  {
   "cell_type": "code",
   "execution_count": 70,
   "metadata": {},
   "outputs": [
    {
     "data": {
      "text/plain": [
       "'wha-, what day, what day was that on *t*-1,'"
      ]
     },
     "execution_count": 70,
     "metadata": {},
     "output_type": "execute_result"
    }
   ],
   "source": [
    "df_crit.Sentence.iloc[500]"
   ]
  },
  {
   "cell_type": "markdown",
   "metadata": {},
   "source": [
    "Hard to just insert a \"some\" or an \"all\" consistently in the same place for each question...\n",
    "Unless it was done by hand. But even then, the two quantifiers wouldn't be in the same place.\n",
    "\n",
    "- \\* what all day was that on?\n",
    "- \\* what some day was that on?"
   ]
  },
  {
   "cell_type": "code",
   "execution_count": 72,
   "metadata": {},
   "outputs": [
    {
     "data": {
      "text/plain": [
       "'well, how long you been in san antonio *t*-1?'"
      ]
     },
     "execution_count": 72,
     "metadata": {},
     "output_type": "execute_result"
    }
   ],
   "source": [
    "df_crit.Sentence.iloc[600]"
   ]
  },
  {
   "cell_type": "code",
   "execution_count": null,
   "metadata": {},
   "outputs": [],
   "source": []
  },
  {
   "cell_type": "code",
   "execution_count": 79,
   "metadata": {},
   "outputs": [
    {
     "data": {
      "text/plain": [
       "index                                                                                                                                                                                                                                                                                                                                                                                                                                                                                                                                                                                                                                                                                                                                                                                            9148\n",
       "Item_ID                                                                                                                                                                                                                                                                                                                                                                                                                                                                                                                                                                                                                                                                                                                                                                                    162357:108\n",
       "Sentence                                                                                                                                                                                                                                                                                                                                                                                                                                                                                                                                                                                                                                                            i don't know what kind of, i don't know what g m corporate, kind of hit the, i don't know what kind of hit they take *t*-1 on it,\n",
       "HaveNeedTo                                                                                                                                                                                                                                                                                                                                                                                                                                                                                                                                                                                                                                                                                                                                                                                         no\n",
       "Finite                                                                                                                                                                                                                                                                                                                                                                                                                                                                                                                                                                                                                                                                                                                                                                                            yes\n",
       "ModalPresent                                                                                                                                                                                                                                                                                                                                                                                                                                                                                                                                                                                                                                                                                                                                                                                       no\n",
       "QuestionType                                                                                                                                                                                                                                                                                                                                                                                                                                                                                                                                                                                                                                                                                                                                                                                 embedded\n",
       "DegreeQ                                                                                                                                                                                                                                                                                                                                                                                                                                                                                                                                                                                                                                                                                                                                                                                            no\n",
       "SubjectAuxInv                                                                                                                                                                                                                                                                                                                                                                                                                                                                                                                                                                                                                                                                                                                                                                                     NaN\n",
       "WhAll                                                                                                                                                                                                                                                                                                                                                                                                                                                                                                                                                                                                                                                                                                                                                                                             NaN\n",
       "QuantifiedSubject                                                                                                                                                                                                                                                                                                                                                                                                                                                                                                                                                                                                                                                                                                                                                                                 NaN\n",
       "QuantifiedPredicate                                                                                                                                                                                                                                                                                                                                                                                                                                                                                                                                                                                                                                                                                                                                                                               NaN\n",
       "Wh                                                                                                                                                                                                                                                                                                                                                                                                                                                                                                                                                                                                                                                                                                                                                                                               what\n",
       "MatrixPred1                                                                                                                                                                                                                                                                                                                                                                                                                                                                                                                                                                                                                                                                                                                                                                                      know\n",
       "MatrixPred2                                                                                                                                                                                                                                                                                                                                                                                                                                                                                                                                                                                                                                                                                                                                                                                       NaN\n",
       "MatVerbPart                                                                                                                                                                                                                                                                                                                                                                                                                                                                                                                                                                                                                                                                                                                                                                                       NaN\n",
       "Modal                                                                                                                                                                                                                                                                                                                                                                                                                                                                                                                                                                                                                                                                                                                                                                                             NaN\n",
       "Verb1                                                                                                                                                                                                                                                                                                                                                                                                                                                                                                                                                                                                                                                                                                                                                                                            take\n",
       "Verb2                                                                                                                                                                                                                                                                                                                                                                                                                                                                                                                                                                                                                                                                                                                                                                                             NaN\n",
       "Verb3                                                                                                                                                                                                                                                                                                                                                                                                                                                                                                                                                                                                                                                                                                                                                                                             NaN\n",
       "DeterminerSubject                                                                                                                                                                                                                                                                                                                                                                                                                                                                                                                                                                                                                                                                                                                                                                                 NaN\n",
       "DeterminerNonSubject                                                                                                                                                                                                                                                                                                                                                                                                                                                                                                                                                                                                                                                                                                                                                                              NaN\n",
       "FullWhPhrase                                                                                                                                                                                                                                                                                                                                                                                                                                                                                                                                                                                                                                                                                                                                                                                      NaN\n",
       "DeterminerSubjPresent                                                                                                                                                                                                                                                                                                                                                                                                                                                                                                                                                                                                                                                                                                                                                                              no\n",
       "DeterminerNonSubjPresent                                                                                                                                                                                                                                                                                                                                                                                                                                                                                                                                                                                                                                                                                                                                                                           no\n",
       "WhNode                                                                                                                                                                                                                                                                                                                                                                                                                                                                                                                                                                                                                                                                                                                                                                                            NaN\n",
       "WhParse                                                                                                                                                                                                                                                                                                                                                                                                                                                                                                                                                                                                                                                                                                                                                                                    (WDT what)\n",
       "Question                                                                                                                                                                                                                                                                                                                                                                                                                                                                                                                                                                                                                                                                                                                                                       what kind of hit they take *t*-1 on it\n",
       "SentenceParse               (TOP (S (RM (-DFL- \\[)) (EDITED (RM (-DFL- \\[)) (S (EDITED (RM (-DFL- \\[)) (S (NP-SBJ (PRP I)) (VP (VBP do) (RB n't) (VP (VB know) (SBAR-UNF (WHNP (WHNP (WDT what) (NN kind)) (PP-UNF (IN of))))))) (, ,) (IP (-DFL- \\+))) (NP-SBJ (PRP I)) (VP (VBP do) (RB n't) (VP (VB know) (SBAR (WHNP (WHNP (WDT what) (EDITED (NP (NNP G) (NNP M) (JJ corporate))) (, ,) (RS (-DFL- \\])) (IP (-DFL- \\+)) (NN kind)) (PP (IN of) (NP (NN hit)))) (S-UNF (NP-SBJ-UNF (DT the))))))) (, ,) (RS (-DFL- \\])) (IP (-DFL- \\+))) (NP-SBJ (PRP I)) (VP (VBP do) (RB n't) (VP (VB know) (SBAR (WHNP-1 (WHNP (WDT what) (NN kind)) (PP (IN of) (NP (NN hit)))) (RS (-DFL- \\])) (S (NP-SBJ (PRP they)) (VP (VBP take) (NP (-NONE- *T*-1)) (PP (IN on) (NP (PRP it)))))))) (, ,) (-DFL- E_S)))\n",
       "WhPhaseType                                                                                                                                                                                                                                                                                                                                                                                                                                                                                                                                                                                                                                                                                                                                                                                   complex\n",
       "Name: 9148, dtype: object"
      ]
     },
     "execution_count": 79,
     "metadata": {},
     "output_type": "execute_result"
    }
   ],
   "source": [
    "# df_crit.sample(n=1).Sentence\n",
    "# this one is non sensical\n",
    "df_crit.loc[9148]"
   ]
  },
  {
   "cell_type": "code",
   "execution_count": 83,
   "metadata": {},
   "outputs": [
    {
     "data": {
      "text/plain": [
       "\"but, uh, you know, that's, i guess 0 that's one of the things 0 you got *-1 to put up with *t*-2 when you don't have a dress code *t*-3.\""
      ]
     },
     "execution_count": 83,
     "metadata": {},
     "output_type": "execute_result"
    }
   ],
   "source": [
    "# df_crit.sample(n=1).Sentence\n",
    "df_crit.loc[7272].Sentence"
   ]
  },
  {
   "cell_type": "code",
   "execution_count": 84,
   "metadata": {},
   "outputs": [
    {
     "data": {
      "text/plain": [
       "2800    you couldn't be inconspicuous, when you walked into a store stuff like that *t*-1,\n",
       "Name: Sentence, dtype: object"
      ]
     },
     "execution_count": 84,
     "metadata": {},
     "output_type": "execute_result"
    }
   ],
   "source": [
    "df_crit.sample(n=1).Sentence"
   ]
  },
  {
   "cell_type": "code",
   "execution_count": 85,
   "metadata": {},
   "outputs": [
    {
     "data": {
      "text/plain": [
       "3551    if we, if we keep *-1 putting that stuff into the air and, and, you know, if we keep *-2 creating the problem and not doing anything about it that it's really going *-3 to be a problem for, um, just the, the earth, you know, what the earth is receiving *t*-4 back, you know, because how can you tell where it's going *-5 to come down at *t*-6 *t*-7.\n",
       "Name: Sentence, dtype: object"
      ]
     },
     "execution_count": 85,
     "metadata": {},
     "output_type": "execute_result"
    }
   ],
   "source": [
    "df_crit.sample(n=1).Sentence"
   ]
  },
  {
   "cell_type": "code",
   "execution_count": 86,
   "metadata": {},
   "outputs": [
    {
     "data": {
      "text/plain": [
       "index                                                                                                                                                                                                                                                                                                                                                                                                                                                                                                                                                                                                                                                                                                                                                                                                                                                                                                                                                                                                                                                                                                                                                                                                                                                                                                                                                                                                                                                                                                                                                                                                                                                                                                                                                                  3551\n",
       "Item_ID                                                                                                                                                                                                                                                                                                                                                                                                                                                                                                                                                                                                                                                                                                                                                                                                                                                                                                                                                                                                                                                                                                                                                                                                                                                                                                                                                                                                                                                                                                                                                                                                                                                                                                                                                           61044:213\n",
       "Sentence                                                                                                                                                                                                                                                                                                                                                                                                                                                                                                                                                                                                                                                                                                                                                                                                                                                                                                                                                                                                                                                                                                                                                                                                                                                                                                                                                                                                      if we, if we keep *-1 putting that stuff into the air and, and, you know, if we keep *-2 creating the problem and not doing anything about it that it's really going *-3 to be a problem for, um, just the, the earth, you know, what the earth is receiving *t*-4 back, you know, because how can you tell where it's going *-5 to come down at *t*-6 *t*-7.\n",
       "HaveNeedTo                                                                                                                                                                                                                                                                                                                                                                                                                                                                                                                                                                                                                                                                                                                                                                                                                                                                                                                                                                                                                                                                                                                                                                                                                                                                                                                                                                                                                                                                                                                                                                                                                                                                                                                                                               no\n",
       "Finite                                                                                                                                                                                                                                                                                                                                                                                                                                                                                                                                                                                                                                                                                                                                                                                                                                                                                                                                                                                                                                                                                                                                                                                                                                                                                                                                                                                                                                                                                                                                                                                                                                                                                                                                                                  yes\n",
       "ModalPresent                                                                                                                                                                                                                                                                                                                                                                                                                                                                                                                                                                                                                                                                                                                                                                                                                                                                                                                                                                                                                                                                                                                                                                                                                                                                                                                                                                                                                                                                                                                                                                                                                                                                                                                                                             no\n",
       "QuestionType                                                                                                                                                                                                                                                                                                                                                                                                                                                                                                                                                                                                                                                                                                                                                                                                                                                                                                                                                                                                                                                                                                                                                                                                                                                                                                                                                                                                                                                                                                                                                                                                                                                                                                                                                       embedded\n",
       "DegreeQ                                                                                                                                                                                                                                                                                                                                                                                                                                                                                                                                                                                                                                                                                                                                                                                                                                                                                                                                                                                                                                                                                                                                                                                                                                                                                                                                                                                                                                                                                                                                                                                                                                                                                                                                                                  no\n",
       "SubjectAuxInv                                                                                                                                                                                                                                                                                                                                                                                                                                                                                                                                                                                                                                                                                                                                                                                                                                                                                                                                                                                                                                                                                                                                                                                                                                                                                                                                                                                                                                                                                                                                                                                                                                                                                                                                                           NaN\n",
       "WhAll                                                                                                                                                                                                                                                                                                                                                                                                                                                                                                                                                                                                                                                                                                                                                                                                                                                                                                                                                                                                                                                                                                                                                                                                                                                                                                                                                                                                                                                                                                                                                                                                                                                                                                                                                                   NaN\n",
       "QuantifiedSubject                                                                                                                                                                                                                                                                                                                                                                                                                                                                                                                                                                                                                                                                                                                                                                                                                                                                                                                                                                                                                                                                                                                                                                                                                                                                                                                                                                                                                                                                                                                                                                                                                                                                                                                                                       NaN\n",
       "QuantifiedPredicate                                                                                                                                                                                                                                                                                                                                                                                                                                                                                                                                                                                                                                                                                                                                                                                                                                                                                                                                                                                                                                                                                                                                                                                                                                                                                                                                                                                                                                                                                                                                                                                                                                                                                                                                                     NaN\n",
       "Wh                                                                                                                                                                                                                                                                                                                                                                                                                                                                                                                                                                                                                                                                                                                                                                                                                                                                                                                                                                                                                                                                                                                                                                                                                                                                                                                                                                                                                                                                                                                                                                                                                                                                                                                                                                     what\n",
       "MatrixPred1                                                                                                                                                                                                                                                                                                                                                                                                                                                                                                                                                                                                                                                                                                                                                                                                                                                                                                                                                                                                                                                                                                                                                                                                                                                                                                                                                                                                                                                                                                                                                                                                                                                                                                                                                           going\n",
       "MatrixPred2                                                                                                                                                                                                                                                                                                                                                                                                                                                                                                                                                                                                                                                                                                                                                                                                                                                                                                                                                                                                                                                                                                                                                                                                                                                                                                                                                                                                                                                                                                                                                                                                                                                                                                                                                             NaN\n",
       "MatVerbPart                                                                                                                                                                                                                                                                                                                                                                                                                                                                                                                                                                                                                                                                                                                                                                                                                                                                                                                                                                                                                                                                                                                                                                                                                                                                                                                                                                                                                                                                                                                                                                                                                                                                                                                                                             NaN\n",
       "Modal                                                                                                                                                                                                                                                                                                                                                                                                                                                                                                                                                                                                                                                                                                                                                                                                                                                                                                                                                                                                                                                                                                                                                                                                                                                                                                                                                                                                                                                                                                                                                                                                                                                                                                                                                                   NaN\n",
       "Verb1                                                                                                                                                                                                                                                                                                                                                                                                                                                                                                                                                                                                                                                                                                                                                                                                                                                                                                                                                                                                                                                                                                                                                                                                                                                                                                                                                                                                                                                                                                                                                                                                                                                                                                                                                                    is\n",
       "Verb2                                                                                                                                                                                                                                                                                                                                                                                                                                                                                                                                                                                                                                                                                                                                                                                                                                                                                                                                                                                                                                                                                                                                                                                                                                                                                                                                                                                                                                                                                                                                                                                                                                                                                                                                                             receiving\n",
       "Verb3                                                                                                                                                                                                                                                                                                                                                                                                                                                                                                                                                                                                                                                                                                                                                                                                                                                                                                                                                                                                                                                                                                                                                                                                                                                                                                                                                                                                                                                                                                                                                                                                                                                                                                                                                                  back\n",
       "DeterminerSubject                                                                                                                                                                                                                                                                                                                                                                                                                                                                                                                                                                                                                                                                                                                                                                                                                                                                                                                                                                                                                                                                                                                                                                                                                                                                                                                                                                                                                                                                                                                                                                                                                                                                                                                                                 the earth\n",
       "DeterminerNonSubject                                                                                                                                                                                                                                                                                                                                                                                                                                                                                                                                                                                                                                                                                                                                                                                                                                                                                                                                                                                                                                                                                                                                                                                                                                                                                                                                                                                                                                                                                                                                                                                                                                                                                                                                              the earth\n",
       "FullWhPhrase                                                                                                                                                                                                                                                                                                                                                                                                                                                                                                                                                                                                                                                                                                                                                                                                                                                                                                                                                                                                                                                                                                                                                                                                                                                                                                                                                                                                                                                                                                                                                                                                                                                                                                                                                            NaN\n",
       "DeterminerSubjPresent                                                                                                                                                                                                                                                                                                                                                                                                                                                                                                                                                                                                                                                                                                                                                                                                                                                                                                                                                                                                                                                                                                                                                                                                                                                                                                                                                                                                                                                                                                                                                                                                                                                                                                                                                   yes\n",
       "DeterminerNonSubjPresent                                                                                                                                                                                                                                                                                                                                                                                                                                                                                                                                                                                                                                                                                                                                                                                                                                                                                                                                                                                                                                                                                                                                                                                                                                                                                                                                                                                                                                                                                                                                                                                                                                                                                                                                                 no\n",
       "WhNode                                                                                                                                                                                                                                                                                                                                                                                                                                                                                                                                                                                                                                                                                                                                                                                                                                                                                                                                                                                                                                                                                                                                                                                                                                                                                                                                                                                                                                                                                                                                                                                                                                                                                                                                                                  NaN\n",
       "WhParse                                                                                                                                                                                                                                                                                                                                                                                                                                                                                                                                                                                                                                                                                                                                                                                                                                                                                                                                                                                                                                                                                                                                                                                                                                                                                                                                                                                                                                                                                                                                                                                                                                                                                                                                                           (WP what)\n",
       "Question                                                                                                                                                                                                                                                                                                                                                                                                                                                                                                                                                                                                                                                                                                                                                                                                                                                                                                                                                                                                                                                                                                                                                                                                                                                                                                                                                                                                                                                                                                                                                                                                                                                                                                                             what the earth is receiving *t*-4 back\n",
       "SentenceParse               (TOP (S (SBAR-ADV (EDITED (RM (-DFL- \\[)) (SBAR (IN if) (S-UNF (NP-SBJ (PRP we)))) (, ,) (IP (-DFL- \\+))) (SBAR (IN if) (S (NP-SBJ-1 (PRP we)) (RS (-DFL- \\])) (VP (VBP keep) (S (NP-SBJ (-NONE- *-1)) (VP (VBG putting) (NP (DT that) (NN stuff)) (PP-PUT (IN into) (NP (DT the) (NN air)))))))) (EDITED (RM (-DFL- \\[)) (CC and) (, ,) (IP (-DFL- \\+))) (CC and) (PRN (, ,) (RS (-DFL- \\])) (S (NP-SBJ (PRP you)) (VP (VBP know))) (, ,)) (SBAR (IN if) (S (NP-SBJ-2 (PRP we)) (VP (VBP keep) (S (NP-SBJ (-NONE- *-2)) (VP (VP (VBG creating) (NP (DT the) (NN problem))) (CC and) (VP (RB not) (VBG doing) (NP (NP (NN anything)) (PP (IN about) (NP (PRP it))))))))))) (EDITED (RM (-DFL- \\[)) (IN that) (IP (-DFL- \\+)) (RS (-DFL- \\]))) (NP-SBJ-3 (PRP it)) (VP (BES 's) (ADVP (RB really)) (VP (VBG going) (S (NP-SBJ (-NONE- *-3)) (VP (TO to) (VP (VB be) (NP-PRD (NP (DT a) (NN problem)) (PP (IN for) (, ,) (INTJ (UH um)) (, ,) (EDITED (RM (-DFL- \\[)) (NP-UNF (RB just) (RM (-DFL- \\[)) (DT the)) (, ,) (IP (-DFL- \\+))) (NP (DT the) (RS (-DFL- \\])) (NNP Earth))))))) (, ,) (IP (-DFL- \\+)) (PRN (S (NP-SBJ (PRP you)) (VP (VBP know))) (, ,)) (SBAR-NOM-TPC (WHNP-4 (WP what)) (S (NP-SBJ (DT the) (NNP Earth)) (RS (-DFL- \\])) (VP (VBZ is) (VP (VBG receiving) (NP (-NONE- *T*-4)) (ADVP (RB back)))))) (PRN (, ,) (S (NP-SBJ (PRP you)) (VP (VBP know))) (, ,)) (SBAR-PRP (IN because) (SBARQ (WHADVP-7 (WRB how)) (SQ (MD can) (NP-SBJ (PRP you)) (VP (VB tell) (SBAR (WHADVP-6 (WRB where)) (S (NP-SBJ-5 (PRP it)) (VP (BES 's) (VP (VBG going) (S (NP-SBJ (-NONE- *-5)) (VP (TO to) (VP (VB come) (ADVP-DIR (RB down)) (PP-LOC (IN at) (ADVP (-NONE- *T*-6)))))))))) (ADVP-MNR (-NONE- *T*-7)))))))) (. .) (-DFL- E_S)))\n",
       "WhPhaseType                                                                                                                                                                                                                                                                                                                                                                                                                                                                                                                                                                                                                                                                                                                                                                                                                                                                                                                                                                                                                                                                                                                                                                                                                                                                                                                                                                                                                                                                                                                                                                                                                                                                                                                                                   monomorphemic\n",
       "Name: 3551, dtype: object"
      ]
     },
     "execution_count": 86,
     "metadata": {},
     "output_type": "execute_result"
    }
   ],
   "source": [
    "df_crit.loc[3551]"
   ]
  },
  {
   "cell_type": "code",
   "execution_count": 87,
   "metadata": {},
   "outputs": [],
   "source": [
    "df_crit_nowhen = df_crit[df_crit[\"Wh\"] != \"when\"]"
   ]
  },
  {
   "cell_type": "code",
   "execution_count": 91,
   "metadata": {},
   "outputs": [
    {
     "data": {
      "text/plain": [
       "0.8099683782562868"
      ]
     },
     "execution_count": 91,
     "metadata": {},
     "output_type": "execute_result"
    }
   ],
   "source": [
    "len(df_crit_nowhen)/len(df_crit)"
   ]
  },
  {
   "cell_type": "code",
   "execution_count": 92,
   "metadata": {},
   "outputs": [
    {
     "data": {
      "text/plain": [
       "\"uh, one of its great slogans is 0 if you're not serving the customer, you better be serving someone who *t*-1 is *?*.\""
      ]
     },
     "execution_count": 92,
     "metadata": {},
     "output_type": "execute_result"
    }
   ],
   "source": [
    "df_crit_nowhen.loc[148].Sentence\n",
    "# this should be relative clause"
   ]
  },
  {
   "cell_type": "code",
   "execution_count": 90,
   "metadata": {},
   "outputs": [
    {
     "data": {
      "text/plain": [
       "148    uh, one of its great slogans is 0 if you're not serving the customer, you better be serving someone who *t*-1 is *?*.\n",
       "Name: Sentence, dtype: object"
      ]
     },
     "execution_count": 90,
     "metadata": {},
     "output_type": "execute_result"
    }
   ],
   "source": [
    "df_crit_nowhen.sample(n=1).Sentence"
   ]
  },
  {
   "cell_type": "markdown",
   "metadata": {},
   "source": [
    "## Create randomly sampled files\n",
    "for experimental mock-up"
   ]
  },
  {
   "cell_type": "code",
   "execution_count": null,
   "metadata": {},
   "outputs": [],
   "source": []
  }
 ],
 "metadata": {
  "kernelspec": {
   "display_name": "Python 3",
   "language": "python",
   "name": "python3"
  },
  "language_info": {
   "codemirror_mode": {
    "name": "ipython",
    "version": 3
   },
   "file_extension": ".py",
   "mimetype": "text/x-python",
   "name": "python",
   "nbconvert_exporter": "python",
   "pygments_lexer": "ipython3",
   "version": "3.8.3"
  }
 },
 "nbformat": 4,
 "nbformat_minor": 4
}
